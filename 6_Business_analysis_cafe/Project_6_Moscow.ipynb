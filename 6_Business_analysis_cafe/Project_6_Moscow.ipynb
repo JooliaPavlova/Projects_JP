{
 "cells": [
  {
   "cell_type": "markdown",
   "metadata": {},
   "source": [
    "\n",
    "<div style=\"border:solid navy 2px; padding: 20px\">\n",
    "\n",
    "<h1 style=\"color:navy; margin-bottom:20px\">Задача</h1>\n",
    "\n",
    "Подготовить исследование рынка по имеющимся данным о заведениях общественного питания в Москве.\n",
    "\n",
    "</div>\n",
    "\n"
   ]
  },
  {
   "cell_type": "code",
   "execution_count": 1,
   "metadata": {},
   "outputs": [],
   "source": [
    "#!pip install plotly"
   ]
  },
  {
   "cell_type": "code",
   "execution_count": 2,
   "metadata": {},
   "outputs": [],
   "source": [
    "import pandas as pd\n",
    "import numpy as np\n",
    "import matplotlib.pyplot as plt\n",
    "from matplotlib import rc\n",
    "from scipy import stats as st\n",
    "import seaborn as sns\n",
    "import scipy.stats as stats\n",
    "import plotly.express as px\n",
    "from plotly import graph_objects as go\n",
    "\n",
    "import json\n",
    "import requests\n",
    "\n",
    "import re"
   ]
  },
  {
   "cell_type": "markdown",
   "metadata": {},
   "source": [
    "\n",
    "<div style=\"border:solid navy 2px; padding: 20px\">\n",
    "    Функция для создания графика bar\n",
    "</div>\n",
    "\n"
   ]
  },
  {
   "cell_type": "code",
   "execution_count": 3,
   "metadata": {},
   "outputs": [],
   "source": [
    "def draw_bar (table, colx, coly, title_text, xlabel, ylabel):\n",
    "    \n",
    "    table[colx] = table[colx].astype(str)\n",
    "    x = table[colx]\n",
    "    y = table[coly]\n",
    "\n",
    "    fig, ax = plt.subplots()\n",
    "\n",
    "    ax.bar(x, y, align='center', width= 0.6, color='navy', alpha=0.8)\n",
    "\n",
    "    fig.set_figwidth(10)\n",
    "    fig.set_figheight(7)\n",
    "\n",
    "    for i in range(len(table[colx])):\n",
    "        plt.text(x= table.loc[i,colx], y=table.loc[i,coly]+0.01*table.loc[i,coly], \n",
    "                 s=table.loc[i,coly],horizontalalignment='center', color='navy', size = 15)\n",
    "   \n",
    "    plt.title(title_text, fontsize='17')\n",
    "    \n",
    "    plt.xlabel(xlabel)\n",
    "    plt.ylabel(ylabel)\n",
    "    if len(table[colx]) > 3:\n",
    "        plt.xticks(horizontalalignment='right', rotation=45)\n",
    "    \n",
    "    return(plt.show())"
   ]
  },
  {
   "cell_type": "markdown",
   "metadata": {},
   "source": [
    "<div style=\"border:solid navy 2px; padding: 20px\">\n",
    "    Функция для создания графика распределения\n",
    "</div>\n"
   ]
  },
  {
   "cell_type": "code",
   "execution_count": 4,
   "metadata": {},
   "outputs": [],
   "source": [
    "def draw_scatter(col, title_text, x_label='Порядковый номер объекта', y_label='Количество'):\n",
    "    x_values = pd.Series(range(0,len(col)))\n",
    "    plt.scatter(x_values, col)\n",
    "\n",
    "    plt.suptitle(title_text, size = 17)\n",
    "    plt.xlabel(x_label)\n",
    "    plt.ylabel(y_label)\n",
    "    print('Минимум -', (col.min()).astype(int))\n",
    "    print('Максимум -', (col.max()).astype(int))\n",
    "    print('Среднее -', int(round(col.mean())))\n",
    "    print('Медиана -', int(round(col.median())))\n",
    "    return(plt.show())\n"
   ]
  },
  {
   "cell_type": "markdown",
   "metadata": {},
   "source": [
    "<div style=\"border:solid navy 2px; padding: 20px\">\n",
    "    Функция для создания графика bar по двум столбцам\n",
    "</div>"
   ]
  },
  {
   "cell_type": "code",
   "execution_count": 5,
   "metadata": {},
   "outputs": [],
   "source": [
    "def draw_bar_pair (col1, col2, x_names, title_text, x_label, y_label, legend_text):\n",
    "    f, ax = plt.subplots(figsize=(10,5))\n",
    "\n",
    "    bars1 = col1\n",
    "    bars2 = col2\n",
    "\n",
    "    names = x_names.to_list()\n",
    "    width = 0.35\n",
    "    x = np.arange(len(names)) \n",
    "\n",
    "    plt.bar(x - width/2, bars1, width, alpha=0.7)\n",
    "\n",
    "    plt.bar(x + width/2,  bars2, width, alpha=0.7)\n",
    "\n",
    "    plt.title(title_text, size = 17)\n",
    "    plt.xticks([r for r in range(len(bars1))], names, horizontalalignment='right', rotation=45)\n",
    "\n",
    "    plt.xlabel(x_label)\n",
    "    plt.ylabel(y_label)\n",
    "    ax.legend(legend_text)\n",
    "\n",
    "    return(plt.show())"
   ]
  },
  {
   "cell_type": "markdown",
   "metadata": {},
   "source": [
    "<div style=\"border:solid navy 2px; padding: 20px\">\n",
    "    Функция для создания графика boxplot\n",
    "</div>"
   ]
  },
  {
   "cell_type": "code",
   "execution_count": 6,
   "metadata": {},
   "outputs": [],
   "source": [
    "def draw_boxplot(col_x, col_y, title_text):\n",
    "    sns.boxplot( x=col_x, y=col_y)\n",
    "    \n",
    "    if len(col_x.unique())>4:\n",
    "        plt.xticks(horizontalalignment='right', rotation=45)\n",
    "    plt.suptitle(title_text, size = 17)\n",
    "    return(plt.show())\n"
   ]
  },
  {
   "cell_type": "code",
   "execution_count": 8,
   "metadata": {},
   "outputs": [],
   "source": [
    "df_crude = pd.read_csv('/Users/Alexander/Desktop/Juli_bag/Project_9_Moscow/rest_data.csv')"
   ]
  },
  {
   "cell_type": "code",
   "execution_count": 10,
   "metadata": {
    "scrolled": false
   },
   "outputs": [
    {
     "data": {
      "text/html": [
       "<div>\n",
       "<style scoped>\n",
       "    .dataframe tbody tr th:only-of-type {\n",
       "        vertical-align: middle;\n",
       "    }\n",
       "\n",
       "    .dataframe tbody tr th {\n",
       "        vertical-align: top;\n",
       "    }\n",
       "\n",
       "    .dataframe thead th {\n",
       "        text-align: right;\n",
       "    }\n",
       "</style>\n",
       "<table border=\"1\" class=\"dataframe\">\n",
       "  <thead>\n",
       "    <tr style=\"text-align: right;\">\n",
       "      <th></th>\n",
       "      <th>id</th>\n",
       "      <th>object_name</th>\n",
       "      <th>chain</th>\n",
       "      <th>object_type</th>\n",
       "      <th>address</th>\n",
       "      <th>number</th>\n",
       "    </tr>\n",
       "  </thead>\n",
       "  <tbody>\n",
       "    <tr>\n",
       "      <th>0</th>\n",
       "      <td>151635</td>\n",
       "      <td>СМЕТАНА</td>\n",
       "      <td>нет</td>\n",
       "      <td>кафе</td>\n",
       "      <td>город Москва, улица Егора Абакумова, дом 9</td>\n",
       "      <td>48</td>\n",
       "    </tr>\n",
       "    <tr>\n",
       "      <th>1</th>\n",
       "      <td>77874</td>\n",
       "      <td>Родник</td>\n",
       "      <td>нет</td>\n",
       "      <td>кафе</td>\n",
       "      <td>город Москва, улица Талалихина, дом 2/1, корпус 1</td>\n",
       "      <td>35</td>\n",
       "    </tr>\n",
       "    <tr>\n",
       "      <th>2</th>\n",
       "      <td>24309</td>\n",
       "      <td>Кафе «Академия»</td>\n",
       "      <td>нет</td>\n",
       "      <td>кафе</td>\n",
       "      <td>город Москва, Абельмановская улица, дом 6</td>\n",
       "      <td>95</td>\n",
       "    </tr>\n",
       "    <tr>\n",
       "      <th>3</th>\n",
       "      <td>21894</td>\n",
       "      <td>ПИЦЦЕТОРИЯ</td>\n",
       "      <td>да</td>\n",
       "      <td>кафе</td>\n",
       "      <td>город Москва, Абрамцевская улица, дом 1</td>\n",
       "      <td>40</td>\n",
       "    </tr>\n",
       "    <tr>\n",
       "      <th>4</th>\n",
       "      <td>119365</td>\n",
       "      <td>Кафе «Вишневая метель»</td>\n",
       "      <td>нет</td>\n",
       "      <td>кафе</td>\n",
       "      <td>город Москва, Абрамцевская улица, дом 9, корпус 1</td>\n",
       "      <td>50</td>\n",
       "    </tr>\n",
       "  </tbody>\n",
       "</table>\n",
       "</div>"
      ],
      "text/plain": [
       "       id             object_name chain object_type  \\\n",
       "0  151635                 СМЕТАНА   нет        кафе   \n",
       "1   77874                  Родник   нет        кафе   \n",
       "2   24309         Кафе «Академия»   нет        кафе   \n",
       "3   21894              ПИЦЦЕТОРИЯ    да        кафе   \n",
       "4  119365  Кафе «Вишневая метель»   нет        кафе   \n",
       "\n",
       "                                             address  number  \n",
       "0         город Москва, улица Егора Абакумова, дом 9      48  \n",
       "1  город Москва, улица Талалихина, дом 2/1, корпус 1      35  \n",
       "2          город Москва, Абельмановская улица, дом 6      95  \n",
       "3            город Москва, Абрамцевская улица, дом 1      40  \n",
       "4  город Москва, Абрамцевская улица, дом 9, корпус 1      50  "
      ]
     },
     "execution_count": 10,
     "metadata": {},
     "output_type": "execute_result"
    }
   ],
   "source": [
    "df_crude.head()"
   ]
  },
  {
   "cell_type": "markdown",
   "metadata": {},
   "source": [
    "\n",
    "<div style=\"border:solid navy 2px; padding: 20px\">\n",
    "\n",
    "<h2 style=\"color:navy; margin-bottom:20px\">Предобработка данных</h2>\n",
    "\n",
    "</div>\n",
    "\n"
   ]
  },
  {
   "cell_type": "code",
   "execution_count": 11,
   "metadata": {},
   "outputs": [
    {
     "name": "stdout",
     "output_type": "stream",
     "text": [
      "<class 'pandas.core.frame.DataFrame'>\n",
      "RangeIndex: 15366 entries, 0 to 15365\n",
      "Data columns (total 6 columns):\n",
      "id             15366 non-null int64\n",
      "object_name    15366 non-null object\n",
      "chain          15366 non-null object\n",
      "object_type    15366 non-null object\n",
      "address        15366 non-null object\n",
      "number         15366 non-null int64\n",
      "dtypes: int64(2), object(4)\n",
      "memory usage: 720.4+ KB\n"
     ]
    }
   ],
   "source": [
    "df_crude.info()"
   ]
  },
  {
   "cell_type": "code",
   "execution_count": 12,
   "metadata": {},
   "outputs": [
    {
     "data": {
      "text/plain": [
       "0"
      ]
     },
     "execution_count": 12,
     "metadata": {},
     "output_type": "execute_result"
    }
   ],
   "source": [
    "df_crude.duplicated().sum() # Количество дубликатов"
   ]
  },
  {
   "cell_type": "code",
   "execution_count": 13,
   "metadata": {},
   "outputs": [
    {
     "data": {
      "text/plain": [
       "id             0\n",
       "object_name    0\n",
       "chain          0\n",
       "object_type    0\n",
       "address        0\n",
       "number         0\n",
       "dtype: int64"
      ]
     },
     "execution_count": 13,
     "metadata": {},
     "output_type": "execute_result"
    }
   ],
   "source": [
    "df_crude.isnull().sum() # Количесво нулевых значений"
   ]
  },
  {
   "cell_type": "code",
   "execution_count": 14,
   "metadata": {},
   "outputs": [
    {
     "data": {
      "text/plain": [
       "Index(['id', 'object_name', 'chain', 'object_type', 'address', 'number'], dtype='object')"
      ]
     },
     "execution_count": 14,
     "metadata": {},
     "output_type": "execute_result"
    }
   ],
   "source": [
    "df_crude.columns"
   ]
  },
  {
   "cell_type": "code",
   "execution_count": 15,
   "metadata": {},
   "outputs": [
    {
     "name": "stdout",
     "output_type": "stream",
     "text": [
      "id\n",
      "count     15366.000000\n",
      "mean     119720.066901\n",
      "std       73036.130732\n",
      "min         838.000000\n",
      "25%       28524.000000\n",
      "50%      144974.500000\n",
      "75%      184262.250000\n",
      "max      223439.000000\n",
      "Name: id, dtype: float64\n",
      "\n",
      "number\n",
      "count    15366.000000\n",
      "mean        59.547182\n",
      "std         74.736833\n",
      "min          0.000000\n",
      "25%         12.000000\n",
      "50%         40.000000\n",
      "75%         80.000000\n",
      "max       1700.000000\n",
      "Name: number, dtype: float64\n",
      "\n"
     ]
    }
   ],
   "source": [
    "for col in ['id', 'number']:\n",
    "    print(df_crude[col].name)\n",
    "    print(df_crude[col].describe())\n",
    "    print()"
   ]
  },
  {
   "cell_type": "markdown",
   "metadata": {},
   "source": [
    "\n",
    "<div style=\"border:solid navy 2px; padding: 20px\">\n",
    "\n",
    "<h3 style=\"color:navy\"> Обработка значений - количества посадочных мест </h3>\n",
    "\n",
    "</div>\n",
    "\n"
   ]
  },
  {
   "cell_type": "code",
   "execution_count": 16,
   "metadata": {
    "scrolled": true
   },
   "outputs": [
    {
     "name": "stdout",
     "output_type": "stream",
     "text": [
      "Минимум - 0\n",
      "Максимум - 1700\n",
      "Среднее - 60\n",
      "Медиана - 40\n"
     ]
    },
    {
     "data": {
      "image/png": "[encoded data removed]",
      "text/plain": [
       "<Figure size 432x288 with 1 Axes>"
      ]
     },
     "metadata": {
      "needs_background": "light"
     },
     "output_type": "display_data"
    }
   ],
   "source": [
    "draw_scatter(df_crude['number'],'Количество посадочных мест в каждом заведении')"
   ]
  },
  {
   "cell_type": "markdown",
   "metadata": {},
   "source": [
    "\n",
    "<div style=\"border:solid navy 2px; padding: 20px\">\n",
    "Обработка нулевых значений в number (количество посадочных мест)\n",
    "</div>"
   ]
  },
  {
   "cell_type": "code",
   "execution_count": 17,
   "metadata": {},
   "outputs": [
    {
     "name": "stdout",
     "output_type": "stream",
     "text": [
      "Количество строк с нулевыми значениями в number - 1621\n"
     ]
    }
   ],
   "source": [
    "number_0 = df_crude[df_crude['number']==0] \n",
    "print('Количество строк с нулевыми значениями в number -', number_0.shape[0])"
   ]
  },
  {
   "cell_type": "code",
   "execution_count": 18,
   "metadata": {},
   "outputs": [
    {
     "data": {
      "text/plain": [
       "array(['закусочная', 'предприятие быстрого обслуживания', 'столовая',\n",
       "       'кафетерий', 'кафе', 'магазин (отдел кулинарии)', 'буфет', 'бар',\n",
       "       'ресторан'], dtype=object)"
      ]
     },
     "execution_count": 18,
     "metadata": {},
     "output_type": "execute_result"
    }
   ],
   "source": [
    "# типы заведений с 0\n",
    "number_0['object_type'].unique()"
   ]
  },
  {
   "cell_type": "code",
   "execution_count": 19,
   "metadata": {},
   "outputs": [
    {
     "name": "stdout",
     "output_type": "stream",
     "text": [
      "Количество строк в таблице - 515\n"
     ]
    },
    {
     "data": {
      "text/html": [
       "<div>\n",
       "<style scoped>\n",
       "    .dataframe tbody tr th:only-of-type {\n",
       "        vertical-align: middle;\n",
       "    }\n",
       "\n",
       "    .dataframe tbody tr th {\n",
       "        vertical-align: top;\n",
       "    }\n",
       "\n",
       "    .dataframe thead th {\n",
       "        text-align: right;\n",
       "    }\n",
       "</style>\n",
       "<table border=\"1\" class=\"dataframe\">\n",
       "  <thead>\n",
       "    <tr style=\"text-align: right;\">\n",
       "      <th></th>\n",
       "      <th>id</th>\n",
       "      <th>object_name</th>\n",
       "      <th>chain</th>\n",
       "      <th>object_type</th>\n",
       "      <th>address</th>\n",
       "      <th>number</th>\n",
       "    </tr>\n",
       "  </thead>\n",
       "  <tbody>\n",
       "    <tr>\n",
       "      <th>206</th>\n",
       "      <td>150836</td>\n",
       "      <td>ГБОУ Школа №1468</td>\n",
       "      <td>нет</td>\n",
       "      <td>столовая</td>\n",
       "      <td>город Москва, Волгоградский проспект, дом 17, ...</td>\n",
       "      <td>0</td>\n",
       "    </tr>\n",
       "    <tr>\n",
       "      <th>504</th>\n",
       "      <td>157035</td>\n",
       "      <td>Кофе с собой</td>\n",
       "      <td>да</td>\n",
       "      <td>кафетерий</td>\n",
       "      <td>город Москва, Краснохолмская набережная, дом 1...</td>\n",
       "      <td>0</td>\n",
       "    </tr>\n",
       "    <tr>\n",
       "      <th>577</th>\n",
       "      <td>149220</td>\n",
       "      <td>Кофейня «Кофе Хаус»</td>\n",
       "      <td>да</td>\n",
       "      <td>кафе</td>\n",
       "      <td>город Москва, Павелецкая площадь, дом 1А, стро...</td>\n",
       "      <td>0</td>\n",
       "    </tr>\n",
       "    <tr>\n",
       "      <th>802</th>\n",
       "      <td>142581</td>\n",
       "      <td>Кофе Энигма</td>\n",
       "      <td>нет</td>\n",
       "      <td>кафе</td>\n",
       "      <td>город Москва, Овчинниковская набережная, дом 2...</td>\n",
       "      <td>0</td>\n",
       "    </tr>\n",
       "    <tr>\n",
       "      <th>1003</th>\n",
       "      <td>149427</td>\n",
       "      <td>Французская пекарня</td>\n",
       "      <td>нет</td>\n",
       "      <td>кафетерий</td>\n",
       "      <td>город Москва, Русаковская улица, дом 29</td>\n",
       "      <td>0</td>\n",
       "    </tr>\n",
       "  </tbody>\n",
       "</table>\n",
       "</div>"
      ],
      "text/plain": [
       "          id          object_name chain object_type  \\\n",
       "206   150836     ГБОУ Школа №1468   нет    столовая   \n",
       "504   157035         Кофе с собой    да   кафетерий   \n",
       "577   149220  Кофейня «Кофе Хаус»    да        кафе   \n",
       "802   142581          Кофе Энигма   нет        кафе   \n",
       "1003  149427  Французская пекарня   нет   кафетерий   \n",
       "\n",
       "                                                address  number  \n",
       "206   город Москва, Волгоградский проспект, дом 17, ...       0  \n",
       "504   город Москва, Краснохолмская набережная, дом 1...       0  \n",
       "577   город Москва, Павелецкая площадь, дом 1А, стро...       0  \n",
       "802   город Москва, Овчинниковская набережная, дом 2...       0  \n",
       "1003            город Москва, Русаковская улица, дом 29       0  "
      ]
     },
     "execution_count": 19,
     "metadata": {},
     "output_type": "execute_result"
    }
   ],
   "source": [
    "# для типов из списка  нулей быть не должно\n",
    "number_0_bad = number_0[number_0['object_type'].isin(['столовая', 'бар', 'кафе', \n",
    "                                                      'ресторан', 'кафетерий'])]\n",
    "\n",
    "print('Количество строк в таблице -',number_0_bad.shape[0])\n",
    "number_0_bad.head()"
   ]
  },
  {
   "cell_type": "code",
   "execution_count": 20,
   "metadata": {},
   "outputs": [
    {
     "name": "stdout",
     "output_type": "stream",
     "text": [
      "Количество строк в таблице - 14851\n"
     ]
    },
    {
     "data": {
      "text/html": [
       "<div>\n",
       "<style scoped>\n",
       "    .dataframe tbody tr th:only-of-type {\n",
       "        vertical-align: middle;\n",
       "    }\n",
       "\n",
       "    .dataframe tbody tr th {\n",
       "        vertical-align: top;\n",
       "    }\n",
       "\n",
       "    .dataframe thead th {\n",
       "        text-align: right;\n",
       "    }\n",
       "</style>\n",
       "<table border=\"1\" class=\"dataframe\">\n",
       "  <thead>\n",
       "    <tr style=\"text-align: right;\">\n",
       "      <th></th>\n",
       "      <th>id</th>\n",
       "      <th>object_name</th>\n",
       "      <th>chain</th>\n",
       "      <th>object_type</th>\n",
       "      <th>address</th>\n",
       "      <th>number</th>\n",
       "    </tr>\n",
       "  </thead>\n",
       "  <tbody>\n",
       "    <tr>\n",
       "      <th>0</th>\n",
       "      <td>151635</td>\n",
       "      <td>СМЕТАНА</td>\n",
       "      <td>нет</td>\n",
       "      <td>кафе</td>\n",
       "      <td>город Москва, улица Егора Абакумова, дом 9</td>\n",
       "      <td>48</td>\n",
       "    </tr>\n",
       "    <tr>\n",
       "      <th>1</th>\n",
       "      <td>77874</td>\n",
       "      <td>Родник</td>\n",
       "      <td>нет</td>\n",
       "      <td>кафе</td>\n",
       "      <td>город Москва, улица Талалихина, дом 2/1, корпус 1</td>\n",
       "      <td>35</td>\n",
       "    </tr>\n",
       "    <tr>\n",
       "      <th>2</th>\n",
       "      <td>24309</td>\n",
       "      <td>Кафе «Академия»</td>\n",
       "      <td>нет</td>\n",
       "      <td>кафе</td>\n",
       "      <td>город Москва, Абельмановская улица, дом 6</td>\n",
       "      <td>95</td>\n",
       "    </tr>\n",
       "    <tr>\n",
       "      <th>3</th>\n",
       "      <td>21894</td>\n",
       "      <td>ПИЦЦЕТОРИЯ</td>\n",
       "      <td>да</td>\n",
       "      <td>кафе</td>\n",
       "      <td>город Москва, Абрамцевская улица, дом 1</td>\n",
       "      <td>40</td>\n",
       "    </tr>\n",
       "    <tr>\n",
       "      <th>4</th>\n",
       "      <td>119365</td>\n",
       "      <td>Кафе «Вишневая метель»</td>\n",
       "      <td>нет</td>\n",
       "      <td>кафе</td>\n",
       "      <td>город Москва, Абрамцевская улица, дом 9, корпус 1</td>\n",
       "      <td>50</td>\n",
       "    </tr>\n",
       "  </tbody>\n",
       "</table>\n",
       "</div>"
      ],
      "text/plain": [
       "       id             object_name chain object_type  \\\n",
       "0  151635                 СМЕТАНА   нет        кафе   \n",
       "1   77874                  Родник   нет        кафе   \n",
       "2   24309         Кафе «Академия»   нет        кафе   \n",
       "3   21894              ПИЦЦЕТОРИЯ    да        кафе   \n",
       "4  119365  Кафе «Вишневая метель»   нет        кафе   \n",
       "\n",
       "                                             address  number  \n",
       "0         город Москва, улица Егора Абакумова, дом 9      48  \n",
       "1  город Москва, улица Талалихина, дом 2/1, корпус 1      35  \n",
       "2          город Москва, Абельмановская улица, дом 6      95  \n",
       "3            город Москва, Абрамцевская улица, дом 1      40  \n",
       "4  город Москва, Абрамцевская улица, дом 9, корпус 1      50  "
      ]
     },
     "execution_count": 20,
     "metadata": {},
     "output_type": "execute_result"
    }
   ],
   "source": [
    "# исключаю из df строки с 0, для подсчета среднего зачения, для замены нулей\n",
    "data = df_crude[~df_crude.index.isin(number_0_bad.index)]\n",
    "print('Количество строк в таблице -',data.shape[0])\n",
    "data.head()"
   ]
  },
  {
   "cell_type": "code",
   "execution_count": 21,
   "metadata": {
    "scrolled": true
   },
   "outputs": [
    {
     "data": {
      "text/html": [
       "<div>\n",
       "<style scoped>\n",
       "    .dataframe tbody tr th:only-of-type {\n",
       "        vertical-align: middle;\n",
       "    }\n",
       "\n",
       "    .dataframe tbody tr th {\n",
       "        vertical-align: top;\n",
       "    }\n",
       "\n",
       "    .dataframe thead th {\n",
       "        text-align: right;\n",
       "    }\n",
       "</style>\n",
       "<table border=\"1\" class=\"dataframe\">\n",
       "  <thead>\n",
       "    <tr style=\"text-align: right;\">\n",
       "      <th></th>\n",
       "      <th>object_type</th>\n",
       "      <th>number</th>\n",
       "    </tr>\n",
       "  </thead>\n",
       "  <tbody>\n",
       "    <tr>\n",
       "      <th>0</th>\n",
       "      <td>бар</td>\n",
       "      <td>35.0</td>\n",
       "    </tr>\n",
       "    <tr>\n",
       "      <th>1</th>\n",
       "      <td>буфет</td>\n",
       "      <td>32.0</td>\n",
       "    </tr>\n",
       "    <tr>\n",
       "      <th>2</th>\n",
       "      <td>закусочная</td>\n",
       "      <td>0.0</td>\n",
       "    </tr>\n",
       "    <tr>\n",
       "      <th>3</th>\n",
       "      <td>кафе</td>\n",
       "      <td>35.0</td>\n",
       "    </tr>\n",
       "    <tr>\n",
       "      <th>4</th>\n",
       "      <td>кафетерий</td>\n",
       "      <td>9.0</td>\n",
       "    </tr>\n",
       "    <tr>\n",
       "      <th>5</th>\n",
       "      <td>магазин (отдел кулинарии)</td>\n",
       "      <td>0.0</td>\n",
       "    </tr>\n",
       "    <tr>\n",
       "      <th>6</th>\n",
       "      <td>предприятие быстрого обслуживания</td>\n",
       "      <td>5.0</td>\n",
       "    </tr>\n",
       "    <tr>\n",
       "      <th>7</th>\n",
       "      <td>ресторан</td>\n",
       "      <td>80.0</td>\n",
       "    </tr>\n",
       "    <tr>\n",
       "      <th>8</th>\n",
       "      <td>столовая</td>\n",
       "      <td>104.5</td>\n",
       "    </tr>\n",
       "  </tbody>\n",
       "</table>\n",
       "</div>"
      ],
      "text/plain": [
       "                         object_type  number\n",
       "0                                бар    35.0\n",
       "1                              буфет    32.0\n",
       "2                         закусочная     0.0\n",
       "3                               кафе    35.0\n",
       "4                          кафетерий     9.0\n",
       "5          магазин (отдел кулинарии)     0.0\n",
       "6  предприятие быстрого обслуживания     5.0\n",
       "7                           ресторан    80.0\n",
       "8                           столовая   104.5"
      ]
     },
     "execution_count": 21,
     "metadata": {},
     "output_type": "execute_result"
    }
   ],
   "source": [
    "df_list_type = data.groupby('object_type', as_index=False).agg({'number':'median'})\n",
    "df_list_type"
   ]
  },
  {
   "cell_type": "code",
   "execution_count": 22,
   "metadata": {},
   "outputs": [],
   "source": [
    "# группирую по типу объекта\n",
    "df_list_type = data.groupby('object_type', as_index=False).agg({'number':'median'})\n",
    "df_list_type.columns=['object_type', 'median_number']"
   ]
  },
  {
   "cell_type": "code",
   "execution_count": 23,
   "metadata": {},
   "outputs": [
    {
     "data": {
      "text/html": [
       "<div>\n",
       "<style scoped>\n",
       "    .dataframe tbody tr th:only-of-type {\n",
       "        vertical-align: middle;\n",
       "    }\n",
       "\n",
       "    .dataframe tbody tr th {\n",
       "        vertical-align: top;\n",
       "    }\n",
       "\n",
       "    .dataframe thead th {\n",
       "        text-align: right;\n",
       "    }\n",
       "</style>\n",
       "<table border=\"1\" class=\"dataframe\">\n",
       "  <thead>\n",
       "    <tr style=\"text-align: right;\">\n",
       "      <th></th>\n",
       "      <th>object_type</th>\n",
       "      <th>median_number</th>\n",
       "    </tr>\n",
       "  </thead>\n",
       "  <tbody>\n",
       "    <tr>\n",
       "      <th>0</th>\n",
       "      <td>бар</td>\n",
       "      <td>35.0</td>\n",
       "    </tr>\n",
       "    <tr>\n",
       "      <th>1</th>\n",
       "      <td>буфет</td>\n",
       "      <td>32.0</td>\n",
       "    </tr>\n",
       "    <tr>\n",
       "      <th>2</th>\n",
       "      <td>закусочная</td>\n",
       "      <td>0.0</td>\n",
       "    </tr>\n",
       "    <tr>\n",
       "      <th>3</th>\n",
       "      <td>кафе</td>\n",
       "      <td>35.0</td>\n",
       "    </tr>\n",
       "    <tr>\n",
       "      <th>4</th>\n",
       "      <td>кафетерий</td>\n",
       "      <td>9.0</td>\n",
       "    </tr>\n",
       "    <tr>\n",
       "      <th>5</th>\n",
       "      <td>магазин (отдел кулинарии)</td>\n",
       "      <td>0.0</td>\n",
       "    </tr>\n",
       "    <tr>\n",
       "      <th>6</th>\n",
       "      <td>предприятие быстрого обслуживания</td>\n",
       "      <td>5.0</td>\n",
       "    </tr>\n",
       "    <tr>\n",
       "      <th>7</th>\n",
       "      <td>ресторан</td>\n",
       "      <td>80.0</td>\n",
       "    </tr>\n",
       "    <tr>\n",
       "      <th>8</th>\n",
       "      <td>столовая</td>\n",
       "      <td>104.5</td>\n",
       "    </tr>\n",
       "  </tbody>\n",
       "</table>\n",
       "</div>"
      ],
      "text/plain": [
       "                         object_type  median_number\n",
       "0                                бар           35.0\n",
       "1                              буфет           32.0\n",
       "2                         закусочная            0.0\n",
       "3                               кафе           35.0\n",
       "4                          кафетерий            9.0\n",
       "5          магазин (отдел кулинарии)            0.0\n",
       "6  предприятие быстрого обслуживания            5.0\n",
       "7                           ресторан           80.0\n",
       "8                           столовая          104.5"
      ]
     },
     "execution_count": 23,
     "metadata": {},
     "output_type": "execute_result"
    }
   ],
   "source": [
    "df_list_type"
   ]
  },
  {
   "cell_type": "code",
   "execution_count": 24,
   "metadata": {},
   "outputs": [],
   "source": [
    "# заменяю нули в промежуточной таблице\n",
    "number_0_bad = number_0_bad.join(df_list_type[['object_type', 'median_number']].\n",
    "                                 set_index('object_type'), on='object_type')\n"
   ]
  },
  {
   "cell_type": "code",
   "execution_count": 25,
   "metadata": {},
   "outputs": [
    {
     "name": "stdout",
     "output_type": "stream",
     "text": [
      "Количество строк в таблице - 515\n"
     ]
    },
    {
     "data": {
      "text/html": [
       "<div>\n",
       "<style scoped>\n",
       "    .dataframe tbody tr th:only-of-type {\n",
       "        vertical-align: middle;\n",
       "    }\n",
       "\n",
       "    .dataframe tbody tr th {\n",
       "        vertical-align: top;\n",
       "    }\n",
       "\n",
       "    .dataframe thead th {\n",
       "        text-align: right;\n",
       "    }\n",
       "</style>\n",
       "<table border=\"1\" class=\"dataframe\">\n",
       "  <thead>\n",
       "    <tr style=\"text-align: right;\">\n",
       "      <th></th>\n",
       "      <th>id</th>\n",
       "      <th>object_name</th>\n",
       "      <th>chain</th>\n",
       "      <th>object_type</th>\n",
       "      <th>address</th>\n",
       "      <th>number</th>\n",
       "      <th>median_number</th>\n",
       "    </tr>\n",
       "  </thead>\n",
       "  <tbody>\n",
       "    <tr>\n",
       "      <th>206</th>\n",
       "      <td>150836</td>\n",
       "      <td>ГБОУ Школа №1468</td>\n",
       "      <td>нет</td>\n",
       "      <td>столовая</td>\n",
       "      <td>город Москва, Волгоградский проспект, дом 17, ...</td>\n",
       "      <td>0</td>\n",
       "      <td>104.5</td>\n",
       "    </tr>\n",
       "    <tr>\n",
       "      <th>504</th>\n",
       "      <td>157035</td>\n",
       "      <td>Кофе с собой</td>\n",
       "      <td>да</td>\n",
       "      <td>кафетерий</td>\n",
       "      <td>город Москва, Краснохолмская набережная, дом 1...</td>\n",
       "      <td>0</td>\n",
       "      <td>9.0</td>\n",
       "    </tr>\n",
       "    <tr>\n",
       "      <th>577</th>\n",
       "      <td>149220</td>\n",
       "      <td>Кофейня «Кофе Хаус»</td>\n",
       "      <td>да</td>\n",
       "      <td>кафе</td>\n",
       "      <td>город Москва, Павелецкая площадь, дом 1А, стро...</td>\n",
       "      <td>0</td>\n",
       "      <td>35.0</td>\n",
       "    </tr>\n",
       "    <tr>\n",
       "      <th>802</th>\n",
       "      <td>142581</td>\n",
       "      <td>Кофе Энигма</td>\n",
       "      <td>нет</td>\n",
       "      <td>кафе</td>\n",
       "      <td>город Москва, Овчинниковская набережная, дом 2...</td>\n",
       "      <td>0</td>\n",
       "      <td>35.0</td>\n",
       "    </tr>\n",
       "    <tr>\n",
       "      <th>1003</th>\n",
       "      <td>149427</td>\n",
       "      <td>Французская пекарня</td>\n",
       "      <td>нет</td>\n",
       "      <td>кафетерий</td>\n",
       "      <td>город Москва, Русаковская улица, дом 29</td>\n",
       "      <td>0</td>\n",
       "      <td>9.0</td>\n",
       "    </tr>\n",
       "  </tbody>\n",
       "</table>\n",
       "</div>"
      ],
      "text/plain": [
       "          id          object_name chain object_type  \\\n",
       "206   150836     ГБОУ Школа №1468   нет    столовая   \n",
       "504   157035         Кофе с собой    да   кафетерий   \n",
       "577   149220  Кофейня «Кофе Хаус»    да        кафе   \n",
       "802   142581          Кофе Энигма   нет        кафе   \n",
       "1003  149427  Французская пекарня   нет   кафетерий   \n",
       "\n",
       "                                                address  number  median_number  \n",
       "206   город Москва, Волгоградский проспект, дом 17, ...       0          104.5  \n",
       "504   город Москва, Краснохолмская набережная, дом 1...       0            9.0  \n",
       "577   город Москва, Павелецкая площадь, дом 1А, стро...       0           35.0  \n",
       "802   город Москва, Овчинниковская набережная, дом 2...       0           35.0  \n",
       "1003            город Москва, Русаковская улица, дом 29       0            9.0  "
      ]
     },
     "execution_count": 25,
     "metadata": {},
     "output_type": "execute_result"
    }
   ],
   "source": [
    "print('Количество строк в таблице -',number_0_bad.shape[0])\n",
    "number_0_bad.head()"
   ]
  },
  {
   "cell_type": "code",
   "execution_count": 26,
   "metadata": {},
   "outputs": [
    {
     "data": {
      "text/html": [
       "<div>\n",
       "<style scoped>\n",
       "    .dataframe tbody tr th:only-of-type {\n",
       "        vertical-align: middle;\n",
       "    }\n",
       "\n",
       "    .dataframe tbody tr th {\n",
       "        vertical-align: top;\n",
       "    }\n",
       "\n",
       "    .dataframe thead th {\n",
       "        text-align: right;\n",
       "    }\n",
       "</style>\n",
       "<table border=\"1\" class=\"dataframe\">\n",
       "  <thead>\n",
       "    <tr style=\"text-align: right;\">\n",
       "      <th></th>\n",
       "      <th>id</th>\n",
       "      <th>object_name</th>\n",
       "      <th>chain</th>\n",
       "      <th>object_type</th>\n",
       "      <th>address</th>\n",
       "      <th>number</th>\n",
       "      <th>median_number</th>\n",
       "    </tr>\n",
       "  </thead>\n",
       "  <tbody>\n",
       "    <tr>\n",
       "      <th>206</th>\n",
       "      <td>150836</td>\n",
       "      <td>ГБОУ Школа №1468</td>\n",
       "      <td>нет</td>\n",
       "      <td>столовая</td>\n",
       "      <td>город Москва, Волгоградский проспект, дом 17, ...</td>\n",
       "      <td>104.5</td>\n",
       "      <td>104.5</td>\n",
       "    </tr>\n",
       "    <tr>\n",
       "      <th>504</th>\n",
       "      <td>157035</td>\n",
       "      <td>Кофе с собой</td>\n",
       "      <td>да</td>\n",
       "      <td>кафетерий</td>\n",
       "      <td>город Москва, Краснохолмская набережная, дом 1...</td>\n",
       "      <td>9.0</td>\n",
       "      <td>9.0</td>\n",
       "    </tr>\n",
       "    <tr>\n",
       "      <th>577</th>\n",
       "      <td>149220</td>\n",
       "      <td>Кофейня «Кофе Хаус»</td>\n",
       "      <td>да</td>\n",
       "      <td>кафе</td>\n",
       "      <td>город Москва, Павелецкая площадь, дом 1А, стро...</td>\n",
       "      <td>35.0</td>\n",
       "      <td>35.0</td>\n",
       "    </tr>\n",
       "    <tr>\n",
       "      <th>802</th>\n",
       "      <td>142581</td>\n",
       "      <td>Кофе Энигма</td>\n",
       "      <td>нет</td>\n",
       "      <td>кафе</td>\n",
       "      <td>город Москва, Овчинниковская набережная, дом 2...</td>\n",
       "      <td>35.0</td>\n",
       "      <td>35.0</td>\n",
       "    </tr>\n",
       "    <tr>\n",
       "      <th>1003</th>\n",
       "      <td>149427</td>\n",
       "      <td>Французская пекарня</td>\n",
       "      <td>нет</td>\n",
       "      <td>кафетерий</td>\n",
       "      <td>город Москва, Русаковская улица, дом 29</td>\n",
       "      <td>9.0</td>\n",
       "      <td>9.0</td>\n",
       "    </tr>\n",
       "  </tbody>\n",
       "</table>\n",
       "</div>"
      ],
      "text/plain": [
       "          id          object_name chain object_type  \\\n",
       "206   150836     ГБОУ Школа №1468   нет    столовая   \n",
       "504   157035         Кофе с собой    да   кафетерий   \n",
       "577   149220  Кофейня «Кофе Хаус»    да        кафе   \n",
       "802   142581          Кофе Энигма   нет        кафе   \n",
       "1003  149427  Французская пекарня   нет   кафетерий   \n",
       "\n",
       "                                                address  number  median_number  \n",
       "206   город Москва, Волгоградский проспект, дом 17, ...   104.5          104.5  \n",
       "504   город Москва, Краснохолмская набережная, дом 1...     9.0            9.0  \n",
       "577   город Москва, Павелецкая площадь, дом 1А, стро...    35.0           35.0  \n",
       "802   город Москва, Овчинниковская набережная, дом 2...    35.0           35.0  \n",
       "1003            город Москва, Русаковская улица, дом 29     9.0            9.0  "
      ]
     },
     "execution_count": 26,
     "metadata": {},
     "output_type": "execute_result"
    }
   ],
   "source": [
    "number_0_bad['number'].replace(0, number_0_bad['median_number'], inplace=True)\n",
    "number_0_bad.head()"
   ]
  },
  {
   "cell_type": "code",
   "execution_count": 27,
   "metadata": {},
   "outputs": [
    {
     "data": {
      "text/plain": [
       "Index(['id', 'object_name', 'chain', 'object_type', 'address', 'number',\n",
       "       'median_number'],\n",
       "      dtype='object')"
      ]
     },
     "execution_count": 27,
     "metadata": {},
     "output_type": "execute_result"
    }
   ],
   "source": [
    "number_0_bad.columns"
   ]
  },
  {
   "cell_type": "code",
   "execution_count": 28,
   "metadata": {},
   "outputs": [
    {
     "data": {
      "text/html": [
       "<div>\n",
       "<style scoped>\n",
       "    .dataframe tbody tr th:only-of-type {\n",
       "        vertical-align: middle;\n",
       "    }\n",
       "\n",
       "    .dataframe tbody tr th {\n",
       "        vertical-align: top;\n",
       "    }\n",
       "\n",
       "    .dataframe thead th {\n",
       "        text-align: right;\n",
       "    }\n",
       "</style>\n",
       "<table border=\"1\" class=\"dataframe\">\n",
       "  <thead>\n",
       "    <tr style=\"text-align: right;\">\n",
       "      <th></th>\n",
       "      <th>id</th>\n",
       "      <th>object_name</th>\n",
       "      <th>chain</th>\n",
       "      <th>object_type</th>\n",
       "      <th>address</th>\n",
       "      <th>number</th>\n",
       "    </tr>\n",
       "  </thead>\n",
       "  <tbody>\n",
       "    <tr>\n",
       "      <th>206</th>\n",
       "      <td>150836</td>\n",
       "      <td>ГБОУ Школа №1468</td>\n",
       "      <td>нет</td>\n",
       "      <td>столовая</td>\n",
       "      <td>город Москва, Волгоградский проспект, дом 17, ...</td>\n",
       "      <td>104.5</td>\n",
       "    </tr>\n",
       "    <tr>\n",
       "      <th>504</th>\n",
       "      <td>157035</td>\n",
       "      <td>Кофе с собой</td>\n",
       "      <td>да</td>\n",
       "      <td>кафетерий</td>\n",
       "      <td>город Москва, Краснохолмская набережная, дом 1...</td>\n",
       "      <td>9.0</td>\n",
       "    </tr>\n",
       "    <tr>\n",
       "      <th>577</th>\n",
       "      <td>149220</td>\n",
       "      <td>Кофейня «Кофе Хаус»</td>\n",
       "      <td>да</td>\n",
       "      <td>кафе</td>\n",
       "      <td>город Москва, Павелецкая площадь, дом 1А, стро...</td>\n",
       "      <td>35.0</td>\n",
       "    </tr>\n",
       "    <tr>\n",
       "      <th>802</th>\n",
       "      <td>142581</td>\n",
       "      <td>Кофе Энигма</td>\n",
       "      <td>нет</td>\n",
       "      <td>кафе</td>\n",
       "      <td>город Москва, Овчинниковская набережная, дом 2...</td>\n",
       "      <td>35.0</td>\n",
       "    </tr>\n",
       "    <tr>\n",
       "      <th>1003</th>\n",
       "      <td>149427</td>\n",
       "      <td>Французская пекарня</td>\n",
       "      <td>нет</td>\n",
       "      <td>кафетерий</td>\n",
       "      <td>город Москва, Русаковская улица, дом 29</td>\n",
       "      <td>9.0</td>\n",
       "    </tr>\n",
       "  </tbody>\n",
       "</table>\n",
       "</div>"
      ],
      "text/plain": [
       "          id          object_name chain object_type  \\\n",
       "206   150836     ГБОУ Школа №1468   нет    столовая   \n",
       "504   157035         Кофе с собой    да   кафетерий   \n",
       "577   149220  Кофейня «Кофе Хаус»    да        кафе   \n",
       "802   142581          Кофе Энигма   нет        кафе   \n",
       "1003  149427  Французская пекарня   нет   кафетерий   \n",
       "\n",
       "                                                address  number  \n",
       "206   город Москва, Волгоградский проспект, дом 17, ...   104.5  \n",
       "504   город Москва, Краснохолмская набережная, дом 1...     9.0  \n",
       "577   город Москва, Павелецкая площадь, дом 1А, стро...    35.0  \n",
       "802   город Москва, Овчинниковская набережная, дом 2...    35.0  \n",
       "1003            город Москва, Русаковская улица, дом 29     9.0  "
      ]
     },
     "execution_count": 28,
     "metadata": {},
     "output_type": "execute_result"
    }
   ],
   "source": [
    "number_0_bad = number_0_bad[['id', 'object_name', 'chain', 'object_type', 'address', 'number']]\n",
    "number_0_bad.head()"
   ]
  },
  {
   "cell_type": "code",
   "execution_count": 29,
   "metadata": {},
   "outputs": [
    {
     "data": {
      "text/html": [
       "<div>\n",
       "<style scoped>\n",
       "    .dataframe tbody tr th:only-of-type {\n",
       "        vertical-align: middle;\n",
       "    }\n",
       "\n",
       "    .dataframe tbody tr th {\n",
       "        vertical-align: top;\n",
       "    }\n",
       "\n",
       "    .dataframe thead th {\n",
       "        text-align: right;\n",
       "    }\n",
       "</style>\n",
       "<table border=\"1\" class=\"dataframe\">\n",
       "  <thead>\n",
       "    <tr style=\"text-align: right;\">\n",
       "      <th></th>\n",
       "      <th>id</th>\n",
       "      <th>object_name</th>\n",
       "      <th>chain</th>\n",
       "      <th>object_type</th>\n",
       "      <th>address</th>\n",
       "      <th>number</th>\n",
       "    </tr>\n",
       "  </thead>\n",
       "  <tbody>\n",
       "    <tr>\n",
       "      <th>0</th>\n",
       "      <td>151635</td>\n",
       "      <td>СМЕТАНА</td>\n",
       "      <td>нет</td>\n",
       "      <td>кафе</td>\n",
       "      <td>город Москва, улица Егора Абакумова, дом 9</td>\n",
       "      <td>48.0</td>\n",
       "    </tr>\n",
       "    <tr>\n",
       "      <th>1</th>\n",
       "      <td>77874</td>\n",
       "      <td>Родник</td>\n",
       "      <td>нет</td>\n",
       "      <td>кафе</td>\n",
       "      <td>город Москва, улица Талалихина, дом 2/1, корпус 1</td>\n",
       "      <td>35.0</td>\n",
       "    </tr>\n",
       "    <tr>\n",
       "      <th>2</th>\n",
       "      <td>24309</td>\n",
       "      <td>Кафе «Академия»</td>\n",
       "      <td>нет</td>\n",
       "      <td>кафе</td>\n",
       "      <td>город Москва, Абельмановская улица, дом 6</td>\n",
       "      <td>95.0</td>\n",
       "    </tr>\n",
       "    <tr>\n",
       "      <th>3</th>\n",
       "      <td>21894</td>\n",
       "      <td>ПИЦЦЕТОРИЯ</td>\n",
       "      <td>да</td>\n",
       "      <td>кафе</td>\n",
       "      <td>город Москва, Абрамцевская улица, дом 1</td>\n",
       "      <td>40.0</td>\n",
       "    </tr>\n",
       "    <tr>\n",
       "      <th>4</th>\n",
       "      <td>119365</td>\n",
       "      <td>Кафе «Вишневая метель»</td>\n",
       "      <td>нет</td>\n",
       "      <td>кафе</td>\n",
       "      <td>город Москва, Абрамцевская улица, дом 9, корпус 1</td>\n",
       "      <td>50.0</td>\n",
       "    </tr>\n",
       "  </tbody>\n",
       "</table>\n",
       "</div>"
      ],
      "text/plain": [
       "       id             object_name chain object_type  \\\n",
       "0  151635                 СМЕТАНА   нет        кафе   \n",
       "1   77874                  Родник   нет        кафе   \n",
       "2   24309         Кафе «Академия»   нет        кафе   \n",
       "3   21894              ПИЦЦЕТОРИЯ    да        кафе   \n",
       "4  119365  Кафе «Вишневая метель»   нет        кафе   \n",
       "\n",
       "                                             address  number  \n",
       "0         город Москва, улица Егора Абакумова, дом 9    48.0  \n",
       "1  город Москва, улица Талалихина, дом 2/1, корпус 1    35.0  \n",
       "2          город Москва, Абельмановская улица, дом 6    95.0  \n",
       "3            город Москва, Абрамцевская улица, дом 1    40.0  \n",
       "4  город Москва, Абрамцевская улица, дом 9, корпус 1    50.0  "
      ]
     },
     "execution_count": 29,
     "metadata": {},
     "output_type": "execute_result"
    }
   ],
   "source": [
    "# Объединяю с основным df\n",
    "df = pd.concat([data, number_0_bad])\n",
    "df.head()"
   ]
  },
  {
   "cell_type": "code",
   "execution_count": 30,
   "metadata": {},
   "outputs": [
    {
     "name": "stdout",
     "output_type": "stream",
     "text": [
      "Количество строк в таблице - 1106\n"
     ]
    },
    {
     "data": {
      "text/html": [
       "<div>\n",
       "<style scoped>\n",
       "    .dataframe tbody tr th:only-of-type {\n",
       "        vertical-align: middle;\n",
       "    }\n",
       "\n",
       "    .dataframe tbody tr th {\n",
       "        vertical-align: top;\n",
       "    }\n",
       "\n",
       "    .dataframe thead th {\n",
       "        text-align: right;\n",
       "    }\n",
       "</style>\n",
       "<table border=\"1\" class=\"dataframe\">\n",
       "  <thead>\n",
       "    <tr style=\"text-align: right;\">\n",
       "      <th></th>\n",
       "      <th>id</th>\n",
       "      <th>object_name</th>\n",
       "      <th>chain</th>\n",
       "      <th>object_type</th>\n",
       "      <th>address</th>\n",
       "      <th>number</th>\n",
       "    </tr>\n",
       "  </thead>\n",
       "  <tbody>\n",
       "    <tr>\n",
       "      <th>137</th>\n",
       "      <td>115498</td>\n",
       "      <td>Пекарня &amp; Донер</td>\n",
       "      <td>нет</td>\n",
       "      <td>закусочная</td>\n",
       "      <td>город Москва, Бутырская улица, дом 9, корпус 2</td>\n",
       "      <td>0.0</td>\n",
       "    </tr>\n",
       "    <tr>\n",
       "      <th>154</th>\n",
       "      <td>152556</td>\n",
       "      <td>Шаурма в пите</td>\n",
       "      <td>нет</td>\n",
       "      <td>предприятие быстрого обслуживания</td>\n",
       "      <td>город Москва, Варшавское шоссе, дом 72, корпус 2</td>\n",
       "      <td>0.0</td>\n",
       "    </tr>\n",
       "    <tr>\n",
       "      <th>157</th>\n",
       "      <td>149568</td>\n",
       "      <td>Суши</td>\n",
       "      <td>нет</td>\n",
       "      <td>предприятие быстрого обслуживания</td>\n",
       "      <td>город Москва, улица Маршала Василевского, дом ...</td>\n",
       "      <td>0.0</td>\n",
       "    </tr>\n",
       "    <tr>\n",
       "      <th>190</th>\n",
       "      <td>126956</td>\n",
       "      <td>Шаурма, куры-гриль</td>\n",
       "      <td>нет</td>\n",
       "      <td>предприятие быстрого обслуживания</td>\n",
       "      <td>город Москва, 1-я Владимирская улица, дом 21</td>\n",
       "      <td>0.0</td>\n",
       "    </tr>\n",
       "    <tr>\n",
       "      <th>195</th>\n",
       "      <td>149531</td>\n",
       "      <td>Шаурма, куры-гриль</td>\n",
       "      <td>нет</td>\n",
       "      <td>предприятие быстрого обслуживания</td>\n",
       "      <td>город Москва, 2-я Владимирская улица, дом 44/10</td>\n",
       "      <td>0.0</td>\n",
       "    </tr>\n",
       "  </tbody>\n",
       "</table>\n",
       "</div>"
      ],
      "text/plain": [
       "         id         object_name chain                        object_type  \\\n",
       "137  115498     Пекарня & Донер   нет                         закусочная   \n",
       "154  152556       Шаурма в пите   нет  предприятие быстрого обслуживания   \n",
       "157  149568                Суши   нет  предприятие быстрого обслуживания   \n",
       "190  126956  Шаурма, куры-гриль   нет  предприятие быстрого обслуживания   \n",
       "195  149531  Шаурма, куры-гриль   нет  предприятие быстрого обслуживания   \n",
       "\n",
       "                                               address  number  \n",
       "137     город Москва, Бутырская улица, дом 9, корпус 2     0.0  \n",
       "154   город Москва, Варшавское шоссе, дом 72, корпус 2     0.0  \n",
       "157  город Москва, улица Маршала Василевского, дом ...     0.0  \n",
       "190       город Москва, 1-я Владимирская улица, дом 21     0.0  \n",
       "195    город Москва, 2-я Владимирская улица, дом 44/10     0.0  "
      ]
     },
     "execution_count": 30,
     "metadata": {},
     "output_type": "execute_result"
    }
   ],
   "source": [
    "# Проверяю, что количество 0 стало меньше на 515\n",
    "\n",
    "print('Количество строк в таблице -',df[df['number']==0].shape[0])\n",
    "df[df['number']==0].head()"
   ]
  },
  {
   "cell_type": "markdown",
   "metadata": {},
   "source": [
    "\n",
    "<div style=\"border:solid navy 2px; padding: 20px\">\n",
    "\n",
    "Встречаются очень большие значения, но они реальны. 1621 заведение не имеет посадочных мест - это тоже реалистичные данные для предприятий быстрого обслуживания и магазинов (отдел кулинарии), но не для ресторанов, кафе, баров, столовых, кафетериев. \n",
    "\n",
    "Почитала ГОСТ, четких требований к количеству посадочных мест не нашла, буду ориентироваться на требования к наличию зала для посетителей. Про закусочные встречается информация о возможности отсутствия посадочных мест (можно использовать высокие столы).\n",
    "\n",
    "515 записей с заведениями, предполагающими наличие посадочных мест, но с нулевыми значениями - скорее всего данные не достоверны (возможно, не указали при заполнении базы). Заменила количество посадочных мест на среднее для типа заведения.\n",
    "\n",
    "</div>"
   ]
  },
  {
   "cell_type": "markdown",
   "metadata": {},
   "source": [
    "\n",
    "<div style=\"border:solid navy 2px; padding: 20px\">\n",
    "\n",
    "<h3 style=\"color:navy\"> Обработка столбцов с нечисловыми значениями </h3>\n",
    "\n",
    "</div>\n",
    "\n"
   ]
  },
  {
   "cell_type": "code",
   "execution_count": 31,
   "metadata": {
    "scrolled": true
   },
   "outputs": [
    {
     "name": "stdout",
     "output_type": "stream",
     "text": [
      "object_name  -  10393 уникальных значений\n",
      "['СМЕТАНА' 'Родник' 'Кафе «Академия»' ... 'CoffeeShop' 'Movenpick'\n",
      " 'Marmalato']\n",
      "\n",
      "chain  -  2 уникальных значений\n",
      "['нет' 'да']\n",
      "\n",
      "object_type  -  9 уникальных значений\n",
      "['кафе' 'столовая' 'закусочная' 'предприятие быстрого обслуживания'\n",
      " 'ресторан' 'кафетерий' 'буфет' 'бар' 'магазин (отдел кулинарии)']\n",
      "\n",
      "address  -  9108 уникальных значений\n",
      "['город Москва, улица Егора Абакумова, дом 9'\n",
      " 'город Москва, улица Талалихина, дом 2/1, корпус 1'\n",
      " 'город Москва, Абельмановская улица, дом 6' ...\n",
      " 'город Москва, город Московский, Радужная улица, дом 14, корпус 2'\n",
      " 'город Москва, улица 8 Марта, дом 8, корпус 1'\n",
      " 'город Москва, улица Генерала Белова, дом 59']\n",
      "\n"
     ]
    }
   ],
   "source": [
    "for col in ['object_name', 'chain', 'object_type', 'address']:\n",
    "    print(df[col].name, ' - ',len(df[col].unique()), 'уникальных значений')\n",
    "    print(df[col].unique())\n",
    "    \n",
    "    print()"
   ]
  },
  {
   "cell_type": "markdown",
   "metadata": {},
   "source": [
    "\n",
    "<div style=\"border:solid navy 2px; padding: 20px\">\n",
    "\n",
    "Меняю тип столбца с логическими значениями на bool.\n",
    "\n",
    "В столбце object_name встречаются частично повторяющиеся названия заведений.\n",
    "\n",
    "</div>\n",
    "\n"
   ]
  },
  {
   "cell_type": "code",
   "execution_count": 32,
   "metadata": {},
   "outputs": [],
   "source": [
    "df['chain'] = df['chain'].replace('да', 1)\n",
    "df['chain'] = df['chain'].replace('нет', 0)\n",
    "\n",
    "df['chain'] = df['chain'].astype('bool')"
   ]
  },
  {
   "cell_type": "code",
   "execution_count": 33,
   "metadata": {},
   "outputs": [
    {
     "data": {
      "text/plain": [
       "0    False\n",
       "1    False\n",
       "2    False\n",
       "3     True\n",
       "4    False\n",
       "Name: chain, dtype: bool"
      ]
     },
     "execution_count": 33,
     "metadata": {},
     "output_type": "execute_result"
    }
   ],
   "source": [
    "df['chain'].head()"
   ]
  },
  {
   "cell_type": "markdown",
   "metadata": {},
   "source": [
    "\n",
    "<div style=\"border:solid navy 2px; padding: 20px\">\n",
    "\n",
    "<h2 style=\"color:navy; margin-bottom:20px\">Анализ данных</h2>\n",
    "\n",
    "</div>\n",
    "\n"
   ]
  },
  {
   "cell_type": "markdown",
   "metadata": {},
   "source": [
    "<div style=\"border:solid navy 2px; padding: 20px\">\n",
    "    Исследуйте соотношение видов объектов общественного питания по количеству. Постройте график.\n",
    "</div>"
   ]
  },
  {
   "cell_type": "code",
   "execution_count": 34,
   "metadata": {},
   "outputs": [
    {
     "data": {
      "text/html": [
       "<div>\n",
       "<style scoped>\n",
       "    .dataframe tbody tr th:only-of-type {\n",
       "        vertical-align: middle;\n",
       "    }\n",
       "\n",
       "    .dataframe tbody tr th {\n",
       "        vertical-align: top;\n",
       "    }\n",
       "\n",
       "    .dataframe thead th {\n",
       "        text-align: right;\n",
       "    }\n",
       "</style>\n",
       "<table border=\"1\" class=\"dataframe\">\n",
       "  <thead>\n",
       "    <tr style=\"text-align: right;\">\n",
       "      <th></th>\n",
       "      <th>id</th>\n",
       "      <th>object_name</th>\n",
       "      <th>chain</th>\n",
       "      <th>object_type</th>\n",
       "      <th>address</th>\n",
       "      <th>number</th>\n",
       "    </tr>\n",
       "  </thead>\n",
       "  <tbody>\n",
       "    <tr>\n",
       "      <th>0</th>\n",
       "      <td>151635</td>\n",
       "      <td>СМЕТАНА</td>\n",
       "      <td>False</td>\n",
       "      <td>кафе</td>\n",
       "      <td>город Москва, улица Егора Абакумова, дом 9</td>\n",
       "      <td>48.0</td>\n",
       "    </tr>\n",
       "    <tr>\n",
       "      <th>1</th>\n",
       "      <td>77874</td>\n",
       "      <td>Родник</td>\n",
       "      <td>False</td>\n",
       "      <td>кафе</td>\n",
       "      <td>город Москва, улица Талалихина, дом 2/1, корпус 1</td>\n",
       "      <td>35.0</td>\n",
       "    </tr>\n",
       "    <tr>\n",
       "      <th>2</th>\n",
       "      <td>24309</td>\n",
       "      <td>Кафе «Академия»</td>\n",
       "      <td>False</td>\n",
       "      <td>кафе</td>\n",
       "      <td>город Москва, Абельмановская улица, дом 6</td>\n",
       "      <td>95.0</td>\n",
       "    </tr>\n",
       "    <tr>\n",
       "      <th>3</th>\n",
       "      <td>21894</td>\n",
       "      <td>ПИЦЦЕТОРИЯ</td>\n",
       "      <td>True</td>\n",
       "      <td>кафе</td>\n",
       "      <td>город Москва, Абрамцевская улица, дом 1</td>\n",
       "      <td>40.0</td>\n",
       "    </tr>\n",
       "    <tr>\n",
       "      <th>4</th>\n",
       "      <td>119365</td>\n",
       "      <td>Кафе «Вишневая метель»</td>\n",
       "      <td>False</td>\n",
       "      <td>кафе</td>\n",
       "      <td>город Москва, Абрамцевская улица, дом 9, корпус 1</td>\n",
       "      <td>50.0</td>\n",
       "    </tr>\n",
       "  </tbody>\n",
       "</table>\n",
       "</div>"
      ],
      "text/plain": [
       "       id             object_name  chain object_type  \\\n",
       "0  151635                 СМЕТАНА  False        кафе   \n",
       "1   77874                  Родник  False        кафе   \n",
       "2   24309         Кафе «Академия»  False        кафе   \n",
       "3   21894              ПИЦЦЕТОРИЯ   True        кафе   \n",
       "4  119365  Кафе «Вишневая метель»  False        кафе   \n",
       "\n",
       "                                             address  number  \n",
       "0         город Москва, улица Егора Абакумова, дом 9    48.0  \n",
       "1  город Москва, улица Талалихина, дом 2/1, корпус 1    35.0  \n",
       "2          город Москва, Абельмановская улица, дом 6    95.0  \n",
       "3            город Москва, Абрамцевская улица, дом 1    40.0  \n",
       "4  город Москва, Абрамцевская улица, дом 9, корпус 1    50.0  "
      ]
     },
     "execution_count": 34,
     "metadata": {},
     "output_type": "execute_result"
    }
   ],
   "source": [
    "df.head()"
   ]
  },
  {
   "cell_type": "code",
   "execution_count": 35,
   "metadata": {},
   "outputs": [
    {
     "data": {
      "text/html": [
       "<div>\n",
       "<style scoped>\n",
       "    .dataframe tbody tr th:only-of-type {\n",
       "        vertical-align: middle;\n",
       "    }\n",
       "\n",
       "    .dataframe tbody tr th {\n",
       "        vertical-align: top;\n",
       "    }\n",
       "\n",
       "    .dataframe thead th {\n",
       "        text-align: right;\n",
       "    }\n",
       "</style>\n",
       "<table border=\"1\" class=\"dataframe\">\n",
       "  <thead>\n",
       "    <tr style=\"text-align: right;\">\n",
       "      <th></th>\n",
       "      <th>object_type</th>\n",
       "      <th>count_id</th>\n",
       "    </tr>\n",
       "  </thead>\n",
       "  <tbody>\n",
       "    <tr>\n",
       "      <th>3</th>\n",
       "      <td>кафе</td>\n",
       "      <td>6099</td>\n",
       "    </tr>\n",
       "    <tr>\n",
       "      <th>8</th>\n",
       "      <td>столовая</td>\n",
       "      <td>2587</td>\n",
       "    </tr>\n",
       "    <tr>\n",
       "      <th>7</th>\n",
       "      <td>ресторан</td>\n",
       "      <td>2285</td>\n",
       "    </tr>\n",
       "    <tr>\n",
       "      <th>6</th>\n",
       "      <td>предприятие быстрого обслуживания</td>\n",
       "      <td>1923</td>\n",
       "    </tr>\n",
       "    <tr>\n",
       "      <th>0</th>\n",
       "      <td>бар</td>\n",
       "      <td>856</td>\n",
       "    </tr>\n",
       "    <tr>\n",
       "      <th>1</th>\n",
       "      <td>буфет</td>\n",
       "      <td>585</td>\n",
       "    </tr>\n",
       "    <tr>\n",
       "      <th>4</th>\n",
       "      <td>кафетерий</td>\n",
       "      <td>398</td>\n",
       "    </tr>\n",
       "    <tr>\n",
       "      <th>2</th>\n",
       "      <td>закусочная</td>\n",
       "      <td>360</td>\n",
       "    </tr>\n",
       "    <tr>\n",
       "      <th>5</th>\n",
       "      <td>магазин (отдел кулинарии)</td>\n",
       "      <td>273</td>\n",
       "    </tr>\n",
       "  </tbody>\n",
       "</table>\n",
       "</div>"
      ],
      "text/plain": [
       "                         object_type  count_id\n",
       "3                               кафе      6099\n",
       "8                           столовая      2587\n",
       "7                           ресторан      2285\n",
       "6  предприятие быстрого обслуживания      1923\n",
       "0                                бар       856\n",
       "1                              буфет       585\n",
       "4                          кафетерий       398\n",
       "2                         закусочная       360\n",
       "5          магазин (отдел кулинарии)       273"
      ]
     },
     "execution_count": 35,
     "metadata": {},
     "output_type": "execute_result"
    }
   ],
   "source": [
    "df_type = df.groupby('object_type')['id'].count().reset_index()\n",
    "df_type.columns = ['object_type', 'count_id']\n",
    "df_type = df_type.sort_values('count_id', ascending=False)\n",
    "df_type"
   ]
  },
  {
   "cell_type": "code",
   "execution_count": 36,
   "metadata": {},
   "outputs": [
    {
     "data": {
      "image/png": "[encoded data removed]",
      "text/plain": [
       "<Figure size 720x504 with 1 Axes>"
      ]
     },
     "metadata": {
      "needs_background": "light"
     },
     "output_type": "display_data"
    }
   ],
   "source": [
    "draw_bar(df_type, 'object_type', 'count_id', \n",
    "         'Количество объектов каждого вида', 'Название объекта', 'Количество')"
   ]
  },
  {
   "cell_type": "markdown",
   "metadata": {},
   "source": [
    "<div style=\"border:solid navy 2px; padding: 20px\">\n",
    "    Исследуйте соотношение сетевых и несетевых заведений по количеству. Постройте график.\n",
    "</div>"
   ]
  },
  {
   "cell_type": "code",
   "execution_count": 37,
   "metadata": {},
   "outputs": [
    {
     "data": {
      "text/html": [
       "<div>\n",
       "<style scoped>\n",
       "    .dataframe tbody tr th:only-of-type {\n",
       "        vertical-align: middle;\n",
       "    }\n",
       "\n",
       "    .dataframe tbody tr th {\n",
       "        vertical-align: top;\n",
       "    }\n",
       "\n",
       "    .dataframe thead th {\n",
       "        text-align: right;\n",
       "    }\n",
       "</style>\n",
       "<table border=\"1\" class=\"dataframe\">\n",
       "  <thead>\n",
       "    <tr style=\"text-align: right;\">\n",
       "      <th></th>\n",
       "      <th>chain</th>\n",
       "      <th>id</th>\n",
       "    </tr>\n",
       "  </thead>\n",
       "  <tbody>\n",
       "    <tr>\n",
       "      <th>0</th>\n",
       "      <td>False</td>\n",
       "      <td>12398</td>\n",
       "    </tr>\n",
       "    <tr>\n",
       "      <th>1</th>\n",
       "      <td>True</td>\n",
       "      <td>2968</td>\n",
       "    </tr>\n",
       "  </tbody>\n",
       "</table>\n",
       "</div>"
      ],
      "text/plain": [
       "   chain     id\n",
       "0  False  12398\n",
       "1   True   2968"
      ]
     },
     "execution_count": 37,
     "metadata": {},
     "output_type": "execute_result"
    }
   ],
   "source": [
    "df_chain = df.groupby('chain')['id'].count().reset_index()\n",
    "df_chain"
   ]
  },
  {
   "cell_type": "code",
   "execution_count": 38,
   "metadata": {},
   "outputs": [
    {
     "data": {
      "image/png": "[encoded data removed]",
      "text/plain": [
       "<Figure size 720x504 with 1 Axes>"
      ]
     },
     "metadata": {
      "needs_background": "light"
     },
     "output_type": "display_data"
    }
   ],
   "source": [
    "draw_bar(df_chain, 'chain', 'id', 'Количество несетевых/сетевых объектов', 'Группы', 'Количество')"
   ]
  },
  {
   "cell_type": "markdown",
   "metadata": {},
   "source": [
    "<div style=\"border:solid navy 2px; padding: 20px\">\n",
    "    Для какого вида объекта общественного питания характерно сетевое распространение?\n",
    "</div>"
   ]
  },
  {
   "cell_type": "code",
   "execution_count": 39,
   "metadata": {},
   "outputs": [],
   "source": [
    "df_type_chain = df.groupby(['object_type', 'chain'])['id'].count().reset_index()"
   ]
  },
  {
   "cell_type": "code",
   "execution_count": 40,
   "metadata": {},
   "outputs": [],
   "source": [
    "df_type_true = df_type_chain[df_type_chain['chain']==True]\n",
    "df_type_false = df_type_chain[df_type_chain['chain']==False]\n",
    "df_type_chain = df_type_true.merge(df_type_false, suffixes=('_t', '_f'), \n",
    "                                   how='outer', on = 'object_type')"
   ]
  },
  {
   "cell_type": "code",
   "execution_count": 41,
   "metadata": {},
   "outputs": [
    {
     "data": {
      "text/html": [
       "<div>\n",
       "<style scoped>\n",
       "    .dataframe tbody tr th:only-of-type {\n",
       "        vertical-align: middle;\n",
       "    }\n",
       "\n",
       "    .dataframe tbody tr th {\n",
       "        vertical-align: top;\n",
       "    }\n",
       "\n",
       "    .dataframe thead th {\n",
       "        text-align: right;\n",
       "    }\n",
       "</style>\n",
       "<table border=\"1\" class=\"dataframe\">\n",
       "  <thead>\n",
       "    <tr style=\"text-align: right;\">\n",
       "      <th></th>\n",
       "      <th>object_type</th>\n",
       "      <th>chain_part</th>\n",
       "    </tr>\n",
       "  </thead>\n",
       "  <tbody>\n",
       "    <tr>\n",
       "      <th>0</th>\n",
       "      <td>бар</td>\n",
       "      <td>0.04</td>\n",
       "    </tr>\n",
       "    <tr>\n",
       "      <th>1</th>\n",
       "      <td>буфет</td>\n",
       "      <td>0.02</td>\n",
       "    </tr>\n",
       "    <tr>\n",
       "      <th>2</th>\n",
       "      <td>закусочная</td>\n",
       "      <td>0.16</td>\n",
       "    </tr>\n",
       "    <tr>\n",
       "      <th>3</th>\n",
       "      <td>кафе</td>\n",
       "      <td>0.23</td>\n",
       "    </tr>\n",
       "    <tr>\n",
       "      <th>4</th>\n",
       "      <td>кафетерий</td>\n",
       "      <td>0.13</td>\n",
       "    </tr>\n",
       "    <tr>\n",
       "      <th>5</th>\n",
       "      <td>магазин (отдел кулинарии)</td>\n",
       "      <td>0.29</td>\n",
       "    </tr>\n",
       "    <tr>\n",
       "      <th>6</th>\n",
       "      <td>предприятие быстрого обслуживания</td>\n",
       "      <td>0.41</td>\n",
       "    </tr>\n",
       "    <tr>\n",
       "      <th>7</th>\n",
       "      <td>ресторан</td>\n",
       "      <td>0.24</td>\n",
       "    </tr>\n",
       "    <tr>\n",
       "      <th>8</th>\n",
       "      <td>столовая</td>\n",
       "      <td>0.00</td>\n",
       "    </tr>\n",
       "  </tbody>\n",
       "</table>\n",
       "</div>"
      ],
      "text/plain": [
       "                         object_type  chain_part\n",
       "0                                бар        0.04\n",
       "1                              буфет        0.02\n",
       "2                         закусочная        0.16\n",
       "3                               кафе        0.23\n",
       "4                          кафетерий        0.13\n",
       "5          магазин (отдел кулинарии)        0.29\n",
       "6  предприятие быстрого обслуживания        0.41\n",
       "7                           ресторан        0.24\n",
       "8                           столовая        0.00"
      ]
     },
     "execution_count": 41,
     "metadata": {},
     "output_type": "execute_result"
    }
   ],
   "source": [
    "# Нахожу долю сетевых объектов от всех объектов для каждого типа\n",
    "df_type_chain['chain_part'] = (df_type_chain['id_t']/\n",
    "                               (df_type_chain['id_t']+df_type_chain['id_f'])).round(2)\n",
    "df_type_chain[['object_type', 'chain_part']]"
   ]
  },
  {
   "cell_type": "code",
   "execution_count": 42,
   "metadata": {
    "scrolled": true
   },
   "outputs": [
    {
     "data": {
      "image/png": "[encoded data removed]",
      "text/plain": [
       "<Figure size 720x360 with 1 Axes>"
      ]
     },
     "metadata": {
      "needs_background": "light"
     },
     "output_type": "display_data"
    }
   ],
   "source": [
    "draw_bar_pair(df_type_chain['id_t'], df_type_chain['id_f'], df_type_chain['object_type'], \n",
    "              'Количество сетевых/несетевых объектов каждого вида', 'Вид объекта', 'Количество', \n",
    "              ['сетевое', 'несетевое'])"
   ]
  },
  {
   "cell_type": "markdown",
   "metadata": {},
   "source": [
    "\n",
    "<div style=\"border:solid navy 2px; padding: 20px\">\n",
    "Наиболее равномерно распределение \"сетевой/несетевой объект\" выглядит у предприятий быстрого обслуживания - 41%.\n",
    "</div>\n",
    "\n"
   ]
  },
  {
   "cell_type": "markdown",
   "metadata": {},
   "source": [
    "\n",
    "<div style=\"border:solid navy 2px; padding: 20px\">\n",
    "Что характерно для сетевых заведений: много заведений с небольшим числом посадочных мест в каждом или мало заведений с большим количеством посадочных мест?\n",
    "</div>\n",
    "\n"
   ]
  },
  {
   "cell_type": "code",
   "execution_count": 43,
   "metadata": {},
   "outputs": [],
   "source": [
    "df['object_name'] = df['object_name'].str.lower()"
   ]
  },
  {
   "cell_type": "markdown",
   "metadata": {},
   "source": [
    "\n",
    "<div style=\"border:solid navy 2px; padding: 20px\">\n",
    "При прочтении названий выделила лишние слова\n",
    "</div>\n",
    "\n"
   ]
  },
  {
   "cell_type": "code",
   "execution_count": 44,
   "metadata": {},
   "outputs": [],
   "source": [
    "bad = ['точка продажи готовой еды ', 'бар ', 'кальян-бар ', 'бб ', 'анти-кафе ', 'закусочная ', \n",
    "       'лаундж-бар ', 'чешская пивная ', 'семейное кафе ', 'японский ресторан ', 'ресторан ', \n",
    "       'фитнес-бар ', 'суши ', 'семейное кафе и кондитерская ', 'предприятие быстрого питания ',\n",
    "       'предприятие быстрого обслуживания ', 'пиццерия ', 'пбо ', 'магазин готовой еды ',\n",
    "       'кофейня ', 'кафе ', 'кафе-закусочная ', 'кальян-бар ', 'кальянная ', 'пекарня ', 'детское ', \n",
    "       'кафе-буфет ', 'кафе-пекарея ']"
   ]
  },
  {
   "cell_type": "markdown",
   "metadata": {},
   "source": [
    "\n",
    "<div style=\"border:solid navy 2px; padding: 20px\">\n",
    "Удалю их\n",
    "</div>\n",
    "\n"
   ]
  },
  {
   "cell_type": "code",
   "execution_count": 45,
   "metadata": {},
   "outputs": [],
   "source": [
    "def del_type(row):\n",
    "    for i in range(len(bad)):\n",
    "        if bad[i] in row:\n",
    "            row = row.replace(bad[i],'')\n",
    "    return (row)"
   ]
  },
  {
   "cell_type": "markdown",
   "metadata": {},
   "source": [
    "\n",
    "<div style=\"border:solid navy 2px; padding: 20px\">\n",
    "Удаляю лишние пробелы, все символы, кроме - и _(подчеркивание не видела в данных, не обрабатывала отдельно)\n",
    "Немного обрабатываю названия сетей\n",
    "</div>\n",
    "\n"
   ]
  },
  {
   "cell_type": "code",
   "execution_count": 46,
   "metadata": {},
   "outputs": [],
   "source": [
    "df['object_name'] = df['object_name'].apply(del_type)"
   ]
  },
  {
   "cell_type": "code",
   "execution_count": 47,
   "metadata": {},
   "outputs": [],
   "source": [
    "df['object_name'] = df['object_name'].replace(r'[^-\\s\\w]','',regex=True)\n",
    "df['object_name'] = df['object_name'].replace(r'\\s?-\\s?',' ',regex=True)\n",
    "df['object_name'] = df['object_name'].replace(r'\\s+',' ',regex=True)"
   ]
  },
  {
   "cell_type": "code",
   "execution_count": 48,
   "metadata": {},
   "outputs": [
    {
     "data": {
      "text/plain": [
       "9195"
      ]
     },
     "execution_count": 48,
     "metadata": {},
     "output_type": "execute_result"
    }
   ],
   "source": [
    "len(df['object_name'].unique())"
   ]
  },
  {
   "cell_type": "markdown",
   "metadata": {},
   "source": [
    "\n",
    "<div style=\"border:solid navy 2px; padding: 20px\">\n",
    "Работаю с названиями объектов\n",
    "</div>\n",
    "\n"
   ]
  },
  {
   "cell_type": "code",
   "execution_count": 49,
   "metadata": {},
   "outputs": [
    {
     "data": {
      "text/plain": [
       "array(['сметана', 'родник', 'академия', ..., 'coffeeshop', 'movenpick',\n",
       "       'marmalato'], dtype=object)"
      ]
     },
     "execution_count": 49,
     "metadata": {},
     "output_type": "execute_result"
    }
   ],
   "source": [
    "haos = df['object_name'].unique()\n",
    "haos"
   ]
  },
  {
   "cell_type": "markdown",
   "metadata": {},
   "source": [
    "\n",
    "<div style=\"border:solid navy 2px; padding: 20px\">\n",
    "Функция для поиска и проверки различного написания одного названия\n",
    "</div>\n",
    "\n"
   ]
  },
  {
   "cell_type": "code",
   "execution_count": 50,
   "metadata": {},
   "outputs": [],
   "source": [
    "def bad_name(name):\n",
    "    list_name=[]\n",
    "    for i in haos:\n",
    "        if name in i:\n",
    "            list_name.append(i)\n",
    "    return(list_name)"
   ]
  },
  {
   "cell_type": "code",
   "execution_count": 51,
   "metadata": {},
   "outputs": [
    {
     "data": {
      "text/plain": [
       "['kfc',\n",
       " 'ростикс kfc',\n",
       " 'kfc волгоградский',\n",
       " 'kfc покрышкина',\n",
       " 'fridays kfc',\n",
       " 'быстрого питания kfc']"
      ]
     },
     "execution_count": 51,
     "metadata": {},
     "output_type": "execute_result"
    }
   ],
   "source": [
    "bad_name('kfc') # kfc"
   ]
  },
  {
   "cell_type": "code",
   "execution_count": 52,
   "metadata": {},
   "outputs": [
    {
     "data": {
      "text/plain": [
       "['мята lounge',\n",
       " 'мята lounge кальянный клуб',\n",
       " 'кальян мята lounge',\n",
       " 'мята lounge шаболовка',\n",
       " 'мята lounge автозаводская',\n",
       " 'лаундж мята lounge',\n",
       " 'мята lounge октябрьская']"
      ]
     },
     "execution_count": 52,
     "metadata": {},
     "output_type": "execute_result"
    }
   ],
   "source": [
    "bad_name('мята lounge') # мята lounge"
   ]
  },
  {
   "cell_type": "code",
   "execution_count": 53,
   "metadata": {},
   "outputs": [
    {
     "data": {
      "text/plain": [
       "['старбакс starbucks',\n",
       " 'старбакс',\n",
       " 'сабвей старбакс',\n",
       " 'старбакс кофе',\n",
       " 'starbucks старбакс кофе',\n",
       " 'starbucks старбакс']"
      ]
     },
     "execution_count": 53,
     "metadata": {},
     "output_type": "execute_result"
    }
   ],
   "source": [
    "bad_name('старбакс') #starbucks"
   ]
  },
  {
   "cell_type": "code",
   "execution_count": 54,
   "metadata": {},
   "outputs": [
    {
     "data": {
      "text/plain": [
       "['старбакс starbucks',\n",
       " 'starbucks',\n",
       " 'starbucks кофе',\n",
       " 'starbucks старбакс кофе',\n",
       " 'starbucks старбакс',\n",
       " 'starbucks coffee',\n",
       " 'кофемания starbucks']"
      ]
     },
     "execution_count": 54,
     "metadata": {},
     "output_type": "execute_result"
    }
   ],
   "source": [
    "bad_name('starbucks') # starbucks"
   ]
  },
  {
   "cell_type": "code",
   "execution_count": 55,
   "metadata": {},
   "outputs": [
    {
     "data": {
      "text/plain": [
       "['subway', 'сабвей subway']"
      ]
     },
     "execution_count": 55,
     "metadata": {},
     "output_type": "execute_result"
    }
   ],
   "source": [
    "bad_name('subway') # subway"
   ]
  },
  {
   "cell_type": "code",
   "execution_count": 56,
   "metadata": {},
   "outputs": [
    {
     "data": {
      "text/plain": [
       "['сабвей', 'сабвей сушивок', 'сабвей subway', 'сабвей старбакс']"
      ]
     },
     "execution_count": 56,
     "metadata": {},
     "output_type": "execute_result"
    }
   ],
   "source": [
    "bad_name('сабвей') # сабвей старбакс, сабвей сушивок - загадочноые заведения"
   ]
  },
  {
   "cell_type": "code",
   "execution_count": 57,
   "metadata": {},
   "outputs": [
    {
     "data": {
      "text/plain": [
       "['prime прайм стар',\n",
       " 'прайм стар',\n",
       " 'праймпрайм стар',\n",
       " 'прайм прайм стар',\n",
       " 'прайм стар кафе',\n",
       " 'prime прайм стар прайм кафе',\n",
       " 'prime star прайм стар']"
      ]
     },
     "execution_count": 57,
     "metadata": {},
     "output_type": "execute_result"
    }
   ],
   "source": [
    "bad_name('прайм стар') # прайм стар"
   ]
  },
  {
   "cell_type": "code",
   "execution_count": 58,
   "metadata": {},
   "outputs": [
    {
     "data": {
      "text/plain": [
       "['prime star прайм стар', 'prime star']"
      ]
     },
     "execution_count": 58,
     "metadata": {},
     "output_type": "execute_result"
    }
   ],
   "source": [
    "bad_name('prime star') # прайм стар"
   ]
  },
  {
   "cell_type": "code",
   "execution_count": 59,
   "metadata": {},
   "outputs": [
    {
     "data": {
      "text/plain": [
       "['иль патио',\n",
       " 'иль патио планета суши',\n",
       " 'шикари иль патио',\n",
       " 'иль патио il patio',\n",
       " 'планета иль патио']"
      ]
     },
     "execution_count": 59,
     "metadata": {},
     "output_type": "execute_result"
    }
   ],
   "source": [
    "bad_name('иль патио')"
   ]
  },
  {
   "cell_type": "code",
   "execution_count": 60,
   "metadata": {},
   "outputs": [
    {
     "data": {
      "text/plain": [
       "['кулинарная лавка братьев караваевых братья караваевы',\n",
       " 'кулинарная лавка братьев караваевых']"
      ]
     },
     "execution_count": 60,
     "metadata": {},
     "output_type": "execute_result"
    }
   ],
   "source": [
    "bad_name('братьев караваевых')"
   ]
  },
  {
   "cell_type": "code",
   "execution_count": 61,
   "metadata": {},
   "outputs": [
    {
     "data": {
      "text/plain": [
       "['мск московская сеть кальянных', 'мск московская сеть кальянных на шаболовке']"
      ]
     },
     "execution_count": 61,
     "metadata": {},
     "output_type": "execute_result"
    }
   ],
   "source": [
    "bad_name('мск московская сеть кальянных')"
   ]
  },
  {
   "cell_type": "code",
   "execution_count": 62,
   "metadata": {},
   "outputs": [
    {
     "data": {
      "text/plain": [
       "['азбука вкуса', 'ав дейли азбука вкуса']"
      ]
     },
     "execution_count": 62,
     "metadata": {},
     "output_type": "execute_result"
    }
   ],
   "source": [
    "bad_name('азбука вкуса')"
   ]
  },
  {
   "cell_type": "code",
   "execution_count": 63,
   "metadata": {},
   "outputs": [
    {
     "data": {
      "text/plain": [
       "['американ сити пицца цех по изготовлению пиццы', 'американ сити пицца']"
      ]
     },
     "execution_count": 63,
     "metadata": {},
     "output_type": "execute_result"
    }
   ],
   "source": [
    "bad_name('американ сити пицца')"
   ]
  },
  {
   "cell_type": "code",
   "execution_count": 64,
   "metadata": {},
   "outputs": [
    {
     "data": {
      "text/plain": [
       "['му му', 'быстрого питания му му']"
      ]
     },
     "execution_count": 64,
     "metadata": {},
     "output_type": "execute_result"
    }
   ],
   "source": [
    "bad_name('му му')"
   ]
  },
  {
   "cell_type": "code",
   "execution_count": 65,
   "metadata": {},
   "outputs": [
    {
     "data": {
      "text/plain": [
       "['бир хаус', 'бир хаус паб']"
      ]
     },
     "execution_count": 65,
     "metadata": {},
     "output_type": "execute_result"
    }
   ],
   "source": [
    "bad_name('бир хаус')"
   ]
  },
  {
   "cell_type": "code",
   "execution_count": 66,
   "metadata": {},
   "outputs": [
    {
     "data": {
      "text/plain": [
       "['wok',\n",
       " 'roll wok',\n",
       " 'wok box',\n",
       " 'бенто wok',\n",
       " 'wokker',\n",
       " 'sushiwok',\n",
       " 'каффе wokker',\n",
       " 'van wok',\n",
       " 'hard wok cafe',\n",
       " 'dreamwok',\n",
       " 'wok бургер',\n",
       " 'сеть магазинов wok',\n",
       " 'остро wok суши',\n",
       " 'сушиwok',\n",
       " 'high wok sushi',\n",
       " 'wok рис',\n",
       " 'vip wok buffet',\n",
       " 'sushinerowok',\n",
       " 'wokbox',\n",
       " 'woknroll',\n",
       " 'халасё wok and beer',\n",
       " 'остро wok',\n",
       " 'vanwok ванвок',\n",
       " 'van wok ванвок',\n",
       " 'пицца паоло и бенто wok',\n",
       " 'остроwok',\n",
       " 'maestro wok',\n",
       " 'wok и рис',\n",
       " 'пицца wokk',\n",
       " 'vanwok',\n",
       " 'hadwok']"
      ]
     },
     "execution_count": 66,
     "metadata": {},
     "output_type": "execute_result"
    }
   ],
   "source": [
    "bad_name('wok') # не заменяю, много разных"
   ]
  },
  {
   "cell_type": "code",
   "execution_count": 67,
   "metadata": {},
   "outputs": [],
   "source": [
    "# 2 перрые замены без уточнения, выделила в отдельную группу. \n",
    "# Можно по адресу, по карте узнать какое из них там на самом деле\n",
    "df['object_name'] = df['object_name'].replace('сабвей старбакс', 'Sабвей Sтарбакс')\n",
    "df['object_name'] = df['object_name'].replace('сабвей сушивок', 'Sабвей Sушивок')\n",
    "\n",
    "df['object_name'] = df['object_name'].replace('coffe', 'coffee')\n",
    "df['object_name'] = df['object_name'].replace('праймстар', 'прайм стар')\n",
    "df['object_name'] = df['object_name'].replace('старбакс', 'starbucks')\n",
    "df['object_name'] = df['object_name'].replace('сабвей', 'subway')"
   ]
  },
  {
   "cell_type": "code",
   "execution_count": 68,
   "metadata": {},
   "outputs": [],
   "source": [
    "list_change_name = ['kfc', 'мята lounge','starbucks', 'subway', 'прайм стар', \n",
    "                    'иль патио', 'братьев караваевых', 'кофе хаус', 'мск московская сеть кальянных', \n",
    "                   'маки маки','космик', 'азбука вкуса', 'американ сити пицца', 'му му', 'бир хаус']"
   ]
  },
  {
   "cell_type": "markdown",
   "metadata": {},
   "source": [
    "\n",
    "<div style=\"border:solid navy 2px; padding: 20px\">\n",
    "Заменяю названия из списка list_change_name\n",
    "</div>\n",
    "\n"
   ]
  },
  {
   "cell_type": "code",
   "execution_count": 69,
   "metadata": {},
   "outputs": [],
   "source": [
    "def change_name(row):\n",
    "    for i in range(len(list_change_name)):\n",
    "        if list_change_name[i] in row:\n",
    "            row = list_change_name[i]\n",
    "    return (row)"
   ]
  },
  {
   "cell_type": "code",
   "execution_count": 70,
   "metadata": {},
   "outputs": [],
   "source": [
    "df['object_name'] = df['object_name'].apply(change_name)"
   ]
  },
  {
   "cell_type": "markdown",
   "metadata": {},
   "source": [
    "\n",
    "<div style=\"border:solid navy 2px; padding: 20px\">\n",
    "Выбираем сетевые заведения\n",
    "</div>\n",
    "\n"
   ]
  },
  {
   "cell_type": "code",
   "execution_count": 71,
   "metadata": {},
   "outputs": [],
   "source": [
    "df_chain = df[df['chain']==True]"
   ]
  },
  {
   "cell_type": "code",
   "execution_count": 72,
   "metadata": {},
   "outputs": [],
   "source": [
    "df_chain = df_chain.groupby(['object_name','object_type']).agg({'id':'count', \n",
    "                                                    'number':'sum'}).reset_index()"
   ]
  },
  {
   "cell_type": "code",
   "execution_count": 73,
   "metadata": {},
   "outputs": [
    {
     "data": {
      "text/plain": [
       "array(['Sабвей Sтарбакс', 'Sабвей Sушивок', 'beverly hills diner',\n",
       "       'bierloga', 'black white', 'bocconcino', 'boobo', 'bubbleology',\n",
       "       'burger club', 'coffeeshop', 'coffeeshop company', 'cofix',\n",
       "       'cookhouse', 'correas', 'costa coffee', 'deli by prime прайм кафе',\n",
       "       'dunkin donuts', 'f lounge', 'florentini', 'fridays',\n",
       "       'glowsubs sandwiches', 'goodman гудман', 'grand cru', 'grand урюк',\n",
       "       'healthy food', 'il forno иль форно', 'jeffreys coffee', 'kfc',\n",
       "       'krispy creme', 'krispy krem', 'lavkalavka', 'luciano',\n",
       "       'm cafe хинкальная', 'maki maki', 'marmalato',\n",
       "       'marrakesh хинкальная', 'moskalyan', 'movenpick', 'my box',\n",
       "       'osteria mario', 'panda express', 'paul поль', 'pizengof99 спб',\n",
       "       'starbucks', 'starlite diner', 'subway', 'sushilka', 'tajj mahal',\n",
       "       'tgi fridays', 'the terrace', 'tokyo bay',\n",
       "       'torro grill торро гриль', 'travelers coffe', 'travelers coffee',\n",
       "       'tutti frutti', 'tutti frutti frozen yogurt', 'upside down',\n",
       "       'upside down cake', 'van wok ванвок', 'vanwok ванвок',\n",
       "       'vietcafe вьеткафе', 'white rabbite белый кролик', 'wok',\n",
       "       'wok box', 'wokker', 'yogurt frenzy', 'азбука вкуса', 'академия',\n",
       "       'алло пицца', 'алло пицца 2', 'американ сити пицца', 'андерсон',\n",
       "       'ариана', 'бабай клаб', 'бакинский бульвар', 'бар буфет николай',\n",
       "       'баракат', 'барашка', 'барбарис', 'барбекю', 'баскин роббинс',\n",
       "       'баскин роббинс стардогс', 'бенто wok', 'билла', 'бир хаус',\n",
       "       'бистро пронто', 'блинная', 'бодрый день кофе с собой',\n",
       "       'ботик петра', 'брава коста кофе', 'братьев караваевых',\n",
       "       'братья караваевы', 'братья караваевых', 'брудер', 'брусника',\n",
       "       'бургер кинг', 'бургер кинг burger king', 'бургер клаб',\n",
       "       'бутчер бизон', 'быстрого питания крошка картошка',\n",
       "       'вlack burger чайхона 1', 'ваби саби', 'ванвок', 'вареничная 1',\n",
       "       'васаби', 'вв бургер', 'вгости урюк', 'венеция', 'виват пицца',\n",
       "       'виктория', 'вкусняшка', 'вок', 'воккер', 'волконский',\n",
       "       'волконский пекарня', 'восточный базар', 'вьеткафе',\n",
       "       'газпромнефтьцентр', 'гамбринус', 'ганс и марта', 'генацвали',\n",
       "       'гино но таки', 'городские автокофейни', 'готика',\n",
       "       'готовые блюда милти', 'грабли', 'граци рагацци зю кафе',\n",
       "       'грузинская кухня эzо хинкальная', 'грузинские каникулы барбарис',\n",
       "       'гудман', 'гудман гудвин', 'гурман', 'гурмания', 'да пино',\n",
       "       'да пино da pino', 'дабл би', 'дабл би блэк', 'данкин донатс',\n",
       "       'две палочки', 'де марко', 'детский клуб андерсон', 'джаганнат',\n",
       "       'джардино да пино', 'джон джоли', 'добрынинский и партнёры',\n",
       "       'додо пицца', 'домашнее сеть городских кафе', 'доминос пицца',\n",
       "       'доминос пицца dominos pizza', 'донателло', 'дорогая я перезвоню',\n",
       "       'дюшес', 'елки палки', 'жан жак', 'зодиак', 'золотая вобла',\n",
       "       'зю кафе', 'и кондитерская андерсон', 'изба', 'икеа ikea',\n",
       "       'икура паб', 'иль патио', 'иль форно', 'илья муромец',\n",
       "       'ирландский паб', 'ичибан боши', 'кактус', 'кальян moskalyan',\n",
       "       'каро', 'кафе бургер кинг', 'каффе wokker', 'квартира 44',\n",
       "       'кебаб хаус', 'козловица', 'колбасофф',\n",
       "       'кондитерия тирольские пироги', 'кондитерская волконский',\n",
       "       'корчма тарас бульба', 'космик', 'коста кофе', 'кофе', 'кофе бин',\n",
       "       'кофе с собой', 'кофе с собой gate 42', 'кофе с собой кофейня',\n",
       "       'кофе тун', 'кофе хаус', 'кофемания', 'кофемания бармалини',\n",
       "       'кофепорт', 'кофетун', 'кофешоп coffeeshop company',\n",
       "       'крепери де пари', 'крошка картошка', 'кружка', 'кулинарное бюро',\n",
       "       'кулинарное бюро kitchen', 'кулинарное бюро китчен', 'лепешка',\n",
       "       'лето', 'ливан хаус', 'лукойл', 'лукойл центрнефтьпродукт',\n",
       "       'магазин кулинария сет', 'магбургер', 'магбургер азс 16',\n",
       "       'магбургер азс 17', 'магнолия', 'макдоналдс', 'маки маки',\n",
       "       'макс бреннер', 'марукамэ', 'марчеллис', 'меленка', 'менза',\n",
       "       'метро кк', 'ми пьяче', 'милано пицца', 'милти', 'мимино',\n",
       "       'мимино хинкальная', 'мираторг', 'мистер картошка', 'молли гвинз',\n",
       "       'мороженного tutti frutti', 'москва макдоналдс',\n",
       "       'мск московская сеть кальянных', 'му му', 'мюнгер', 'мясоroob',\n",
       "       'мята', 'мята lounge', 'николай', 'нияма', 'нияма пицца пи',\n",
       "       'ньокки', 'обжорный ряд', 'оникс', 'паб кружка', 'павлин мавлин',\n",
       "       'павлин мавлин чайхона 1', 'панчо пицца', 'папа джонс',\n",
       "       'папа джонс пицца', 'перекресток', 'песто и митлес', 'пивко',\n",
       "       'пикколо', 'пилзнер', 'пиппони', 'пироги штолле',\n",
       "       'пироговая штолле', 'пиу дель чибо', 'пицерия папа джонс',\n",
       "       'пицца pomodoro', 'пицца pomodoro и дзен', 'пицца паоло',\n",
       "       'пицца паоло и бенто wok', 'пицца пипони', 'пицца фабрика',\n",
       "       'пицца хат', 'пицца экспресс', 'пиццетория', 'планета суши',\n",
       "       'поль бейкери', 'помидор', 'пончиковое икеа ikea',\n",
       "       'порто мальтезе', 'правdа кофе', 'пражечка', 'прайм', 'прайм кафе',\n",
       "       'прайм стар', 'при азс', 'при азс bp', 'при азс газпромнефть',\n",
       "       'при азс лукойл', 'примавера', 'пронто', 'простые вещи',\n",
       "       'ресторанвьеткафе', 'ресторанмакдоналдс', 'рецептор', 'роллофф',\n",
       "       'роснефть', 'руккола', 'сбарро', 'сварня', 'сет',\n",
       "       'сеть магазинов wok', 'сим сим', 'сити', 'сити пицца', 'сказка',\n",
       "       'советские времена', 'советские времена чебуречная ссср', 'спб',\n",
       "       'старбакс кофе', 'стардогs', 'стардогs и шаурма',\n",
       "       'стардогс стардогs', 'старина миллер',\n",
       "       'старина мюллер старина миллер', 'стейк хаус гудман', 'сувлаки',\n",
       "       'суп кафе', 'сушиман', 'сушишоп', 'сытая утка', 'тайм авеню',\n",
       "       'тамаси суши', 'тануки', 'тапчан', 'ташир пицца', 'темпл бар',\n",
       "       'теремок', 'теремок инвест', 'территория',\n",
       "       'территория timbigfamily', 'территория ясенево',\n",
       "       'тирольские пироги', 'то да сё', 'торнадо', 'торро гриль',\n",
       "       'тратория semplice', 'траттория примавера', 'тун',\n",
       "       'тун хруст pizza кофе тун', 'урожай', 'урюк', 'урюк вавилова',\n",
       "       'урюк хивинская чайхона', 'фантоцци рус', 'фитнес world class',\n",
       "       'французская выпечка', 'хачапури', 'хачапури одесса мама',\n",
       "       'хижина', 'хинкальная', 'хинкальная 1', 'хинкальная city',\n",
       "       'хинкальная кинто', 'хлеб насущный', 'хлебco', 'хлебница пекарня',\n",
       "       'цинандали хинкальная', 'чайхана тапчан', 'чайхана урюк',\n",
       "       'чайхона 1', 'чайхона 1 бутово', 'чебуречная ссср', 'чин чин',\n",
       "       'шантимель', 'шантимель кондитерские', 'шашлык машлык',\n",
       "       'шварцвальд', 'шоколад', 'шоколадница', 'шоколадница кофемания',\n",
       "       'штирбирлиц', 'штолле', 'энд бургерс вв бургер', 'югос',\n",
       "       'якитория', 'якитория и спорт бар', 'якитория и ян примус',\n",
       "       'ямми микс', 'ян примус', 'япоша', 'ёрш'], dtype=object)"
      ]
     },
     "execution_count": 73,
     "metadata": {},
     "output_type": "execute_result"
    }
   ],
   "source": [
    "df_chain['object_name'].unique()"
   ]
  },
  {
   "cell_type": "markdown",
   "metadata": {},
   "source": [
    "\n",
    "<div style=\"border:solid navy 2px; padding: 20px\">\n",
    "На этом, я решила остановиться. \n",
    "   \n",
    "</div>\n",
    "\n"
   ]
  },
  {
   "cell_type": "code",
   "execution_count": 74,
   "metadata": {
    "scrolled": true
   },
   "outputs": [
    {
     "name": "stdout",
     "output_type": "stream",
     "text": [
      "Минимум - 1\n",
      "Максимум - 176\n",
      "Среднее - 5\n",
      "Медиана - 1\n"
     ]
    },
    {
     "data": {
      "image/png": "[encoded data removed]",
      "text/plain": [
       "<Figure size 432x288 with 1 Axes>"
      ]
     },
     "metadata": {
      "needs_background": "light"
     },
     "output_type": "display_data"
    }
   ],
   "source": [
    "draw_scatter(df_chain['id'], 'Количество заведении в сети (в базе)')"
   ]
  },
  {
   "cell_type": "code",
   "execution_count": 75,
   "metadata": {},
   "outputs": [
    {
     "name": "stdout",
     "output_type": "stream",
     "text": [
      "Количество сетей (в базе) -  591\n",
      "Количество заведений в сетях -  2968\n",
      "Количество заведений в сети по медиане, исключая сети с 1 объектом -  4.0\n"
     ]
    }
   ],
   "source": [
    "print('Количество сетей (в базе) - ', df_chain.shape[0])\n",
    "print('Количество заведений в сетях - ', df_chain['id'].sum())\n",
    "print('Количество заведений в сети по медиане, исключая сети с 1 объектом - ', df_chain[~(df_chain['id']==1)]['id'].median())\n"
   ]
  },
  {
   "cell_type": "code",
   "execution_count": 76,
   "metadata": {},
   "outputs": [
    {
     "name": "stdout",
     "output_type": "stream",
     "text": [
      "Количество строк в таблице - 327\n"
     ]
    },
    {
     "data": {
      "text/html": [
       "<div>\n",
       "<style scoped>\n",
       "    .dataframe tbody tr th:only-of-type {\n",
       "        vertical-align: middle;\n",
       "    }\n",
       "\n",
       "    .dataframe tbody tr th {\n",
       "        vertical-align: top;\n",
       "    }\n",
       "\n",
       "    .dataframe thead th {\n",
       "        text-align: right;\n",
       "    }\n",
       "</style>\n",
       "<table border=\"1\" class=\"dataframe\">\n",
       "  <thead>\n",
       "    <tr style=\"text-align: right;\">\n",
       "      <th></th>\n",
       "      <th>object_name</th>\n",
       "      <th>object_type</th>\n",
       "      <th>id</th>\n",
       "      <th>number</th>\n",
       "    </tr>\n",
       "  </thead>\n",
       "  <tbody>\n",
       "    <tr>\n",
       "      <th>1</th>\n",
       "      <td>Sабвей Sушивок</td>\n",
       "      <td>кафе</td>\n",
       "      <td>1</td>\n",
       "      <td>24.0</td>\n",
       "    </tr>\n",
       "    <tr>\n",
       "      <th>2</th>\n",
       "      <td>beverly hills diner</td>\n",
       "      <td>ресторан</td>\n",
       "      <td>1</td>\n",
       "      <td>88.0</td>\n",
       "    </tr>\n",
       "    <tr>\n",
       "      <th>3</th>\n",
       "      <td>bierloga</td>\n",
       "      <td>кафе</td>\n",
       "      <td>1</td>\n",
       "      <td>75.0</td>\n",
       "    </tr>\n",
       "    <tr>\n",
       "      <th>4</th>\n",
       "      <td>black white</td>\n",
       "      <td>кафе</td>\n",
       "      <td>1</td>\n",
       "      <td>40.0</td>\n",
       "    </tr>\n",
       "    <tr>\n",
       "      <th>5</th>\n",
       "      <td>bocconcino</td>\n",
       "      <td>кафе</td>\n",
       "      <td>1</td>\n",
       "      <td>36.0</td>\n",
       "    </tr>\n",
       "  </tbody>\n",
       "</table>\n",
       "</div>"
      ],
      "text/plain": [
       "           object_name object_type  id  number\n",
       "1       Sабвей Sушивок        кафе   1    24.0\n",
       "2  beverly hills diner    ресторан   1    88.0\n",
       "3             bierloga        кафе   1    75.0\n",
       "4          black white        кафе   1    40.0\n",
       "5           bocconcino        кафе   1    36.0"
      ]
     },
     "execution_count": 76,
     "metadata": {},
     "output_type": "execute_result"
    }
   ],
   "source": [
    "print('Количество строк в таблице -',df_chain[df_chain['id']==1].shape[0])\n",
    "df_chain[df_chain['id']==1].head()"
   ]
  },
  {
   "cell_type": "code",
   "execution_count": 77,
   "metadata": {
    "scrolled": true
   },
   "outputs": [
    {
     "data": {
      "text/html": [
       "<div>\n",
       "<style scoped>\n",
       "    .dataframe tbody tr th:only-of-type {\n",
       "        vertical-align: middle;\n",
       "    }\n",
       "\n",
       "    .dataframe tbody tr th {\n",
       "        vertical-align: top;\n",
       "    }\n",
       "\n",
       "    .dataframe thead th {\n",
       "        text-align: right;\n",
       "    }\n",
       "</style>\n",
       "<table border=\"1\" class=\"dataframe\">\n",
       "  <thead>\n",
       "    <tr style=\"text-align: right;\">\n",
       "      <th></th>\n",
       "      <th>index</th>\n",
       "      <th>object_name</th>\n",
       "      <th>object_type</th>\n",
       "      <th>id</th>\n",
       "      <th>number</th>\n",
       "    </tr>\n",
       "  </thead>\n",
       "  <tbody>\n",
       "    <tr>\n",
       "      <th>0</th>\n",
       "      <td>570</td>\n",
       "      <td>шоколадница</td>\n",
       "      <td>кафе</td>\n",
       "      <td>176</td>\n",
       "      <td>10050.0</td>\n",
       "    </tr>\n",
       "    <tr>\n",
       "      <th>1</th>\n",
       "      <td>41</td>\n",
       "      <td>kfc</td>\n",
       "      <td>предприятие быстрого обслуживания</td>\n",
       "      <td>122</td>\n",
       "      <td>7254.0</td>\n",
       "    </tr>\n",
       "    <tr>\n",
       "      <th>2</th>\n",
       "      <td>330</td>\n",
       "      <td>макдоналдс</td>\n",
       "      <td>предприятие быстрого обслуживания</td>\n",
       "      <td>116</td>\n",
       "      <td>10588.0</td>\n",
       "    </tr>\n",
       "    <tr>\n",
       "      <th>3</th>\n",
       "      <td>152</td>\n",
       "      <td>бургер кинг</td>\n",
       "      <td>предприятие быстрого обслуживания</td>\n",
       "      <td>106</td>\n",
       "      <td>4951.0</td>\n",
       "    </tr>\n",
       "    <tr>\n",
       "      <th>4</th>\n",
       "      <td>506</td>\n",
       "      <td>теремок</td>\n",
       "      <td>предприятие быстрого обслуживания</td>\n",
       "      <td>66</td>\n",
       "      <td>1899.0</td>\n",
       "    </tr>\n",
       "    <tr>\n",
       "      <th>5</th>\n",
       "      <td>305</td>\n",
       "      <td>крошка картошка</td>\n",
       "      <td>предприятие быстрого обслуживания</td>\n",
       "      <td>63</td>\n",
       "      <td>1438.0</td>\n",
       "    </tr>\n",
       "    <tr>\n",
       "      <th>6</th>\n",
       "      <td>64</td>\n",
       "      <td>starbucks</td>\n",
       "      <td>кафе</td>\n",
       "      <td>56</td>\n",
       "      <td>2354.0</td>\n",
       "    </tr>\n",
       "    <tr>\n",
       "      <th>7</th>\n",
       "      <td>232</td>\n",
       "      <td>доминос пицца</td>\n",
       "      <td>кафе</td>\n",
       "      <td>56</td>\n",
       "      <td>970.0</td>\n",
       "    </tr>\n",
       "    <tr>\n",
       "      <th>8</th>\n",
       "      <td>496</td>\n",
       "      <td>тануки</td>\n",
       "      <td>ресторан</td>\n",
       "      <td>44</td>\n",
       "      <td>4983.0</td>\n",
       "    </tr>\n",
       "    <tr>\n",
       "      <th>9</th>\n",
       "      <td>290</td>\n",
       "      <td>кофе хаус</td>\n",
       "      <td>кафе</td>\n",
       "      <td>43</td>\n",
       "      <td>2582.0</td>\n",
       "    </tr>\n",
       "  </tbody>\n",
       "</table>\n",
       "</div>"
      ],
      "text/plain": [
       "   index      object_name                        object_type   id   number\n",
       "0    570      шоколадница                               кафе  176  10050.0\n",
       "1     41              kfc  предприятие быстрого обслуживания  122   7254.0\n",
       "2    330       макдоналдс  предприятие быстрого обслуживания  116  10588.0\n",
       "3    152      бургер кинг  предприятие быстрого обслуживания  106   4951.0\n",
       "4    506          теремок  предприятие быстрого обслуживания   66   1899.0\n",
       "5    305  крошка картошка  предприятие быстрого обслуживания   63   1438.0\n",
       "6     64        starbucks                               кафе   56   2354.0\n",
       "7    232    доминос пицца                               кафе   56    970.0\n",
       "8    496           тануки                           ресторан   44   4983.0\n",
       "9    290        кофе хаус                               кафе   43   2582.0"
      ]
     },
     "execution_count": 77,
     "metadata": {},
     "output_type": "execute_result"
    }
   ],
   "source": [
    "table = df_chain.sort_values(by='id', ascending=False).reset_index().head(10)\n",
    "table"
   ]
  },
  {
   "cell_type": "code",
   "execution_count": 78,
   "metadata": {
    "scrolled": true
   },
   "outputs": [
    {
     "data": {
      "image/png": "[encoded data removed]",
      "text/plain": [
       "<Figure size 720x504 with 1 Axes>"
      ]
     },
     "metadata": {
      "needs_background": "light"
     },
     "output_type": "display_data"
    }
   ],
   "source": [
    "draw_bar(table, 'object_name', 'id', \n",
    "         'Количество заведенийв сети', 'Название объекта', 'Количество заведений')"
   ]
  },
  {
   "cell_type": "markdown",
   "metadata": {},
   "source": [
    "\n",
    "<div style=\"border:solid navy 2px; padding: 20px\">\n",
    "Сеть состоящая из одного ресторана - не сеть. 322 сети представлены в базе 1 заведением. Исключаю их\n",
    "Много заведений в сети для Москвы - это больше 5, в немиллионнике это могло быть 2. Мало - меньше 5.\n",
    "</div>\n",
    "\n"
   ]
  },
  {
   "cell_type": "code",
   "execution_count": 79,
   "metadata": {},
   "outputs": [
    {
     "name": "stdout",
     "output_type": "stream",
     "text": [
      "Количество сетей с 5 и более заведений -  112\n"
     ]
    }
   ],
   "source": [
    "chain_many = df_chain[df_chain['id']>4]\n",
    "print('Количество сетей с 5 и более заведений - ', chain_many.shape[0])\n",
    "chain = {}\n",
    "chain['many']=chain_many.shape[0]"
   ]
  },
  {
   "cell_type": "code",
   "execution_count": 80,
   "metadata": {},
   "outputs": [
    {
     "name": "stdout",
     "output_type": "stream",
     "text": [
      "Количество сетей с 2 - 4 заведениями -  152\n"
     ]
    }
   ],
   "source": [
    "chain_few = df_chain[(df_chain['id']>1) & (df_chain['id']<=4)]\n",
    "\n",
    "print('Количество сетей с 2 - 4 заведениями - ', chain_few.shape[0])\n",
    "chain['few'] = chain_few.shape[0]"
   ]
  },
  {
   "cell_type": "code",
   "execution_count": 81,
   "metadata": {},
   "outputs": [
    {
     "data": {
      "text/plain": [
       "many    112\n",
       "few     152\n",
       "dtype: int64"
      ]
     },
     "execution_count": 81,
     "metadata": {},
     "output_type": "execute_result"
    }
   ],
   "source": [
    "chain= pd.Series(chain)\n",
    "chain"
   ]
  },
  {
   "cell_type": "code",
   "execution_count": 82,
   "metadata": {},
   "outputs": [
    {
     "data": {
      "image/png": "[encoded data removed]",
      "text/plain": [
       "<Figure size 1152x576 with 1 Axes>"
      ]
     },
     "metadata": {},
     "output_type": "display_data"
    }
   ],
   "source": [
    "fig, ax = plt.subplots(subplot_kw=dict(aspect=\"equal\"), figsize=(16,8))\n",
    "\n",
    "wedges = ax.pie(chain, autopct='%1.1f%%')\n",
    "\n",
    "ax.set_title(\"Соотношение сетевых заведений с малым и большим количеством точек\")\n",
    "ax.legend(['более 4 точек', '2-4 точки'])\n",
    "\n",
    "plt.show()"
   ]
  },
  {
   "cell_type": "code",
   "execution_count": 83,
   "metadata": {},
   "outputs": [
    {
     "name": "stderr",
     "output_type": "stream",
     "text": [
      "/Users/Alexander/anaconda3/lib/python3.7/site-packages/ipykernel_launcher.py:1: SettingWithCopyWarning:\n",
      "\n",
      "\n",
      "A value is trying to be set on a copy of a slice from a DataFrame.\n",
      "Try using .loc[row_indexer,col_indexer] = value instead\n",
      "\n",
      "See the caveats in the documentation: http://pandas.pydata.org/pandas-docs/stable/indexing.html#indexing-view-versus-copy\n",
      "\n"
     ]
    },
    {
     "name": "stdout",
     "output_type": "stream",
     "text": [
      "Среднее количество посадочных мест в крупных сетях (median) - 33.47\n",
      "Минимум - 0\n",
      "Максимум - 166\n",
      "Среднее - 49\n",
      "Медиана - 33\n"
     ]
    },
    {
     "data": {
      "image/png": "[encoded data removed]",
      "text/plain": [
       "<Figure size 432x288 with 1 Axes>"
      ]
     },
     "metadata": {
      "needs_background": "light"
     },
     "output_type": "display_data"
    }
   ],
   "source": [
    "chain_many['number_mean'] = chain_many['number'] / chain_many['id']\n",
    "\n",
    "print('Среднее количество посадочных мест в крупных сетях (median) - {:.2f}'.format(chain_many['number_mean'].median()))\n",
    "\n",
    "draw_scatter(chain_many['number_mean'], 'Количество посадочных мест в заведениях крупных сетей')"
   ]
  },
  {
   "cell_type": "code",
   "execution_count": 84,
   "metadata": {},
   "outputs": [
    {
     "name": "stderr",
     "output_type": "stream",
     "text": [
      "/Users/Alexander/anaconda3/lib/python3.7/site-packages/ipykernel_launcher.py:1: SettingWithCopyWarning:\n",
      "\n",
      "\n",
      "A value is trying to be set on a copy of a slice from a DataFrame.\n",
      "Try using .loc[row_indexer,col_indexer] = value instead\n",
      "\n",
      "See the caveats in the documentation: http://pandas.pydata.org/pandas-docs/stable/indexing.html#indexing-view-versus-copy\n",
      "\n"
     ]
    },
    {
     "name": "stdout",
     "output_type": "stream",
     "text": [
      "Среднее количество посадочных мест в малообъектных сетях (median) - 39.83\n",
      "Минимум - 0\n",
      "Максимум - 217\n",
      "Среднее - 56\n",
      "Медиана - 40\n"
     ]
    },
    {
     "data": {
      "image/png": "[encoded data removed]",
      "text/plain": [
       "<Figure size 432x288 with 1 Axes>"
      ]
     },
     "metadata": {
      "needs_background": "light"
     },
     "output_type": "display_data"
    }
   ],
   "source": [
    "chain_few['number_mean'] = chain_few['number'] / chain_few['id']\n",
    "\n",
    "print('Среднее количество посадочных мест в малообъектных сетях (median) - {:.2f}'.format(chain_few['number_mean'].median()))\n",
    "\n",
    "draw_scatter(chain_few['number_mean'], 'Количество посадочных мест в заведениях крупных сетей')"
   ]
  },
  {
   "cell_type": "code",
   "execution_count": 85,
   "metadata": {},
   "outputs": [
    {
     "name": "stdout",
     "output_type": "stream",
     "text": [
      "Количество строк в таблице - 112\n"
     ]
    },
    {
     "data": {
      "text/html": [
       "<div>\n",
       "<style scoped>\n",
       "    .dataframe tbody tr th:only-of-type {\n",
       "        vertical-align: middle;\n",
       "    }\n",
       "\n",
       "    .dataframe tbody tr th {\n",
       "        vertical-align: top;\n",
       "    }\n",
       "\n",
       "    .dataframe thead th {\n",
       "        text-align: right;\n",
       "    }\n",
       "</style>\n",
       "<table border=\"1\" class=\"dataframe\">\n",
       "  <thead>\n",
       "    <tr style=\"text-align: right;\">\n",
       "      <th></th>\n",
       "      <th>object_name</th>\n",
       "      <th>object_type</th>\n",
       "      <th>id</th>\n",
       "      <th>number</th>\n",
       "      <th>number_mean</th>\n",
       "    </tr>\n",
       "  </thead>\n",
       "  <tbody>\n",
       "    <tr>\n",
       "      <th>16</th>\n",
       "      <td>cofix</td>\n",
       "      <td>кафе</td>\n",
       "      <td>12</td>\n",
       "      <td>220.0</td>\n",
       "      <td>18.333333</td>\n",
       "    </tr>\n",
       "    <tr>\n",
       "      <th>17</th>\n",
       "      <td>cofix</td>\n",
       "      <td>кафетерий</td>\n",
       "      <td>9</td>\n",
       "      <td>92.0</td>\n",
       "      <td>10.222222</td>\n",
       "    </tr>\n",
       "    <tr>\n",
       "      <th>22</th>\n",
       "      <td>costa coffee</td>\n",
       "      <td>кафе</td>\n",
       "      <td>7</td>\n",
       "      <td>181.0</td>\n",
       "      <td>25.857143</td>\n",
       "    </tr>\n",
       "    <tr>\n",
       "      <th>25</th>\n",
       "      <td>dunkin donuts</td>\n",
       "      <td>кафе</td>\n",
       "      <td>5</td>\n",
       "      <td>104.0</td>\n",
       "      <td>20.800000</td>\n",
       "    </tr>\n",
       "    <tr>\n",
       "      <th>40</th>\n",
       "      <td>kfc</td>\n",
       "      <td>кафе</td>\n",
       "      <td>31</td>\n",
       "      <td>1332.0</td>\n",
       "      <td>42.967742</td>\n",
       "    </tr>\n",
       "  </tbody>\n",
       "</table>\n",
       "</div>"
      ],
      "text/plain": [
       "      object_name object_type  id  number  number_mean\n",
       "16          cofix        кафе  12   220.0    18.333333\n",
       "17          cofix   кафетерий   9    92.0    10.222222\n",
       "22   costa coffee        кафе   7   181.0    25.857143\n",
       "25  dunkin donuts        кафе   5   104.0    20.800000\n",
       "40            kfc        кафе  31  1332.0    42.967742"
      ]
     },
     "execution_count": 85,
     "metadata": {},
     "output_type": "execute_result"
    }
   ],
   "source": [
    "print('Количество строк в таблице -',chain_many.shape[0])\n",
    "chain_many.head()"
   ]
  },
  {
   "cell_type": "code",
   "execution_count": 86,
   "metadata": {},
   "outputs": [
    {
     "name": "stderr",
     "output_type": "stream",
     "text": [
      "/Users/Alexander/anaconda3/lib/python3.7/site-packages/ipykernel_launcher.py:1: SettingWithCopyWarning:\n",
      "\n",
      "\n",
      "A value is trying to be set on a copy of a slice from a DataFrame.\n",
      "Try using .loc[row_indexer,col_indexer] = value instead\n",
      "\n",
      "See the caveats in the documentation: http://pandas.pydata.org/pandas-docs/stable/indexing.html#indexing-view-versus-copy\n",
      "\n",
      "/Users/Alexander/anaconda3/lib/python3.7/site-packages/ipykernel_launcher.py:2: SettingWithCopyWarning:\n",
      "\n",
      "\n",
      "A value is trying to be set on a copy of a slice from a DataFrame.\n",
      "Try using .loc[row_indexer,col_indexer] = value instead\n",
      "\n",
      "See the caveats in the documentation: http://pandas.pydata.org/pandas-docs/stable/indexing.html#indexing-view-versus-copy\n",
      "\n"
     ]
    }
   ],
   "source": [
    "chain_many['group'] = 'many'\n",
    "chain_few['group'] = 'few'"
   ]
  },
  {
   "cell_type": "code",
   "execution_count": 87,
   "metadata": {},
   "outputs": [
    {
     "name": "stdout",
     "output_type": "stream",
     "text": [
      "Количество строк в таблице - 264\n"
     ]
    },
    {
     "data": {
      "text/html": [
       "<div>\n",
       "<style scoped>\n",
       "    .dataframe tbody tr th:only-of-type {\n",
       "        vertical-align: middle;\n",
       "    }\n",
       "\n",
       "    .dataframe tbody tr th {\n",
       "        vertical-align: top;\n",
       "    }\n",
       "\n",
       "    .dataframe thead th {\n",
       "        text-align: right;\n",
       "    }\n",
       "</style>\n",
       "<table border=\"1\" class=\"dataframe\">\n",
       "  <thead>\n",
       "    <tr style=\"text-align: right;\">\n",
       "      <th></th>\n",
       "      <th>object_name</th>\n",
       "      <th>object_type</th>\n",
       "      <th>id</th>\n",
       "      <th>number</th>\n",
       "      <th>number_mean</th>\n",
       "      <th>group</th>\n",
       "    </tr>\n",
       "  </thead>\n",
       "  <tbody>\n",
       "    <tr>\n",
       "      <th>16</th>\n",
       "      <td>cofix</td>\n",
       "      <td>кафе</td>\n",
       "      <td>12</td>\n",
       "      <td>220.0</td>\n",
       "      <td>18.333333</td>\n",
       "      <td>many</td>\n",
       "    </tr>\n",
       "    <tr>\n",
       "      <th>17</th>\n",
       "      <td>cofix</td>\n",
       "      <td>кафетерий</td>\n",
       "      <td>9</td>\n",
       "      <td>92.0</td>\n",
       "      <td>10.222222</td>\n",
       "      <td>many</td>\n",
       "    </tr>\n",
       "    <tr>\n",
       "      <th>22</th>\n",
       "      <td>costa coffee</td>\n",
       "      <td>кафе</td>\n",
       "      <td>7</td>\n",
       "      <td>181.0</td>\n",
       "      <td>25.857143</td>\n",
       "      <td>many</td>\n",
       "    </tr>\n",
       "    <tr>\n",
       "      <th>25</th>\n",
       "      <td>dunkin donuts</td>\n",
       "      <td>кафе</td>\n",
       "      <td>5</td>\n",
       "      <td>104.0</td>\n",
       "      <td>20.800000</td>\n",
       "      <td>many</td>\n",
       "    </tr>\n",
       "    <tr>\n",
       "      <th>40</th>\n",
       "      <td>kfc</td>\n",
       "      <td>кафе</td>\n",
       "      <td>31</td>\n",
       "      <td>1332.0</td>\n",
       "      <td>42.967742</td>\n",
       "      <td>many</td>\n",
       "    </tr>\n",
       "  </tbody>\n",
       "</table>\n",
       "</div>"
      ],
      "text/plain": [
       "      object_name object_type  id  number  number_mean group\n",
       "16          cofix        кафе  12   220.0    18.333333  many\n",
       "17          cofix   кафетерий   9    92.0    10.222222  many\n",
       "22   costa coffee        кафе   7   181.0    25.857143  many\n",
       "25  dunkin donuts        кафе   5   104.0    20.800000  many\n",
       "40            kfc        кафе  31  1332.0    42.967742  many"
      ]
     },
     "execution_count": 87,
     "metadata": {},
     "output_type": "execute_result"
    }
   ],
   "source": [
    "df4=pd.concat([chain_many, chain_few])\n",
    "print('Количество строк в таблице -',df4.shape[0])\n",
    "df4.head()"
   ]
  },
  {
   "cell_type": "code",
   "execution_count": 88,
   "metadata": {},
   "outputs": [
    {
     "data": {
      "image/png": "[encoded data removed]",
      "text/plain": [
       "<Figure size 432x288 with 1 Axes>"
      ]
     },
     "metadata": {
      "needs_background": "light"
     },
     "output_type": "display_data"
    }
   ],
   "source": [
    "draw_boxplot(df4[\"group\"], df4[\"number_mean\"], 'Среднее количество посадочных мест в группах')"
   ]
  },
  {
   "cell_type": "markdown",
   "metadata": {},
   "source": [
    "\n",
    "<div style=\"border:solid navy 2px; padding: 20px\">\n",
    "Н0: Среднее количество посадочных мест в выборках совпадает.\n",
    "    \n",
    "Н1: Среднее количество посадочных мест в выборках отличается.\n",
    "</div>\n",
    "\n"
   ]
  },
  {
   "cell_type": "code",
   "execution_count": 89,
   "metadata": {},
   "outputs": [
    {
     "name": "stdout",
     "output_type": "stream",
     "text": [
      "p-значение:  4.6539277986923366e-10\n",
      "Отвергаем нулевую гипотезу: распределение не нормально\n"
     ]
    }
   ],
   "source": [
    "alpha = .05 # критический уровень статистической значимости\n",
    "\n",
    "results = st.shapiro(chain_few['number_mean'])\n",
    "p_value = results[1] # второе значение в массиве результатов (с индексом 1) - p-value\n",
    "\n",
    "print('p-значение: ', p_value)\n",
    "\n",
    "if (p_value < alpha):\n",
    "    print(\"Отвергаем нулевую гипотезу: распределение не нормально\")\n",
    "else:\n",
    "    print(\"Не получилось отвергнуть нулевую гипотезу, всё нормально\")"
   ]
  },
  {
   "cell_type": "code",
   "execution_count": 90,
   "metadata": {},
   "outputs": [
    {
     "name": "stdout",
     "output_type": "stream",
     "text": [
      "p-значение:  3.234180567801559e-08\n",
      "Отвергаем нулевую гипотезу: распределение не нормально\n"
     ]
    }
   ],
   "source": [
    "results = st.shapiro(chain_many['number_mean'])\n",
    "p_value = results[1] # второе значение в массиве результатов (с индексом 1) - p-value\n",
    "\n",
    "print('p-значение: ', p_value)\n",
    "\n",
    "if (p_value < alpha):\n",
    "    print(\"Отвергаем нулевую гипотезу: распределение не нормально\")\n",
    "else:\n",
    "    print(\"Не получилось отвергнуть нулевую гипотезу, всё нормально\")"
   ]
  },
  {
   "cell_type": "code",
   "execution_count": 91,
   "metadata": {},
   "outputs": [
    {
     "name": "stdout",
     "output_type": "stream",
     "text": [
      "p-значение:  0.23649394500763787\n",
      "Не получилось отвергнуть нулевую гипотезу, вывод о различии сделать нельзя\n"
     ]
    }
   ],
   "source": [
    "alpha = .05 # критический уровень статистической значимости\n",
    "\n",
    "results = st.mannwhitneyu(chain_few['number_mean'], chain_many['number_mean'])\n",
    "\n",
    "print('p-значение: ', results.pvalue)\n",
    "\n",
    "if (results.pvalue < alpha):\n",
    "    print(\"Отвергаем нулевую гипотезу: разница статистически значима\")\n",
    "else:\n",
    "    print(\"Не получилось отвергнуть нулевую гипотезу, вывод о различии сделать нельзя\")"
   ]
  },
  {
   "cell_type": "markdown",
   "metadata": {},
   "source": [
    "\n",
    "<div style=\"border:solid navy 2px; padding: 20px\">\n",
    "Получаем, что для сетевых заведений наиболее характерно мало заведений.\n",
    "Но здесь нужно учесть, что не все проблемы с названиями сетей решены и остались неучтенные заведения в некоторых сетях.\n",
    "Количество посадочных в крупных и мелких сетях примерно одинаковое.\n",
    "\n",
    "</div>\n",
    "\n"
   ]
  },
  {
   "cell_type": "markdown",
   "metadata": {},
   "source": [
    "\n",
    "<div style=\"border:solid navy 2px; padding: 20px\">\n",
    "Для каждого вида объекта общественного питания опишите среднее количество посадочных мест. Какой вид предоставляет в среднем самое большое количество посадочных мест? Постройте графики.\n",
    "</div>\n",
    "\n"
   ]
  },
  {
   "cell_type": "code",
   "execution_count": 92,
   "metadata": {},
   "outputs": [
    {
     "data": {
      "text/html": [
       "<div>\n",
       "<style scoped>\n",
       "    .dataframe tbody tr th:only-of-type {\n",
       "        vertical-align: middle;\n",
       "    }\n",
       "\n",
       "    .dataframe tbody tr th {\n",
       "        vertical-align: top;\n",
       "    }\n",
       "\n",
       "    .dataframe thead th {\n",
       "        text-align: right;\n",
       "    }\n",
       "</style>\n",
       "<table border=\"1\" class=\"dataframe\">\n",
       "  <thead>\n",
       "    <tr style=\"text-align: right;\">\n",
       "      <th></th>\n",
       "      <th>object_type</th>\n",
       "      <th>number</th>\n",
       "    </tr>\n",
       "  </thead>\n",
       "  <tbody>\n",
       "    <tr>\n",
       "      <th>8</th>\n",
       "      <td>столовая</td>\n",
       "      <td>104.5</td>\n",
       "    </tr>\n",
       "    <tr>\n",
       "      <th>7</th>\n",
       "      <td>ресторан</td>\n",
       "      <td>80.0</td>\n",
       "    </tr>\n",
       "    <tr>\n",
       "      <th>0</th>\n",
       "      <td>бар</td>\n",
       "      <td>35.0</td>\n",
       "    </tr>\n",
       "    <tr>\n",
       "      <th>3</th>\n",
       "      <td>кафе</td>\n",
       "      <td>35.0</td>\n",
       "    </tr>\n",
       "    <tr>\n",
       "      <th>1</th>\n",
       "      <td>буфет</td>\n",
       "      <td>32.0</td>\n",
       "    </tr>\n",
       "    <tr>\n",
       "      <th>4</th>\n",
       "      <td>кафетерий</td>\n",
       "      <td>9.0</td>\n",
       "    </tr>\n",
       "    <tr>\n",
       "      <th>6</th>\n",
       "      <td>предприятие быстрого обслуживания</td>\n",
       "      <td>5.0</td>\n",
       "    </tr>\n",
       "    <tr>\n",
       "      <th>2</th>\n",
       "      <td>закусочная</td>\n",
       "      <td>0.0</td>\n",
       "    </tr>\n",
       "    <tr>\n",
       "      <th>5</th>\n",
       "      <td>магазин (отдел кулинарии)</td>\n",
       "      <td>0.0</td>\n",
       "    </tr>\n",
       "  </tbody>\n",
       "</table>\n",
       "</div>"
      ],
      "text/plain": [
       "                         object_type  number\n",
       "8                           столовая   104.5\n",
       "7                           ресторан    80.0\n",
       "0                                бар    35.0\n",
       "3                               кафе    35.0\n",
       "1                              буфет    32.0\n",
       "4                          кафетерий     9.0\n",
       "6  предприятие быстрого обслуживания     5.0\n",
       "2                         закусочная     0.0\n",
       "5          магазин (отдел кулинарии)     0.0"
      ]
     },
     "execution_count": 92,
     "metadata": {},
     "output_type": "execute_result"
    }
   ],
   "source": [
    "df_number = df.groupby('object_type')['number'].median().reset_index()\n",
    "df_number = df_number.sort_values('number', ascending=False)\n",
    "df_number"
   ]
  },
  {
   "cell_type": "code",
   "execution_count": 93,
   "metadata": {},
   "outputs": [
    {
     "data": {
      "image/png": "[encoded data removed]",
      "text/plain": [
       "<Figure size 432x288 with 1 Axes>"
      ]
     },
     "metadata": {
      "needs_background": "light"
     },
     "output_type": "display_data"
    }
   ],
   "source": [
    "draw_boxplot(df['object_type'], df['number'], 'Среднее количество посадочных мест')"
   ]
  },
  {
   "cell_type": "markdown",
   "metadata": {},
   "source": [
    "\n",
    "<div style=\"border:solid navy 2px; padding: 20px\">\n",
    "Выделите в отдельный столбец информацию об улице из столбца address .\n",
    "</div>\n",
    "\n"
   ]
  },
  {
   "cell_type": "markdown",
   "metadata": {},
   "source": [
    "\n",
    "<div style=\"border:solid navy 2px; padding: 20px\">\n",
    "Работа с API\n",
    "</div>\n",
    "\n"
   ]
  },
  {
   "cell_type": "markdown",
   "metadata": {},
   "source": [
    "\n",
    "<div style=\"border:solid navy 2px; padding: 20px\">\n",
    "Выделяем улицу и район\n",
    "</div>\n",
    "\n"
   ]
  },
  {
   "cell_type": "code",
   "execution_count": 94,
   "metadata": {},
   "outputs": [
    {
     "data": {
      "text/html": [
       "<div>\n",
       "<style scoped>\n",
       "    .dataframe tbody tr th:only-of-type {\n",
       "        vertical-align: middle;\n",
       "    }\n",
       "\n",
       "    .dataframe tbody tr th {\n",
       "        vertical-align: top;\n",
       "    }\n",
       "\n",
       "    .dataframe thead th {\n",
       "        text-align: right;\n",
       "    }\n",
       "</style>\n",
       "<table border=\"1\" class=\"dataframe\">\n",
       "  <thead>\n",
       "    <tr style=\"text-align: right;\">\n",
       "      <th></th>\n",
       "      <th>id</th>\n",
       "      <th>object_name</th>\n",
       "      <th>chain</th>\n",
       "      <th>object_type</th>\n",
       "      <th>address</th>\n",
       "      <th>number</th>\n",
       "    </tr>\n",
       "  </thead>\n",
       "  <tbody>\n",
       "    <tr>\n",
       "      <th>0</th>\n",
       "      <td>151635</td>\n",
       "      <td>сметана</td>\n",
       "      <td>False</td>\n",
       "      <td>кафе</td>\n",
       "      <td>город Москва, улица Егора Абакумова, дом 9</td>\n",
       "      <td>48.0</td>\n",
       "    </tr>\n",
       "    <tr>\n",
       "      <th>1</th>\n",
       "      <td>77874</td>\n",
       "      <td>родник</td>\n",
       "      <td>False</td>\n",
       "      <td>кафе</td>\n",
       "      <td>город Москва, улица Талалихина, дом 2/1, корпус 1</td>\n",
       "      <td>35.0</td>\n",
       "    </tr>\n",
       "    <tr>\n",
       "      <th>2</th>\n",
       "      <td>24309</td>\n",
       "      <td>академия</td>\n",
       "      <td>False</td>\n",
       "      <td>кафе</td>\n",
       "      <td>город Москва, Абельмановская улица, дом 6</td>\n",
       "      <td>95.0</td>\n",
       "    </tr>\n",
       "    <tr>\n",
       "      <th>3</th>\n",
       "      <td>21894</td>\n",
       "      <td>пиццетория</td>\n",
       "      <td>True</td>\n",
       "      <td>кафе</td>\n",
       "      <td>город Москва, Абрамцевская улица, дом 1</td>\n",
       "      <td>40.0</td>\n",
       "    </tr>\n",
       "    <tr>\n",
       "      <th>4</th>\n",
       "      <td>119365</td>\n",
       "      <td>вишневая метель</td>\n",
       "      <td>False</td>\n",
       "      <td>кафе</td>\n",
       "      <td>город Москва, Абрамцевская улица, дом 9, корпус 1</td>\n",
       "      <td>50.0</td>\n",
       "    </tr>\n",
       "  </tbody>\n",
       "</table>\n",
       "</div>"
      ],
      "text/plain": [
       "       id      object_name  chain object_type  \\\n",
       "0  151635          сметана  False        кафе   \n",
       "1   77874           родник  False        кафе   \n",
       "2   24309         академия  False        кафе   \n",
       "3   21894       пиццетория   True        кафе   \n",
       "4  119365  вишневая метель  False        кафе   \n",
       "\n",
       "                                             address  number  \n",
       "0         город Москва, улица Егора Абакумова, дом 9    48.0  \n",
       "1  город Москва, улица Талалихина, дом 2/1, корпус 1    35.0  \n",
       "2          город Москва, Абельмановская улица, дом 6    95.0  \n",
       "3            город Москва, Абрамцевская улица, дом 1    40.0  \n",
       "4  город Москва, Абрамцевская улица, дом 9, корпус 1    50.0  "
      ]
     },
     "execution_count": 94,
     "metadata": {},
     "output_type": "execute_result"
    }
   ],
   "source": [
    "df.head()"
   ]
  },
  {
   "cell_type": "markdown",
   "metadata": {},
   "source": [
    "\n",
    "<div style=\"border:solid navy 2px; padding: 20px\">\n",
    "  \n",
    "Следующая ячейка выполняется примеро 2 часа\n",
    "</div>\n",
    "\n"
   ]
  },
  {
   "cell_type": "code",
   "execution_count": null,
   "metadata": {},
   "outputs": [],
   "source": [
    " for i in range(df.shape[0]):\n",
    "    try:\n",
    "        BASE_URL = 'https://geocode-maps.yandex.ru/1.x/?format=json&apikey=9d746bb0-a05e-46e3-8d78-7cf020d32559&geocode='\n",
    "        BASE_URL = BASE_URL + df.loc[i,'address']\n",
    "\n",
    "        response = requests.get(BASE_URL) # шлём запрос\n",
    "        response_parsed = json.loads(response.text)# сохраняем ответ\n",
    "        street = response_parsed['response']['GeoObjectCollection']['featureMember'][0]\\\n",
    "            ['GeoObject']['metaDataProperty']['GeocoderMetaData']['Address']['Components'][4]\\\n",
    "            ['name'] # Получаем улицу\n",
    "\n",
    "        point = response_parsed['response']['GeoObjectCollection']['featureMember'][0]\\\n",
    "            ['GeoObject']['Point']['pos'] # Получаем улицу точку на картах\n",
    "\n",
    "            # тут по точке получаем район\n",
    "        BASE_URL_reverse = 'https://geocode-maps.yandex.ru/1.x/?format=json&apikey=9d746bb0-a05e-46e3-8d78-7cf020d32559&geocode='\n",
    "        BASE_URL_reverse = BASE_URL_reverse + point.replace(' ',',')# приводим к нужному виду точку на карте\n",
    "        response = requests.get(BASE_URL_reverse)\n",
    "        response_parsed_reverse = json.loads(response.text)\n",
    "\n",
    "        district = response_parsed_reverse['response']['GeoObjectCollection']['featureMember'][2]\\\n",
    "            ['GeoObject']['metaDataProperty']['GeocoderMetaData']['Address']['Components'][5]\\\n",
    "            ['name'] # Получаем район\n",
    "\n",
    "        df.iloc[i,'street'] = street\n",
    "        df.iloc[i,'district'] = district\n",
    "\n",
    "    except:\n",
    "        df.loc[i,'street'] = 'nan'\n",
    "        df.loc[i,'district'] = 'nan'"
   ]
  },
  {
   "cell_type": "code",
   "execution_count": 1588,
   "metadata": {},
   "outputs": [
    {
     "data": {
      "text/plain": [
       "проспект Мира             203\n",
       "Профсоюзная улица         175\n",
       "Пресненская набережная    167\n",
       "Ленинградский проспект    166\n",
       "Варшавское шоссе          162\n",
       "                         ... \n",
       "Мажоров переулок            1\n",
       "улица Саляма Адиля          1\n",
       "Тургеневская площадь        1\n",
       "Тетеринский переулок        1\n",
       "улица Льва Яшина            1\n",
       "Name: street, Length: 1797, dtype: int64"
      ]
     },
     "execution_count": 1588,
     "metadata": {},
     "output_type": "execute_result"
    }
   ],
   "source": [
    "df['street'].value_counts()"
   ]
  },
  {
   "cell_type": "markdown",
   "metadata": {},
   "source": [
    "\n",
    "<div style=\"border:solid navy 2px; padding: 20px\">\n",
    "Постройте график топ-10 улиц по количеству объектов общественного питания. Воспользуйтесь внешней информацией и ответьте на вопрос — в каких районах Москвы находятся эти улицы?\n",
    "</div>\n",
    "\n"
   ]
  },
  {
   "cell_type": "code",
   "execution_count": 1589,
   "metadata": {},
   "outputs": [],
   "source": [
    "df=df[~(df['street']=='nan')]"
   ]
  },
  {
   "cell_type": "code",
   "execution_count": 1590,
   "metadata": {},
   "outputs": [],
   "source": [
    "df_street = df.groupby(['street', 'district']).agg({'id':'count', 'number':'median'}).reset_index()"
   ]
  },
  {
   "cell_type": "code",
   "execution_count": 1592,
   "metadata": {},
   "outputs": [
    {
     "data": {
      "text/html": [
       "<div>\n",
       "<style scoped>\n",
       "    .dataframe tbody tr th:only-of-type {\n",
       "        vertical-align: middle;\n",
       "    }\n",
       "\n",
       "    .dataframe tbody tr th {\n",
       "        vertical-align: top;\n",
       "    }\n",
       "\n",
       "    .dataframe thead th {\n",
       "        text-align: right;\n",
       "    }\n",
       "</style>\n",
       "<table border=\"1\" class=\"dataframe\">\n",
       "  <thead>\n",
       "    <tr style=\"text-align: right;\">\n",
       "      <th></th>\n",
       "      <th>index</th>\n",
       "      <th>street</th>\n",
       "      <th>district</th>\n",
       "      <th>id</th>\n",
       "      <th>number</th>\n",
       "    </tr>\n",
       "  </thead>\n",
       "  <tbody>\n",
       "    <tr>\n",
       "      <td>0</td>\n",
       "      <td>1101</td>\n",
       "      <td>Пресненская набережная</td>\n",
       "      <td>Пресненский район</td>\n",
       "      <td>167</td>\n",
       "      <td>30.0</td>\n",
       "    </tr>\n",
       "    <tr>\n",
       "      <td>1</td>\n",
       "      <td>1414</td>\n",
       "      <td>Ходынский бульвар</td>\n",
       "      <td>Хорошёвский район</td>\n",
       "      <td>102</td>\n",
       "      <td>41.0</td>\n",
       "    </tr>\n",
       "    <tr>\n",
       "      <td>2</td>\n",
       "      <td>2016</td>\n",
       "      <td>улица Новый Арбат</td>\n",
       "      <td>район Арбат</td>\n",
       "      <td>92</td>\n",
       "      <td>43.5</td>\n",
       "    </tr>\n",
       "    <tr>\n",
       "      <td>3</td>\n",
       "      <td>2133</td>\n",
       "      <td>улица Сущёвский Вал</td>\n",
       "      <td>район Марьина Роща</td>\n",
       "      <td>82</td>\n",
       "      <td>10.0</td>\n",
       "    </tr>\n",
       "    <tr>\n",
       "      <td>4</td>\n",
       "      <td>1135</td>\n",
       "      <td>Пятницкая улица</td>\n",
       "      <td>район Замоскворечье</td>\n",
       "      <td>80</td>\n",
       "      <td>46.5</td>\n",
       "    </tr>\n",
       "    <tr>\n",
       "      <td>5</td>\n",
       "      <td>658</td>\n",
       "      <td>Кировоградская улица</td>\n",
       "      <td>район Чертаново Центральное</td>\n",
       "      <td>79</td>\n",
       "      <td>24.0</td>\n",
       "    </tr>\n",
       "    <tr>\n",
       "      <td>6</td>\n",
       "      <td>1721</td>\n",
       "      <td>улица Арбат</td>\n",
       "      <td>район Арбат</td>\n",
       "      <td>77</td>\n",
       "      <td>48.0</td>\n",
       "    </tr>\n",
       "    <tr>\n",
       "      <td>7</td>\n",
       "      <td>747</td>\n",
       "      <td>Ленинградское шоссе</td>\n",
       "      <td>Войковский район</td>\n",
       "      <td>72</td>\n",
       "      <td>30.0</td>\n",
       "    </tr>\n",
       "    <tr>\n",
       "      <td>8</td>\n",
       "      <td>1852</td>\n",
       "      <td>улица Земляной Вал</td>\n",
       "      <td>Басманный район</td>\n",
       "      <td>69</td>\n",
       "      <td>35.0</td>\n",
       "    </tr>\n",
       "    <tr>\n",
       "      <td>9</td>\n",
       "      <td>1326</td>\n",
       "      <td>Тверская улица</td>\n",
       "      <td>Тверской район</td>\n",
       "      <td>68</td>\n",
       "      <td>61.0</td>\n",
       "    </tr>\n",
       "  </tbody>\n",
       "</table>\n",
       "</div>"
      ],
      "text/plain": [
       "   index                  street                     district   id  number\n",
       "0   1101  Пресненская набережная            Пресненский район  167    30.0\n",
       "1   1414       Ходынский бульвар            Хорошёвский район  102    41.0\n",
       "2   2016       улица Новый Арбат                  район Арбат   92    43.5\n",
       "3   2133     улица Сущёвский Вал           район Марьина Роща   82    10.0\n",
       "4   1135         Пятницкая улица          район Замоскворечье   80    46.5\n",
       "5    658    Кировоградская улица  район Чертаново Центральное   79    24.0\n",
       "6   1721             улица Арбат                  район Арбат   77    48.0\n",
       "7    747     Ленинградское шоссе             Войковский район   72    30.0\n",
       "8   1852      улица Земляной Вал              Басманный район   69    35.0\n",
       "9   1326          Тверская улица               Тверской район   68    61.0"
      ]
     },
     "execution_count": 1592,
     "metadata": {},
     "output_type": "execute_result"
    }
   ],
   "source": [
    "df_street_sort = df_street.sort_values(by='id', ascending = False).head(10).reset_index()\n",
    "df_street_sort"
   ]
  },
  {
   "cell_type": "code",
   "execution_count": 1593,
   "metadata": {},
   "outputs": [
    {
     "data": {
      "image/png": "[encoded data removed]",
      "text/plain": [
       "<Figure size 720x504 with 1 Axes>"
      ]
     },
     "metadata": {
      "needs_background": "light"
     },
     "output_type": "display_data"
    }
   ],
   "source": [
    "draw_bar(df_street_sort, 'street', 'id', \n",
    "         'Количество объектов на одной улице', 'Улица', 'Количество объектов')"
   ]
  },
  {
   "cell_type": "code",
   "execution_count": 1594,
   "metadata": {},
   "outputs": [
    {
     "data": {
      "text/plain": [
       "array(['Пресненский район', 'Хорошёвский район', 'район Арбат',\n",
       "       'район Марьина Роща', 'район Замоскворечье',\n",
       "       'район Чертаново Центральное', 'Войковский район',\n",
       "       'Басманный район', 'Тверской район'], dtype=object)"
      ]
     },
     "execution_count": 1594,
     "metadata": {},
     "output_type": "execute_result"
    }
   ],
   "source": [
    "df_street_sort['district'].unique()"
   ]
  },
  {
   "cell_type": "code",
   "execution_count": 1595,
   "metadata": {},
   "outputs": [
    {
     "data": {
      "text/html": [
       "<div>\n",
       "<style scoped>\n",
       "    .dataframe tbody tr th:only-of-type {\n",
       "        vertical-align: middle;\n",
       "    }\n",
       "\n",
       "    .dataframe tbody tr th {\n",
       "        vertical-align: top;\n",
       "    }\n",
       "\n",
       "    .dataframe thead th {\n",
       "        text-align: right;\n",
       "    }\n",
       "</style>\n",
       "<table border=\"1\" class=\"dataframe\">\n",
       "  <thead>\n",
       "    <tr style=\"text-align: right;\">\n",
       "      <th></th>\n",
       "      <th>index</th>\n",
       "      <th>district</th>\n",
       "      <th>id</th>\n",
       "      <th>number</th>\n",
       "    </tr>\n",
       "  </thead>\n",
       "  <tbody>\n",
       "    <tr>\n",
       "      <td>0</td>\n",
       "      <td>30</td>\n",
       "      <td>Тверской район</td>\n",
       "      <td>770</td>\n",
       "      <td>50.0</td>\n",
       "    </tr>\n",
       "    <tr>\n",
       "      <td>1</td>\n",
       "      <td>26</td>\n",
       "      <td>Пресненский район</td>\n",
       "      <td>720</td>\n",
       "      <td>40.0</td>\n",
       "    </tr>\n",
       "    <tr>\n",
       "      <td>2</td>\n",
       "      <td>4</td>\n",
       "      <td>Басманный район</td>\n",
       "      <td>503</td>\n",
       "      <td>40.0</td>\n",
       "    </tr>\n",
       "    <tr>\n",
       "      <td>3</td>\n",
       "      <td>11</td>\n",
       "      <td>Даниловский район</td>\n",
       "      <td>401</td>\n",
       "      <td>25.0</td>\n",
       "    </tr>\n",
       "    <tr>\n",
       "      <td>4</td>\n",
       "      <td>219</td>\n",
       "      <td>район Хамовники</td>\n",
       "      <td>365</td>\n",
       "      <td>40.0</td>\n",
       "    </tr>\n",
       "    <tr>\n",
       "      <td>5</td>\n",
       "      <td>29</td>\n",
       "      <td>Таганский район</td>\n",
       "      <td>354</td>\n",
       "      <td>50.0</td>\n",
       "    </tr>\n",
       "    <tr>\n",
       "      <td>6</td>\n",
       "      <td>18</td>\n",
       "      <td>Мещанский район</td>\n",
       "      <td>351</td>\n",
       "      <td>41.0</td>\n",
       "    </tr>\n",
       "    <tr>\n",
       "      <td>7</td>\n",
       "      <td>161</td>\n",
       "      <td>район Замоскворечье</td>\n",
       "      <td>335</td>\n",
       "      <td>41.0</td>\n",
       "    </tr>\n",
       "    <tr>\n",
       "      <td>8</td>\n",
       "      <td>145</td>\n",
       "      <td>район Арбат</td>\n",
       "      <td>271</td>\n",
       "      <td>44.0</td>\n",
       "    </tr>\n",
       "    <tr>\n",
       "      <td>9</td>\n",
       "      <td>33</td>\n",
       "      <td>Хорошёвский район</td>\n",
       "      <td>258</td>\n",
       "      <td>32.0</td>\n",
       "    </tr>\n",
       "  </tbody>\n",
       "</table>\n",
       "</div>"
      ],
      "text/plain": [
       "   index             district   id  number\n",
       "0     30       Тверской район  770    50.0\n",
       "1     26    Пресненский район  720    40.0\n",
       "2      4      Басманный район  503    40.0\n",
       "3     11    Даниловский район  401    25.0\n",
       "4    219      район Хамовники  365    40.0\n",
       "5     29      Таганский район  354    50.0\n",
       "6     18      Мещанский район  351    41.0\n",
       "7    161  район Замоскворечье  335    41.0\n",
       "8    145          район Арбат  271    44.0\n",
       "9     33    Хорошёвский район  258    32.0"
      ]
     },
     "execution_count": 1595,
     "metadata": {},
     "output_type": "execute_result"
    }
   ],
   "source": [
    "df_district = df.groupby('district').agg({'id':'count', 'number':'median'}).reset_index()\n",
    "df_district_sort = df_district.sort_values(by='id', ascending = False).head(10).reset_index()\n",
    "df_district_sort"
   ]
  },
  {
   "cell_type": "code",
   "execution_count": 1596,
   "metadata": {},
   "outputs": [
    {
     "data": {
      "image/png": "[encoded data removed]",
      "text/plain": [
       "<Figure size 720x504 with 1 Axes>"
      ]
     },
     "metadata": {
      "needs_background": "light"
     },
     "output_type": "display_data"
    }
   ],
   "source": [
    "draw_bar(df_district_sort, 'district', 'id', \n",
    "         'Количество объектов в одном районе', 'Район', 'Количество объектов')"
   ]
  },
  {
   "cell_type": "markdown",
   "metadata": {},
   "source": [
    "\n",
    "<div style=\"border:solid navy 2px; padding: 20px\">\n",
    "    Найдите число улиц с одним объектом общественного питания. Воспользуйтесь внешней информацией и ответьте на вопрос — в каких районах Москвы находятся эти улицы?\n",
    "</div>\n",
    "\n"
   ]
  },
  {
   "cell_type": "code",
   "execution_count": 1597,
   "metadata": {},
   "outputs": [
    {
     "data": {
      "text/html": [
       "<div>\n",
       "<style scoped>\n",
       "    .dataframe tbody tr th:only-of-type {\n",
       "        vertical-align: middle;\n",
       "    }\n",
       "\n",
       "    .dataframe tbody tr th {\n",
       "        vertical-align: top;\n",
       "    }\n",
       "\n",
       "    .dataframe thead th {\n",
       "        text-align: right;\n",
       "    }\n",
       "</style>\n",
       "<table border=\"1\" class=\"dataframe\">\n",
       "  <thead>\n",
       "    <tr style=\"text-align: right;\">\n",
       "      <th></th>\n",
       "      <th>street</th>\n",
       "      <th>district</th>\n",
       "      <th>id</th>\n",
       "    </tr>\n",
       "  </thead>\n",
       "  <tbody>\n",
       "    <tr>\n",
       "      <td>2</td>\n",
       "      <td>1-й Балтийский переулок</td>\n",
       "      <td>район Аэропорт</td>\n",
       "      <td>1</td>\n",
       "    </tr>\n",
       "    <tr>\n",
       "      <td>3</td>\n",
       "      <td>1-й Басманный переулок</td>\n",
       "      <td>Красносельский район</td>\n",
       "      <td>1</td>\n",
       "    </tr>\n",
       "    <tr>\n",
       "      <td>4</td>\n",
       "      <td>1-й Ботанический проезд</td>\n",
       "      <td>район Свиблово</td>\n",
       "      <td>1</td>\n",
       "    </tr>\n",
       "    <tr>\n",
       "      <td>7</td>\n",
       "      <td>1-й Вешняковский проезд</td>\n",
       "      <td>Рязанский район</td>\n",
       "      <td>1</td>\n",
       "    </tr>\n",
       "    <tr>\n",
       "      <td>9</td>\n",
       "      <td>1-й Голутвинский переулок</td>\n",
       "      <td>район Якиманка</td>\n",
       "      <td>1</td>\n",
       "    </tr>\n",
       "    <tr>\n",
       "      <td>...</td>\n",
       "      <td>...</td>\n",
       "      <td>...</td>\n",
       "      <td>...</td>\n",
       "    </tr>\n",
       "    <tr>\n",
       "      <td>2174</td>\n",
       "      <td>улица Шумкина</td>\n",
       "      <td>район Сокольники</td>\n",
       "      <td>1</td>\n",
       "    </tr>\n",
       "    <tr>\n",
       "      <td>2176</td>\n",
       "      <td>улица Шухова</td>\n",
       "      <td>Донской район</td>\n",
       "      <td>1</td>\n",
       "    </tr>\n",
       "    <tr>\n",
       "      <td>2179</td>\n",
       "      <td>улица Щорса</td>\n",
       "      <td>район Солнцево</td>\n",
       "      <td>1</td>\n",
       "    </tr>\n",
       "    <tr>\n",
       "      <td>2185</td>\n",
       "      <td>шоссе Фрезер</td>\n",
       "      <td>Нижегородский район</td>\n",
       "      <td>1</td>\n",
       "    </tr>\n",
       "    <tr>\n",
       "      <td>2187</td>\n",
       "      <td>шоссе Энтузиастов</td>\n",
       "      <td>район Измайлово</td>\n",
       "      <td>1</td>\n",
       "    </tr>\n",
       "  </tbody>\n",
       "</table>\n",
       "<p>662 rows × 3 columns</p>\n",
       "</div>"
      ],
      "text/plain": [
       "                         street              district  id\n",
       "2       1-й Балтийский переулок        район Аэропорт   1\n",
       "3        1-й Басманный переулок  Красносельский район   1\n",
       "4       1-й Ботанический проезд        район Свиблово   1\n",
       "7       1-й Вешняковский проезд       Рязанский район   1\n",
       "9     1-й Голутвинский переулок        район Якиманка   1\n",
       "...                         ...                   ...  ..\n",
       "2174              улица Шумкина      район Сокольники   1\n",
       "2176               улица Шухова         Донской район   1\n",
       "2179                улица Щорса        район Солнцево   1\n",
       "2185               шоссе Фрезер   Нижегородский район   1\n",
       "2187          шоссе Энтузиастов       район Измайлово   1\n",
       "\n",
       "[662 rows x 3 columns]"
      ]
     },
     "execution_count": 1597,
     "metadata": {},
     "output_type": "execute_result"
    }
   ],
   "source": [
    "df_street_sort2 = df_street[df_street['id']==1]\n",
    "df_street_sort2[['street', 'district', 'id']]"
   ]
  },
  {
   "cell_type": "code",
   "execution_count": 1598,
   "metadata": {},
   "outputs": [],
   "source": [
    "center_district_list = ['район Арбат', 'Басманный район', 'район Замоскворечье', 'Красносельский район', \n",
    "                        'Мещанский район', 'Пресненский район', 'Таганский район', 'Тверской район', \n",
    "                        'район Хамовники', 'район Якиманка']\n",
    " "
   ]
  },
  {
   "cell_type": "code",
   "execution_count": 1599,
   "metadata": {},
   "outputs": [
    {
     "data": {
      "text/html": [
       "<div>\n",
       "<style scoped>\n",
       "    .dataframe tbody tr th:only-of-type {\n",
       "        vertical-align: middle;\n",
       "    }\n",
       "\n",
       "    .dataframe tbody tr th {\n",
       "        vertical-align: top;\n",
       "    }\n",
       "\n",
       "    .dataframe thead th {\n",
       "        text-align: right;\n",
       "    }\n",
       "</style>\n",
       "<table border=\"1\" class=\"dataframe\">\n",
       "  <thead>\n",
       "    <tr style=\"text-align: right;\">\n",
       "      <th></th>\n",
       "      <th>street</th>\n",
       "      <th>district</th>\n",
       "      <th>id</th>\n",
       "      <th>number</th>\n",
       "    </tr>\n",
       "  </thead>\n",
       "  <tbody>\n",
       "    <tr>\n",
       "      <td>3</td>\n",
       "      <td>1-й Басманный переулок</td>\n",
       "      <td>Красносельский район</td>\n",
       "      <td>1</td>\n",
       "      <td>50.0</td>\n",
       "    </tr>\n",
       "    <tr>\n",
       "      <td>9</td>\n",
       "      <td>1-й Голутвинский переулок</td>\n",
       "      <td>район Якиманка</td>\n",
       "      <td>1</td>\n",
       "      <td>22.0</td>\n",
       "    </tr>\n",
       "    <tr>\n",
       "      <td>13</td>\n",
       "      <td>1-й Зачатьевский переулок</td>\n",
       "      <td>район Хамовники</td>\n",
       "      <td>1</td>\n",
       "      <td>50.0</td>\n",
       "    </tr>\n",
       "    <tr>\n",
       "      <td>17</td>\n",
       "      <td>1-й Коптельский переулок</td>\n",
       "      <td>Красносельский район</td>\n",
       "      <td>1</td>\n",
       "      <td>45.0</td>\n",
       "    </tr>\n",
       "    <tr>\n",
       "      <td>18</td>\n",
       "      <td>1-й Котельнический переулок</td>\n",
       "      <td>Таганский район</td>\n",
       "      <td>1</td>\n",
       "      <td>35.0</td>\n",
       "    </tr>\n",
       "    <tr>\n",
       "      <td>...</td>\n",
       "      <td>...</td>\n",
       "      <td>...</td>\n",
       "      <td>...</td>\n",
       "      <td>...</td>\n",
       "    </tr>\n",
       "    <tr>\n",
       "      <td>2014</td>\n",
       "      <td>улица Новая Дорога</td>\n",
       "      <td>Басманный район</td>\n",
       "      <td>1</td>\n",
       "      <td>60.0</td>\n",
       "    </tr>\n",
       "    <tr>\n",
       "      <td>2048</td>\n",
       "      <td>улица Подвойского</td>\n",
       "      <td>Пресненский район</td>\n",
       "      <td>1</td>\n",
       "      <td>200.0</td>\n",
       "    </tr>\n",
       "    <tr>\n",
       "      <td>2092</td>\n",
       "      <td>улица Савельева</td>\n",
       "      <td>район Хамовники</td>\n",
       "      <td>1</td>\n",
       "      <td>100.0</td>\n",
       "    </tr>\n",
       "    <tr>\n",
       "      <td>2132</td>\n",
       "      <td>улица Сущёвский Вал</td>\n",
       "      <td>Тверской район</td>\n",
       "      <td>1</td>\n",
       "      <td>40.0</td>\n",
       "    </tr>\n",
       "    <tr>\n",
       "      <td>2150</td>\n",
       "      <td>улица Фадеева</td>\n",
       "      <td>Тверской район</td>\n",
       "      <td>1</td>\n",
       "      <td>30.0</td>\n",
       "    </tr>\n",
       "  </tbody>\n",
       "</table>\n",
       "<p>178 rows × 4 columns</p>\n",
       "</div>"
      ],
      "text/plain": [
       "                           street              district  id  number\n",
       "3          1-й Басманный переулок  Красносельский район   1    50.0\n",
       "9       1-й Голутвинский переулок        район Якиманка   1    22.0\n",
       "13      1-й Зачатьевский переулок       район Хамовники   1    50.0\n",
       "17       1-й Коптельский переулок  Красносельский район   1    45.0\n",
       "18    1-й Котельнический переулок       Таганский район   1    35.0\n",
       "...                           ...                   ...  ..     ...\n",
       "2014           улица Новая Дорога       Басманный район   1    60.0\n",
       "2048            улица Подвойского     Пресненский район   1   200.0\n",
       "2092              улица Савельева       район Хамовники   1   100.0\n",
       "2132          улица Сущёвский Вал        Тверской район   1    40.0\n",
       "2150                улица Фадеева        Тверской район   1    30.0\n",
       "\n",
       "[178 rows x 4 columns]"
      ]
     },
     "execution_count": 1599,
     "metadata": {},
     "output_type": "execute_result"
    }
   ],
   "source": [
    "# улицы в центре с 1 заведением\n",
    "df_1_center = df_street_sort2[df_street_sort2['district'].isin(center_district_list)]\n",
    "df_1_center"
   ]
  },
  {
   "cell_type": "code",
   "execution_count": 1600,
   "metadata": {},
   "outputs": [
    {
     "data": {
      "text/html": [
       "<div>\n",
       "<style scoped>\n",
       "    .dataframe tbody tr th:only-of-type {\n",
       "        vertical-align: middle;\n",
       "    }\n",
       "\n",
       "    .dataframe tbody tr th {\n",
       "        vertical-align: top;\n",
       "    }\n",
       "\n",
       "    .dataframe thead th {\n",
       "        text-align: right;\n",
       "    }\n",
       "</style>\n",
       "<table border=\"1\" class=\"dataframe\">\n",
       "  <thead>\n",
       "    <tr style=\"text-align: right;\">\n",
       "      <th></th>\n",
       "      <th>district</th>\n",
       "      <th>id</th>\n",
       "    </tr>\n",
       "  </thead>\n",
       "  <tbody>\n",
       "    <tr>\n",
       "      <td>0</td>\n",
       "      <td>Таганский район</td>\n",
       "      <td>28</td>\n",
       "    </tr>\n",
       "    <tr>\n",
       "      <td>1</td>\n",
       "      <td>район Хамовники</td>\n",
       "      <td>27</td>\n",
       "    </tr>\n",
       "    <tr>\n",
       "      <td>2</td>\n",
       "      <td>Тверской район</td>\n",
       "      <td>23</td>\n",
       "    </tr>\n",
       "    <tr>\n",
       "      <td>3</td>\n",
       "      <td>Пресненский район</td>\n",
       "      <td>22</td>\n",
       "    </tr>\n",
       "    <tr>\n",
       "      <td>4</td>\n",
       "      <td>Басманный район</td>\n",
       "      <td>21</td>\n",
       "    </tr>\n",
       "    <tr>\n",
       "      <td>5</td>\n",
       "      <td>район Марьина Роща</td>\n",
       "      <td>19</td>\n",
       "    </tr>\n",
       "    <tr>\n",
       "      <td>6</td>\n",
       "      <td>район Лефортово</td>\n",
       "      <td>13</td>\n",
       "    </tr>\n",
       "    <tr>\n",
       "      <td>7</td>\n",
       "      <td>район Замоскворечье</td>\n",
       "      <td>12</td>\n",
       "    </tr>\n",
       "    <tr>\n",
       "      <td>8</td>\n",
       "      <td>Красносельский район</td>\n",
       "      <td>12</td>\n",
       "    </tr>\n",
       "    <tr>\n",
       "      <td>9</td>\n",
       "      <td>район Богородское</td>\n",
       "      <td>12</td>\n",
       "    </tr>\n",
       "  </tbody>\n",
       "</table>\n",
       "</div>"
      ],
      "text/plain": [
       "               district  id\n",
       "0       Таганский район  28\n",
       "1       район Хамовники  27\n",
       "2        Тверской район  23\n",
       "3     Пресненский район  22\n",
       "4       Басманный район  21\n",
       "5    район Марьина Роща  19\n",
       "6       район Лефортово  13\n",
       "7   район Замоскворечье  12\n",
       "8  Красносельский район  12\n",
       "9     район Богородское  12"
      ]
     },
     "execution_count": 1600,
     "metadata": {},
     "output_type": "execute_result"
    }
   ],
   "source": [
    "df_street_1 = df_street_sort2.groupby('district').agg({'id':'count'}).sort_values(by='id',ascending=False).reset_index()\n",
    "df_street_1_top = df_street_1.head(10)\n",
    "df_street_1_top"
   ]
  },
  {
   "cell_type": "code",
   "execution_count": 1601,
   "metadata": {},
   "outputs": [
    {
     "name": "stderr",
     "output_type": "stream",
     "text": [
      "/opt/conda/lib/python3.7/site-packages/ipykernel_launcher.py:3: SettingWithCopyWarning:\n",
      "\n",
      "\n",
      "A value is trying to be set on a copy of a slice from a DataFrame.\n",
      "Try using .loc[row_indexer,col_indexer] = value instead\n",
      "\n",
      "See the caveats in the documentation: http://pandas.pydata.org/pandas-docs/stable/user_guide/indexing.html#returning-a-view-versus-a-copy\n",
      "\n"
     ]
    },
    {
     "data": {
      "image/png": "[encoded data removed]",
      "text/plain": [
       "<Figure size 720x504 with 1 Axes>"
      ]
     },
     "metadata": {
      "needs_background": "light"
     },
     "output_type": "display_data"
    }
   ],
   "source": [
    "draw_bar(df_street_1_top, 'district', 'id', \n",
    "         'Количество улиц с 1 объектом в одном районе', 'Район', 'Количество улиц')"
   ]
  },
  {
   "cell_type": "markdown",
   "metadata": {},
   "source": [
    "\n",
    "<div style=\"border:solid navy 2px; padding: 20px\">\n",
    "  \n",
    "Посмотрите на распределение количества посадочных мест для улиц с большим количеством объектов общественного питания. Какие закономерности можно выявить?\n",
    "</div>\n",
    "\n"
   ]
  },
  {
   "cell_type": "code",
   "execution_count": 1602,
   "metadata": {},
   "outputs": [
    {
     "data": {
      "text/plain": [
       "array(['Пресненская набережная', 'Ходынский бульвар', 'улица Новый Арбат',\n",
       "       'улица Сущёвский Вал', 'Пятницкая улица', 'Кировоградская улица',\n",
       "       'улица Арбат', 'Ленинградское шоссе', 'улица Земляной Вал',\n",
       "       'Тверская улица'], dtype=object)"
      ]
     },
     "execution_count": 1602,
     "metadata": {},
     "output_type": "execute_result"
    }
   ],
   "source": [
    " # список top-10 улиц\n",
    "list_street = df_street_sort['street'].unique()\n",
    "list_street"
   ]
  },
  {
   "cell_type": "code",
   "execution_count": 1603,
   "metadata": {},
   "outputs": [
    {
     "data": {
      "text/html": [
       "<div>\n",
       "<style scoped>\n",
       "    .dataframe tbody tr th:only-of-type {\n",
       "        vertical-align: middle;\n",
       "    }\n",
       "\n",
       "    .dataframe tbody tr th {\n",
       "        vertical-align: top;\n",
       "    }\n",
       "\n",
       "    .dataframe thead th {\n",
       "        text-align: right;\n",
       "    }\n",
       "</style>\n",
       "<table border=\"1\" class=\"dataframe\">\n",
       "  <thead>\n",
       "    <tr style=\"text-align: right;\">\n",
       "      <th></th>\n",
       "      <th>id</th>\n",
       "      <th>object_name</th>\n",
       "      <th>chain</th>\n",
       "      <th>object_type</th>\n",
       "      <th>address</th>\n",
       "      <th>number</th>\n",
       "      <th>street</th>\n",
       "      <th>district</th>\n",
       "    </tr>\n",
       "  </thead>\n",
       "  <tbody>\n",
       "    <tr>\n",
       "      <td>36</td>\n",
       "      <td>127979</td>\n",
       "      <td>месопотамия</td>\n",
       "      <td>False</td>\n",
       "      <td>ресторан</td>\n",
       "      <td>город Москва, улица Арбат, дом 4, строение 1</td>\n",
       "      <td>50</td>\n",
       "      <td>улица Арбат</td>\n",
       "      <td>район Арбат</td>\n",
       "    </tr>\n",
       "    <tr>\n",
       "      <td>37</td>\n",
       "      <td>24968</td>\n",
       "      <td>му му</td>\n",
       "      <td>True</td>\n",
       "      <td>кафе</td>\n",
       "      <td>город Москва, улица Арбат, дом 4, строение 1</td>\n",
       "      <td>125</td>\n",
       "      <td>улица Арбат</td>\n",
       "      <td>район Арбат</td>\n",
       "    </tr>\n",
       "    <tr>\n",
       "      <td>38</td>\n",
       "      <td>127980</td>\n",
       "      <td>хлеб насущный</td>\n",
       "      <td>True</td>\n",
       "      <td>кафе</td>\n",
       "      <td>город Москва, улица Арбат, дом 6/2</td>\n",
       "      <td>20</td>\n",
       "      <td>улица Арбат</td>\n",
       "      <td>район Арбат</td>\n",
       "    </tr>\n",
       "    <tr>\n",
       "      <td>39</td>\n",
       "      <td>88194</td>\n",
       "      <td>tajj mahal</td>\n",
       "      <td>True</td>\n",
       "      <td>ресторан</td>\n",
       "      <td>город Москва, улица Арбат, дом 6/2</td>\n",
       "      <td>100</td>\n",
       "      <td>улица Арбат</td>\n",
       "      <td>район Арбат</td>\n",
       "    </tr>\n",
       "    <tr>\n",
       "      <td>40</td>\n",
       "      <td>107496</td>\n",
       "      <td>калифорния дайнер</td>\n",
       "      <td>False</td>\n",
       "      <td>кафе</td>\n",
       "      <td>город Москва, улица Арбат, дом 23, строение 1</td>\n",
       "      <td>150</td>\n",
       "      <td>улица Арбат</td>\n",
       "      <td>район Арбат</td>\n",
       "    </tr>\n",
       "    <tr>\n",
       "      <td>...</td>\n",
       "      <td>...</td>\n",
       "      <td>...</td>\n",
       "      <td>...</td>\n",
       "      <td>...</td>\n",
       "      <td>...</td>\n",
       "      <td>...</td>\n",
       "      <td>...</td>\n",
       "      <td>...</td>\n",
       "    </tr>\n",
       "    <tr>\n",
       "      <td>15091</td>\n",
       "      <td>215646</td>\n",
       "      <td>ливан хаус</td>\n",
       "      <td>True</td>\n",
       "      <td>кафе</td>\n",
       "      <td>город Москва, Ходынский бульвар, дом 4</td>\n",
       "      <td>41</td>\n",
       "      <td>Ходынский бульвар</td>\n",
       "      <td>Хорошёвский район</td>\n",
       "    </tr>\n",
       "    <tr>\n",
       "      <td>15151</td>\n",
       "      <td>215522</td>\n",
       "      <td>lavkalavka</td>\n",
       "      <td>True</td>\n",
       "      <td>кафе</td>\n",
       "      <td>город Москва, Ходынский бульвар, дом 4</td>\n",
       "      <td>41</td>\n",
       "      <td>Ходынский бульвар</td>\n",
       "      <td>Хорошёвский район</td>\n",
       "    </tr>\n",
       "    <tr>\n",
       "      <td>15165</td>\n",
       "      <td>218394</td>\n",
       "      <td>cofix</td>\n",
       "      <td>True</td>\n",
       "      <td>кафетерий</td>\n",
       "      <td>город Москва, Ленинградское шоссе, дом 16А, ст...</td>\n",
       "      <td>12</td>\n",
       "      <td>Ленинградское шоссе</td>\n",
       "      <td>Войковский район</td>\n",
       "    </tr>\n",
       "    <tr>\n",
       "      <td>15167</td>\n",
       "      <td>215276</td>\n",
       "      <td>cofix</td>\n",
       "      <td>True</td>\n",
       "      <td>кафе</td>\n",
       "      <td>город Москва, Ходынский бульвар, дом 4</td>\n",
       "      <td>41</td>\n",
       "      <td>Ходынский бульвар</td>\n",
       "      <td>Хорошёвский район</td>\n",
       "    </tr>\n",
       "    <tr>\n",
       "      <td>15219</td>\n",
       "      <td>222719</td>\n",
       "      <td>dunkin donuts</td>\n",
       "      <td>True</td>\n",
       "      <td>кафетерий</td>\n",
       "      <td>город Москва, Ходынский бульвар, дом 4</td>\n",
       "      <td>12</td>\n",
       "      <td>Ходынский бульвар</td>\n",
       "      <td>Хорошёвский район</td>\n",
       "    </tr>\n",
       "  </tbody>\n",
       "</table>\n",
       "<p>960 rows × 8 columns</p>\n",
       "</div>"
      ],
      "text/plain": [
       "           id        object_name  chain object_type  \\\n",
       "36     127979        месопотамия  False    ресторан   \n",
       "37      24968              му му   True        кафе   \n",
       "38     127980      хлеб насущный   True        кафе   \n",
       "39      88194         tajj mahal   True    ресторан   \n",
       "40     107496  калифорния дайнер  False        кафе   \n",
       "...       ...                ...    ...         ...   \n",
       "15091  215646         ливан хаус   True        кафе   \n",
       "15151  215522         lavkalavka   True        кафе   \n",
       "15165  218394              cofix   True   кафетерий   \n",
       "15167  215276              cofix   True        кафе   \n",
       "15219  222719      dunkin donuts   True   кафетерий   \n",
       "\n",
       "                                                 address  number  \\\n",
       "36          город Москва, улица Арбат, дом 4, строение 1      50   \n",
       "37          город Москва, улица Арбат, дом 4, строение 1     125   \n",
       "38                    город Москва, улица Арбат, дом 6/2      20   \n",
       "39                    город Москва, улица Арбат, дом 6/2     100   \n",
       "40         город Москва, улица Арбат, дом 23, строение 1     150   \n",
       "...                                                  ...     ...   \n",
       "15091             город Москва, Ходынский бульвар, дом 4      41   \n",
       "15151             город Москва, Ходынский бульвар, дом 4      41   \n",
       "15165  город Москва, Ленинградское шоссе, дом 16А, ст...      12   \n",
       "15167             город Москва, Ходынский бульвар, дом 4      41   \n",
       "15219             город Москва, Ходынский бульвар, дом 4      12   \n",
       "\n",
       "                    street           district  \n",
       "36             улица Арбат        район Арбат  \n",
       "37             улица Арбат        район Арбат  \n",
       "38             улица Арбат        район Арбат  \n",
       "39             улица Арбат        район Арбат  \n",
       "40             улица Арбат        район Арбат  \n",
       "...                    ...                ...  \n",
       "15091    Ходынский бульвар  Хорошёвский район  \n",
       "15151    Ходынский бульвар  Хорошёвский район  \n",
       "15165  Ленинградское шоссе   Войковский район  \n",
       "15167    Ходынский бульвар  Хорошёвский район  \n",
       "15219    Ходынский бульвар  Хорошёвский район  \n",
       "\n",
       "[960 rows x 8 columns]"
      ]
     },
     "execution_count": 1603,
     "metadata": {},
     "output_type": "execute_result"
    }
   ],
   "source": [
    "# df, включающий только улицы из top-10\n",
    "df_top_count = df[df['street'].isin(list_street)]\n",
    "df_top_count"
   ]
  },
  {
   "cell_type": "code",
   "execution_count": 1604,
   "metadata": {},
   "outputs": [
    {
     "name": "stdout",
     "output_type": "stream",
     "text": [
      "Минимум - 0\n",
      "Максимум - 480\n",
      "Среднее - 52\n",
      "Медиана - 40\n"
     ]
    },
    {
     "data": {
      "image/png": "[encoded data removed]",
      "text/plain": [
       "<Figure size 432x288 with 1 Axes>"
      ]
     },
     "metadata": {
      "needs_background": "light"
     },
     "output_type": "display_data"
    }
   ],
   "source": [
    "draw_scatter(df_top_count['number'], \n",
    "             'Количество посадочных мест для улиц с большим количеством объектов')"
   ]
  },
  {
   "cell_type": "code",
   "execution_count": 1605,
   "metadata": {},
   "outputs": [
    {
     "data": {
      "image/png": "[encoded data removed]",
      "text/plain": [
       "<Figure size 432x288 with 1 Axes>"
      ]
     },
     "metadata": {
      "needs_background": "light"
     },
     "output_type": "display_data"
    }
   ],
   "source": [
    "draw_boxplot(df_top_count['street'], df_top_count['number'], 'Среднее количество посадочных мест на популярных улицах')"
   ]
  },
  {
   "cell_type": "code",
   "execution_count": 1606,
   "metadata": {},
   "outputs": [
    {
     "data": {
      "image/png": "[encoded data removed]",
      "text/plain": [
       "<Figure size 432x288 with 1 Axes>"
      ]
     },
     "metadata": {
      "needs_background": "light"
     },
     "output_type": "display_data"
    }
   ],
   "source": [
    "draw_boxplot(df_street_sort['street'], df_street_sort['number'], 'Среднее количество посадочных мест')"
   ]
  },
  {
   "cell_type": "code",
   "execution_count": 1607,
   "metadata": {},
   "outputs": [
    {
     "name": "stdout",
     "output_type": "stream",
     "text": [
      "Среднее количество посадочных мест на популярных улицах 52.4625\n",
      "Количество посадочных мест на популярных улицах по медиане 40.0\n"
     ]
    }
   ],
   "source": [
    "print('Среднее количество посадочных мест на популярных улицах', df_top_count['number'].mean())\n",
    "print('Количество посадочных мест на популярных улицах по медиане', df_top_count['number'].median())\n"
   ]
  },
  {
   "cell_type": "code",
   "execution_count": 1608,
   "metadata": {},
   "outputs": [
    {
     "name": "stdout",
     "output_type": "stream",
     "text": [
      "Среднее количество посадочных мест 38.0\n"
     ]
    }
   ],
   "source": [
    "# эта же величина, высчитанная другим путем \n",
    "print('Среднее количество посадочных мест', df_street_sort['number'].median())"
   ]
  },
  {
   "cell_type": "code",
   "execution_count": 1609,
   "metadata": {},
   "outputs": [
    {
     "data": {
      "text/html": [
       "<div>\n",
       "<style scoped>\n",
       "    .dataframe tbody tr th:only-of-type {\n",
       "        vertical-align: middle;\n",
       "    }\n",
       "\n",
       "    .dataframe tbody tr th {\n",
       "        vertical-align: top;\n",
       "    }\n",
       "\n",
       "    .dataframe thead th {\n",
       "        text-align: right;\n",
       "    }\n",
       "</style>\n",
       "<table border=\"1\" class=\"dataframe\">\n",
       "  <thead>\n",
       "    <tr style=\"text-align: right;\">\n",
       "      <th></th>\n",
       "      <th>district</th>\n",
       "      <th>street_count</th>\n",
       "      <th>id_count</th>\n",
       "      <th>number_median</th>\n",
       "      <th>obj_on_street</th>\n",
       "    </tr>\n",
       "  </thead>\n",
       "  <tbody>\n",
       "    <tr>\n",
       "      <td>30</td>\n",
       "      <td>Тверской район</td>\n",
       "      <td>92</td>\n",
       "      <td>770</td>\n",
       "      <td>50</td>\n",
       "      <td>8</td>\n",
       "    </tr>\n",
       "    <tr>\n",
       "      <td>26</td>\n",
       "      <td>Пресненский район</td>\n",
       "      <td>86</td>\n",
       "      <td>720</td>\n",
       "      <td>40</td>\n",
       "      <td>8</td>\n",
       "    </tr>\n",
       "    <tr>\n",
       "      <td>4</td>\n",
       "      <td>Басманный район</td>\n",
       "      <td>67</td>\n",
       "      <td>503</td>\n",
       "      <td>40</td>\n",
       "      <td>7</td>\n",
       "    </tr>\n",
       "    <tr>\n",
       "      <td>11</td>\n",
       "      <td>Даниловский район</td>\n",
       "      <td>48</td>\n",
       "      <td>401</td>\n",
       "      <td>25</td>\n",
       "      <td>8</td>\n",
       "    </tr>\n",
       "    <tr>\n",
       "      <td>219</td>\n",
       "      <td>район Хамовники</td>\n",
       "      <td>72</td>\n",
       "      <td>365</td>\n",
       "      <td>40</td>\n",
       "      <td>5</td>\n",
       "    </tr>\n",
       "    <tr>\n",
       "      <td>29</td>\n",
       "      <td>Таганский район</td>\n",
       "      <td>77</td>\n",
       "      <td>354</td>\n",
       "      <td>50</td>\n",
       "      <td>4</td>\n",
       "    </tr>\n",
       "    <tr>\n",
       "      <td>18</td>\n",
       "      <td>Мещанский район</td>\n",
       "      <td>42</td>\n",
       "      <td>351</td>\n",
       "      <td>41</td>\n",
       "      <td>8</td>\n",
       "    </tr>\n",
       "    <tr>\n",
       "      <td>161</td>\n",
       "      <td>район Замоскворечье</td>\n",
       "      <td>38</td>\n",
       "      <td>335</td>\n",
       "      <td>41</td>\n",
       "      <td>8</td>\n",
       "    </tr>\n",
       "    <tr>\n",
       "      <td>145</td>\n",
       "      <td>район Арбат</td>\n",
       "      <td>32</td>\n",
       "      <td>271</td>\n",
       "      <td>44</td>\n",
       "      <td>8</td>\n",
       "    </tr>\n",
       "    <tr>\n",
       "      <td>33</td>\n",
       "      <td>Хорошёвский район</td>\n",
       "      <td>23</td>\n",
       "      <td>258</td>\n",
       "      <td>32</td>\n",
       "      <td>11</td>\n",
       "    </tr>\n",
       "    <tr>\n",
       "      <td>15</td>\n",
       "      <td>Красносельский район</td>\n",
       "      <td>39</td>\n",
       "      <td>226</td>\n",
       "      <td>45</td>\n",
       "      <td>5</td>\n",
       "    </tr>\n",
       "    <tr>\n",
       "      <td>182</td>\n",
       "      <td>район Марьино</td>\n",
       "      <td>17</td>\n",
       "      <td>208</td>\n",
       "      <td>30</td>\n",
       "      <td>12</td>\n",
       "    </tr>\n",
       "    <tr>\n",
       "      <td>181</td>\n",
       "      <td>район Марьина Роща</td>\n",
       "      <td>32</td>\n",
       "      <td>199</td>\n",
       "      <td>28</td>\n",
       "      <td>6</td>\n",
       "    </tr>\n",
       "    <tr>\n",
       "      <td>201</td>\n",
       "      <td>район Раменки</td>\n",
       "      <td>19</td>\n",
       "      <td>197</td>\n",
       "      <td>44</td>\n",
       "      <td>10</td>\n",
       "    </tr>\n",
       "    <tr>\n",
       "      <td>215</td>\n",
       "      <td>район Тропарёво-Никулино</td>\n",
       "      <td>8</td>\n",
       "      <td>178</td>\n",
       "      <td>50</td>\n",
       "      <td>22</td>\n",
       "    </tr>\n",
       "  </tbody>\n",
       "</table>\n",
       "</div>"
      ],
      "text/plain": [
       "                     district  street_count  id_count  number_median  \\\n",
       "30             Тверской район            92       770             50   \n",
       "26          Пресненский район            86       720             40   \n",
       "4             Басманный район            67       503             40   \n",
       "11          Даниловский район            48       401             25   \n",
       "219           район Хамовники            72       365             40   \n",
       "29            Таганский район            77       354             50   \n",
       "18            Мещанский район            42       351             41   \n",
       "161       район Замоскворечье            38       335             41   \n",
       "145               район Арбат            32       271             44   \n",
       "33          Хорошёвский район            23       258             32   \n",
       "15       Красносельский район            39       226             45   \n",
       "182             район Марьино            17       208             30   \n",
       "181        район Марьина Роща            32       199             28   \n",
       "201             район Раменки            19       197             44   \n",
       "215  район Тропарёво-Никулино             8       178             50   \n",
       "\n",
       "     obj_on_street  \n",
       "30               8  \n",
       "26               8  \n",
       "4                7  \n",
       "11               8  \n",
       "219              5  \n",
       "29               4  \n",
       "18               8  \n",
       "161              8  \n",
       "145              8  \n",
       "33              11  \n",
       "15               5  \n",
       "182             12  \n",
       "181              6  \n",
       "201             10  \n",
       "215             22  "
      ]
     },
     "execution_count": 1609,
     "metadata": {},
     "output_type": "execute_result"
    }
   ],
   "source": [
    "district_group = df.groupby('district').agg({'street':'nunique', 'id':'count', \n",
    "                                             'number':'median'}).reset_index()\n",
    "district_group.columns=['district', 'street_count', 'id_count', 'number_median']\n",
    "district_group['number_median'] = district_group['number_median'].astype(int)\n",
    "# Среднее количество посадочных мест в заведениях района\n",
    "#district_group['number'] = (district_group['number'] / district_group['id']).astype(int)\n",
    "# Среднее количество заведений на 1 улицу\n",
    "district_group['obj_on_street'] = (district_group['id_count'] / district_group['street_count']).astype(int)\n",
    "\n",
    "district_group = district_group.sort_values(by='id_count',ascending=False)\n",
    "district_group.head(15)"
   ]
  },
  {
   "cell_type": "code",
   "execution_count": 1610,
   "metadata": {},
   "outputs": [
    {
     "name": "stdout",
     "output_type": "stream",
     "text": [
      "Минимум - 1\n",
      "Максимум - 92\n",
      "Среднее - 9\n",
      "Медиана - 3\n"
     ]
    },
    {
     "data": {
      "image/png": "[encoded data removed]",
      "text/plain": [
       "<Figure size 432x288 with 1 Axes>"
      ]
     },
     "metadata": {
      "needs_background": "light"
     },
     "output_type": "display_data"
    }
   ],
   "source": [
    "draw_scatter(district_group['street_count'], \n",
    "             'Количество улиц с заведениями в районе')"
   ]
  },
  {
   "cell_type": "code",
   "execution_count": 1611,
   "metadata": {},
   "outputs": [
    {
     "data": {
      "text/html": [
       "<div>\n",
       "<style scoped>\n",
       "    .dataframe tbody tr th:only-of-type {\n",
       "        vertical-align: middle;\n",
       "    }\n",
       "\n",
       "    .dataframe tbody tr th {\n",
       "        vertical-align: top;\n",
       "    }\n",
       "\n",
       "    .dataframe thead th {\n",
       "        text-align: right;\n",
       "    }\n",
       "</style>\n",
       "<table border=\"1\" class=\"dataframe\">\n",
       "  <thead>\n",
       "    <tr style=\"text-align: right;\">\n",
       "      <th></th>\n",
       "      <th>district</th>\n",
       "      <th>obj_on_street</th>\n",
       "    </tr>\n",
       "  </thead>\n",
       "  <tbody>\n",
       "    <tr>\n",
       "      <td>0</td>\n",
       "      <td>район Марьино</td>\n",
       "      <td>12</td>\n",
       "    </tr>\n",
       "    <tr>\n",
       "      <td>1</td>\n",
       "      <td>Хорошёвский район</td>\n",
       "      <td>11</td>\n",
       "    </tr>\n",
       "    <tr>\n",
       "      <td>2</td>\n",
       "      <td>Академический район</td>\n",
       "      <td>11</td>\n",
       "    </tr>\n",
       "    <tr>\n",
       "      <td>3</td>\n",
       "      <td>район Митино</td>\n",
       "      <td>11</td>\n",
       "    </tr>\n",
       "    <tr>\n",
       "      <td>4</td>\n",
       "      <td>район Нагатино-Садовники</td>\n",
       "      <td>11</td>\n",
       "    </tr>\n",
       "    <tr>\n",
       "      <td>5</td>\n",
       "      <td>район Раменки</td>\n",
       "      <td>10</td>\n",
       "    </tr>\n",
       "    <tr>\n",
       "      <td>6</td>\n",
       "      <td>район Коньково</td>\n",
       "      <td>10</td>\n",
       "    </tr>\n",
       "    <tr>\n",
       "      <td>7</td>\n",
       "      <td>Войковский район</td>\n",
       "      <td>10</td>\n",
       "    </tr>\n",
       "    <tr>\n",
       "      <td>8</td>\n",
       "      <td>район Филёвский Парк</td>\n",
       "      <td>10</td>\n",
       "    </tr>\n",
       "    <tr>\n",
       "      <td>9</td>\n",
       "      <td>район Чертаново Южное</td>\n",
       "      <td>9</td>\n",
       "    </tr>\n",
       "    <tr>\n",
       "      <td>10</td>\n",
       "      <td>Гагаринский район</td>\n",
       "      <td>9</td>\n",
       "    </tr>\n",
       "    <tr>\n",
       "      <td>11</td>\n",
       "      <td>Бутырский район</td>\n",
       "      <td>9</td>\n",
       "    </tr>\n",
       "    <tr>\n",
       "      <td>12</td>\n",
       "      <td>район Беговой</td>\n",
       "      <td>9</td>\n",
       "    </tr>\n",
       "    <tr>\n",
       "      <td>13</td>\n",
       "      <td>Тверской район</td>\n",
       "      <td>8</td>\n",
       "    </tr>\n",
       "    <tr>\n",
       "      <td>14</td>\n",
       "      <td>район Свиблово</td>\n",
       "      <td>8</td>\n",
       "    </tr>\n",
       "    <tr>\n",
       "      <td>15</td>\n",
       "      <td>Пресненский район</td>\n",
       "      <td>8</td>\n",
       "    </tr>\n",
       "    <tr>\n",
       "      <td>16</td>\n",
       "      <td>Нагорный район</td>\n",
       "      <td>8</td>\n",
       "    </tr>\n",
       "    <tr>\n",
       "      <td>17</td>\n",
       "      <td>Обручевский район</td>\n",
       "      <td>8</td>\n",
       "    </tr>\n",
       "    <tr>\n",
       "      <td>18</td>\n",
       "      <td>Ивановская Горка</td>\n",
       "      <td>8</td>\n",
       "    </tr>\n",
       "    <tr>\n",
       "      <td>19</td>\n",
       "      <td>район Арбат</td>\n",
       "      <td>8</td>\n",
       "    </tr>\n",
       "  </tbody>\n",
       "</table>\n",
       "</div>"
      ],
      "text/plain": [
       "                    district  obj_on_street\n",
       "0              район Марьино             12\n",
       "1          Хорошёвский район             11\n",
       "2        Академический район             11\n",
       "3               район Митино             11\n",
       "4   район Нагатино-Садовники             11\n",
       "5              район Раменки             10\n",
       "6             район Коньково             10\n",
       "7           Войковский район             10\n",
       "8       район Филёвский Парк             10\n",
       "9      район Чертаново Южное              9\n",
       "10         Гагаринский район              9\n",
       "11           Бутырский район              9\n",
       "12             район Беговой              9\n",
       "13            Тверской район              8\n",
       "14            район Свиблово              8\n",
       "15         Пресненский район              8\n",
       "16            Нагорный район              8\n",
       "17         Обручевский район              8\n",
       "18          Ивановская Горка              8\n",
       "19               район Арбат              8"
      ]
     },
     "execution_count": 1611,
     "metadata": {},
     "output_type": "execute_result"
    }
   ],
   "source": [
    "# выбираем крупные районы\n",
    "district_group = district_group[district_group['street_count']>10]\n",
    "district_group = district_group.sort_values(by='obj_on_street',ascending=False).reset_index()\n",
    "district_group=district_group.head(20)\n",
    "district_group[['district','obj_on_street']]"
   ]
  },
  {
   "cell_type": "code",
   "execution_count": 1612,
   "metadata": {},
   "outputs": [
    {
     "data": {
      "image/png": "[encoded data removed]",
      "text/plain": [
       "<Figure size 432x288 with 1 Axes>"
      ]
     },
     "metadata": {
      "needs_background": "light"
     },
     "output_type": "display_data"
    }
   ],
   "source": [
    "draw_boxplot(district_group['district'], district_group['obj_on_street'], \n",
    "             'Среднее количество заведений на одной улице')\n"
   ]
  },
  {
   "cell_type": "markdown",
   "metadata": {},
   "source": [
    "\n",
    "<div style=\"border:solid navy 2px; padding: 20px\">\n",
    "  \n",
    "Сделайте общий вывод и дайте рекомендации о виде заведения, количестве посадочных мест, а также районе расположения. Прокомментируйте возможность развития сети.\n",
    "</div>\n",
    "\n"
   ]
  },
  {
   "cell_type": "markdown",
   "metadata": {},
   "source": [
    "\n",
    "<div style=\"border:solid navy 2px; padding: 20px\">\n",
    "  \n",
    "Кафе - наиболее распространенный вид заведения общественного питания, лишь 23% являются сетевыми. Наиболее развитые сетевые заведения имеют более 100 объектов в Москве. 57% сетевых заведений имеют от 2 до 4 объектов. \n",
    "\n",
    "Количество посадочных мест в крупных сетях (более 5 объектов) - 34. Если рассматривать более крупные сети, это количество уменьшится. В мелких сетях в среднем 41 посадочное место.\n",
    "\n",
    "В центральном округе есть 178 улиц с 1 заведением. Стоит их рассмотреть при поиске места расположения. В других районах также есть улицы с малым количеством заведений. Возможно развитие сети.\n",
    "</div>\n",
    "\n"
   ]
  }
 ],
 "metadata": {
  "kernelspec": {
   "display_name": "Python 3",
   "language": "python",
   "name": "python3"
  },
  "language_info": {
   "codemirror_mode": {
    "name": "ipython",
    "version": 3
   },
   "file_extension": ".py",
   "mimetype": "text/x-python",
   "name": "python",
   "nbconvert_exporter": "python",
   "pygments_lexer": "ipython3",
   "version": "3.7.3"
  }
 },
 "nbformat": 4,
 "nbformat_minor": 2
}
