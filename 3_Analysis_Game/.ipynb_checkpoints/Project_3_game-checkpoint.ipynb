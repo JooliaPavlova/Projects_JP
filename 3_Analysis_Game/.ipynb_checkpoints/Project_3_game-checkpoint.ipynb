{
 "cells": [
  {
   "cell_type": "markdown",
   "metadata": {},
   "source": [
    "\n",
    "<div style=\"border:solid navy 2px; padding: 20px\">\n",
    "\n",
    "<h1 style=\"color:navy; margin-bottom:20px\">Задача</h1>\n",
    "\n",
    "Проанализировать данные о продажах компьютерных игр в разные года, определить на каких играх стоит сосредоточиться в будущем году.\n",
    "\n",
    "</div>\n"
   ]
  },
  {
   "cell_type": "markdown",
   "metadata": {},
   "source": [
    "\n",
    "<div style=\"border:solid navy 2px; padding: 20px\">\n",
    "\n",
    "<h3 style=\"color:navy; margin-bottom:20px\">Предобработка данных</h3>\n",
    "\n",
    "\n",
    "\n",
    "</div>"
   ]
  },
  {
   "cell_type": "code",
   "execution_count": 1,
   "metadata": {},
   "outputs": [],
   "source": [
    "import pandas as pd\n",
    "import numpy as np\n",
    "import matplotlib.pyplot as plt\n",
    "from matplotlib import rc\n",
    "from scipy import stats as st\n",
    "import seaborn as sns\n",
    "\n",
    "pd.set_option('float_format', '{:.2f}'.format)"
   ]
  },
  {
   "cell_type": "code",
   "execution_count": 2,
   "metadata": {},
   "outputs": [],
   "source": [
    "df = pd.read_csv('/Users/Alexander/Desktop/Juli_bag/Project_4/games_data.csv')\n",
    "data_ESRB = pd.read_csv('/Users/Alexander/Desktop/Juli_bag/Project_4/rating.csv')"
   ]
  },
  {
   "cell_type": "code",
   "execution_count": 3,
   "metadata": {},
   "outputs": [
    {
     "name": "stdout",
     "output_type": "stream",
     "text": [
      "Unnamed: 0\n",
      "count   4026.00\n",
      "mean    2012.50\n",
      "std     1162.35\n",
      "min        0.00\n",
      "25%     1006.25\n",
      "50%     2012.50\n",
      "75%     3018.75\n",
      "max     4025.00\n",
      "Name: Unnamed: 0, dtype: float64\n",
      "\n",
      "platform\n",
      "count     4026\n",
      "unique      12\n",
      "top        PS3\n",
      "freq       708\n",
      "Name: platform, dtype: object\n",
      "\n",
      "sales_year\n",
      "count   4026.00\n",
      "mean    2016.88\n",
      "std        1.01\n",
      "min     2015.00\n",
      "25%     2016.00\n",
      "50%     2017.00\n",
      "75%     2018.00\n",
      "max     2018.00\n",
      "Name: sales_year, dtype: float64\n",
      "\n",
      "genre\n",
      "count       4026\n",
      "unique        12\n",
      "top       Action\n",
      "freq        1270\n",
      "Name: genre, dtype: object\n",
      "\n",
      "online\n",
      "count   4026.00\n",
      "mean      20.62\n",
      "std       57.02\n",
      "min        0.00\n",
      "25%        0.00\n",
      "50%        4.00\n",
      "75%       17.00\n",
      "max      966.00\n",
      "Name: online, dtype: float64\n",
      "\n",
      "offline\n",
      "count   4026.00\n",
      "mean      16.64\n",
      "std       48.27\n",
      "min        0.00\n",
      "25%        0.00\n",
      "50%        3.00\n",
      "75%       13.00\n",
      "max      909.00\n",
      "Name: offline, dtype: float64\n",
      "\n",
      "critic_score\n",
      "count   1812.00\n",
      "mean      71.27\n",
      "std       13.10\n",
      "min       13.00\n",
      "25%       64.00\n",
      "50%       74.00\n",
      "75%       81.00\n",
      "max       97.00\n",
      "Name: critic_score, dtype: float64\n",
      "\n",
      "user_score\n",
      "count     2382\n",
      "unique      87\n",
      "top        tbd\n",
      "freq       350\n",
      "Name: user_score, dtype: object\n",
      "\n",
      "rating\n",
      "count     2315\n",
      "unique       6\n",
      "top          M\n",
      "freq       622\n",
      "Name: rating, dtype: object\n",
      "\n",
      "game_id\n",
      "count    4026.00\n",
      "mean    30186.20\n",
      "std     11533.93\n",
      "min     10011.00\n",
      "25%     20125.50\n",
      "50%     30302.50\n",
      "75%     40211.25\n",
      "max     49998.00\n",
      "Name: game_id, dtype: float64\n",
      "\n"
     ]
    }
   ],
   "source": [
    "# Вывод describe\n",
    "for col in df.columns:\n",
    "    print(df[col].name)\n",
    "    print(df[col].describe())\n",
    "    print()\n",
    "    "
   ]
  },
  {
   "cell_type": "code",
   "execution_count": 4,
   "metadata": {},
   "outputs": [
    {
     "name": "stdout",
     "output_type": "stream",
     "text": [
      "<class 'pandas.core.frame.DataFrame'>\n",
      "RangeIndex: 4026 entries, 0 to 4025\n",
      "Data columns (total 10 columns):\n",
      "Unnamed: 0      4026 non-null int64\n",
      "platform        4026 non-null object\n",
      "sales_year      4026 non-null float64\n",
      "genre           4026 non-null object\n",
      "online          4026 non-null float64\n",
      "offline         4026 non-null float64\n",
      "critic_score    1812 non-null float64\n",
      "user_score      2382 non-null object\n",
      "rating          2315 non-null object\n",
      "game_id         4026 non-null int64\n",
      "dtypes: float64(4), int64(2), object(4)\n",
      "memory usage: 314.6+ KB\n"
     ]
    }
   ],
   "source": [
    "df.info()"
   ]
  },
  {
   "cell_type": "code",
   "execution_count": 5,
   "metadata": {},
   "outputs": [
    {
     "name": "stdout",
     "output_type": "stream",
     "text": [
      "platform\n",
      "['PS3' 'X360' 'PS4' '3DS' 'Wii' 'DS' 'XOne' 'WiiU' 'PC' 'PSV' 'PSP' 'PS2']\n",
      "\n",
      "genre\n",
      "['Action' 'Shooter' 'Role-Playing' 'Racing' 'Platform' 'Misc' 'Simulation'\n",
      " 'Sports' 'Fighting' 'Adventure' 'Puzzle' 'Strategy']\n",
      "\n",
      "critic_score\n",
      "[97. 88. nan 83. 85. 90. 73. 74. 78. 87. 71. 96. 82. 84. 92. 86. 91. 95.\n",
      " 76. 93. 81. 94. 77. 80. 70. 72. 79. 75. 89. 66. 64. 67. 57. 68. 65. 55.\n",
      " 63. 54. 61. 33. 59. 60. 69. 52. 53. 62. 56. 39. 49. 48. 51. 43. 50. 32.\n",
      " 58. 47. 34. 46. 44. 31. 45. 41. 40. 42. 36. 23. 38. 35. 26. 24. 37. 21.\n",
      " 19. 20. 25. 13.]\n",
      "\n",
      "user_score\n",
      "['8.2' '8.1' '3.4' nan '5.3' '4.8' '3.2' '8.3' '8.4' '2.6' '7.8' '7.2' '7'\n",
      " '8.7' '4.3' '6.6' '5.7' '5' '7.4' '7.5' '6.5' '9.1' '7.3' '6.9' '6.4'\n",
      " '6.1' '8.6' '7.9' '6.7' '5.4' '4' '8.5' '9' '4.9' '4.5' '6.2' '4.2' '6.3'\n",
      " '7.7' '9.2' '7.6' '8' '3.7' '4.1' '5.8' '5.6' '6.8' '5.5' '4.4' '5.9'\n",
      " '8.9' '3.9' 'tbd' '3.1' '2.9' '6' '4.7' '7.1' '8.8' '5.1' '3.5' '2.5' '3'\n",
      " '2.7' '2.2' '5.2' '1.8' '3.8' '3.3' '4.6' '9.3' '1.6' '3.6' '2.4' '2.8'\n",
      " '1.7' '2.1' '2' '1.5' '0.7' '0.2' '1.2' '0.9' '1.9' '1.3' '1' '1.4' '2.3']\n",
      "\n",
      "rating\n",
      "['M' nan 'E' 'E10+' 'T' 'EC' 'RP']\n",
      "\n"
     ]
    }
   ],
   "source": [
    "#Столбцы, в которых вероятно требуется предобработка\n",
    "for col in ['platform', 'genre','critic_score', 'user_score', 'rating']:\n",
    "    print(df[col].name)\n",
    "    print(df[col].unique())\n",
    "    print()"
   ]
  },
  {
   "cell_type": "code",
   "execution_count": 6,
   "metadata": {},
   "outputs": [],
   "source": [
    "#tbd = To Be Determined (будет определено позже), пока равнозначно nan\n",
    "\n",
    "df['user_score'] = df['user_score'].replace('tbd', np.nan)\n",
    "    \n",
    "df['user_score'] = df['user_score'].astype('float64')\n",
    "\n",
    "df = df.drop_duplicates().reset_index(drop = True)\n"
   ]
  },
  {
   "cell_type": "code",
   "execution_count": 7,
   "metadata": {},
   "outputs": [
    {
     "name": "stdout",
     "output_type": "stream",
     "text": [
      "<class 'pandas.core.frame.DataFrame'>\n",
      "RangeIndex: 4026 entries, 0 to 4025\n",
      "Data columns (total 10 columns):\n",
      "Unnamed: 0      4026 non-null int64\n",
      "platform        4026 non-null object\n",
      "sales_year      4026 non-null int64\n",
      "genre           4026 non-null object\n",
      "online          4026 non-null int64\n",
      "offline         4026 non-null int64\n",
      "critic_score    1812 non-null float64\n",
      "user_score      2032 non-null float64\n",
      "rating          2315 non-null object\n",
      "game_id         4026 non-null int64\n",
      "dtypes: float64(2), int64(5), object(3)\n",
      "memory usage: 314.6+ KB\n"
     ]
    }
   ],
   "source": [
    "# Для целочисленных столбцов, меняю тип на int\n",
    "\n",
    "for col in ['sales_year', 'online', 'offline']:\n",
    "    try:\n",
    "        df[col] = df[col].astype(int)\n",
    "    except ValueError:\n",
    "        print('Не подходящее значение')\n",
    "    except Exception:\n",
    "        print('Встретилась непредвиденная ошибка')\n",
    "\n",
    "df.info()"
   ]
  },
  {
   "cell_type": "markdown",
   "metadata": {},
   "source": [
    "\n",
    "<div style=\"border:solid navy 2px; padding: 20px\">\n",
    "\n",
    "<h3 style=\"color:navy; margin-bottom:20px\">\n",
    "    Постройте распределение количества игр по годам продажи и опишите полученный результат\n",
    "    </h3>\n",
    "</div>"
   ]
  },
  {
   "cell_type": "code",
   "execution_count": 8,
   "metadata": {},
   "outputs": [],
   "source": [
    "def group_col(table, col, action):\n",
    "    table_new = table.groupby(col, as_index = False).agg({'online':action, \n",
    "                      'offline':action, 'sum_sales':action})\n",
    "    table_new.set_axis([table[col].name,'online','offline', 'sum_sales'], \n",
    "                       axis='columns', inplace=True)\n",
    "    return(table_new)"
   ]
  },
  {
   "cell_type": "code",
   "execution_count": 9,
   "metadata": {},
   "outputs": [],
   "source": [
    "def graph_built(data1, data2, x1, y1, y2, label_text1, label_text2):\n",
    "    ax = data1.plot(linestyle='-', marker = 'o', x=x1, y=y1, linewidth=3, alpha=0.8,\n",
    "                    label=label_text1 , color='navy') \n",
    "    data2.plot(linestyle='-', marker = 'o',x=x1, y=y2, linewidth=3, alpha=0.8, \n",
    "               label=label_text2, color='green',ax=ax, grid=True, legend=True) \n",
    "    plt.show()\n",
    "    return"
   ]
  },
  {
   "cell_type": "code",
   "execution_count": 10,
   "metadata": {},
   "outputs": [],
   "source": [
    "def one_graph_built(data1, x1, y1, label_text):\n",
    "    data1.plot(linestyle='-', marker = 'o',x=x1, y=y1, linewidth=3, alpha=0.8,\n",
    "               label=label_text, color='navy', grid=True, legend=True) \n",
    "    plt.show()\n",
    "    return"
   ]
  },
  {
   "cell_type": "code",
   "execution_count": 11,
   "metadata": {},
   "outputs": [],
   "source": [
    "df['sum_sales'] = df['online'] + df['offline']\n",
    "df_sale_count = df.groupby('sales_year', as_index = False)['game_id'].agg('count')"
   ]
  },
  {
   "cell_type": "code",
   "execution_count": 12,
   "metadata": {},
   "outputs": [
    {
     "data": {
      "image/png": "[encoded data removed]",
      "text/plain": [
       "<Figure size 432x288 with 1 Axes>"
      ]
     },
     "metadata": {
      "needs_background": "light"
     },
     "output_type": "display_data"
    }
   ],
   "source": [
    "one_graph_built(df_sale_count, 'sales_year', 'game_id', 'Количесво игр')\n"
   ]
  },
  {
   "cell_type": "code",
   "execution_count": 13,
   "metadata": {},
   "outputs": [
    {
     "data": {
      "text/html": [
       "<div>\n",
       "<style scoped>\n",
       "    .dataframe tbody tr th:only-of-type {\n",
       "        vertical-align: middle;\n",
       "    }\n",
       "\n",
       "    .dataframe tbody tr th {\n",
       "        vertical-align: top;\n",
       "    }\n",
       "\n",
       "    .dataframe thead th {\n",
       "        text-align: right;\n",
       "    }\n",
       "</style>\n",
       "<table border=\"1\" class=\"dataframe\">\n",
       "  <thead>\n",
       "    <tr style=\"text-align: right;\">\n",
       "      <th></th>\n",
       "      <th>sales_year</th>\n",
       "      <th>game_id</th>\n",
       "    </tr>\n",
       "  </thead>\n",
       "  <tbody>\n",
       "    <tr>\n",
       "      <th>0</th>\n",
       "      <td>2015</td>\n",
       "      <td>606</td>\n",
       "    </tr>\n",
       "    <tr>\n",
       "      <th>1</th>\n",
       "      <td>2016</td>\n",
       "      <td>502</td>\n",
       "    </tr>\n",
       "    <tr>\n",
       "      <th>2</th>\n",
       "      <td>2017</td>\n",
       "      <td>1683</td>\n",
       "    </tr>\n",
       "    <tr>\n",
       "      <th>3</th>\n",
       "      <td>2018</td>\n",
       "      <td>1235</td>\n",
       "    </tr>\n",
       "  </tbody>\n",
       "</table>\n",
       "</div>"
      ],
      "text/plain": [
       "   sales_year  game_id\n",
       "0        2015      606\n",
       "1        2016      502\n",
       "2        2017     1683\n",
       "3        2018     1235"
      ]
     },
     "execution_count": 13,
     "metadata": {},
     "output_type": "execute_result"
    }
   ],
   "source": [
    "df_sale_count"
   ]
  },
  {
   "cell_type": "markdown",
   "metadata": {},
   "source": [
    "\n",
    "<div style=\"border:solid navy 2px; padding: 20px\">\n",
    "\n",
    "<p>\n",
    "    В 2017 году вышло в 3 раза больше игр, по сравнению с 2016 годом. В 2018 количество выпущенных в продажу игр уменьшилось на 1/4\n",
    "</p>\n",
    "</div>"
   ]
  },
  {
   "cell_type": "markdown",
   "metadata": {},
   "source": [
    "\n",
    "<div style=\"border:solid navy 2px; padding: 20px\">\n",
    "\n",
    "<h3 style=\"color:navy; margin-bottom:20px\">\n",
    "    Постройте распределение по годам продажи для игр с отзывом и без отзыва; cравните полученные распределения и сделайте вывод.\n",
    "    </h3>\n",
    "</div>"
   ]
  },
  {
   "cell_type": "code",
   "execution_count": 14,
   "metadata": {},
   "outputs": [],
   "source": [
    "#За отзыв принимаю оценки критика, пользователя или наличие значения рейтинга\n",
    "# df_score использую ниже для подсчета корреляции \n",
    "df_nan_score = df[df['critic_score'].isna() & df['user_score'].isna() & df['rating'].isna()]\n",
    "df_score = df.drop(df_nan_score.index)\n",
    "\n",
    "df_nan_score_group = group_col(df_nan_score, 'sales_year', 'sum')\n",
    "df_score_group = group_col(df_score, 'sales_year', 'sum')"
   ]
  },
  {
   "cell_type": "code",
   "execution_count": 15,
   "metadata": {},
   "outputs": [
    {
     "data": {
      "image/png": "[encoded data removed]",
      "text/plain": [
       "<Figure size 432x288 with 1 Axes>"
      ]
     },
     "metadata": {
      "needs_background": "light"
     },
     "output_type": "display_data"
    }
   ],
   "source": [
    "graph_built(df_score_group, df_nan_score_group, 'sales_year', 'online', 'online',\n",
    "            'full online', 'nan online')"
   ]
  },
  {
   "cell_type": "code",
   "execution_count": 16,
   "metadata": {},
   "outputs": [
    {
     "data": {
      "image/png": "[encoded data removed]",
      "text/plain": [
       "<Figure size 432x288 with 1 Axes>"
      ]
     },
     "metadata": {
      "needs_background": "light"
     },
     "output_type": "display_data"
    }
   ],
   "source": [
    "graph_built(df_score_group, df_nan_score_group, 'sales_year', 'offline', 'offline',\n",
    "            'full offline', 'nan offline')"
   ]
  },
  {
   "cell_type": "code",
   "execution_count": 17,
   "metadata": {},
   "outputs": [
    {
     "name": "stdout",
     "output_type": "stream",
     "text": [
      "Количество игр без оценки = 1644\n",
      "Среднее количество продаж одной игры = 14\n"
     ]
    }
   ],
   "source": [
    "#Без оценок\n",
    "print('Количество игр без оценки =', df_nan_score.shape[0])\n",
    "\n",
    "mean_nan = df_nan_score['sum_sales'].sum()/df_nan_score.shape[0]\n",
    "print('Среднее количество продаж одной игры = {:.0f}'.format(mean_nan))"
   ]
  },
  {
   "cell_type": "code",
   "execution_count": 18,
   "metadata": {},
   "outputs": [
    {
     "name": "stdout",
     "output_type": "stream",
     "text": [
      "Количество игр с оценкой = 2382\n",
      "Среднее количество продаж одной игры = 53\n"
     ]
    }
   ],
   "source": [
    "#с оценками\n",
    "print('Количество игр с оценкой =', df_score.shape[0])\n",
    "\n",
    "mean_full = df_score['sum_sales'].sum()/df_score.shape[0]\n",
    "print('Среднее количество продаж одной игры = {:.0f}'.format(mean_full))"
   ]
  },
  {
   "cell_type": "markdown",
   "metadata": {},
   "source": [
    "\n",
    "<div style=\"border:solid navy 2px; padding: 20px\">\n",
    "\n",
    "<p>\n",
    "    Количество игр с оценкой в 12 раз больше, чем без нее , но продажи для игр с оценкой в среднем в 3 раза выше.\n",
    "</p>\n",
    "</div>\n"
   ]
  },
  {
   "cell_type": "markdown",
   "metadata": {},
   "source": [
    "\n",
    "<div style=\"border:solid navy 2px; padding: 20px\">\n",
    "\n",
    "<h3 style=\"color:navy; margin-bottom:20px\">\n",
    "    Постройте график по суммам продаж каждого года\n",
    "    </h3>\n",
    "</div>"
   ]
  },
  {
   "cell_type": "code",
   "execution_count": 19,
   "metadata": {},
   "outputs": [],
   "source": [
    "df_sale = group_col(df, 'sales_year', 'sum')"
   ]
  },
  {
   "cell_type": "code",
   "execution_count": 20,
   "metadata": {},
   "outputs": [
    {
     "data": {
      "text/html": [
       "<div>\n",
       "<style scoped>\n",
       "    .dataframe tbody tr th:only-of-type {\n",
       "        vertical-align: middle;\n",
       "    }\n",
       "\n",
       "    .dataframe tbody tr th {\n",
       "        vertical-align: top;\n",
       "    }\n",
       "\n",
       "    .dataframe thead th {\n",
       "        text-align: right;\n",
       "    }\n",
       "</style>\n",
       "<table border=\"1\" class=\"dataframe\">\n",
       "  <thead>\n",
       "    <tr style=\"text-align: right;\">\n",
       "      <th></th>\n",
       "      <th>sales_year</th>\n",
       "      <th>online</th>\n",
       "      <th>offline</th>\n",
       "      <th>sum_sales</th>\n",
       "    </tr>\n",
       "  </thead>\n",
       "  <tbody>\n",
       "    <tr>\n",
       "      <th>0</th>\n",
       "      <td>2015</td>\n",
       "      <td>10684</td>\n",
       "      <td>9672</td>\n",
       "      <td>20356</td>\n",
       "    </tr>\n",
       "    <tr>\n",
       "      <th>1</th>\n",
       "      <td>2016</td>\n",
       "      <td>4493</td>\n",
       "      <td>5119</td>\n",
       "      <td>9612</td>\n",
       "    </tr>\n",
       "    <tr>\n",
       "      <th>2</th>\n",
       "      <td>2017</td>\n",
       "      <td>39240</td>\n",
       "      <td>28446</td>\n",
       "      <td>67686</td>\n",
       "    </tr>\n",
       "    <tr>\n",
       "      <th>3</th>\n",
       "      <td>2018</td>\n",
       "      <td>28574</td>\n",
       "      <td>23731</td>\n",
       "      <td>52305</td>\n",
       "    </tr>\n",
       "  </tbody>\n",
       "</table>\n",
       "</div>"
      ],
      "text/plain": [
       "   sales_year  online  offline  sum_sales\n",
       "0        2015   10684     9672      20356\n",
       "1        2016    4493     5119       9612\n",
       "2        2017   39240    28446      67686\n",
       "3        2018   28574    23731      52305"
      ]
     },
     "execution_count": 20,
     "metadata": {},
     "output_type": "execute_result"
    }
   ],
   "source": [
    "df_sale"
   ]
  },
  {
   "cell_type": "code",
   "execution_count": 21,
   "metadata": {
    "scrolled": true
   },
   "outputs": [
    {
     "data": {
      "image/png": "[encoded data removed]",
      "text/plain": [
       "<Figure size 432x288 with 1 Axes>"
      ]
     },
     "metadata": {
      "needs_background": "light"
     },
     "output_type": "display_data"
    }
   ],
   "source": [
    "graph_built(df_sale, df_sale, 'sales_year', 'online', 'offline', 'online', 'offline')\n"
   ]
  },
  {
   "cell_type": "code",
   "execution_count": 22,
   "metadata": {
    "scrolled": true
   },
   "outputs": [
    {
     "data": {
      "image/png": "[encoded data removed]",
      "text/plain": [
       "<Figure size 432x288 with 1 Axes>"
      ]
     },
     "metadata": {
      "needs_background": "light"
     },
     "output_type": "display_data"
    }
   ],
   "source": [
    "one_graph_built(df_sale, 'sales_year', 'sum_sales', 'Количесво продаж')\n"
   ]
  },
  {
   "cell_type": "markdown",
   "metadata": {},
   "source": [
    "\n",
    "<div style=\"border:solid navy 2px; padding: 20px\">\n",
    "\n",
    "<p>\n",
    "В 2015 и 2016 годах количество online и offline продаж практически совпадает, в 2016 году снижается количество продаж, в 2017 году количество продаж увеличивается в 7 раз, и online продаж больше почти на 11000. В 2018 наблюдается спад продаж, но online продажи по прежнему лидируют, их больше на 5000.\n",
    "</p>\n",
    "</div>"
   ]
  },
  {
   "cell_type": "code",
   "execution_count": 23,
   "metadata": {
    "scrolled": true
   },
   "outputs": [
    {
     "data": {
      "text/html": [
       "<div>\n",
       "<style scoped>\n",
       "    .dataframe tbody tr th:only-of-type {\n",
       "        vertical-align: middle;\n",
       "    }\n",
       "\n",
       "    .dataframe tbody tr th {\n",
       "        vertical-align: top;\n",
       "    }\n",
       "\n",
       "    .dataframe thead th {\n",
       "        text-align: right;\n",
       "    }\n",
       "</style>\n",
       "<table border=\"1\" class=\"dataframe\">\n",
       "  <thead>\n",
       "    <tr style=\"text-align: right;\">\n",
       "      <th></th>\n",
       "      <th>sales_year</th>\n",
       "      <th>online</th>\n",
       "      <th>offline</th>\n",
       "      <th>sum_sales</th>\n",
       "    </tr>\n",
       "  </thead>\n",
       "  <tbody>\n",
       "    <tr>\n",
       "      <th>0</th>\n",
       "      <td>2015</td>\n",
       "      <td>10684</td>\n",
       "      <td>9672</td>\n",
       "      <td>20356</td>\n",
       "    </tr>\n",
       "    <tr>\n",
       "      <th>1</th>\n",
       "      <td>2016</td>\n",
       "      <td>4493</td>\n",
       "      <td>5119</td>\n",
       "      <td>9612</td>\n",
       "    </tr>\n",
       "    <tr>\n",
       "      <th>2</th>\n",
       "      <td>2017</td>\n",
       "      <td>39240</td>\n",
       "      <td>28446</td>\n",
       "      <td>67686</td>\n",
       "    </tr>\n",
       "    <tr>\n",
       "      <th>3</th>\n",
       "      <td>2018</td>\n",
       "      <td>28574</td>\n",
       "      <td>23731</td>\n",
       "      <td>52305</td>\n",
       "    </tr>\n",
       "  </tbody>\n",
       "</table>\n",
       "</div>"
      ],
      "text/plain": [
       "   sales_year  online  offline  sum_sales\n",
       "0        2015   10684     9672      20356\n",
       "1        2016    4493     5119       9612\n",
       "2        2017   39240    28446      67686\n",
       "3        2018   28574    23731      52305"
      ]
     },
     "execution_count": 23,
     "metadata": {},
     "output_type": "execute_result"
    }
   ],
   "source": [
    "df_sale"
   ]
  },
  {
   "cell_type": "markdown",
   "metadata": {},
   "source": [
    "\n",
    "<div style=\"border:solid navy 2px; padding: 20px\">\n",
    "\n",
    "<h3 style=\"color:navy; margin-bottom:20px\">\n",
    "    Постройте ящик с усами по общим продажам, опишите полученный результат\n",
    "    </h3>\n",
    "</div>\n"
   ]
  },
  {
   "cell_type": "code",
   "execution_count": 24,
   "metadata": {},
   "outputs": [
    {
     "data": {
      "image/png": "[encoded data removed]",
      "text/plain": [
       "<Figure size 432x288 with 1 Axes>"
      ]
     },
     "metadata": {
      "needs_background": "light"
     },
     "output_type": "display_data"
    }
   ],
   "source": [
    "sns.boxplot(y='sum_sales', data=df)\n",
    "plt.show()"
   ]
  },
  {
   "cell_type": "code",
   "execution_count": 25,
   "metadata": {},
   "outputs": [
    {
     "data": {
      "image/png": "[encoded data removed]",
      "text/plain": [
       "<Figure size 432x288 with 1 Axes>"
      ]
     },
     "metadata": {
      "needs_background": "light"
     },
     "output_type": "display_data"
    }
   ],
   "source": [
    "sns.boxplot(x='sales_year', y='sum_sales', data=df)\n",
    "plt.show()"
   ]
  },
  {
   "cell_type": "code",
   "execution_count": 26,
   "metadata": {},
   "outputs": [
    {
     "data": {
      "text/plain": [
       "count   4026.00\n",
       "mean      37.25\n",
       "std       99.35\n",
       "min        0.00\n",
       "25%        0.00\n",
       "50%        8.00\n",
       "75%       31.00\n",
       "max     1611.00\n",
       "Name: sum_sales, dtype: float64"
      ]
     },
     "execution_count": 26,
     "metadata": {},
     "output_type": "execute_result"
    }
   ],
   "source": [
    "df['sum_sales'].describe()"
   ]
  },
  {
   "cell_type": "markdown",
   "metadata": {},
   "source": [
    "\n",
    "<div style=\"border:solid navy 2px; padding: 20px\">\n",
    "\n",
    "<p>\n",
    "75% значений близки к нулю\n",
    "</p>\n",
    "</div>"
   ]
  },
  {
   "cell_type": "markdown",
   "metadata": {},
   "source": [
    "\n",
    "<div style=\"border:solid navy 2px; padding: 20px\">\n",
    "\n",
    "<h3 style=\"color:navy; margin-bottom:20px\">\n",
    "Узнайте, на какой платформе было продано больше всего игр\n",
    "    </h3>\n",
    "</div>\n"
   ]
  },
  {
   "cell_type": "code",
   "execution_count": 27,
   "metadata": {},
   "outputs": [],
   "source": [
    "# Количество вышедших игр\n",
    "df_pl = df.groupby('platform', as_index = False)['game_id'].agg('count')"
   ]
  },
  {
   "cell_type": "code",
   "execution_count": 28,
   "metadata": {},
   "outputs": [
    {
     "data": {
      "text/html": [
       "<div>\n",
       "<style scoped>\n",
       "    .dataframe tbody tr th:only-of-type {\n",
       "        vertical-align: middle;\n",
       "    }\n",
       "\n",
       "    .dataframe tbody tr th {\n",
       "        vertical-align: top;\n",
       "    }\n",
       "\n",
       "    .dataframe thead th {\n",
       "        text-align: right;\n",
       "    }\n",
       "</style>\n",
       "<table border=\"1\" class=\"dataframe\">\n",
       "  <thead>\n",
       "    <tr style=\"text-align: right;\">\n",
       "      <th></th>\n",
       "      <th>platform</th>\n",
       "      <th>online</th>\n",
       "      <th>offline</th>\n",
       "      <th>sum_sales</th>\n",
       "      <th>count</th>\n",
       "      <th>sum_sale</th>\n",
       "    </tr>\n",
       "  </thead>\n",
       "  <tbody>\n",
       "    <tr>\n",
       "      <th>10</th>\n",
       "      <td>X360</td>\n",
       "      <td>22675</td>\n",
       "      <td>11709</td>\n",
       "      <td>34384</td>\n",
       "      <td>498</td>\n",
       "      <td>34384</td>\n",
       "    </tr>\n",
       "    <tr>\n",
       "      <th>4</th>\n",
       "      <td>PS3</td>\n",
       "      <td>16823</td>\n",
       "      <td>16307</td>\n",
       "      <td>33130</td>\n",
       "      <td>708</td>\n",
       "      <td>33130</td>\n",
       "    </tr>\n",
       "    <tr>\n",
       "      <th>5</th>\n",
       "      <td>PS4</td>\n",
       "      <td>10873</td>\n",
       "      <td>14106</td>\n",
       "      <td>24979</td>\n",
       "      <td>393</td>\n",
       "      <td>24979</td>\n",
       "    </tr>\n",
       "    <tr>\n",
       "      <th>11</th>\n",
       "      <td>XOne</td>\n",
       "      <td>9312</td>\n",
       "      <td>5157</td>\n",
       "      <td>14469</td>\n",
       "      <td>247</td>\n",
       "      <td>14469</td>\n",
       "    </tr>\n",
       "    <tr>\n",
       "      <th>0</th>\n",
       "      <td>3DS</td>\n",
       "      <td>8265</td>\n",
       "      <td>6126</td>\n",
       "      <td>14391</td>\n",
       "      <td>512</td>\n",
       "      <td>14391</td>\n",
       "    </tr>\n",
       "    <tr>\n",
       "      <th>2</th>\n",
       "      <td>PC</td>\n",
       "      <td>2988</td>\n",
       "      <td>5669</td>\n",
       "      <td>8657</td>\n",
       "      <td>389</td>\n",
       "      <td>8657</td>\n",
       "    </tr>\n",
       "    <tr>\n",
       "      <th>8</th>\n",
       "      <td>Wii</td>\n",
       "      <td>4854</td>\n",
       "      <td>2960</td>\n",
       "      <td>7814</td>\n",
       "      <td>197</td>\n",
       "      <td>7814</td>\n",
       "    </tr>\n",
       "    <tr>\n",
       "      <th>9</th>\n",
       "      <td>WiiU</td>\n",
       "      <td>3809</td>\n",
       "      <td>2513</td>\n",
       "      <td>6322</td>\n",
       "      <td>147</td>\n",
       "      <td>6322</td>\n",
       "    </tr>\n",
       "    <tr>\n",
       "      <th>1</th>\n",
       "      <td>DS</td>\n",
       "      <td>1913</td>\n",
       "      <td>924</td>\n",
       "      <td>2837</td>\n",
       "      <td>185</td>\n",
       "      <td>2837</td>\n",
       "    </tr>\n",
       "    <tr>\n",
       "      <th>7</th>\n",
       "      <td>PSV</td>\n",
       "      <td>1247</td>\n",
       "      <td>1307</td>\n",
       "      <td>2554</td>\n",
       "      <td>431</td>\n",
       "      <td>2554</td>\n",
       "    </tr>\n",
       "    <tr>\n",
       "      <th>6</th>\n",
       "      <td>PSP</td>\n",
       "      <td>219</td>\n",
       "      <td>177</td>\n",
       "      <td>396</td>\n",
       "      <td>312</td>\n",
       "      <td>396</td>\n",
       "    </tr>\n",
       "    <tr>\n",
       "      <th>3</th>\n",
       "      <td>PS2</td>\n",
       "      <td>13</td>\n",
       "      <td>13</td>\n",
       "      <td>26</td>\n",
       "      <td>7</td>\n",
       "      <td>26</td>\n",
       "    </tr>\n",
       "  </tbody>\n",
       "</table>\n",
       "</div>"
      ],
      "text/plain": [
       "   platform  online  offline  sum_sales  count  sum_sale\n",
       "10     X360   22675    11709      34384    498     34384\n",
       "4       PS3   16823    16307      33130    708     33130\n",
       "5       PS4   10873    14106      24979    393     24979\n",
       "11     XOne    9312     5157      14469    247     14469\n",
       "0       3DS    8265     6126      14391    512     14391\n",
       "2        PC    2988     5669       8657    389      8657\n",
       "8       Wii    4854     2960       7814    197      7814\n",
       "9      WiiU    3809     2513       6322    147      6322\n",
       "1        DS    1913      924       2837    185      2837\n",
       "7       PSV    1247     1307       2554    431      2554\n",
       "6       PSP     219      177        396    312       396\n",
       "3       PS2      13       13         26      7        26"
      ]
     },
     "execution_count": 28,
     "metadata": {},
     "output_type": "execute_result"
    }
   ],
   "source": [
    "#Количество продаж\n",
    "df_platform = group_col(df, 'platform', 'sum')\n",
    "df_platform['count'] = df_pl['game_id']\n",
    "df_platform['sum_sale'] = df_platform['online'] + df_platform['offline']\n",
    "\n",
    "df_platform = df_platform.sort_values(by='sum_sale', ascending=False)\n",
    "df_platform"
   ]
  },
  {
   "cell_type": "code",
   "execution_count": 29,
   "metadata": {},
   "outputs": [
    {
     "data": {
      "image/png": "[encoded data removed]",
      "text/plain": [
       "<Figure size 432x288 with 1 Axes>"
      ]
     },
     "metadata": {
      "needs_background": "light"
     },
     "output_type": "display_data"
    }
   ],
   "source": [
    "plt.bar(df_platform['platform'], df_platform['sum_sale'], align='center', width= 0.8, color='navy', alpha=1)\n",
    "\n",
    "plt.xlabel('Платформа')\n",
    "plt.ylabel('Количество продаж')\n",
    "plt.title('Сумма продаж для разных платформ')\n",
    "for i in range(len(df_platform['platform'])):\n",
    "    plt.text(x= df_platform.loc[i,'platform'], y=df_platform.loc[i,'sum_sale']+500, s=df_platform.loc[i,'sum_sale'],\n",
    "             horizontalalignment='center', color='navy', size = 8)\n",
    "plt.show()"
   ]
  },
  {
   "cell_type": "code",
   "execution_count": 30,
   "metadata": {},
   "outputs": [
    {
     "data": {
      "image/png": "[encoded data removed]",
      "text/plain": [
       "<Figure size 432x288 with 1 Axes>"
      ]
     },
     "metadata": {
      "needs_background": "light"
     },
     "output_type": "display_data"
    }
   ],
   "source": [
    "bars1 = df_platform['offline'].tolist()\n",
    "bars2 = df_platform['online'].tolist()\n",
    " \n",
    "names = df_platform['platform']\n",
    "\n",
    "x = np.arange(len(names)) \n",
    "width = 0.4\n",
    "\n",
    "p1=plt.bar(x - width/2, bars1, width, color='#160A65', alpha=1)\n",
    "p2=plt.bar(x + width/2,  bars2, width,color='#814C94', alpha=0.7)\n",
    "\n",
    "plt.xticks([r for r in range(len(bars1))], names, horizontalalignment='right', rotation=45)\n",
    "plt.xlabel('Платформа')\n",
    "plt.ylabel('Количество продаж')\n",
    "plt.title('Сумма продаж для разных платформ')\n",
    "plt.legend((p1[0],p2[0]), ('offline','online'))\n",
    "plt.show()"
   ]
  },
  {
   "cell_type": "markdown",
   "metadata": {},
   "source": [
    "\n",
    "<div style=\"border:solid navy 2px; padding: 20px\">\n",
    "\n",
    "<h3 style=\"color:navy; margin-bottom:20px\">\n",
    "Определите, игр какого жанра больше всего\n",
    "    </h3>\n",
    "</div>\n"
   ]
  },
  {
   "cell_type": "code",
   "execution_count": 31,
   "metadata": {},
   "outputs": [
    {
     "data": {
      "text/html": [
       "<div>\n",
       "<style scoped>\n",
       "    .dataframe tbody tr th:only-of-type {\n",
       "        vertical-align: middle;\n",
       "    }\n",
       "\n",
       "    .dataframe tbody tr th {\n",
       "        vertical-align: top;\n",
       "    }\n",
       "\n",
       "    .dataframe thead th {\n",
       "        text-align: right;\n",
       "    }\n",
       "</style>\n",
       "<table border=\"1\" class=\"dataframe\">\n",
       "  <thead>\n",
       "    <tr style=\"text-align: right;\">\n",
       "      <th></th>\n",
       "      <th>Unnamed: 0</th>\n",
       "      <th>platform</th>\n",
       "      <th>sales_year</th>\n",
       "      <th>genre</th>\n",
       "      <th>online</th>\n",
       "      <th>offline</th>\n",
       "      <th>critic_score</th>\n",
       "      <th>user_score</th>\n",
       "      <th>rating</th>\n",
       "      <th>game_id</th>\n",
       "      <th>sum_sales</th>\n",
       "    </tr>\n",
       "  </thead>\n",
       "  <tbody>\n",
       "    <tr>\n",
       "      <th>0</th>\n",
       "      <td>0</td>\n",
       "      <td>PS3</td>\n",
       "      <td>2017</td>\n",
       "      <td>Action</td>\n",
       "      <td>702</td>\n",
       "      <td>909</td>\n",
       "      <td>97.00</td>\n",
       "      <td>8.20</td>\n",
       "      <td>M</td>\n",
       "      <td>20838</td>\n",
       "      <td>1611</td>\n",
       "    </tr>\n",
       "    <tr>\n",
       "      <th>1</th>\n",
       "      <td>1</td>\n",
       "      <td>X360</td>\n",
       "      <td>2017</td>\n",
       "      <td>Action</td>\n",
       "      <td>966</td>\n",
       "      <td>514</td>\n",
       "      <td>97.00</td>\n",
       "      <td>8.10</td>\n",
       "      <td>M</td>\n",
       "      <td>48673</td>\n",
       "      <td>1480</td>\n",
       "    </tr>\n",
       "    <tr>\n",
       "      <th>2</th>\n",
       "      <td>2</td>\n",
       "      <td>X360</td>\n",
       "      <td>2017</td>\n",
       "      <td>Shooter</td>\n",
       "      <td>904</td>\n",
       "      <td>424</td>\n",
       "      <td>88.00</td>\n",
       "      <td>3.40</td>\n",
       "      <td>M</td>\n",
       "      <td>17801</td>\n",
       "      <td>1328</td>\n",
       "    </tr>\n",
       "    <tr>\n",
       "      <th>3</th>\n",
       "      <td>3</td>\n",
       "      <td>PS4</td>\n",
       "      <td>2015</td>\n",
       "      <td>Shooter</td>\n",
       "      <td>603</td>\n",
       "      <td>586</td>\n",
       "      <td>nan</td>\n",
       "      <td>nan</td>\n",
       "      <td>NaN</td>\n",
       "      <td>12200</td>\n",
       "      <td>1189</td>\n",
       "    </tr>\n",
       "    <tr>\n",
       "      <th>4</th>\n",
       "      <td>4</td>\n",
       "      <td>3DS</td>\n",
       "      <td>2017</td>\n",
       "      <td>Role-Playing</td>\n",
       "      <td>528</td>\n",
       "      <td>419</td>\n",
       "      <td>nan</td>\n",
       "      <td>nan</td>\n",
       "      <td>NaN</td>\n",
       "      <td>11432</td>\n",
       "      <td>947</td>\n",
       "    </tr>\n",
       "  </tbody>\n",
       "</table>\n",
       "</div>"
      ],
      "text/plain": [
       "   Unnamed: 0 platform  sales_year         genre  online  offline  \\\n",
       "0           0      PS3        2017        Action     702      909   \n",
       "1           1     X360        2017        Action     966      514   \n",
       "2           2     X360        2017       Shooter     904      424   \n",
       "3           3      PS4        2015       Shooter     603      586   \n",
       "4           4      3DS        2017  Role-Playing     528      419   \n",
       "\n",
       "   critic_score  user_score rating  game_id  sum_sales  \n",
       "0         97.00        8.20      M    20838       1611  \n",
       "1         97.00        8.10      M    48673       1480  \n",
       "2         88.00        3.40      M    17801       1328  \n",
       "3           nan         nan    NaN    12200       1189  \n",
       "4           nan         nan    NaN    11432        947  "
      ]
     },
     "execution_count": 31,
     "metadata": {},
     "output_type": "execute_result"
    }
   ],
   "source": [
    "df.head()"
   ]
  },
  {
   "cell_type": "code",
   "execution_count": 32,
   "metadata": {},
   "outputs": [
    {
     "data": {
      "text/html": [
       "<div>\n",
       "<style scoped>\n",
       "    .dataframe tbody tr th:only-of-type {\n",
       "        vertical-align: middle;\n",
       "    }\n",
       "\n",
       "    .dataframe tbody tr th {\n",
       "        vertical-align: top;\n",
       "    }\n",
       "\n",
       "    .dataframe thead th {\n",
       "        text-align: right;\n",
       "    }\n",
       "</style>\n",
       "<table border=\"1\" class=\"dataframe\">\n",
       "  <thead>\n",
       "    <tr style=\"text-align: right;\">\n",
       "      <th></th>\n",
       "      <th>genre</th>\n",
       "      <th>game_id</th>\n",
       "    </tr>\n",
       "  </thead>\n",
       "  <tbody>\n",
       "    <tr>\n",
       "      <th>0</th>\n",
       "      <td>Action</td>\n",
       "      <td>1270</td>\n",
       "    </tr>\n",
       "    <tr>\n",
       "      <th>7</th>\n",
       "      <td>Role-Playing</td>\n",
       "      <td>467</td>\n",
       "    </tr>\n",
       "    <tr>\n",
       "      <th>1</th>\n",
       "      <td>Adventure</td>\n",
       "      <td>410</td>\n",
       "    </tr>\n",
       "    <tr>\n",
       "      <th>10</th>\n",
       "      <td>Sports</td>\n",
       "      <td>389</td>\n",
       "    </tr>\n",
       "    <tr>\n",
       "      <th>3</th>\n",
       "      <td>Misc</td>\n",
       "      <td>375</td>\n",
       "    </tr>\n",
       "    <tr>\n",
       "      <th>8</th>\n",
       "      <td>Shooter</td>\n",
       "      <td>329</td>\n",
       "    </tr>\n",
       "    <tr>\n",
       "      <th>6</th>\n",
       "      <td>Racing</td>\n",
       "      <td>180</td>\n",
       "    </tr>\n",
       "    <tr>\n",
       "      <th>2</th>\n",
       "      <td>Fighting</td>\n",
       "      <td>159</td>\n",
       "    </tr>\n",
       "    <tr>\n",
       "      <th>9</th>\n",
       "      <td>Simulation</td>\n",
       "      <td>137</td>\n",
       "    </tr>\n",
       "    <tr>\n",
       "      <th>4</th>\n",
       "      <td>Platform</td>\n",
       "      <td>122</td>\n",
       "    </tr>\n",
       "    <tr>\n",
       "      <th>11</th>\n",
       "      <td>Strategy</td>\n",
       "      <td>117</td>\n",
       "    </tr>\n",
       "    <tr>\n",
       "      <th>5</th>\n",
       "      <td>Puzzle</td>\n",
       "      <td>71</td>\n",
       "    </tr>\n",
       "  </tbody>\n",
       "</table>\n",
       "</div>"
      ],
      "text/plain": [
       "           genre  game_id\n",
       "0         Action     1270\n",
       "7   Role-Playing      467\n",
       "1      Adventure      410\n",
       "10        Sports      389\n",
       "3           Misc      375\n",
       "8        Shooter      329\n",
       "6         Racing      180\n",
       "2       Fighting      159\n",
       "9     Simulation      137\n",
       "4       Platform      122\n",
       "11      Strategy      117\n",
       "5         Puzzle       71"
      ]
     },
     "execution_count": 32,
     "metadata": {},
     "output_type": "execute_result"
    }
   ],
   "source": [
    "df_genre = df.groupby('genre', as_index = False)['game_id'].agg('count')\n",
    "df_genre = df_genre.sort_values(by='game_id', ascending=False)\n",
    "df_genre"
   ]
  },
  {
   "cell_type": "code",
   "execution_count": 33,
   "metadata": {},
   "outputs": [
    {
     "data": {
      "image/png": "[encoded data removed]",
      "text/plain": [
       "<Figure size 432x288 with 1 Axes>"
      ]
     },
     "metadata": {
      "needs_background": "light"
     },
     "output_type": "display_data"
    }
   ],
   "source": [
    "\n",
    "plt.bar(df_genre['genre'], df_genre['game_id'], align='center', width= 0.8, color='navy', alpha=0.9)\n",
    "\n",
    "plt.xlabel('Платформа')\n",
    "plt.ylabel('Количество продаж')\n",
    "plt.title('Сумма продаж для разных жанров')\n",
    "for i in range(len(df_genre['genre'])):\n",
    "    plt.text(x= df_genre.loc[i,'genre'], y=df_genre.loc[i,'game_id']+10, \n",
    "        s=df_genre.loc[i,'game_id'], horizontalalignment='center', color='navy', size = 7)\n",
    "bars = df_genre['genre'].tolist()\n",
    "plt.xticks(bars, rotation=90)\n",
    "plt.show()"
   ]
  },
  {
   "cell_type": "markdown",
   "metadata": {},
   "source": [
    "\n",
    "<div style=\"border:solid navy 2px; padding: 20px\">\n",
    "\n",
    "<h3 style=\"color:navy; margin-bottom:20px\">\n",
    "Найдите игры с наибольшей и наименьшей оценкой от пользователей\n",
    "    </h3>\n",
    "</div>\n"
   ]
  },
  {
   "cell_type": "code",
   "execution_count": 34,
   "metadata": {},
   "outputs": [],
   "source": [
    "df_user_score = df[~df['user_score'].isna()]\n",
    "df_user_score = df_user_score.sort_values(by='user_score', ascending=False)\n",
    "user_score_head = df_user_score.head(10)\n",
    "user_score_tail = df_user_score.tail(10)"
   ]
  },
  {
   "cell_type": "code",
   "execution_count": 35,
   "metadata": {},
   "outputs": [
    {
     "data": {
      "text/html": [
       "<div>\n",
       "<style scoped>\n",
       "    .dataframe tbody tr th:only-of-type {\n",
       "        vertical-align: middle;\n",
       "    }\n",
       "\n",
       "    .dataframe tbody tr th {\n",
       "        vertical-align: top;\n",
       "    }\n",
       "\n",
       "    .dataframe thead th {\n",
       "        text-align: right;\n",
       "    }\n",
       "</style>\n",
       "<table border=\"1\" class=\"dataframe\">\n",
       "  <thead>\n",
       "    <tr style=\"text-align: right;\">\n",
       "      <th></th>\n",
       "      <th>Unnamed: 0</th>\n",
       "      <th>platform</th>\n",
       "      <th>sales_year</th>\n",
       "      <th>genre</th>\n",
       "      <th>online</th>\n",
       "      <th>offline</th>\n",
       "      <th>critic_score</th>\n",
       "      <th>user_score</th>\n",
       "      <th>rating</th>\n",
       "      <th>game_id</th>\n",
       "      <th>sum_sales</th>\n",
       "    </tr>\n",
       "  </thead>\n",
       "  <tbody>\n",
       "    <tr>\n",
       "      <th>2348</th>\n",
       "      <td>2348</td>\n",
       "      <td>PSV</td>\n",
       "      <td>2015</td>\n",
       "      <td>Adventure</td>\n",
       "      <td>0</td>\n",
       "      <td>3</td>\n",
       "      <td>86.00</td>\n",
       "      <td>9.30</td>\n",
       "      <td>M</td>\n",
       "      <td>38270</td>\n",
       "      <td>3</td>\n",
       "    </tr>\n",
       "    <tr>\n",
       "      <th>639</th>\n",
       "      <td>639</td>\n",
       "      <td>PC</td>\n",
       "      <td>2015</td>\n",
       "      <td>Role-Playing</td>\n",
       "      <td>21</td>\n",
       "      <td>46</td>\n",
       "      <td>93.00</td>\n",
       "      <td>9.30</td>\n",
       "      <td>M</td>\n",
       "      <td>12365</td>\n",
       "      <td>67</td>\n",
       "    </tr>\n",
       "    <tr>\n",
       "      <th>77</th>\n",
       "      <td>77</td>\n",
       "      <td>PS4</td>\n",
       "      <td>2015</td>\n",
       "      <td>Role-Playing</td>\n",
       "      <td>102</td>\n",
       "      <td>213</td>\n",
       "      <td>92.00</td>\n",
       "      <td>9.20</td>\n",
       "      <td>M</td>\n",
       "      <td>43575</td>\n",
       "      <td>315</td>\n",
       "    </tr>\n",
       "    <tr>\n",
       "      <th>339</th>\n",
       "      <td>339</td>\n",
       "      <td>XOne</td>\n",
       "      <td>2015</td>\n",
       "      <td>Role-Playing</td>\n",
       "      <td>69</td>\n",
       "      <td>50</td>\n",
       "      <td>91.00</td>\n",
       "      <td>9.20</td>\n",
       "      <td>M</td>\n",
       "      <td>10495</td>\n",
       "      <td>119</td>\n",
       "    </tr>\n",
       "    <tr>\n",
       "      <th>2277</th>\n",
       "      <td>2277</td>\n",
       "      <td>PSV</td>\n",
       "      <td>2017</td>\n",
       "      <td>Adventure</td>\n",
       "      <td>4</td>\n",
       "      <td>4</td>\n",
       "      <td>83.00</td>\n",
       "      <td>9.20</td>\n",
       "      <td>M</td>\n",
       "      <td>27691</td>\n",
       "      <td>8</td>\n",
       "    </tr>\n",
       "    <tr>\n",
       "      <th>403</th>\n",
       "      <td>403</td>\n",
       "      <td>PSV</td>\n",
       "      <td>2018</td>\n",
       "      <td>Role-Playing</td>\n",
       "      <td>36</td>\n",
       "      <td>23</td>\n",
       "      <td>93.00</td>\n",
       "      <td>9.20</td>\n",
       "      <td>M</td>\n",
       "      <td>42967</td>\n",
       "      <td>59</td>\n",
       "    </tr>\n",
       "    <tr>\n",
       "      <th>41</th>\n",
       "      <td>41</td>\n",
       "      <td>PS3</td>\n",
       "      <td>2017</td>\n",
       "      <td>Action</td>\n",
       "      <td>241</td>\n",
       "      <td>218</td>\n",
       "      <td>95.00</td>\n",
       "      <td>9.10</td>\n",
       "      <td>M</td>\n",
       "      <td>12655</td>\n",
       "      <td>459</td>\n",
       "    </tr>\n",
       "    <tr>\n",
       "      <th>32</th>\n",
       "      <td>32</td>\n",
       "      <td>WiiU</td>\n",
       "      <td>2018</td>\n",
       "      <td>Racing</td>\n",
       "      <td>315</td>\n",
       "      <td>215</td>\n",
       "      <td>88.00</td>\n",
       "      <td>9.10</td>\n",
       "      <td>E</td>\n",
       "      <td>24993</td>\n",
       "      <td>530</td>\n",
       "    </tr>\n",
       "    <tr>\n",
       "      <th>201</th>\n",
       "      <td>201</td>\n",
       "      <td>3DS</td>\n",
       "      <td>2018</td>\n",
       "      <td>Role-Playing</td>\n",
       "      <td>90</td>\n",
       "      <td>45</td>\n",
       "      <td>92.00</td>\n",
       "      <td>9.10</td>\n",
       "      <td>T</td>\n",
       "      <td>25903</td>\n",
       "      <td>135</td>\n",
       "    </tr>\n",
       "    <tr>\n",
       "      <th>65</th>\n",
       "      <td>65</td>\n",
       "      <td>WiiU</td>\n",
       "      <td>2017</td>\n",
       "      <td>Platform</td>\n",
       "      <td>211</td>\n",
       "      <td>116</td>\n",
       "      <td>93.00</td>\n",
       "      <td>9.00</td>\n",
       "      <td>E</td>\n",
       "      <td>37029</td>\n",
       "      <td>327</td>\n",
       "    </tr>\n",
       "  </tbody>\n",
       "</table>\n",
       "</div>"
      ],
      "text/plain": [
       "      Unnamed: 0 platform  sales_year         genre  online  offline  \\\n",
       "2348        2348      PSV        2015     Adventure       0        3   \n",
       "639          639       PC        2015  Role-Playing      21       46   \n",
       "77            77      PS4        2015  Role-Playing     102      213   \n",
       "339          339     XOne        2015  Role-Playing      69       50   \n",
       "2277        2277      PSV        2017     Adventure       4        4   \n",
       "403          403      PSV        2018  Role-Playing      36       23   \n",
       "41            41      PS3        2017        Action     241      218   \n",
       "32            32     WiiU        2018        Racing     315      215   \n",
       "201          201      3DS        2018  Role-Playing      90       45   \n",
       "65            65     WiiU        2017      Platform     211      116   \n",
       "\n",
       "      critic_score  user_score rating  game_id  sum_sales  \n",
       "2348         86.00        9.30      M    38270          3  \n",
       "639          93.00        9.30      M    12365         67  \n",
       "77           92.00        9.20      M    43575        315  \n",
       "339          91.00        9.20      M    10495        119  \n",
       "2277         83.00        9.20      M    27691          8  \n",
       "403          93.00        9.20      M    42967         59  \n",
       "41           95.00        9.10      M    12655        459  \n",
       "32           88.00        9.10      E    24993        530  \n",
       "201          92.00        9.10      T    25903        135  \n",
       "65           93.00        9.00      E    37029        327  "
      ]
     },
     "execution_count": 35,
     "metadata": {},
     "output_type": "execute_result"
    }
   ],
   "source": [
    "user_score_head"
   ]
  },
  {
   "cell_type": "code",
   "execution_count": 36,
   "metadata": {},
   "outputs": [
    {
     "data": {
      "text/html": [
       "<div>\n",
       "<style scoped>\n",
       "    .dataframe tbody tr th:only-of-type {\n",
       "        vertical-align: middle;\n",
       "    }\n",
       "\n",
       "    .dataframe tbody tr th {\n",
       "        vertical-align: top;\n",
       "    }\n",
       "\n",
       "    .dataframe thead th {\n",
       "        text-align: right;\n",
       "    }\n",
       "</style>\n",
       "<table border=\"1\" class=\"dataframe\">\n",
       "  <thead>\n",
       "    <tr style=\"text-align: right;\">\n",
       "      <th></th>\n",
       "      <th>Unnamed: 0</th>\n",
       "      <th>platform</th>\n",
       "      <th>sales_year</th>\n",
       "      <th>genre</th>\n",
       "      <th>online</th>\n",
       "      <th>offline</th>\n",
       "      <th>critic_score</th>\n",
       "      <th>user_score</th>\n",
       "      <th>rating</th>\n",
       "      <th>game_id</th>\n",
       "      <th>sum_sales</th>\n",
       "    </tr>\n",
       "  </thead>\n",
       "  <tbody>\n",
       "    <tr>\n",
       "      <th>655</th>\n",
       "      <td>655</td>\n",
       "      <td>Wii</td>\n",
       "      <td>2018</td>\n",
       "      <td>Action</td>\n",
       "      <td>18</td>\n",
       "      <td>44</td>\n",
       "      <td>nan</td>\n",
       "      <td>1.60</td>\n",
       "      <td>E</td>\n",
       "      <td>26822</td>\n",
       "      <td>62</td>\n",
       "    </tr>\n",
       "    <tr>\n",
       "      <th>1549</th>\n",
       "      <td>1549</td>\n",
       "      <td>PS4</td>\n",
       "      <td>2015</td>\n",
       "      <td>Sports</td>\n",
       "      <td>9</td>\n",
       "      <td>8</td>\n",
       "      <td>32.00</td>\n",
       "      <td>1.50</td>\n",
       "      <td>T</td>\n",
       "      <td>29346</td>\n",
       "      <td>17</td>\n",
       "    </tr>\n",
       "    <tr>\n",
       "      <th>3937</th>\n",
       "      <td>3937</td>\n",
       "      <td>PC</td>\n",
       "      <td>2015</td>\n",
       "      <td>Sports</td>\n",
       "      <td>0</td>\n",
       "      <td>1</td>\n",
       "      <td>nan</td>\n",
       "      <td>1.40</td>\n",
       "      <td>E</td>\n",
       "      <td>15250</td>\n",
       "      <td>1</td>\n",
       "    </tr>\n",
       "    <tr>\n",
       "      <th>3552</th>\n",
       "      <td>3552</td>\n",
       "      <td>PC</td>\n",
       "      <td>2018</td>\n",
       "      <td>Role-Playing</td>\n",
       "      <td>0</td>\n",
       "      <td>2</td>\n",
       "      <td>57.00</td>\n",
       "      <td>1.40</td>\n",
       "      <td>M</td>\n",
       "      <td>34674</td>\n",
       "      <td>2</td>\n",
       "    </tr>\n",
       "    <tr>\n",
       "      <th>2812</th>\n",
       "      <td>2812</td>\n",
       "      <td>X360</td>\n",
       "      <td>2017</td>\n",
       "      <td>Racing</td>\n",
       "      <td>4</td>\n",
       "      <td>1</td>\n",
       "      <td>19.00</td>\n",
       "      <td>1.30</td>\n",
       "      <td>M</td>\n",
       "      <td>11902</td>\n",
       "      <td>5</td>\n",
       "    </tr>\n",
       "    <tr>\n",
       "      <th>2321</th>\n",
       "      <td>2321</td>\n",
       "      <td>X360</td>\n",
       "      <td>2017</td>\n",
       "      <td>Shooter</td>\n",
       "      <td>7</td>\n",
       "      <td>2</td>\n",
       "      <td>43.00</td>\n",
       "      <td>1.20</td>\n",
       "      <td>M</td>\n",
       "      <td>24620</td>\n",
       "      <td>9</td>\n",
       "    </tr>\n",
       "    <tr>\n",
       "      <th>3026</th>\n",
       "      <td>3026</td>\n",
       "      <td>PS3</td>\n",
       "      <td>2017</td>\n",
       "      <td>Racing</td>\n",
       "      <td>2</td>\n",
       "      <td>1</td>\n",
       "      <td>13.00</td>\n",
       "      <td>1.00</td>\n",
       "      <td>M</td>\n",
       "      <td>28618</td>\n",
       "      <td>3</td>\n",
       "    </tr>\n",
       "    <tr>\n",
       "      <th>2695</th>\n",
       "      <td>2695</td>\n",
       "      <td>DS</td>\n",
       "      <td>2017</td>\n",
       "      <td>Platform</td>\n",
       "      <td>6</td>\n",
       "      <td>0</td>\n",
       "      <td>nan</td>\n",
       "      <td>0.90</td>\n",
       "      <td>E</td>\n",
       "      <td>14384</td>\n",
       "      <td>6</td>\n",
       "    </tr>\n",
       "    <tr>\n",
       "      <th>1739</th>\n",
       "      <td>1739</td>\n",
       "      <td>X360</td>\n",
       "      <td>2016</td>\n",
       "      <td>Sports</td>\n",
       "      <td>14</td>\n",
       "      <td>2</td>\n",
       "      <td>nan</td>\n",
       "      <td>0.70</td>\n",
       "      <td>E</td>\n",
       "      <td>28773</td>\n",
       "      <td>16</td>\n",
       "    </tr>\n",
       "    <tr>\n",
       "      <th>2118</th>\n",
       "      <td>2118</td>\n",
       "      <td>PS3</td>\n",
       "      <td>2016</td>\n",
       "      <td>Sports</td>\n",
       "      <td>7</td>\n",
       "      <td>2</td>\n",
       "      <td>nan</td>\n",
       "      <td>0.20</td>\n",
       "      <td>E</td>\n",
       "      <td>23493</td>\n",
       "      <td>9</td>\n",
       "    </tr>\n",
       "  </tbody>\n",
       "</table>\n",
       "</div>"
      ],
      "text/plain": [
       "      Unnamed: 0 platform  sales_year         genre  online  offline  \\\n",
       "655          655      Wii        2018        Action      18       44   \n",
       "1549        1549      PS4        2015        Sports       9        8   \n",
       "3937        3937       PC        2015        Sports       0        1   \n",
       "3552        3552       PC        2018  Role-Playing       0        2   \n",
       "2812        2812     X360        2017        Racing       4        1   \n",
       "2321        2321     X360        2017       Shooter       7        2   \n",
       "3026        3026      PS3        2017        Racing       2        1   \n",
       "2695        2695       DS        2017      Platform       6        0   \n",
       "1739        1739     X360        2016        Sports      14        2   \n",
       "2118        2118      PS3        2016        Sports       7        2   \n",
       "\n",
       "      critic_score  user_score rating  game_id  sum_sales  \n",
       "655            nan        1.60      E    26822         62  \n",
       "1549         32.00        1.50      T    29346         17  \n",
       "3937           nan        1.40      E    15250          1  \n",
       "3552         57.00        1.40      M    34674          2  \n",
       "2812         19.00        1.30      M    11902          5  \n",
       "2321         43.00        1.20      M    24620          9  \n",
       "3026         13.00        1.00      M    28618          3  \n",
       "2695           nan        0.90      E    14384          6  \n",
       "1739           nan        0.70      E    28773         16  \n",
       "2118           nan        0.20      E    23493          9  "
      ]
     },
     "execution_count": 36,
     "metadata": {},
     "output_type": "execute_result"
    }
   ],
   "source": [
    "user_score_tail"
   ]
  },
  {
   "cell_type": "markdown",
   "metadata": {},
   "source": [
    "\n",
    "<div style=\"border:solid navy 2px; padding: 20px\">\n",
    "\n",
    "<h3 style=\"color:navy; margin-bottom:20px\">\n",
    "Найдите игры с наибольшей и наименьшей оценкой от критиков\n",
    "    </h3>\n",
    "</div>\n"
   ]
  },
  {
   "cell_type": "code",
   "execution_count": 37,
   "metadata": {},
   "outputs": [],
   "source": [
    "df_critic_score = df[~df['critic_score'].isna()]\n",
    "df_critic_score = df_user_score.sort_values(by='critic_score', ascending=False)\n",
    "critic_score_head = df_user_score.head(10)\n",
    "critic_score_tail = df_user_score.tail(10)"
   ]
  },
  {
   "cell_type": "code",
   "execution_count": 38,
   "metadata": {},
   "outputs": [
    {
     "data": {
      "text/html": [
       "<div>\n",
       "<style scoped>\n",
       "    .dataframe tbody tr th:only-of-type {\n",
       "        vertical-align: middle;\n",
       "    }\n",
       "\n",
       "    .dataframe tbody tr th {\n",
       "        vertical-align: top;\n",
       "    }\n",
       "\n",
       "    .dataframe thead th {\n",
       "        text-align: right;\n",
       "    }\n",
       "</style>\n",
       "<table border=\"1\" class=\"dataframe\">\n",
       "  <thead>\n",
       "    <tr style=\"text-align: right;\">\n",
       "      <th></th>\n",
       "      <th>Unnamed: 0</th>\n",
       "      <th>platform</th>\n",
       "      <th>sales_year</th>\n",
       "      <th>genre</th>\n",
       "      <th>online</th>\n",
       "      <th>offline</th>\n",
       "      <th>critic_score</th>\n",
       "      <th>user_score</th>\n",
       "      <th>rating</th>\n",
       "      <th>game_id</th>\n",
       "      <th>sum_sales</th>\n",
       "    </tr>\n",
       "  </thead>\n",
       "  <tbody>\n",
       "    <tr>\n",
       "      <th>2348</th>\n",
       "      <td>2348</td>\n",
       "      <td>PSV</td>\n",
       "      <td>2015</td>\n",
       "      <td>Adventure</td>\n",
       "      <td>0</td>\n",
       "      <td>3</td>\n",
       "      <td>86.00</td>\n",
       "      <td>9.30</td>\n",
       "      <td>M</td>\n",
       "      <td>38270</td>\n",
       "      <td>3</td>\n",
       "    </tr>\n",
       "    <tr>\n",
       "      <th>639</th>\n",
       "      <td>639</td>\n",
       "      <td>PC</td>\n",
       "      <td>2015</td>\n",
       "      <td>Role-Playing</td>\n",
       "      <td>21</td>\n",
       "      <td>46</td>\n",
       "      <td>93.00</td>\n",
       "      <td>9.30</td>\n",
       "      <td>M</td>\n",
       "      <td>12365</td>\n",
       "      <td>67</td>\n",
       "    </tr>\n",
       "    <tr>\n",
       "      <th>77</th>\n",
       "      <td>77</td>\n",
       "      <td>PS4</td>\n",
       "      <td>2015</td>\n",
       "      <td>Role-Playing</td>\n",
       "      <td>102</td>\n",
       "      <td>213</td>\n",
       "      <td>92.00</td>\n",
       "      <td>9.20</td>\n",
       "      <td>M</td>\n",
       "      <td>43575</td>\n",
       "      <td>315</td>\n",
       "    </tr>\n",
       "    <tr>\n",
       "      <th>339</th>\n",
       "      <td>339</td>\n",
       "      <td>XOne</td>\n",
       "      <td>2015</td>\n",
       "      <td>Role-Playing</td>\n",
       "      <td>69</td>\n",
       "      <td>50</td>\n",
       "      <td>91.00</td>\n",
       "      <td>9.20</td>\n",
       "      <td>M</td>\n",
       "      <td>10495</td>\n",
       "      <td>119</td>\n",
       "    </tr>\n",
       "    <tr>\n",
       "      <th>2277</th>\n",
       "      <td>2277</td>\n",
       "      <td>PSV</td>\n",
       "      <td>2017</td>\n",
       "      <td>Adventure</td>\n",
       "      <td>4</td>\n",
       "      <td>4</td>\n",
       "      <td>83.00</td>\n",
       "      <td>9.20</td>\n",
       "      <td>M</td>\n",
       "      <td>27691</td>\n",
       "      <td>8</td>\n",
       "    </tr>\n",
       "    <tr>\n",
       "      <th>403</th>\n",
       "      <td>403</td>\n",
       "      <td>PSV</td>\n",
       "      <td>2018</td>\n",
       "      <td>Role-Playing</td>\n",
       "      <td>36</td>\n",
       "      <td>23</td>\n",
       "      <td>93.00</td>\n",
       "      <td>9.20</td>\n",
       "      <td>M</td>\n",
       "      <td>42967</td>\n",
       "      <td>59</td>\n",
       "    </tr>\n",
       "    <tr>\n",
       "      <th>41</th>\n",
       "      <td>41</td>\n",
       "      <td>PS3</td>\n",
       "      <td>2017</td>\n",
       "      <td>Action</td>\n",
       "      <td>241</td>\n",
       "      <td>218</td>\n",
       "      <td>95.00</td>\n",
       "      <td>9.10</td>\n",
       "      <td>M</td>\n",
       "      <td>12655</td>\n",
       "      <td>459</td>\n",
       "    </tr>\n",
       "    <tr>\n",
       "      <th>32</th>\n",
       "      <td>32</td>\n",
       "      <td>WiiU</td>\n",
       "      <td>2018</td>\n",
       "      <td>Racing</td>\n",
       "      <td>315</td>\n",
       "      <td>215</td>\n",
       "      <td>88.00</td>\n",
       "      <td>9.10</td>\n",
       "      <td>E</td>\n",
       "      <td>24993</td>\n",
       "      <td>530</td>\n",
       "    </tr>\n",
       "    <tr>\n",
       "      <th>201</th>\n",
       "      <td>201</td>\n",
       "      <td>3DS</td>\n",
       "      <td>2018</td>\n",
       "      <td>Role-Playing</td>\n",
       "      <td>90</td>\n",
       "      <td>45</td>\n",
       "      <td>92.00</td>\n",
       "      <td>9.10</td>\n",
       "      <td>T</td>\n",
       "      <td>25903</td>\n",
       "      <td>135</td>\n",
       "    </tr>\n",
       "    <tr>\n",
       "      <th>65</th>\n",
       "      <td>65</td>\n",
       "      <td>WiiU</td>\n",
       "      <td>2017</td>\n",
       "      <td>Platform</td>\n",
       "      <td>211</td>\n",
       "      <td>116</td>\n",
       "      <td>93.00</td>\n",
       "      <td>9.00</td>\n",
       "      <td>E</td>\n",
       "      <td>37029</td>\n",
       "      <td>327</td>\n",
       "    </tr>\n",
       "  </tbody>\n",
       "</table>\n",
       "</div>"
      ],
      "text/plain": [
       "      Unnamed: 0 platform  sales_year         genre  online  offline  \\\n",
       "2348        2348      PSV        2015     Adventure       0        3   \n",
       "639          639       PC        2015  Role-Playing      21       46   \n",
       "77            77      PS4        2015  Role-Playing     102      213   \n",
       "339          339     XOne        2015  Role-Playing      69       50   \n",
       "2277        2277      PSV        2017     Adventure       4        4   \n",
       "403          403      PSV        2018  Role-Playing      36       23   \n",
       "41            41      PS3        2017        Action     241      218   \n",
       "32            32     WiiU        2018        Racing     315      215   \n",
       "201          201      3DS        2018  Role-Playing      90       45   \n",
       "65            65     WiiU        2017      Platform     211      116   \n",
       "\n",
       "      critic_score  user_score rating  game_id  sum_sales  \n",
       "2348         86.00        9.30      M    38270          3  \n",
       "639          93.00        9.30      M    12365         67  \n",
       "77           92.00        9.20      M    43575        315  \n",
       "339          91.00        9.20      M    10495        119  \n",
       "2277         83.00        9.20      M    27691          8  \n",
       "403          93.00        9.20      M    42967         59  \n",
       "41           95.00        9.10      M    12655        459  \n",
       "32           88.00        9.10      E    24993        530  \n",
       "201          92.00        9.10      T    25903        135  \n",
       "65           93.00        9.00      E    37029        327  "
      ]
     },
     "execution_count": 38,
     "metadata": {},
     "output_type": "execute_result"
    }
   ],
   "source": [
    "critic_score_head"
   ]
  },
  {
   "cell_type": "code",
   "execution_count": 39,
   "metadata": {},
   "outputs": [
    {
     "data": {
      "text/html": [
       "<div>\n",
       "<style scoped>\n",
       "    .dataframe tbody tr th:only-of-type {\n",
       "        vertical-align: middle;\n",
       "    }\n",
       "\n",
       "    .dataframe tbody tr th {\n",
       "        vertical-align: top;\n",
       "    }\n",
       "\n",
       "    .dataframe thead th {\n",
       "        text-align: right;\n",
       "    }\n",
       "</style>\n",
       "<table border=\"1\" class=\"dataframe\">\n",
       "  <thead>\n",
       "    <tr style=\"text-align: right;\">\n",
       "      <th></th>\n",
       "      <th>Unnamed: 0</th>\n",
       "      <th>platform</th>\n",
       "      <th>sales_year</th>\n",
       "      <th>genre</th>\n",
       "      <th>online</th>\n",
       "      <th>offline</th>\n",
       "      <th>critic_score</th>\n",
       "      <th>user_score</th>\n",
       "      <th>rating</th>\n",
       "      <th>game_id</th>\n",
       "      <th>sum_sales</th>\n",
       "    </tr>\n",
       "  </thead>\n",
       "  <tbody>\n",
       "    <tr>\n",
       "      <th>655</th>\n",
       "      <td>655</td>\n",
       "      <td>Wii</td>\n",
       "      <td>2018</td>\n",
       "      <td>Action</td>\n",
       "      <td>18</td>\n",
       "      <td>44</td>\n",
       "      <td>nan</td>\n",
       "      <td>1.60</td>\n",
       "      <td>E</td>\n",
       "      <td>26822</td>\n",
       "      <td>62</td>\n",
       "    </tr>\n",
       "    <tr>\n",
       "      <th>1549</th>\n",
       "      <td>1549</td>\n",
       "      <td>PS4</td>\n",
       "      <td>2015</td>\n",
       "      <td>Sports</td>\n",
       "      <td>9</td>\n",
       "      <td>8</td>\n",
       "      <td>32.00</td>\n",
       "      <td>1.50</td>\n",
       "      <td>T</td>\n",
       "      <td>29346</td>\n",
       "      <td>17</td>\n",
       "    </tr>\n",
       "    <tr>\n",
       "      <th>3937</th>\n",
       "      <td>3937</td>\n",
       "      <td>PC</td>\n",
       "      <td>2015</td>\n",
       "      <td>Sports</td>\n",
       "      <td>0</td>\n",
       "      <td>1</td>\n",
       "      <td>nan</td>\n",
       "      <td>1.40</td>\n",
       "      <td>E</td>\n",
       "      <td>15250</td>\n",
       "      <td>1</td>\n",
       "    </tr>\n",
       "    <tr>\n",
       "      <th>3552</th>\n",
       "      <td>3552</td>\n",
       "      <td>PC</td>\n",
       "      <td>2018</td>\n",
       "      <td>Role-Playing</td>\n",
       "      <td>0</td>\n",
       "      <td>2</td>\n",
       "      <td>57.00</td>\n",
       "      <td>1.40</td>\n",
       "      <td>M</td>\n",
       "      <td>34674</td>\n",
       "      <td>2</td>\n",
       "    </tr>\n",
       "    <tr>\n",
       "      <th>2812</th>\n",
       "      <td>2812</td>\n",
       "      <td>X360</td>\n",
       "      <td>2017</td>\n",
       "      <td>Racing</td>\n",
       "      <td>4</td>\n",
       "      <td>1</td>\n",
       "      <td>19.00</td>\n",
       "      <td>1.30</td>\n",
       "      <td>M</td>\n",
       "      <td>11902</td>\n",
       "      <td>5</td>\n",
       "    </tr>\n",
       "    <tr>\n",
       "      <th>2321</th>\n",
       "      <td>2321</td>\n",
       "      <td>X360</td>\n",
       "      <td>2017</td>\n",
       "      <td>Shooter</td>\n",
       "      <td>7</td>\n",
       "      <td>2</td>\n",
       "      <td>43.00</td>\n",
       "      <td>1.20</td>\n",
       "      <td>M</td>\n",
       "      <td>24620</td>\n",
       "      <td>9</td>\n",
       "    </tr>\n",
       "    <tr>\n",
       "      <th>3026</th>\n",
       "      <td>3026</td>\n",
       "      <td>PS3</td>\n",
       "      <td>2017</td>\n",
       "      <td>Racing</td>\n",
       "      <td>2</td>\n",
       "      <td>1</td>\n",
       "      <td>13.00</td>\n",
       "      <td>1.00</td>\n",
       "      <td>M</td>\n",
       "      <td>28618</td>\n",
       "      <td>3</td>\n",
       "    </tr>\n",
       "    <tr>\n",
       "      <th>2695</th>\n",
       "      <td>2695</td>\n",
       "      <td>DS</td>\n",
       "      <td>2017</td>\n",
       "      <td>Platform</td>\n",
       "      <td>6</td>\n",
       "      <td>0</td>\n",
       "      <td>nan</td>\n",
       "      <td>0.90</td>\n",
       "      <td>E</td>\n",
       "      <td>14384</td>\n",
       "      <td>6</td>\n",
       "    </tr>\n",
       "    <tr>\n",
       "      <th>1739</th>\n",
       "      <td>1739</td>\n",
       "      <td>X360</td>\n",
       "      <td>2016</td>\n",
       "      <td>Sports</td>\n",
       "      <td>14</td>\n",
       "      <td>2</td>\n",
       "      <td>nan</td>\n",
       "      <td>0.70</td>\n",
       "      <td>E</td>\n",
       "      <td>28773</td>\n",
       "      <td>16</td>\n",
       "    </tr>\n",
       "    <tr>\n",
       "      <th>2118</th>\n",
       "      <td>2118</td>\n",
       "      <td>PS3</td>\n",
       "      <td>2016</td>\n",
       "      <td>Sports</td>\n",
       "      <td>7</td>\n",
       "      <td>2</td>\n",
       "      <td>nan</td>\n",
       "      <td>0.20</td>\n",
       "      <td>E</td>\n",
       "      <td>23493</td>\n",
       "      <td>9</td>\n",
       "    </tr>\n",
       "  </tbody>\n",
       "</table>\n",
       "</div>"
      ],
      "text/plain": [
       "      Unnamed: 0 platform  sales_year         genre  online  offline  \\\n",
       "655          655      Wii        2018        Action      18       44   \n",
       "1549        1549      PS4        2015        Sports       9        8   \n",
       "3937        3937       PC        2015        Sports       0        1   \n",
       "3552        3552       PC        2018  Role-Playing       0        2   \n",
       "2812        2812     X360        2017        Racing       4        1   \n",
       "2321        2321     X360        2017       Shooter       7        2   \n",
       "3026        3026      PS3        2017        Racing       2        1   \n",
       "2695        2695       DS        2017      Platform       6        0   \n",
       "1739        1739     X360        2016        Sports      14        2   \n",
       "2118        2118      PS3        2016        Sports       7        2   \n",
       "\n",
       "      critic_score  user_score rating  game_id  sum_sales  \n",
       "655            nan        1.60      E    26822         62  \n",
       "1549         32.00        1.50      T    29346         17  \n",
       "3937           nan        1.40      E    15250          1  \n",
       "3552         57.00        1.40      M    34674          2  \n",
       "2812         19.00        1.30      M    11902          5  \n",
       "2321         43.00        1.20      M    24620          9  \n",
       "3026         13.00        1.00      M    28618          3  \n",
       "2695           nan        0.90      E    14384          6  \n",
       "1739           nan        0.70      E    28773         16  \n",
       "2118           nan        0.20      E    23493          9  "
      ]
     },
     "execution_count": 39,
     "metadata": {},
     "output_type": "execute_result"
    }
   ],
   "source": [
    "critic_score_tail"
   ]
  },
  {
   "cell_type": "markdown",
   "metadata": {},
   "source": [
    "\n",
    "<div style=\"border:solid navy 2px; padding: 20px\">\n",
    "\n",
    "<h3 style=\"color:navy; margin-bottom:20px\">\n",
    "Оцените корреляцию между оценками критиков и пользовательскими оценками.\n",
    "    </h3>\n",
    "</div>"
   ]
  },
  {
   "cell_type": "code",
   "execution_count": 40,
   "metadata": {},
   "outputs": [
    {
     "name": "stdout",
     "output_type": "stream",
     "text": [
      "              critic_score  user_score\n",
      "critic_score          1.00        0.53\n",
      "user_score            0.53        1.00\n"
     ]
    },
    {
     "data": {
      "image/png": "[encoded data removed]",
      "text/plain": [
       "<Figure size 648x648 with 4 Axes>"
      ]
     },
     "metadata": {
      "needs_background": "light"
     },
     "output_type": "display_data"
    }
   ],
   "source": [
    "df_score_stat = df_score.pivot_table(index=df_score.index, values=['critic_score', 'user_score'], aggfunc='mean')\n",
    "print(df_score_stat.corr())\n",
    "pd.plotting.scatter_matrix(df_score_stat, grid=30, figsize=(9,9))\n",
    "plt.show()"
   ]
  },
  {
   "cell_type": "markdown",
   "metadata": {},
   "source": [
    "\n",
    "<div style=\"border:solid navy 2px; padding: 20px\">\n",
    "\n",
    "<p>\n",
    "Корреляция есть, но не сильная = 0.53\n",
    "</p>\n",
    "</div>\n"
   ]
  },
  {
   "cell_type": "markdown",
   "metadata": {},
   "source": [
    "<div style=\"border:solid navy 2px; padding: 20px\">\n",
    "\n",
    "<h3 style=\"color:navy; margin-bottom:20px\">\n",
    "    Для покупателей интернет-магазина и сети розничных магазинов определите:\n",
    "    </h3>\n",
    "топ-5 предпочтительных жанров\n",
    "\n",
    "в какие года пользователи были наиболее активны (больше всего покупали игры)\n",
    "\n",
    "топ-5 предпочтительных платформ\n",
    "\n",
    "какой рейтинг ESRB встречается чаще всего (наиболее частотная категория)\n",
    "    \n",
    "</div>\n",
    "\n"
   ]
  },
  {
   "cell_type": "code",
   "execution_count": 41,
   "metadata": {},
   "outputs": [],
   "source": [
    "def top_5(col_group, col_sort, action = 'sum'):\n",
    "    df_top = df.groupby(col_group, as_index = False)[col_sort].agg(action)\n",
    "    df_top = df_top.sort_values(by=col_sort, ascending=False)\n",
    "    return(df_top.head())"
   ]
  },
  {
   "cell_type": "code",
   "execution_count": 42,
   "metadata": {},
   "outputs": [],
   "source": [
    "#топ-5 предпочтительных жанров\n",
    "df1 = top_5('genre', 'sum_sales')\n",
    "# в какие года пользователи были наиболее активны (больше всего покупали игры)\n",
    "df2 = top_5('sales_year', 'sum_sales')\n",
    "#топ-5 предпочтительных платформ\n",
    "df3 = top_5('platform', 'sum_sales')\n",
    "#какой рейтинг ESRB встречается чаще всего (наиболее частотная категория)\n",
    "df4 = top_5('rating', 'game_id', 'count')"
   ]
  },
  {
   "cell_type": "code",
   "execution_count": 43,
   "metadata": {},
   "outputs": [
    {
     "data": {
      "text/html": [
       "<style  type=\"text/css\" >\n",
       "</style><table id=\"T_89f40bd2_1737_11ea_ba7d_58b035f46be4\" style='display:inline'><caption>Genre</caption><thead>    <tr>        <th class=\"blank level0\" ></th>        <th class=\"col_heading level0 col0\" >genre</th>        <th class=\"col_heading level0 col1\" >sum_sales</th>    </tr></thead><tbody>\n",
       "                <tr>\n",
       "                        <th id=\"T_89f40bd2_1737_11ea_ba7d_58b035f46be4level0_row0\" class=\"row_heading level0 row0\" >0</th>\n",
       "                        <td id=\"T_89f40bd2_1737_11ea_ba7d_58b035f46be4row0_col0\" class=\"data row0 col0\" >Action</td>\n",
       "                        <td id=\"T_89f40bd2_1737_11ea_ba7d_58b035f46be4row0_col1\" class=\"data row0 col1\" >42998</td>\n",
       "            </tr>\n",
       "            <tr>\n",
       "                        <th id=\"T_89f40bd2_1737_11ea_ba7d_58b035f46be4level0_row1\" class=\"row_heading level0 row1\" >8</th>\n",
       "                        <td id=\"T_89f40bd2_1737_11ea_ba7d_58b035f46be4row1_col0\" class=\"data row1 col0\" >Shooter</td>\n",
       "                        <td id=\"T_89f40bd2_1737_11ea_ba7d_58b035f46be4row1_col1\" class=\"data row1 col1\" >34241</td>\n",
       "            </tr>\n",
       "            <tr>\n",
       "                        <th id=\"T_89f40bd2_1737_11ea_ba7d_58b035f46be4level0_row2\" class=\"row_heading level0 row2\" >10</th>\n",
       "                        <td id=\"T_89f40bd2_1737_11ea_ba7d_58b035f46be4row2_col0\" class=\"data row2 col0\" >Sports</td>\n",
       "                        <td id=\"T_89f40bd2_1737_11ea_ba7d_58b035f46be4row2_col1\" class=\"data row2 col1\" >19713</td>\n",
       "            </tr>\n",
       "            <tr>\n",
       "                        <th id=\"T_89f40bd2_1737_11ea_ba7d_58b035f46be4level0_row3\" class=\"row_heading level0 row3\" >7</th>\n",
       "                        <td id=\"T_89f40bd2_1737_11ea_ba7d_58b035f46be4row3_col0\" class=\"data row3 col0\" >Role-Playing</td>\n",
       "                        <td id=\"T_89f40bd2_1737_11ea_ba7d_58b035f46be4row3_col1\" class=\"data row3 col1\" >14606</td>\n",
       "            </tr>\n",
       "            <tr>\n",
       "                        <th id=\"T_89f40bd2_1737_11ea_ba7d_58b035f46be4level0_row4\" class=\"row_heading level0 row4\" >3</th>\n",
       "                        <td id=\"T_89f40bd2_1737_11ea_ba7d_58b035f46be4row4_col0\" class=\"data row4 col0\" >Misc</td>\n",
       "                        <td id=\"T_89f40bd2_1737_11ea_ba7d_58b035f46be4row4_col1\" class=\"data row4 col1\" >10939</td>\n",
       "            </tr>\n",
       "    </tbody></table> <style  type=\"text/css\" >\n",
       "</style><table id=\"T_89f463a2_1737_11ea_ba7d_58b035f46be4\" style='display:inline'><caption>Year</caption><thead>    <tr>        <th class=\"blank level0\" ></th>        <th class=\"col_heading level0 col0\" >sales_year</th>        <th class=\"col_heading level0 col1\" >sum_sales</th>    </tr></thead><tbody>\n",
       "                <tr>\n",
       "                        <th id=\"T_89f463a2_1737_11ea_ba7d_58b035f46be4level0_row0\" class=\"row_heading level0 row0\" >2</th>\n",
       "                        <td id=\"T_89f463a2_1737_11ea_ba7d_58b035f46be4row0_col0\" class=\"data row0 col0\" >2017</td>\n",
       "                        <td id=\"T_89f463a2_1737_11ea_ba7d_58b035f46be4row0_col1\" class=\"data row0 col1\" >67686</td>\n",
       "            </tr>\n",
       "            <tr>\n",
       "                        <th id=\"T_89f463a2_1737_11ea_ba7d_58b035f46be4level0_row1\" class=\"row_heading level0 row1\" >3</th>\n",
       "                        <td id=\"T_89f463a2_1737_11ea_ba7d_58b035f46be4row1_col0\" class=\"data row1 col0\" >2018</td>\n",
       "                        <td id=\"T_89f463a2_1737_11ea_ba7d_58b035f46be4row1_col1\" class=\"data row1 col1\" >52305</td>\n",
       "            </tr>\n",
       "            <tr>\n",
       "                        <th id=\"T_89f463a2_1737_11ea_ba7d_58b035f46be4level0_row2\" class=\"row_heading level0 row2\" >0</th>\n",
       "                        <td id=\"T_89f463a2_1737_11ea_ba7d_58b035f46be4row2_col0\" class=\"data row2 col0\" >2015</td>\n",
       "                        <td id=\"T_89f463a2_1737_11ea_ba7d_58b035f46be4row2_col1\" class=\"data row2 col1\" >20356</td>\n",
       "            </tr>\n",
       "            <tr>\n",
       "                        <th id=\"T_89f463a2_1737_11ea_ba7d_58b035f46be4level0_row3\" class=\"row_heading level0 row3\" >1</th>\n",
       "                        <td id=\"T_89f463a2_1737_11ea_ba7d_58b035f46be4row3_col0\" class=\"data row3 col0\" >2016</td>\n",
       "                        <td id=\"T_89f463a2_1737_11ea_ba7d_58b035f46be4row3_col1\" class=\"data row3 col1\" >9612</td>\n",
       "            </tr>\n",
       "    </tbody></table> <style  type=\"text/css\" >\n",
       "</style><table id=\"T_89f4a632_1737_11ea_ba7d_58b035f46be4\" style='display:inline'><caption>Platform</caption><thead>    <tr>        <th class=\"blank level0\" ></th>        <th class=\"col_heading level0 col0\" >platform</th>        <th class=\"col_heading level0 col1\" >sum_sales</th>    </tr></thead><tbody>\n",
       "                <tr>\n",
       "                        <th id=\"T_89f4a632_1737_11ea_ba7d_58b035f46be4level0_row0\" class=\"row_heading level0 row0\" >10</th>\n",
       "                        <td id=\"T_89f4a632_1737_11ea_ba7d_58b035f46be4row0_col0\" class=\"data row0 col0\" >X360</td>\n",
       "                        <td id=\"T_89f4a632_1737_11ea_ba7d_58b035f46be4row0_col1\" class=\"data row0 col1\" >34384</td>\n",
       "            </tr>\n",
       "            <tr>\n",
       "                        <th id=\"T_89f4a632_1737_11ea_ba7d_58b035f46be4level0_row1\" class=\"row_heading level0 row1\" >4</th>\n",
       "                        <td id=\"T_89f4a632_1737_11ea_ba7d_58b035f46be4row1_col0\" class=\"data row1 col0\" >PS3</td>\n",
       "                        <td id=\"T_89f4a632_1737_11ea_ba7d_58b035f46be4row1_col1\" class=\"data row1 col1\" >33130</td>\n",
       "            </tr>\n",
       "            <tr>\n",
       "                        <th id=\"T_89f4a632_1737_11ea_ba7d_58b035f46be4level0_row2\" class=\"row_heading level0 row2\" >5</th>\n",
       "                        <td id=\"T_89f4a632_1737_11ea_ba7d_58b035f46be4row2_col0\" class=\"data row2 col0\" >PS4</td>\n",
       "                        <td id=\"T_89f4a632_1737_11ea_ba7d_58b035f46be4row2_col1\" class=\"data row2 col1\" >24979</td>\n",
       "            </tr>\n",
       "            <tr>\n",
       "                        <th id=\"T_89f4a632_1737_11ea_ba7d_58b035f46be4level0_row3\" class=\"row_heading level0 row3\" >11</th>\n",
       "                        <td id=\"T_89f4a632_1737_11ea_ba7d_58b035f46be4row3_col0\" class=\"data row3 col0\" >XOne</td>\n",
       "                        <td id=\"T_89f4a632_1737_11ea_ba7d_58b035f46be4row3_col1\" class=\"data row3 col1\" >14469</td>\n",
       "            </tr>\n",
       "            <tr>\n",
       "                        <th id=\"T_89f4a632_1737_11ea_ba7d_58b035f46be4level0_row4\" class=\"row_heading level0 row4\" >0</th>\n",
       "                        <td id=\"T_89f4a632_1737_11ea_ba7d_58b035f46be4row4_col0\" class=\"data row4 col0\" >3DS</td>\n",
       "                        <td id=\"T_89f4a632_1737_11ea_ba7d_58b035f46be4row4_col1\" class=\"data row4 col1\" >14391</td>\n",
       "            </tr>\n",
       "    </tbody></table> <style  type=\"text/css\" >\n",
       "</style><table id=\"T_89f4ecbe_1737_11ea_ba7d_58b035f46be4\" style='display:inline'><caption>Rating</caption><thead>    <tr>        <th class=\"blank level0\" ></th>        <th class=\"col_heading level0 col0\" >rating</th>        <th class=\"col_heading level0 col1\" >game_id</th>    </tr></thead><tbody>\n",
       "                <tr>\n",
       "                        <th id=\"T_89f4ecbe_1737_11ea_ba7d_58b035f46be4level0_row0\" class=\"row_heading level0 row0\" >3</th>\n",
       "                        <td id=\"T_89f4ecbe_1737_11ea_ba7d_58b035f46be4row0_col0\" class=\"data row0 col0\" >M</td>\n",
       "                        <td id=\"T_89f4ecbe_1737_11ea_ba7d_58b035f46be4row0_col1\" class=\"data row0 col1\" >622</td>\n",
       "            </tr>\n",
       "            <tr>\n",
       "                        <th id=\"T_89f4ecbe_1737_11ea_ba7d_58b035f46be4level0_row1\" class=\"row_heading level0 row1\" >0</th>\n",
       "                        <td id=\"T_89f4ecbe_1737_11ea_ba7d_58b035f46be4row1_col0\" class=\"data row1 col0\" >E</td>\n",
       "                        <td id=\"T_89f4ecbe_1737_11ea_ba7d_58b035f46be4row1_col1\" class=\"data row1 col1\" >619</td>\n",
       "            </tr>\n",
       "            <tr>\n",
       "                        <th id=\"T_89f4ecbe_1737_11ea_ba7d_58b035f46be4level0_row2\" class=\"row_heading level0 row2\" >5</th>\n",
       "                        <td id=\"T_89f4ecbe_1737_11ea_ba7d_58b035f46be4row2_col0\" class=\"data row2 col0\" >T</td>\n",
       "                        <td id=\"T_89f4ecbe_1737_11ea_ba7d_58b035f46be4row2_col1\" class=\"data row2 col1\" >616</td>\n",
       "            </tr>\n",
       "            <tr>\n",
       "                        <th id=\"T_89f4ecbe_1737_11ea_ba7d_58b035f46be4level0_row3\" class=\"row_heading level0 row3\" >1</th>\n",
       "                        <td id=\"T_89f4ecbe_1737_11ea_ba7d_58b035f46be4row3_col0\" class=\"data row3 col0\" >E10+</td>\n",
       "                        <td id=\"T_89f4ecbe_1737_11ea_ba7d_58b035f46be4row3_col1\" class=\"data row3 col1\" >456</td>\n",
       "            </tr>\n",
       "            <tr>\n",
       "                        <th id=\"T_89f4ecbe_1737_11ea_ba7d_58b035f46be4level0_row4\" class=\"row_heading level0 row4\" >2</th>\n",
       "                        <td id=\"T_89f4ecbe_1737_11ea_ba7d_58b035f46be4row4_col0\" class=\"data row4 col0\" >EC</td>\n",
       "                        <td id=\"T_89f4ecbe_1737_11ea_ba7d_58b035f46be4row4_col1\" class=\"data row4 col1\" >1</td>\n",
       "            </tr>\n",
       "    </tbody></table>"
      ]
     },
     "metadata": {},
     "output_type": "display_data"
    }
   ],
   "source": [
    "from IPython.display import display_html\n",
    "\n",
    "df1_styler = df1.style.set_table_attributes(\"style='display:inline'\").set_caption('Genre')\n",
    "df2_styler = df2.style.set_table_attributes(\"style='display:inline'\").set_caption('Year')\n",
    "df3_styler = df3.style.set_table_attributes(\"style='display:inline'\").set_caption('Platform')\n",
    "df4_styler = df4.style.set_table_attributes(\"style='display:inline'\").set_caption('Rating')\n",
    "\n",
    "display_html(df1_styler._repr_html_() +' '+ df2_styler._repr_html_() +' '+ \n",
    "             df3_styler._repr_html_() +' '+ df4_styler._repr_html_(), raw=True)"
   ]
  },
  {
   "cell_type": "markdown",
   "metadata": {},
   "source": [
    "<div style=\"border:solid navy 2px; padding: 20px\">\n",
    "\n",
    "<h3 style=\"color:navy; margin-bottom:20px\">\n",
    "    Проверьте гипотезы:\n",
    "    </h3>\n",
    "<h6>Средний пользовательский рейтинг платформ PS3 и PS4 одинаковый</h6>\n",
    "\n",
    "H0: средний пользовательский рейтинг платформ PS3 и PS4 одинаковый\n",
    "\n",
    "H1: средний пользовательский рейтинг платформ PS3 и PS4 различается\n",
    "    \n",
    "</div>\n",
    "\n"
   ]
  },
  {
   "cell_type": "code",
   "execution_count": 44,
   "metadata": {},
   "outputs": [
    {
     "data": {
      "text/plain": [
       "2.130084812743191"
      ]
     },
     "execution_count": 44,
     "metadata": {},
     "output_type": "execute_result"
    }
   ],
   "source": [
    "df_ps4 = df[df['platform']=='PS4']\n",
    "\n",
    "df_ps4 = df_ps4[-df_ps4['user_score'].isna()]\n",
    "df_ps4['user_score'].var()"
   ]
  },
  {
   "cell_type": "code",
   "execution_count": 45,
   "metadata": {},
   "outputs": [
    {
     "data": {
      "text/plain": [
       "count   257.00\n",
       "mean      6.75\n",
       "std       1.46\n",
       "min       1.50\n",
       "25%       6.10\n",
       "50%       7.00\n",
       "75%       7.80\n",
       "max       9.20\n",
       "Name: user_score, dtype: float64"
      ]
     },
     "execution_count": 45,
     "metadata": {},
     "output_type": "execute_result"
    }
   ],
   "source": [
    "df_ps4['user_score'].describe()"
   ]
  },
  {
   "cell_type": "code",
   "execution_count": 46,
   "metadata": {},
   "outputs": [
    {
     "data": {
      "text/plain": [
       "2.449459509315623"
      ]
     },
     "execution_count": 46,
     "metadata": {},
     "output_type": "execute_result"
    }
   ],
   "source": [
    "df_ps3 = df[df['platform']=='PS3']\n",
    "\n",
    "df_ps3 = df_ps3[-df_ps3['user_score'].isna()]\n",
    "df_ps3['user_score'].var()"
   ]
  },
  {
   "cell_type": "code",
   "execution_count": 47,
   "metadata": {},
   "outputs": [
    {
     "data": {
      "text/plain": [
       "count   417.00\n",
       "mean      6.61\n",
       "std       1.57\n",
       "min       0.20\n",
       "25%       5.80\n",
       "50%       7.00\n",
       "75%       7.80\n",
       "max       9.10\n",
       "Name: user_score, dtype: float64"
      ]
     },
     "execution_count": 47,
     "metadata": {},
     "output_type": "execute_result"
    }
   ],
   "source": [
    "df_ps3['user_score'].describe()"
   ]
  },
  {
   "cell_type": "code",
   "execution_count": 48,
   "metadata": {},
   "outputs": [
    {
     "name": "stdout",
     "output_type": "stream",
     "text": [
      "p-значение =  0.2543695482219482\n",
      "Не получилось отвергнуть нулевую гипотезу\n"
     ]
    }
   ],
   "source": [
    "alpha = .05\n",
    "results = st.ttest_ind(df_ps4['user_score'], df_ps3['user_score'], equal_var = False)\n",
    "\n",
    "print('p-значение = ', results.pvalue)\n",
    "\n",
    "if results.pvalue < alpha:\n",
    "    print('Отвергаем нулевую гипотезу')\n",
    "else:\n",
    "    print(\"Не получилось отвергнуть нулевую гипотезу\")"
   ]
  },
  {
   "cell_type": "markdown",
   "metadata": {},
   "source": [
    "\n",
    "<div style=\"border:solid navy 2px; padding: 20px\">\n",
    "\n",
    "<p>\n",
    "Cредний пользовательский рейтинг платформ PS3 и PS4 одинаковый\n",
    "</p>\n",
    "</div>"
   ]
  },
  {
   "cell_type": "markdown",
   "metadata": {},
   "source": [
    "<div style=\"border:solid navy 2px; padding: 20px\">\n",
    "\n",
    "<h3 style=\"color:navy; margin-bottom:20px\">\n",
    "    Проверьте гипотезы:\n",
    "    </h3>\n",
    "    \n",
    "<h6>Средний пользовательский рейтинг жанров Action и Sports различается</h6>\n",
    "\n",
    "H0: средний пользовательский рейтинг жанров Action и Sports одинаковый\n",
    "\n",
    "H1: средний пользовательский рейтинг жанров Action и Sports различается\n",
    "\n",
    "</div>\n",
    "\n"
   ]
  },
  {
   "cell_type": "code",
   "execution_count": 49,
   "metadata": {},
   "outputs": [
    {
     "data": {
      "text/plain": [
       "count   664.00\n",
       "mean      6.78\n",
       "std       1.35\n",
       "min       1.60\n",
       "25%       6.10\n",
       "50%       7.10\n",
       "75%       7.80\n",
       "max       9.10\n",
       "Name: user_score, dtype: float64"
      ]
     },
     "execution_count": 49,
     "metadata": {},
     "output_type": "execute_result"
    }
   ],
   "source": [
    "df_action = df[df['genre']=='Action']\n",
    "\n",
    "df_action = df_action[-df_action['user_score'].isna()]\n",
    "df_action['user_score'].var() \n",
    "df_action['user_score'].describe()\n"
   ]
  },
  {
   "cell_type": "code",
   "execution_count": 50,
   "metadata": {},
   "outputs": [
    {
     "data": {
      "text/plain": [
       "count   246.00\n",
       "mean      5.65\n",
       "std       1.70\n",
       "min       0.20\n",
       "25%       4.40\n",
       "50%       6.00\n",
       "75%       6.90\n",
       "max       8.80\n",
       "Name: user_score, dtype: float64"
      ]
     },
     "execution_count": 50,
     "metadata": {},
     "output_type": "execute_result"
    }
   ],
   "source": [
    "df_sports = df[df['genre']=='Sports']\n",
    "df_sports = df_sports[-df_sports['user_score'].isna()]\n",
    "df_sports['user_score'].var()\n",
    "df_sports['user_score'].describe()"
   ]
  },
  {
   "cell_type": "code",
   "execution_count": 51,
   "metadata": {},
   "outputs": [
    {
     "name": "stdout",
     "output_type": "stream",
     "text": [
      "p-значение =  8.285648549432565e-19\n",
      "Отвергаем нулевую гипотезу\n"
     ]
    }
   ],
   "source": [
    "results = st.ttest_ind(df_action['user_score'], df_sports['user_score'], equal_var = False)\n",
    "\n",
    "print('p-значение = ', results.pvalue)\n",
    "\n",
    "if results.pvalue < alpha:\n",
    "    print('Отвергаем нулевую гипотезу')\n",
    "else:\n",
    "    print(\"Не получилось отвергнуть нулевую гипотезу\")"
   ]
  },
  {
   "cell_type": "markdown",
   "metadata": {},
   "source": [
    "\n",
    "<div style=\"border:solid navy 2px; padding: 20px\">\n",
    "\n",
    "<p>\n",
    "    Рейтинг разный - 6 и 7.1. В интервале от 0 до 10 разница оказалась существенной.\n",
    "</p>\n",
    "</div>"
   ]
  },
  {
   "cell_type": "markdown",
   "metadata": {},
   "source": [
    "<div style=\"border:solid navy 2px; padding: 20px\">\n",
    "\n",
    "<h3 style=\"color:navy; margin-bottom:20px\">\n",
    "    Вывод\n",
    "    </h3>\n",
    "<p>\n",
    "В 2017 и 2018 популярны те же жанры игр, что и по всей выборке. Наиболее популярные платформы: X360, PS3 и PS4. Популярны игры \"для всех\", \"от 17 лет\", \"Подросткам 13—19 лет\", \"Для всех старше 10 лет\".\n",
    "</p>\n",
    "</div>"
   ]
  }
 ],
 "metadata": {
  "kernelspec": {
   "display_name": "Python 3",
   "language": "python",
   "name": "python3"
  },
  "language_info": {
   "codemirror_mode": {
    "name": "ipython",
    "version": 3
   },
   "file_extension": ".py",
   "mimetype": "text/x-python",
   "name": "python",
   "nbconvert_exporter": "python",
   "pygments_lexer": "ipython3",
   "version": "3.7.3"
  }
 },
 "nbformat": 4,
 "nbformat_minor": 2
}
