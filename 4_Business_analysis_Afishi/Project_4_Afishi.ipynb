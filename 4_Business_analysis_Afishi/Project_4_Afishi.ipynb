{
 "cells": [
  {
   "cell_type": "markdown",
   "metadata": {},
   "source": [
    "<div style=\"border:solid navy 2px; padding: 20px\">\n",
    "\n",
    "<h1 style=\"color:navy; margin-bottom:20px\">Задача</h1>\n",
    "\n",
    "Проанализировать данные об использовании сайта Яндекс.Афиши, предложить вариант оптимизизации маркетинговых затрат.\n",
    "\n",
    "</div>"
   ]
  },
  {
   "cell_type": "code",
   "execution_count": 1,
   "metadata": {},
   "outputs": [],
   "source": [
    "import pandas as pd\n",
    "import numpy as np\n",
    "import matplotlib.pyplot as plt\n",
    "from matplotlib import rc\n",
    "from scipy import stats as st\n",
    "import seaborn as sns"
   ]
  },
  {
   "cell_type": "code",
   "execution_count": 2,
   "metadata": {},
   "outputs": [],
   "source": [
    "visits_log = pd.read_csv('/Project_4_Analis_bisnes/visits_log.csv')\n",
    "orders_log = pd.read_csv('/Project_4_Analis_bisnes/orders_log.csv')\n",
    "costs = pd.read_csv('/Project_4_Analis_bisnes/costs.csv')"
   ]
  },
  {
   "cell_type": "markdown",
   "metadata": {},
   "source": [
    "<h3 style=\"color:navy; margin-bottom:20px\">Функция для быстрого промотра информации по таблице</h3>\n",
    " "
   ]
  },
  {
   "cell_type": "code",
   "execution_count": 3,
   "metadata": {},
   "outputs": [],
   "source": [
    "def table_info (table):\n",
    "    print(table.info())\n",
    "    print()\n",
    "    for col in table.columns:\n",
    "        print(table[col].name)\n",
    "        print(table[col].describe())\n",
    "        print()"
   ]
  },
  {
   "cell_type": "markdown",
   "metadata": {},
   "source": [
    "<h3 style=\"color:navy; margin-bottom:20px\">Функция для построения гистограммы</h3>\n",
    " "
   ]
  },
  {
   "cell_type": "code",
   "execution_count": 4,
   "metadata": {},
   "outputs": [],
   "source": [
    "def draw_bar (table, colx, coly, title_text):\n",
    "    \n",
    "    table[colx] = table[colx].astype(str)\n",
    "    x = table[colx]\n",
    "    y = table[coly]\n",
    "\n",
    "    fig, ax = plt.subplots()\n",
    "\n",
    "    ax.bar(x, y, align='center', width= 0.6, color='navy', alpha=0.8)\n",
    "\n",
    "    fig.set_figwidth(12)\n",
    "    fig.set_figheight(8)\n",
    "\n",
    "    for i in range(len(table[colx])):\n",
    "        plt.text(x= table.loc[i,colx], y=table.loc[i,coly]+0.01*table.loc[i,coly], \n",
    "                 s=table.loc[i,coly],horizontalalignment='center', color='navy', size = 15)\n",
    "   \n",
    "    plt.title(title_text)\n",
    "    \n",
    "    plt.xlabel(x.name)\n",
    "    plt.ylabel(y.name)\n",
    "    plt.xticks(rotation=90)\n",
    "    \n",
    "    return(plt.show())"
   ]
  },
  {
   "cell_type": "markdown",
   "metadata": {},
   "source": [
    "<h3 style=\"color:navy; margin-bottom:20px\">Просмотр данных</h3>\n",
    " "
   ]
  },
  {
   "cell_type": "code",
   "execution_count": 5,
   "metadata": {},
   "outputs": [
    {
     "data": {
      "text/html": [
       "<div>\n",
       "<style scoped>\n",
       "    .dataframe tbody tr th:only-of-type {\n",
       "        vertical-align: middle;\n",
       "    }\n",
       "\n",
       "    .dataframe tbody tr th {\n",
       "        vertical-align: top;\n",
       "    }\n",
       "\n",
       "    .dataframe thead th {\n",
       "        text-align: right;\n",
       "    }\n",
       "</style>\n",
       "<table border=\"1\" class=\"dataframe\">\n",
       "  <thead>\n",
       "    <tr style=\"text-align: right;\">\n",
       "      <th></th>\n",
       "      <th>Uid</th>\n",
       "      <th>Device</th>\n",
       "      <th>End Ts</th>\n",
       "      <th>Source Id</th>\n",
       "      <th>Start Ts</th>\n",
       "    </tr>\n",
       "  </thead>\n",
       "  <tbody>\n",
       "    <tr>\n",
       "      <th>0</th>\n",
       "      <td>16879256277535980062</td>\n",
       "      <td>touch</td>\n",
       "      <td>20.12.2017 17:38</td>\n",
       "      <td>4</td>\n",
       "      <td>20.12.2017 17:20</td>\n",
       "    </tr>\n",
       "    <tr>\n",
       "      <th>1</th>\n",
       "      <td>104060357244891740</td>\n",
       "      <td>desktop</td>\n",
       "      <td>19.02.2018 17:21</td>\n",
       "      <td>2</td>\n",
       "      <td>19.02.2018 16:53</td>\n",
       "    </tr>\n",
       "    <tr>\n",
       "      <th>2</th>\n",
       "      <td>7459035603376831527</td>\n",
       "      <td>touch</td>\n",
       "      <td>01.07.2017 1:54</td>\n",
       "      <td>5</td>\n",
       "      <td>01.07.2017 1:54</td>\n",
       "    </tr>\n",
       "    <tr>\n",
       "      <th>3</th>\n",
       "      <td>16174680259334210214</td>\n",
       "      <td>desktop</td>\n",
       "      <td>20.05.2018 11:23</td>\n",
       "      <td>9</td>\n",
       "      <td>20.05.2018 10:59</td>\n",
       "    </tr>\n",
       "    <tr>\n",
       "      <th>4</th>\n",
       "      <td>9969694820036681168</td>\n",
       "      <td>desktop</td>\n",
       "      <td>27.12.2017 14:06</td>\n",
       "      <td>3</td>\n",
       "      <td>27.12.2017 14:06</td>\n",
       "    </tr>\n",
       "  </tbody>\n",
       "</table>\n",
       "</div>"
      ],
      "text/plain": [
       "                    Uid   Device            End Ts  Source Id  \\\n",
       "0  16879256277535980062    touch  20.12.2017 17:38          4   \n",
       "1    104060357244891740  desktop  19.02.2018 17:21          2   \n",
       "2   7459035603376831527    touch   01.07.2017 1:54          5   \n",
       "3  16174680259334210214  desktop  20.05.2018 11:23          9   \n",
       "4   9969694820036681168  desktop  27.12.2017 14:06          3   \n",
       "\n",
       "           Start Ts  \n",
       "0  20.12.2017 17:20  \n",
       "1  19.02.2018 16:53  \n",
       "2   01.07.2017 1:54  \n",
       "3  20.05.2018 10:59  \n",
       "4  27.12.2017 14:06  "
      ]
     },
     "execution_count": 5,
     "metadata": {},
     "output_type": "execute_result"
    }
   ],
   "source": [
    "visits_log.head()"
   ]
  },
  {
   "cell_type": "code",
   "execution_count": 6,
   "metadata": {
    "scrolled": false
   },
   "outputs": [
    {
     "name": "stdout",
     "output_type": "stream",
     "text": [
      "(358532, 5)\n",
      "<class 'pandas.core.frame.DataFrame'>\n",
      "RangeIndex: 358532 entries, 0 to 358531\n",
      "Data columns (total 5 columns):\n",
      "Uid          358532 non-null uint64\n",
      "Device       358532 non-null object\n",
      "End Ts       358532 non-null object\n",
      "Source Id    358532 non-null int64\n",
      "Start Ts     358532 non-null object\n",
      "dtypes: int64(1), object(3), uint64(1)\n",
      "memory usage: 13.7+ MB\n",
      "None\n",
      "\n",
      "Uid\n",
      "count    3.585320e+05\n",
      "mean     9.202607e+18\n",
      "std      5.298200e+18\n",
      "min      1.186350e+13\n",
      "25%      4.613706e+18\n",
      "50%      9.227413e+18\n",
      "75%      1.372793e+19\n",
      "max      1.844668e+19\n",
      "Name: Uid, dtype: float64\n",
      "\n",
      "Device\n",
      "count      358532\n",
      "unique          2\n",
      "top       desktop\n",
      "freq       261913\n",
      "Name: Device, dtype: object\n",
      "\n",
      "End Ts\n",
      "count               358532\n",
      "unique              223894\n",
      "top       24.11.2017 16:51\n",
      "freq                    23\n",
      "Name: End Ts, dtype: object\n",
      "\n",
      "Source Id\n",
      "count    358532.000000\n",
      "mean          3.751551\n",
      "std           1.916853\n",
      "min           1.000000\n",
      "25%           3.000000\n",
      "50%           4.000000\n",
      "75%           5.000000\n",
      "max          10.000000\n",
      "Name: Source Id, dtype: float64\n",
      "\n",
      "Start Ts\n",
      "count               358532\n",
      "unique              223977\n",
      "top       24.11.2017 16:06\n",
      "freq                    19\n",
      "Name: Start Ts, dtype: object\n",
      "\n"
     ]
    }
   ],
   "source": [
    "print(visits_log.shape)\n",
    "visits_log = visits_log.drop_duplicates().reset_index(drop = True)\n",
    "table_info(visits_log)"
   ]
  },
  {
   "cell_type": "code",
   "execution_count": 7,
   "metadata": {},
   "outputs": [
    {
     "name": "stdout",
     "output_type": "stream",
     "text": [
      "(50415, 3)\n",
      "<class 'pandas.core.frame.DataFrame'>\n",
      "RangeIndex: 50415 entries, 0 to 50414\n",
      "Data columns (total 3 columns):\n",
      "Buy Ts     50415 non-null object\n",
      "Revenue    50415 non-null float64\n",
      "Uid        50415 non-null uint64\n",
      "dtypes: float64(1), object(1), uint64(1)\n",
      "memory usage: 1.2+ MB\n",
      "None\n",
      "\n",
      "Buy Ts\n",
      "count                   50415\n",
      "unique                  45991\n",
      "top       2018-05-31 10:13:00\n",
      "freq                        9\n",
      "Name: Buy Ts, dtype: object\n",
      "\n",
      "Revenue\n",
      "count    50415.000000\n",
      "mean         4.999647\n",
      "std         21.818359\n",
      "min          0.000000\n",
      "25%          1.220000\n",
      "50%          2.500000\n",
      "75%          4.890000\n",
      "max       2633.280000\n",
      "Name: Revenue, dtype: float64\n",
      "\n",
      "Uid\n",
      "count    5.041500e+04\n",
      "mean     9.098161e+18\n",
      "std      5.285742e+18\n",
      "min      3.135781e+14\n",
      "25%      4.533567e+18\n",
      "50%      9.102274e+18\n",
      "75%      1.368290e+19\n",
      "max      1.844617e+19\n",
      "Name: Uid, dtype: float64\n",
      "\n"
     ]
    }
   ],
   "source": [
    "print(orders_log.shape)\n",
    "orders_log = orders_log.drop_duplicates().reset_index(drop = True)\n",
    "table_info(orders_log)"
   ]
  },
  {
   "cell_type": "code",
   "execution_count": 8,
   "metadata": {},
   "outputs": [
    {
     "name": "stdout",
     "output_type": "stream",
     "text": [
      "(2542, 3)\n",
      "<class 'pandas.core.frame.DataFrame'>\n",
      "RangeIndex: 2542 entries, 0 to 2541\n",
      "Data columns (total 3 columns):\n",
      "source_id    2542 non-null int64\n",
      "dt           2542 non-null object\n",
      "costs        2542 non-null float64\n",
      "dtypes: float64(1), int64(1), object(1)\n",
      "memory usage: 59.7+ KB\n",
      "None\n",
      "\n",
      "source_id\n",
      "count    2542.000000\n",
      "mean        4.857199\n",
      "std         3.181581\n",
      "min         1.000000\n",
      "25%         2.000000\n",
      "50%         4.000000\n",
      "75%         9.000000\n",
      "max        10.000000\n",
      "Name: source_id, dtype: float64\n",
      "\n",
      "dt\n",
      "count           2542\n",
      "unique           364\n",
      "top       2017-10-11\n",
      "freq               7\n",
      "Name: dt, dtype: object\n",
      "\n",
      "costs\n",
      "count    2542.000000\n",
      "mean      129.477427\n",
      "std       156.296628\n",
      "min         0.540000\n",
      "25%        21.945000\n",
      "50%        77.295000\n",
      "75%       170.065000\n",
      "max      1788.280000\n",
      "Name: costs, dtype: float64\n",
      "\n"
     ]
    }
   ],
   "source": [
    "print(costs.shape)\n",
    "costs = costs.drop_duplicates().reset_index(drop = True)\n",
    "table_info(costs)"
   ]
  },
  {
   "cell_type": "code",
   "execution_count": 9,
   "metadata": {},
   "outputs": [],
   "source": [
    "visits_log.columns = 'Uid', 'Device', 'End_Ts', 'Source_Id', 'Start_Ts'"
   ]
  },
  {
   "cell_type": "code",
   "execution_count": 10,
   "metadata": {},
   "outputs": [],
   "source": [
    "visits_log['End_Ts'] = pd.to_datetime(visits_log['End_Ts'], format = '%d.%m.%Y %H:%M')\n",
    "visits_log['Start_Ts'] = pd.to_datetime(visits_log['Start_Ts'], format = '%d.%m.%Y %H:%M')"
   ]
  },
  {
   "cell_type": "code",
   "execution_count": 11,
   "metadata": {
    "scrolled": true
   },
   "outputs": [
    {
     "data": {
      "text/html": [
       "<div>\n",
       "<style scoped>\n",
       "    .dataframe tbody tr th:only-of-type {\n",
       "        vertical-align: middle;\n",
       "    }\n",
       "\n",
       "    .dataframe tbody tr th {\n",
       "        vertical-align: top;\n",
       "    }\n",
       "\n",
       "    .dataframe thead th {\n",
       "        text-align: right;\n",
       "    }\n",
       "</style>\n",
       "<table border=\"1\" class=\"dataframe\">\n",
       "  <thead>\n",
       "    <tr style=\"text-align: right;\">\n",
       "      <th></th>\n",
       "      <th>Buy Ts</th>\n",
       "      <th>Revenue</th>\n",
       "      <th>Uid</th>\n",
       "    </tr>\n",
       "  </thead>\n",
       "  <tbody>\n",
       "    <tr>\n",
       "      <th>0</th>\n",
       "      <td>2017-06-01 00:10:00</td>\n",
       "      <td>17.00</td>\n",
       "      <td>10329302124590727494</td>\n",
       "    </tr>\n",
       "    <tr>\n",
       "      <th>1</th>\n",
       "      <td>2017-06-01 00:25:00</td>\n",
       "      <td>0.55</td>\n",
       "      <td>11627257723692907447</td>\n",
       "    </tr>\n",
       "    <tr>\n",
       "      <th>2</th>\n",
       "      <td>2017-06-01 00:27:00</td>\n",
       "      <td>0.37</td>\n",
       "      <td>17903680561304213844</td>\n",
       "    </tr>\n",
       "    <tr>\n",
       "      <th>3</th>\n",
       "      <td>2017-06-01 00:29:00</td>\n",
       "      <td>0.55</td>\n",
       "      <td>16109239769442553005</td>\n",
       "    </tr>\n",
       "    <tr>\n",
       "      <th>4</th>\n",
       "      <td>2017-06-01 07:58:00</td>\n",
       "      <td>0.37</td>\n",
       "      <td>14200605875248379450</td>\n",
       "    </tr>\n",
       "  </tbody>\n",
       "</table>\n",
       "</div>"
      ],
      "text/plain": [
       "                Buy Ts  Revenue                   Uid\n",
       "0  2017-06-01 00:10:00    17.00  10329302124590727494\n",
       "1  2017-06-01 00:25:00     0.55  11627257723692907447\n",
       "2  2017-06-01 00:27:00     0.37  17903680561304213844\n",
       "3  2017-06-01 00:29:00     0.55  16109239769442553005\n",
       "4  2017-06-01 07:58:00     0.37  14200605875248379450"
      ]
     },
     "execution_count": 11,
     "metadata": {},
     "output_type": "execute_result"
    }
   ],
   "source": [
    "orders_log.head()"
   ]
  },
  {
   "cell_type": "code",
   "execution_count": 12,
   "metadata": {},
   "outputs": [],
   "source": [
    "orders_log.columns = ['Buy_Ts', 'Revenue', 'Uid']"
   ]
  },
  {
   "cell_type": "code",
   "execution_count": 13,
   "metadata": {},
   "outputs": [],
   "source": [
    "orders_log['Buy_Ts'] = pd.to_datetime(orders_log['Buy_Ts'], format = '%Y.%m.%d %H:%M:%S')"
   ]
  },
  {
   "cell_type": "markdown",
   "metadata": {},
   "source": [
    "\n",
    "<div style=\"border:solid navy 2px; padding: 20px\">\n",
    "    В visits_log данные реалистичны, нужно менять тип для дат, поменять названия столбцов. В Revenue есть выбросы, нужно менять тип для дат, поменять названия столбца. Есть большие значения в costs, нужно менять тип для дат\n",
    "</div>"
   ]
  },
  {
   "cell_type": "markdown",
   "metadata": {},
   "source": [
    "\n",
    "<div style=\"border:solid navy 2px; padding: 20px\">\n",
    "\n",
    "<h1 style=\"color:navy; margin-bottom:20px\">Анализ продукта</h1>\n",
    "</div>\n",
    "\n"
   ]
  },
  {
   "cell_type": "markdown",
   "metadata": {},
   "source": [
    "<h3 style=\"color:navy; margin-bottom:20px\">Сколько людей пользуются сайтом в день, неделю, месяц?</h3>\n",
    " "
   ]
  },
  {
   "cell_type": "code",
   "execution_count": 14,
   "metadata": {},
   "outputs": [],
   "source": [
    "visits_log['date'] = visits_log['Start_Ts'].dt.date\n",
    "visits_log['week'] = visits_log['Start_Ts'].dt.week\n",
    "visits_log['month'] = visits_log['Start_Ts'].dt.month\n",
    "visits_log['year'] = visits_log['Start_Ts'].dt.year"
   ]
  },
  {
   "cell_type": "code",
   "execution_count": 15,
   "metadata": {
    "scrolled": true
   },
   "outputs": [
    {
     "data": {
      "text/html": [
       "<div>\n",
       "<style scoped>\n",
       "    .dataframe tbody tr th:only-of-type {\n",
       "        vertical-align: middle;\n",
       "    }\n",
       "\n",
       "    .dataframe tbody tr th {\n",
       "        vertical-align: top;\n",
       "    }\n",
       "\n",
       "    .dataframe thead th {\n",
       "        text-align: right;\n",
       "    }\n",
       "</style>\n",
       "<table border=\"1\" class=\"dataframe\">\n",
       "  <thead>\n",
       "    <tr style=\"text-align: right;\">\n",
       "      <th></th>\n",
       "      <th>Uid</th>\n",
       "      <th>Device</th>\n",
       "      <th>End_Ts</th>\n",
       "      <th>Source_Id</th>\n",
       "      <th>Start_Ts</th>\n",
       "      <th>date</th>\n",
       "      <th>week</th>\n",
       "      <th>month</th>\n",
       "      <th>year</th>\n",
       "    </tr>\n",
       "  </thead>\n",
       "  <tbody>\n",
       "    <tr>\n",
       "      <th>0</th>\n",
       "      <td>16879256277535980062</td>\n",
       "      <td>touch</td>\n",
       "      <td>2017-12-20 17:38:00</td>\n",
       "      <td>4</td>\n",
       "      <td>2017-12-20 17:20:00</td>\n",
       "      <td>2017-12-20</td>\n",
       "      <td>51</td>\n",
       "      <td>12</td>\n",
       "      <td>2017</td>\n",
       "    </tr>\n",
       "    <tr>\n",
       "      <th>1</th>\n",
       "      <td>104060357244891740</td>\n",
       "      <td>desktop</td>\n",
       "      <td>2018-02-19 17:21:00</td>\n",
       "      <td>2</td>\n",
       "      <td>2018-02-19 16:53:00</td>\n",
       "      <td>2018-02-19</td>\n",
       "      <td>8</td>\n",
       "      <td>2</td>\n",
       "      <td>2018</td>\n",
       "    </tr>\n",
       "    <tr>\n",
       "      <th>2</th>\n",
       "      <td>7459035603376831527</td>\n",
       "      <td>touch</td>\n",
       "      <td>2017-07-01 01:54:00</td>\n",
       "      <td>5</td>\n",
       "      <td>2017-07-01 01:54:00</td>\n",
       "      <td>2017-07-01</td>\n",
       "      <td>26</td>\n",
       "      <td>7</td>\n",
       "      <td>2017</td>\n",
       "    </tr>\n",
       "    <tr>\n",
       "      <th>3</th>\n",
       "      <td>16174680259334210214</td>\n",
       "      <td>desktop</td>\n",
       "      <td>2018-05-20 11:23:00</td>\n",
       "      <td>9</td>\n",
       "      <td>2018-05-20 10:59:00</td>\n",
       "      <td>2018-05-20</td>\n",
       "      <td>20</td>\n",
       "      <td>5</td>\n",
       "      <td>2018</td>\n",
       "    </tr>\n",
       "    <tr>\n",
       "      <th>4</th>\n",
       "      <td>9969694820036681168</td>\n",
       "      <td>desktop</td>\n",
       "      <td>2017-12-27 14:06:00</td>\n",
       "      <td>3</td>\n",
       "      <td>2017-12-27 14:06:00</td>\n",
       "      <td>2017-12-27</td>\n",
       "      <td>52</td>\n",
       "      <td>12</td>\n",
       "      <td>2017</td>\n",
       "    </tr>\n",
       "  </tbody>\n",
       "</table>\n",
       "</div>"
      ],
      "text/plain": [
       "                    Uid   Device              End_Ts  Source_Id  \\\n",
       "0  16879256277535980062    touch 2017-12-20 17:38:00          4   \n",
       "1    104060357244891740  desktop 2018-02-19 17:21:00          2   \n",
       "2   7459035603376831527    touch 2017-07-01 01:54:00          5   \n",
       "3  16174680259334210214  desktop 2018-05-20 11:23:00          9   \n",
       "4   9969694820036681168  desktop 2017-12-27 14:06:00          3   \n",
       "\n",
       "             Start_Ts        date  week  month  year  \n",
       "0 2017-12-20 17:20:00  2017-12-20    51     12  2017  \n",
       "1 2018-02-19 16:53:00  2018-02-19     8      2  2018  \n",
       "2 2017-07-01 01:54:00  2017-07-01    26      7  2017  \n",
       "3 2018-05-20 10:59:00  2018-05-20    20      5  2018  \n",
       "4 2017-12-27 14:06:00  2017-12-27    52     12  2017  "
      ]
     },
     "execution_count": 15,
     "metadata": {},
     "output_type": "execute_result"
    }
   ],
   "source": [
    "visits_log.head()"
   ]
  },
  {
   "cell_type": "code",
   "execution_count": 16,
   "metadata": {},
   "outputs": [
    {
     "name": "stdout",
     "output_type": "stream",
     "text": [
      "907 людей пользуются в день\n",
      "5716 людей пользуются в неделю\n",
      "23228 людей пользуются в месяц\n"
     ]
    }
   ],
   "source": [
    "DAU = visits_log.groupby('date').agg({'Uid':'nunique'}).mean()\n",
    "WAU = visits_log.groupby(['year', 'week']).agg({'Uid':'nunique'}).mean()\n",
    "MAU = visits_log.groupby(['year', 'month']).agg({'Uid':'nunique'}).mean()\n",
    "\n",
    "print(int(DAU), 'людей пользуются в день')\n",
    "print(int(WAU), 'людей пользуются в неделю')\n",
    "print(int(MAU), 'людей пользуются в месяц')"
   ]
  },
  {
   "cell_type": "markdown",
   "metadata": {},
   "source": [
    "\n",
    "<div style=\"border:solid navy 2px; padding: 20px\">\n",
    "    Количество посетителей могло быть и больше. В Росии более 100 000 000 пользователей интернет. Яндекс.Афиши, в основном нацелены на жителей и гостей Москвы и СПб. В Москве 8,5 млн. пользователей интернет, в СПб - 3,5 млн. Итого, возможное количество пользователей в месяц - 12 млн.(https://yandex.ru/company/researches/2016/ya_internet_regions_2016#auditorijainternetairezervyrosta)\n",
    "</div>"
   ]
  },
  {
   "cell_type": "markdown",
   "metadata": {},
   "source": [
    "<h3 style=\"color:navy; margin-bottom:20px\">Сколько сессий в день?</h3>\n",
    " "
   ]
  },
  {
   "cell_type": "code",
   "execution_count": 17,
   "metadata": {},
   "outputs": [
    {
     "name": "stdout",
     "output_type": "stream",
     "text": [
      "Количество сессий в день - 984\n"
     ]
    }
   ],
   "source": [
    "session_per_day = visits_log.groupby('date').agg({'Uid':'count'}).mean()\n",
    "print('Количество сессий в день -', int(session_per_day))"
   ]
  },
  {
   "cell_type": "markdown",
   "metadata": {},
   "source": [
    "\n",
    "<div style=\"border:solid navy 2px; padding: 20px\">\n",
    "    Практически нет повторных посещений, связываю это с незарегестрированными пользользователями. Выбрали и ушли\n",
    "</div>"
   ]
  },
  {
   "cell_type": "markdown",
   "metadata": {},
   "source": [
    "<h3 style=\"color:navy; margin-bottom:20px\">Сколько длится одна сессия?</h3>\n",
    " "
   ]
  },
  {
   "cell_type": "code",
   "execution_count": 18,
   "metadata": {},
   "outputs": [
    {
     "name": "stdout",
     "output_type": "stream",
     "text": [
      "Средняя продолжительность одной сессии, включая выбросы -  645.0184083986925 секунд\n"
     ]
    }
   ],
   "source": [
    "visits_log['session_long'] = (visits_log['End_Ts'] - visits_log['Start_Ts']).dt.seconds\n",
    "print('Средняя продолжительность одной сессии, включая выбросы - ', visits_log['session_long'].mean(), 'секунд')"
   ]
  },
  {
   "cell_type": "code",
   "execution_count": 19,
   "metadata": {},
   "outputs": [
    {
     "data": {
      "image/png": "[encoded data removed]",
      "text/plain": [
       "<Figure size 432x288 with 1 Axes>"
      ]
     },
     "metadata": {
      "needs_background": "light"
     },
     "output_type": "display_data"
    }
   ],
   "source": [
    "plt.hist(visits_log['session_long'], bins=100)\n",
    "\n",
    "plt.suptitle('Продолжительность сессии в секундах')\n",
    "plt.show()"
   ]
  },
  {
   "cell_type": "code",
   "execution_count": 20,
   "metadata": {},
   "outputs": [
    {
     "data": {
      "image/png": "[encoded data removed]",
      "text/plain": [
       "<Figure size 432x288 with 1 Axes>"
      ]
     },
     "metadata": {
      "needs_background": "light"
     },
     "output_type": "display_data"
    }
   ],
   "source": [
    "x_values = pd.Series(range(0,len(visits_log['session_long'])))\n",
    "plt.scatter(x_values, visits_log['session_long'])\n",
    "\n",
    "plt.suptitle('Продолжительность сессии в секундах')\n",
    "plt.show()"
   ]
  },
  {
   "cell_type": "code",
   "execution_count": 21,
   "metadata": {},
   "outputs": [
    {
     "data": {
      "text/plain": [
       "count    358532.000000\n",
       "mean        645.018408\n",
       "std        1017.099127\n",
       "min           0.000000\n",
       "25%         120.000000\n",
       "50%         300.000000\n",
       "75%         840.000000\n",
       "max       84480.000000\n",
       "Name: session_long, dtype: float64"
      ]
     },
     "execution_count": 21,
     "metadata": {},
     "output_type": "execute_result"
    }
   ],
   "source": [
    "visits_log['session_long'].describe()"
   ]
  },
  {
   "cell_type": "code",
   "execution_count": 22,
   "metadata": {},
   "outputs": [
    {
     "name": "stdout",
     "output_type": "stream",
     "text": [
      "Средняя продолжительность одной сессии (mode)-  60 секунд\n"
     ]
    }
   ],
   "source": [
    "print('Средняя продолжительность одной сессии (mode)- ', int(visits_log['session_long'].mode()), 'секунд')"
   ]
  },
  {
   "cell_type": "markdown",
   "metadata": {},
   "source": [
    "\n",
    "<div style=\"border:solid navy 2px; padding: 20px\">\n",
    "    Распределение продолжительности сессий не симметрично, есть очень большие значения (23,5 часа). Для просмотра нескольких сообытий 60 секунд мало, для уточнения подробностей о ранее выбранном событии достаточно.\n",
    "</div>"
   ]
  },
  {
   "cell_type": "markdown",
   "metadata": {},
   "source": [
    "<h3 style=\"color:navy; margin-bottom:20px\">Как часто люди возвращаются?</h3>\n",
    " "
   ]
  },
  {
   "cell_type": "code",
   "execution_count": 23,
   "metadata": {},
   "outputs": [
    {
     "name": "stdout",
     "output_type": "stream",
     "text": [
      "Коэффициент возвращения в неделю - 15.88%\n",
      "Коэффициент возвращения в месяц - 3.91%\n"
     ]
    }
   ],
   "source": [
    "sticky_factor_week = (DAU/WAU)\n",
    "sticky_factor_month = (DAU/MAU)\n",
    "print('Коэффициент возвращения в неделю - {:.2%}'.format(float((sticky_factor_week))))\n",
    "print('Коэффициент возвращения в месяц - {:.2%}'.format(float((sticky_factor_month))))"
   ]
  },
  {
   "cell_type": "markdown",
   "metadata": {},
   "source": [
    "\n",
    "<div style=\"border:solid navy 2px; padding: 20px\">\n",
    "    Такие значения коэффициэнтов говорят о равномерности посещаемости. 1 день из 7 дней недели составляет 14%, 1 день из 30 дней месяца - 3,3%. Значит в среднем, пользователь заходит раз в неделю и раз в месяц\n",
    "</div>"
   ]
  },
  {
   "cell_type": "markdown",
   "metadata": {},
   "source": [
    "\n",
    "\n",
    "<div style=\"border:solid navy 2px; padding: 20px\">\n",
    "\n",
    "<h1 style=\"color:navy; margin-bottom:20px\">Анализ продаж</h1>\n",
    "\n",
    "</div>\n"
   ]
  },
  {
   "cell_type": "markdown",
   "metadata": {},
   "source": [
    "<h3 style=\"color:navy; margin-bottom:20px\">Когда люди начинают покупать?</h3>\n",
    " "
   ]
  },
  {
   "cell_type": "code",
   "execution_count": 24,
   "metadata": {},
   "outputs": [],
   "source": [
    "orders_log['month'] = orders_log['Buy_Ts'].astype('datetime64[M]')\n",
    "visits_log['month_ts'] = visits_log['Start_Ts'].astype('datetime64[M]')"
   ]
  },
  {
   "cell_type": "code",
   "execution_count": 25,
   "metadata": {
    "scrolled": true
   },
   "outputs": [],
   "source": [
    "#При группировке по месяцам обнаружен месяц с одной продажей на 3.5 рубля. \n",
    "#Исключаю его, чтобы не портить средние значения\n",
    "orders_log = orders_log[orders_log['Buy_Ts']!='2018-06-01']"
   ]
  },
  {
   "cell_type": "code",
   "execution_count": 26,
   "metadata": {},
   "outputs": [],
   "source": [
    "first_orders = orders_log.groupby('Uid').agg({'Buy_Ts':'min'}).reset_index()\n",
    "first_orders.columns = ['Uid', 'first_orders_date']\n",
    "first_session = visits_log.groupby('Uid').agg({'Start_Ts':'min'}).reset_index()\n",
    "first_session.columns = ['Uid', 'first_session_date']"
   ]
  },
  {
   "cell_type": "code",
   "execution_count": 27,
   "metadata": {},
   "outputs": [
    {
     "data": {
      "text/html": [
       "<div>\n",
       "<style scoped>\n",
       "    .dataframe tbody tr th:only-of-type {\n",
       "        vertical-align: middle;\n",
       "    }\n",
       "\n",
       "    .dataframe tbody tr th {\n",
       "        vertical-align: top;\n",
       "    }\n",
       "\n",
       "    .dataframe thead th {\n",
       "        text-align: right;\n",
       "    }\n",
       "</style>\n",
       "<table border=\"1\" class=\"dataframe\">\n",
       "  <thead>\n",
       "    <tr style=\"text-align: right;\">\n",
       "      <th></th>\n",
       "      <th>Uid</th>\n",
       "      <th>first_session_date</th>\n",
       "      <th>first_orders_date</th>\n",
       "    </tr>\n",
       "  </thead>\n",
       "  <tbody>\n",
       "    <tr>\n",
       "      <th>0</th>\n",
       "      <td>313578113262317</td>\n",
       "      <td>2017-09-18 22:49:00</td>\n",
       "      <td>2018-01-03 21:51:00</td>\n",
       "    </tr>\n",
       "    <tr>\n",
       "      <th>1</th>\n",
       "      <td>1575281904278712</td>\n",
       "      <td>2017-06-03 10:13:00</td>\n",
       "      <td>2017-06-03 10:13:00</td>\n",
       "    </tr>\n",
       "    <tr>\n",
       "      <th>2</th>\n",
       "      <td>2429014661409475</td>\n",
       "      <td>2017-10-11 17:14:00</td>\n",
       "      <td>2017-10-11 18:33:00</td>\n",
       "    </tr>\n",
       "    <tr>\n",
       "      <th>3</th>\n",
       "      <td>2464366381792757</td>\n",
       "      <td>2018-01-27 20:10:00</td>\n",
       "      <td>2018-01-28 15:54:00</td>\n",
       "    </tr>\n",
       "    <tr>\n",
       "      <th>4</th>\n",
       "      <td>2551852515556206</td>\n",
       "      <td>2017-11-24 11:22:00</td>\n",
       "      <td>2017-11-24 10:14:00</td>\n",
       "    </tr>\n",
       "  </tbody>\n",
       "</table>\n",
       "</div>"
      ],
      "text/plain": [
       "                Uid  first_session_date   first_orders_date\n",
       "0   313578113262317 2017-09-18 22:49:00 2018-01-03 21:51:00\n",
       "1  1575281904278712 2017-06-03 10:13:00 2017-06-03 10:13:00\n",
       "2  2429014661409475 2017-10-11 17:14:00 2017-10-11 18:33:00\n",
       "3  2464366381792757 2018-01-27 20:10:00 2018-01-28 15:54:00\n",
       "4  2551852515556206 2017-11-24 11:22:00 2017-11-24 10:14:00"
      ]
     },
     "execution_count": 27,
     "metadata": {},
     "output_type": "execute_result"
    }
   ],
   "source": [
    "first_session = pd.merge(first_session, first_orders, on = 'Uid')\n",
    "first_session.head()"
   ]
  },
  {
   "cell_type": "code",
   "execution_count": 28,
   "metadata": {},
   "outputs": [],
   "source": [
    "first_session['first_orders_date'] = first_session['first_orders_date'].astype('datetime64[D]')\n",
    "first_session['first_session_date'] = first_session['first_session_date'].astype('datetime64[D]')\n",
    "first_session['numbr_month_buy'] = first_session['first_orders_date'] - first_session['first_session_date']"
   ]
  },
  {
   "cell_type": "code",
   "execution_count": 29,
   "metadata": {},
   "outputs": [
    {
     "data": {
      "text/plain": [
       "count                      36523\n",
       "mean     16 days 21:30:05.864797\n",
       "std      47 days 01:42:31.695799\n",
       "min              0 days 00:00:00\n",
       "25%              0 days 00:00:00\n",
       "50%              0 days 00:00:00\n",
       "75%              2 days 00:00:00\n",
       "max            363 days 00:00:00\n",
       "Name: numbr_month_buy, dtype: object"
      ]
     },
     "execution_count": 29,
     "metadata": {},
     "output_type": "execute_result"
    }
   ],
   "source": [
    "first_session['numbr_month_buy'].describe()"
   ]
  },
  {
   "cell_type": "markdown",
   "metadata": {},
   "source": [
    "<div style=\"border:solid navy 2px; padding: 20px\">\n",
    "    Около 75% пользователей совершают первую покупку в первый день использования сервиса. Есть сильные выбросы, которые влияют на среднее значение.\n",
    "</div>   "
   ]
  },
  {
   "cell_type": "markdown",
   "metadata": {},
   "source": [
    "<h3 style=\"color:navy; margin-bottom:20px\">\n",
    "Сколько раз покупают за период?\n",
    "</h3>\n",
    " "
   ]
  },
  {
   "cell_type": "code",
   "execution_count": 30,
   "metadata": {},
   "outputs": [
    {
     "data": {
      "image/png": "[encoded data removed]",
      "text/plain": [
       "<Figure size 432x288 with 1 Axes>"
      ]
     },
     "metadata": {
      "needs_background": "light"
     },
     "output_type": "display_data"
    }
   ],
   "source": [
    "plt.hist(orders_log['Revenue'],range=(0,100))\n",
    "\n",
    "plt.suptitle('Выручка с заказа')\n",
    "plt.show()"
   ]
  },
  {
   "cell_type": "code",
   "execution_count": 31,
   "metadata": {},
   "outputs": [
    {
     "data": {
      "image/png": "[encoded data removed]",
      "text/plain": [
       "<Figure size 432x288 with 1 Axes>"
      ]
     },
     "metadata": {
      "needs_background": "light"
     },
     "output_type": "display_data"
    }
   ],
   "source": [
    "x_values = pd.Series(range(0,len(orders_log['Revenue'])))\n",
    "plt.scatter(x_values, orders_log['Revenue'])\n",
    "\n",
    "plt.suptitle('Выручка с заказа')\n",
    "plt.show()"
   ]
  },
  {
   "cell_type": "code",
   "execution_count": 32,
   "metadata": {},
   "outputs": [
    {
     "name": "stdout",
     "output_type": "stream",
     "text": [
      "Среднее количество покупок на пользователя - 1.23\n"
     ]
    }
   ],
   "source": [
    "user_buy = orders_log.groupby(['Uid', 'month']).agg({'Buy_Ts':'count', 'Revenue':['sum']}).reset_index()\n",
    "user_buy.columns = ['Uid', 'month', 'Buy_Ts_count', 'Revenue_per_user']\n",
    "\n",
    "print('Среднее количество покупок на пользователя - {:.2f}'.format(user_buy['Buy_Ts_count'].mean()))\n"
   ]
  },
  {
   "cell_type": "markdown",
   "metadata": {},
   "source": [
    "<h3 style=\"color:navy; margin-bottom:20px\">\n",
    "Какой средний чек?\n",
    "\n",
    "</h3>\n",
    " "
   ]
  },
  {
   "cell_type": "code",
   "execution_count": 33,
   "metadata": {},
   "outputs": [
    {
     "name": "stdout",
     "output_type": "stream",
     "text": [
      "Всего пользователей -  50415\n",
      "Уникальных пользователей -  36523\n"
     ]
    }
   ],
   "source": [
    "print('Всего пользователей - ', orders_log['Uid'].shape[0])\n",
    "print('Уникальных пользователей - ',len(orders_log['Uid'].unique()))"
   ]
  },
  {
   "cell_type": "markdown",
   "metadata": {},
   "source": [
    "<div style=\"border:solid navy 2px; padding: 20px\">\n",
    "    Яндекс.Афиша продает переходы (клики) на сайты меропритий. Получается пользователь заходит на сервис, выбирает событие и обычно больше не возвращается.\n",
    "</div>   "
   ]
  },
  {
   "cell_type": "code",
   "execution_count": 34,
   "metadata": {},
   "outputs": [
    {
     "data": {
      "text/plain": [
       "count    41019.000000\n",
       "mean         6.144889\n",
       "std         55.853277\n",
       "min          0.000000\n",
       "25%          1.345000\n",
       "50%          2.750000\n",
       "75%          5.500000\n",
       "max       9253.700000\n",
       "Name: Revenue_per_user, dtype: float64"
      ]
     },
     "execution_count": 34,
     "metadata": {},
     "output_type": "execute_result"
    }
   ],
   "source": [
    "user_buy.head()\n",
    "user_buy['Revenue_per_user'].describe()"
   ]
  },
  {
   "cell_type": "code",
   "execution_count": 35,
   "metadata": {},
   "outputs": [
    {
     "data": {
      "image/png": "[encoded data removed]",
      "text/plain": [
       "<Figure size 432x288 with 1 Axes>"
      ]
     },
     "metadata": {
      "needs_background": "light"
     },
     "output_type": "display_data"
    }
   ],
   "source": [
    "plt.hist(user_buy['Revenue_per_user'],range=(0,50))\n",
    "\n",
    "plt.suptitle('Выручка с одного пользователя')\n",
    "plt.show()"
   ]
  },
  {
   "cell_type": "code",
   "execution_count": 36,
   "metadata": {},
   "outputs": [
    {
     "data": {
      "image/png": "[encoded data removed]",
      "text/plain": [
       "<Figure size 432x288 with 1 Axes>"
      ]
     },
     "metadata": {
      "needs_background": "light"
     },
     "output_type": "display_data"
    }
   ],
   "source": [
    "x_values = pd.Series(range(0,len(user_buy['Revenue_per_user'])))\n",
    "plt.scatter(x_values, user_buy['Revenue_per_user'])\n",
    "\n",
    "plt.suptitle('Выручка с одного пользователя')\n",
    "plt.show()"
   ]
  },
  {
   "cell_type": "markdown",
   "metadata": {},
   "source": [
    "<div style=\"border:solid navy 2px; padding: 20px\">\n",
    "    Сильные выбросы влияют на значение среднего чека, исключаю их\n",
    "</div>   "
   ]
  },
  {
   "cell_type": "code",
   "execution_count": 37,
   "metadata": {},
   "outputs": [
    {
     "name": "stdout",
     "output_type": "stream",
     "text": [
      "Средний чек - 3.81\n"
     ]
    }
   ],
   "source": [
    "user_buy = user_buy[user_buy['Revenue_per_user']<50]\n",
    "revenue_mean = user_buy['Revenue_per_user'].sum()/user_buy['Buy_Ts_count'].sum()\n",
    "\n",
    "print('Средний чек - {:.2f}'.format(revenue_mean))"
   ]
  },
  {
   "cell_type": "markdown",
   "metadata": {},
   "source": [
    "<h3 style=\"color:navy; margin-bottom:20px\">\n",
    "\n",
    "Сколько денег приносят? (LTV)\n",
    "</h3>\n",
    " "
   ]
  },
  {
   "cell_type": "code",
   "execution_count": 38,
   "metadata": {},
   "outputs": [
    {
     "name": "stdout",
     "output_type": "stream",
     "text": [
      "Среднее количество продаж в месяц - 3878.08\n",
      "Средний доход в месяц - 19389.02\n"
     ]
    }
   ],
   "source": [
    "buy_per_month = orders_log.groupby(['month']).agg({'Buy_Ts':'count', 'Revenue':['sum']}).reset_index()\n",
    "buy_per_month.columns = ['month', 'Buy_Ts_count', 'Revenue_sum']\n",
    "print('Среднее количество продаж в месяц - {:.2f}'.format(buy_per_month['Buy_Ts_count'].mean()))\n",
    "\n",
    "print('Средний доход в месяц - {:.2f}'.format(buy_per_month['Revenue_sum'].mean()))"
   ]
  },
  {
   "cell_type": "markdown",
   "metadata": {},
   "source": [
    "<h4 style=\"color:navy; margin-bottom:20px\">\n",
    "\n",
    "Формируем когорты по месяцу первого посещения\n",
    "</h4>\n",
    " "
   ]
  },
  {
   "cell_type": "code",
   "execution_count": 39,
   "metadata": {},
   "outputs": [],
   "source": [
    "first_orders['first_orders_date'] = first_orders['first_orders_date'].astype('datetime64[M]')\n",
    "cohort_sizes = first_orders.groupby('first_orders_date').agg({'Uid':'nunique'}).reset_index()\n",
    "cohort_sizes.columns=['first_orders_date', 'n_buyers']"
   ]
  },
  {
   "cell_type": "code",
   "execution_count": 40,
   "metadata": {},
   "outputs": [
    {
     "data": {
      "image/png": "[encoded data removed]",
      "text/plain": [
       "<Figure size 864x576 with 1 Axes>"
      ]
     },
     "metadata": {
      "needs_background": "light"
     },
     "output_type": "display_data"
    }
   ],
   "source": [
    "draw_bar (cohort_sizes, 'first_orders_date', 'n_buyers', 'Count user per cohort')"
   ]
  },
  {
   "cell_type": "code",
   "execution_count": 41,
   "metadata": {},
   "outputs": [
    {
     "name": "stdout",
     "output_type": "stream",
     "text": [
      "Среднее количество покупвтелей в месяц -  2809\n"
     ]
    }
   ],
   "source": [
    "print('Среднее количество покупвтелей в месяц - ', int(cohort_sizes['n_buyers'].mean()))"
   ]
  },
  {
   "cell_type": "markdown",
   "metadata": {},
   "source": [
    "<div style=\"border:solid navy 2px; padding: 20px\">\n",
    "    Наибольшая покупательская активность приходиться на октябрь, ноябрь, декабрь. Осенние настроения, выходные и праздники влияют на количество просмотров событий. Летом спад активности, вероятно всвязи с отпусками.\n",
    "</div>   "
   ]
  },
  {
   "cell_type": "code",
   "execution_count": 42,
   "metadata": {},
   "outputs": [],
   "source": [
    "orders_new = pd.merge(orders_log, first_orders, on='Uid')\n",
    "cohorts = orders_new.groupby(['first_orders_date', 'month']).agg({'Revenue':'sum', 'Uid':'nunique'}).reset_index()\n",
    "cohorts.columns = ['first_orders_date', 'month', 'Revenue', 'Uid_count']"
   ]
  },
  {
   "cell_type": "code",
   "execution_count": 43,
   "metadata": {},
   "outputs": [
    {
     "data": {
      "text/html": [
       "<div>\n",
       "<style scoped>\n",
       "    .dataframe tbody tr th:only-of-type {\n",
       "        vertical-align: middle;\n",
       "    }\n",
       "\n",
       "    .dataframe tbody tr th {\n",
       "        vertical-align: top;\n",
       "    }\n",
       "\n",
       "    .dataframe thead th {\n",
       "        text-align: right;\n",
       "    }\n",
       "</style>\n",
       "<table border=\"1\" class=\"dataframe\">\n",
       "  <thead>\n",
       "    <tr style=\"text-align: right;\">\n",
       "      <th></th>\n",
       "      <th>Buy_Ts</th>\n",
       "      <th>Revenue</th>\n",
       "      <th>Uid</th>\n",
       "      <th>month</th>\n",
       "      <th>first_orders_date</th>\n",
       "    </tr>\n",
       "  </thead>\n",
       "  <tbody>\n",
       "    <tr>\n",
       "      <th>0</th>\n",
       "      <td>2017-06-01 00:10:00</td>\n",
       "      <td>17.00</td>\n",
       "      <td>10329302124590727494</td>\n",
       "      <td>2017-06-01</td>\n",
       "      <td>2017-06-01</td>\n",
       "    </tr>\n",
       "    <tr>\n",
       "      <th>1</th>\n",
       "      <td>2017-06-01 00:25:00</td>\n",
       "      <td>0.55</td>\n",
       "      <td>11627257723692907447</td>\n",
       "      <td>2017-06-01</td>\n",
       "      <td>2017-06-01</td>\n",
       "    </tr>\n",
       "    <tr>\n",
       "      <th>2</th>\n",
       "      <td>2017-06-01 00:27:00</td>\n",
       "      <td>0.37</td>\n",
       "      <td>17903680561304213844</td>\n",
       "      <td>2017-06-01</td>\n",
       "      <td>2017-06-01</td>\n",
       "    </tr>\n",
       "    <tr>\n",
       "      <th>3</th>\n",
       "      <td>2017-06-01 00:29:00</td>\n",
       "      <td>0.55</td>\n",
       "      <td>16109239769442553005</td>\n",
       "      <td>2017-06-01</td>\n",
       "      <td>2017-06-01</td>\n",
       "    </tr>\n",
       "    <tr>\n",
       "      <th>4</th>\n",
       "      <td>2017-06-01 07:58:00</td>\n",
       "      <td>0.37</td>\n",
       "      <td>14200605875248379450</td>\n",
       "      <td>2017-06-01</td>\n",
       "      <td>2017-06-01</td>\n",
       "    </tr>\n",
       "  </tbody>\n",
       "</table>\n",
       "</div>"
      ],
      "text/plain": [
       "               Buy_Ts  Revenue                   Uid      month  \\\n",
       "0 2017-06-01 00:10:00    17.00  10329302124590727494 2017-06-01   \n",
       "1 2017-06-01 00:25:00     0.55  11627257723692907447 2017-06-01   \n",
       "2 2017-06-01 00:27:00     0.37  17903680561304213844 2017-06-01   \n",
       "3 2017-06-01 00:29:00     0.55  16109239769442553005 2017-06-01   \n",
       "4 2017-06-01 07:58:00     0.37  14200605875248379450 2017-06-01   \n",
       "\n",
       "  first_orders_date  \n",
       "0        2017-06-01  \n",
       "1        2017-06-01  \n",
       "2        2017-06-01  \n",
       "3        2017-06-01  \n",
       "4        2017-06-01  "
      ]
     },
     "execution_count": 43,
     "metadata": {},
     "output_type": "execute_result"
    }
   ],
   "source": [
    "orders_new.head()"
   ]
  },
  {
   "cell_type": "code",
   "execution_count": 44,
   "metadata": {},
   "outputs": [],
   "source": [
    "cohorts['revenue_per_cohort'] = cohorts['Revenue'] / cohorts['Uid_count']"
   ]
  },
  {
   "cell_type": "code",
   "execution_count": 45,
   "metadata": {},
   "outputs": [
    {
     "data": {
      "text/html": [
       "<div>\n",
       "<style scoped>\n",
       "    .dataframe tbody tr th:only-of-type {\n",
       "        vertical-align: middle;\n",
       "    }\n",
       "\n",
       "    .dataframe tbody tr th {\n",
       "        vertical-align: top;\n",
       "    }\n",
       "\n",
       "    .dataframe thead th {\n",
       "        text-align: right;\n",
       "    }\n",
       "</style>\n",
       "<table border=\"1\" class=\"dataframe\">\n",
       "  <thead>\n",
       "    <tr style=\"text-align: right;\">\n",
       "      <th></th>\n",
       "      <th>first_orders_date</th>\n",
       "      <th>month</th>\n",
       "      <th>Revenue</th>\n",
       "      <th>Uid_count</th>\n",
       "      <th>revenue_per_cohort</th>\n",
       "    </tr>\n",
       "  </thead>\n",
       "  <tbody>\n",
       "    <tr>\n",
       "      <th>0</th>\n",
       "      <td>2017-06-01</td>\n",
       "      <td>2017-06-01</td>\n",
       "      <td>9557.49</td>\n",
       "      <td>2023</td>\n",
       "      <td>4.724414</td>\n",
       "    </tr>\n",
       "    <tr>\n",
       "      <th>1</th>\n",
       "      <td>2017-06-01</td>\n",
       "      <td>2017-07-01</td>\n",
       "      <td>981.82</td>\n",
       "      <td>61</td>\n",
       "      <td>16.095410</td>\n",
       "    </tr>\n",
       "    <tr>\n",
       "      <th>2</th>\n",
       "      <td>2017-06-01</td>\n",
       "      <td>2017-08-01</td>\n",
       "      <td>885.34</td>\n",
       "      <td>50</td>\n",
       "      <td>17.706800</td>\n",
       "    </tr>\n",
       "    <tr>\n",
       "      <th>3</th>\n",
       "      <td>2017-06-01</td>\n",
       "      <td>2017-09-01</td>\n",
       "      <td>1931.30</td>\n",
       "      <td>54</td>\n",
       "      <td>35.764815</td>\n",
       "    </tr>\n",
       "    <tr>\n",
       "      <th>4</th>\n",
       "      <td>2017-06-01</td>\n",
       "      <td>2017-10-01</td>\n",
       "      <td>2068.58</td>\n",
       "      <td>88</td>\n",
       "      <td>23.506591</td>\n",
       "    </tr>\n",
       "  </tbody>\n",
       "</table>\n",
       "</div>"
      ],
      "text/plain": [
       "  first_orders_date      month  Revenue  Uid_count  revenue_per_cohort\n",
       "0        2017-06-01 2017-06-01  9557.49       2023            4.724414\n",
       "1        2017-06-01 2017-07-01   981.82         61           16.095410\n",
       "2        2017-06-01 2017-08-01   885.34         50           17.706800\n",
       "3        2017-06-01 2017-09-01  1931.30         54           35.764815\n",
       "4        2017-06-01 2017-10-01  2068.58         88           23.506591"
      ]
     },
     "execution_count": 45,
     "metadata": {},
     "output_type": "execute_result"
    }
   ],
   "source": [
    "cohorts.head()"
   ]
  },
  {
   "cell_type": "code",
   "execution_count": 46,
   "metadata": {},
   "outputs": [
    {
     "name": "stdout",
     "output_type": "stream",
     "text": [
      "Средний доход от когорты в месяц -  14\n"
     ]
    }
   ],
   "source": [
    "print('Средний доход от когорты в месяц - ', int(cohorts['revenue_per_cohort'].mean()))"
   ]
  },
  {
   "cell_type": "code",
   "execution_count": 47,
   "metadata": {},
   "outputs": [],
   "source": [
    "cohort_sizes['first_orders_date'] = pd.to_datetime(cohort_sizes['first_orders_date'], \n",
    "                                                   format = '%Y.%m.%d')\n",
    "report = pd.merge(cohorts, cohort_sizes, on='first_orders_date')\n",
    "report['age'] = (report['month'] - report['first_orders_date']) / np.timedelta64(1,'M')\n",
    "report['age'] = report['age'].round().astype('int')\n",
    "report['ltv'] = report['Revenue'] / report['n_buyers']"
   ]
  },
  {
   "cell_type": "code",
   "execution_count": 48,
   "metadata": {},
   "outputs": [
    {
     "data": {
      "text/html": [
       "<div>\n",
       "<style scoped>\n",
       "    .dataframe tbody tr th:only-of-type {\n",
       "        vertical-align: middle;\n",
       "    }\n",
       "\n",
       "    .dataframe tbody tr th {\n",
       "        vertical-align: top;\n",
       "    }\n",
       "\n",
       "    .dataframe thead th {\n",
       "        text-align: right;\n",
       "    }\n",
       "</style>\n",
       "<table border=\"1\" class=\"dataframe\">\n",
       "  <thead>\n",
       "    <tr style=\"text-align: right;\">\n",
       "      <th></th>\n",
       "      <th>first_orders_date</th>\n",
       "      <th>month</th>\n",
       "      <th>Revenue</th>\n",
       "      <th>Uid_count</th>\n",
       "      <th>revenue_per_cohort</th>\n",
       "      <th>n_buyers</th>\n",
       "      <th>age</th>\n",
       "      <th>ltv</th>\n",
       "    </tr>\n",
       "  </thead>\n",
       "  <tbody>\n",
       "    <tr>\n",
       "      <th>0</th>\n",
       "      <td>2017-06-01</td>\n",
       "      <td>2017-06-01</td>\n",
       "      <td>9557.49</td>\n",
       "      <td>2023</td>\n",
       "      <td>4.724414</td>\n",
       "      <td>2023</td>\n",
       "      <td>0</td>\n",
       "      <td>4.724414</td>\n",
       "    </tr>\n",
       "    <tr>\n",
       "      <th>1</th>\n",
       "      <td>2017-06-01</td>\n",
       "      <td>2017-07-01</td>\n",
       "      <td>981.82</td>\n",
       "      <td>61</td>\n",
       "      <td>16.095410</td>\n",
       "      <td>2023</td>\n",
       "      <td>1</td>\n",
       "      <td>0.485329</td>\n",
       "    </tr>\n",
       "    <tr>\n",
       "      <th>2</th>\n",
       "      <td>2017-06-01</td>\n",
       "      <td>2017-08-01</td>\n",
       "      <td>885.34</td>\n",
       "      <td>50</td>\n",
       "      <td>17.706800</td>\n",
       "      <td>2023</td>\n",
       "      <td>2</td>\n",
       "      <td>0.437637</td>\n",
       "    </tr>\n",
       "    <tr>\n",
       "      <th>3</th>\n",
       "      <td>2017-06-01</td>\n",
       "      <td>2017-09-01</td>\n",
       "      <td>1931.30</td>\n",
       "      <td>54</td>\n",
       "      <td>35.764815</td>\n",
       "      <td>2023</td>\n",
       "      <td>3</td>\n",
       "      <td>0.954671</td>\n",
       "    </tr>\n",
       "    <tr>\n",
       "      <th>4</th>\n",
       "      <td>2017-06-01</td>\n",
       "      <td>2017-10-01</td>\n",
       "      <td>2068.58</td>\n",
       "      <td>88</td>\n",
       "      <td>23.506591</td>\n",
       "      <td>2023</td>\n",
       "      <td>4</td>\n",
       "      <td>1.022531</td>\n",
       "    </tr>\n",
       "  </tbody>\n",
       "</table>\n",
       "</div>"
      ],
      "text/plain": [
       "  first_orders_date      month  Revenue  Uid_count  revenue_per_cohort  \\\n",
       "0        2017-06-01 2017-06-01  9557.49       2023            4.724414   \n",
       "1        2017-06-01 2017-07-01   981.82         61           16.095410   \n",
       "2        2017-06-01 2017-08-01   885.34         50           17.706800   \n",
       "3        2017-06-01 2017-09-01  1931.30         54           35.764815   \n",
       "4        2017-06-01 2017-10-01  2068.58         88           23.506591   \n",
       "\n",
       "   n_buyers  age       ltv  \n",
       "0      2023    0  4.724414  \n",
       "1      2023    1  0.485329  \n",
       "2      2023    2  0.437637  \n",
       "3      2023    3  0.954671  \n",
       "4      2023    4  1.022531  "
      ]
     },
     "execution_count": 48,
     "metadata": {},
     "output_type": "execute_result"
    }
   ],
   "source": [
    "report.head()"
   ]
  },
  {
   "cell_type": "code",
   "execution_count": 49,
   "metadata": {},
   "outputs": [],
   "source": [
    "report['first_orders_date'] = report['first_orders_date'].dt.strftime('%Y-%d-%m')\n",
    "revenue_per_cohort_pivot = report.pivot_table(\n",
    "    index='first_orders_date',columns='age',values='revenue_per_cohort',aggfunc='mean')"
   ]
  },
  {
   "cell_type": "code",
   "execution_count": 50,
   "metadata": {},
   "outputs": [
    {
     "data": {
      "image/png": "[encoded data removed]",
      "text/plain": [
       "<Figure size 936x648 with 2 Axes>"
      ]
     },
     "metadata": {
      "needs_background": "light"
     },
     "output_type": "display_data"
    }
   ],
   "source": [
    "plt.figure(figsize=(13,9))\n",
    "plt.title('Средний чек')\n",
    "sns.heatmap(revenue_per_cohort_pivot,cmap=plt.get_cmap(\"Blues\", 7), \n",
    "            annot=True, fmt='.2f', linewidths=1, linecolor='grey')\n",
    "plt.show()"
   ]
  },
  {
   "cell_type": "markdown",
   "metadata": {},
   "source": [
    "<div style=\"border:solid navy 2px; padding: 20px\">\n",
    "    Средний чек очень нестабилен.\n",
    "</div>   "
   ]
  },
  {
   "cell_type": "code",
   "execution_count": 51,
   "metadata": {},
   "outputs": [],
   "source": [
    "result = report.pivot_table(index='first_orders_date', columns='age', values='ltv', aggfunc='mean')"
   ]
  },
  {
   "cell_type": "code",
   "execution_count": 52,
   "metadata": {},
   "outputs": [
    {
     "data": {
      "image/png": "[encoded data removed]",
      "text/plain": [
       "<Figure size 936x648 with 2 Axes>"
      ]
     },
     "metadata": {
      "needs_background": "light"
     },
     "output_type": "display_data"
    }
   ],
   "source": [
    "plt.figure(figsize=(13,9))\n",
    "plt.title('Средний LTV')\n",
    "sns.heatmap(result, cmap=plt.get_cmap(\"Blues\", 7), annot=True, fmt='.2f', linewidths=1, \n",
    "            linecolor='gray')\n",
    "plt.show()"
   ]
  },
  {
   "cell_type": "code",
   "execution_count": 53,
   "metadata": {},
   "outputs": [
    {
     "data": {
      "text/plain": [
       "age\n",
       "0     4.801682\n",
       "1     0.455547\n",
       "2     0.405498\n",
       "3     0.827223\n",
       "4     0.346141\n",
       "5     0.333492\n",
       "6     0.363777\n",
       "7     0.297408\n",
       "8     0.297666\n",
       "9     0.313637\n",
       "10    0.363467\n",
       "11    0.256856\n",
       "dtype: float64"
      ]
     },
     "execution_count": 53,
     "metadata": {},
     "output_type": "execute_result"
    }
   ],
   "source": [
    "result.mean(axis=0)"
   ]
  },
  {
   "cell_type": "markdown",
   "metadata": {},
   "source": [
    "<div style=\"border:solid navy 2px; padding: 20px\">\n",
    "    Основной доход получаем от когорты в первый месяц ее существования.\n",
    "</div>   "
   ]
  },
  {
   "cell_type": "markdown",
   "metadata": {},
   "source": [
    "\n",
    "<div style=\"border:solid navy 2px; padding: 20px\">\n",
    "\n",
    "<h1 style=\"color:navy; margin-bottom:20px\">Анализ маркетинга</h1>\n",
    "\n",
    "</div>\n"
   ]
  },
  {
   "cell_type": "markdown",
   "metadata": {},
   "source": [
    "<h3 style=\"color:navy; margin-bottom:20px\">\n",
    "\n",
    "Сколько денег потратили? Всего / на каждый источник / по времени\n",
    "\n",
    "Сколько стоило привлечение одного покупателя из каждого источника?\n",
    "\n",
    "На сколько окупились расходы? (ROI)\n",
    "\n",
    "Отобразите на графиках, как эти метрики отличаются по устройствам и по рекламным источникам? Как они меняются во времени?\n",
    "\n",
    "\n",
    "</h3>\n",
    " "
   ]
  },
  {
   "cell_type": "code",
   "execution_count": 54,
   "metadata": {},
   "outputs": [
    {
     "data": {
      "text/html": [
       "<div>\n",
       "<style scoped>\n",
       "    .dataframe tbody tr th:only-of-type {\n",
       "        vertical-align: middle;\n",
       "    }\n",
       "\n",
       "    .dataframe tbody tr th {\n",
       "        vertical-align: top;\n",
       "    }\n",
       "\n",
       "    .dataframe thead th {\n",
       "        text-align: right;\n",
       "    }\n",
       "</style>\n",
       "<table border=\"1\" class=\"dataframe\">\n",
       "  <thead>\n",
       "    <tr style=\"text-align: right;\">\n",
       "      <th></th>\n",
       "      <th>source_id</th>\n",
       "      <th>dt</th>\n",
       "      <th>costs</th>\n",
       "    </tr>\n",
       "  </thead>\n",
       "  <tbody>\n",
       "    <tr>\n",
       "      <th>0</th>\n",
       "      <td>1</td>\n",
       "      <td>2017-06-01</td>\n",
       "      <td>75.20</td>\n",
       "    </tr>\n",
       "    <tr>\n",
       "      <th>1</th>\n",
       "      <td>1</td>\n",
       "      <td>2017-06-02</td>\n",
       "      <td>62.25</td>\n",
       "    </tr>\n",
       "    <tr>\n",
       "      <th>2</th>\n",
       "      <td>1</td>\n",
       "      <td>2017-06-03</td>\n",
       "      <td>36.53</td>\n",
       "    </tr>\n",
       "    <tr>\n",
       "      <th>3</th>\n",
       "      <td>1</td>\n",
       "      <td>2017-06-04</td>\n",
       "      <td>55.00</td>\n",
       "    </tr>\n",
       "    <tr>\n",
       "      <th>4</th>\n",
       "      <td>1</td>\n",
       "      <td>2017-06-05</td>\n",
       "      <td>57.08</td>\n",
       "    </tr>\n",
       "  </tbody>\n",
       "</table>\n",
       "</div>"
      ],
      "text/plain": [
       "   source_id          dt  costs\n",
       "0          1  2017-06-01  75.20\n",
       "1          1  2017-06-02  62.25\n",
       "2          1  2017-06-03  36.53\n",
       "3          1  2017-06-04  55.00\n",
       "4          1  2017-06-05  57.08"
      ]
     },
     "execution_count": 54,
     "metadata": {},
     "output_type": "execute_result"
    }
   ],
   "source": [
    "costs.head()"
   ]
  },
  {
   "cell_type": "code",
   "execution_count": 55,
   "metadata": {},
   "outputs": [],
   "source": [
    "costs['dt'] = pd.to_datetime(costs['dt'], format='%Y-%m-%d')"
   ]
  },
  {
   "cell_type": "code",
   "execution_count": 56,
   "metadata": {},
   "outputs": [
    {
     "name": "stdout",
     "output_type": "stream",
     "text": [
      "Всего потратили -  329131.62\n"
     ]
    }
   ],
   "source": [
    "costs_total = costs['costs'].sum()\n",
    "print('Всего потратили - ', costs_total)"
   ]
  },
  {
   "cell_type": "code",
   "execution_count": 57,
   "metadata": {},
   "outputs": [
    {
     "data": {
      "image/png": "[encoded data removed]",
      "text/plain": [
       "<Figure size 432x288 with 1 Axes>"
      ]
     },
     "metadata": {
      "needs_background": "light"
     },
     "output_type": "display_data"
    }
   ],
   "source": [
    "plt.hist(costs['costs'])\n",
    "\n",
    "plt.suptitle('Ежедневные затраты на каждый источник')\n",
    "plt.show()"
   ]
  },
  {
   "cell_type": "code",
   "execution_count": 58,
   "metadata": {},
   "outputs": [
    {
     "data": {
      "image/png": "[encoded data removed]",
      "text/plain": [
       "<Figure size 432x288 with 1 Axes>"
      ]
     },
     "metadata": {
      "needs_background": "light"
     },
     "output_type": "display_data"
    }
   ],
   "source": [
    "x_values = pd.Series(range(0,len(costs['costs'])))\n",
    "plt.scatter(x_values, costs['costs'])\n",
    "\n",
    "plt.suptitle('Ежедневные затраты на каждый источник')\n",
    "plt.show()"
   ]
  },
  {
   "cell_type": "code",
   "execution_count": 59,
   "metadata": {},
   "outputs": [
    {
     "data": {
      "text/html": [
       "<div>\n",
       "<style scoped>\n",
       "    .dataframe tbody tr th:only-of-type {\n",
       "        vertical-align: middle;\n",
       "    }\n",
       "\n",
       "    .dataframe tbody tr th {\n",
       "        vertical-align: top;\n",
       "    }\n",
       "\n",
       "    .dataframe thead th {\n",
       "        text-align: right;\n",
       "    }\n",
       "</style>\n",
       "<table border=\"1\" class=\"dataframe\">\n",
       "  <thead>\n",
       "    <tr style=\"text-align: right;\">\n",
       "      <th></th>\n",
       "      <th>source_id</th>\n",
       "      <th>dt</th>\n",
       "      <th>costs</th>\n",
       "    </tr>\n",
       "  </thead>\n",
       "  <tbody>\n",
       "    <tr>\n",
       "      <th>853</th>\n",
       "      <td>3</td>\n",
       "      <td>2017-10-06</td>\n",
       "      <td>980.52</td>\n",
       "    </tr>\n",
       "    <tr>\n",
       "      <th>874</th>\n",
       "      <td>3</td>\n",
       "      <td>2017-10-27</td>\n",
       "      <td>824.66</td>\n",
       "    </tr>\n",
       "    <tr>\n",
       "      <th>881</th>\n",
       "      <td>3</td>\n",
       "      <td>2017-11-03</td>\n",
       "      <td>811.14</td>\n",
       "    </tr>\n",
       "    <tr>\n",
       "      <th>902</th>\n",
       "      <td>3</td>\n",
       "      <td>2017-11-24</td>\n",
       "      <td>1788.28</td>\n",
       "    </tr>\n",
       "    <tr>\n",
       "      <th>903</th>\n",
       "      <td>3</td>\n",
       "      <td>2017-11-25</td>\n",
       "      <td>803.14</td>\n",
       "    </tr>\n",
       "    <tr>\n",
       "      <th>905</th>\n",
       "      <td>3</td>\n",
       "      <td>2017-11-27</td>\n",
       "      <td>831.73</td>\n",
       "    </tr>\n",
       "    <tr>\n",
       "      <th>919</th>\n",
       "      <td>3</td>\n",
       "      <td>2017-12-11</td>\n",
       "      <td>1061.18</td>\n",
       "    </tr>\n",
       "    <tr>\n",
       "      <th>920</th>\n",
       "      <td>3</td>\n",
       "      <td>2017-12-12</td>\n",
       "      <td>802.27</td>\n",
       "    </tr>\n",
       "    <tr>\n",
       "      <th>936</th>\n",
       "      <td>3</td>\n",
       "      <td>2017-12-28</td>\n",
       "      <td>858.28</td>\n",
       "    </tr>\n",
       "    <tr>\n",
       "      <th>942</th>\n",
       "      <td>3</td>\n",
       "      <td>2018-01-03</td>\n",
       "      <td>844.63</td>\n",
       "    </tr>\n",
       "    <tr>\n",
       "      <th>975</th>\n",
       "      <td>3</td>\n",
       "      <td>2018-02-05</td>\n",
       "      <td>845.75</td>\n",
       "    </tr>\n",
       "    <tr>\n",
       "      <th>979</th>\n",
       "      <td>3</td>\n",
       "      <td>2018-02-09</td>\n",
       "      <td>822.49</td>\n",
       "    </tr>\n",
       "    <tr>\n",
       "      <th>1005</th>\n",
       "      <td>3</td>\n",
       "      <td>2018-03-07</td>\n",
       "      <td>996.15</td>\n",
       "    </tr>\n",
       "    <tr>\n",
       "      <th>1088</th>\n",
       "      <td>3</td>\n",
       "      <td>2018-05-31</td>\n",
       "      <td>822.30</td>\n",
       "    </tr>\n",
       "  </tbody>\n",
       "</table>\n",
       "</div>"
      ],
      "text/plain": [
       "      source_id         dt    costs\n",
       "853           3 2017-10-06   980.52\n",
       "874           3 2017-10-27   824.66\n",
       "881           3 2017-11-03   811.14\n",
       "902           3 2017-11-24  1788.28\n",
       "903           3 2017-11-25   803.14\n",
       "905           3 2017-11-27   831.73\n",
       "919           3 2017-12-11  1061.18\n",
       "920           3 2017-12-12   802.27\n",
       "936           3 2017-12-28   858.28\n",
       "942           3 2018-01-03   844.63\n",
       "975           3 2018-02-05   845.75\n",
       "979           3 2018-02-09   822.49\n",
       "1005          3 2018-03-07   996.15\n",
       "1088          3 2018-05-31   822.30"
      ]
     },
     "execution_count": 59,
     "metadata": {},
     "output_type": "execute_result"
    }
   ],
   "source": [
    "costs[costs['costs']>800]"
   ]
  },
  {
   "cell_type": "code",
   "execution_count": 60,
   "metadata": {},
   "outputs": [
    {
     "data": {
      "text/html": [
       "<div>\n",
       "<style scoped>\n",
       "    .dataframe tbody tr th:only-of-type {\n",
       "        vertical-align: middle;\n",
       "    }\n",
       "\n",
       "    .dataframe tbody tr th {\n",
       "        vertical-align: top;\n",
       "    }\n",
       "\n",
       "    .dataframe thead th {\n",
       "        text-align: right;\n",
       "    }\n",
       "</style>\n",
       "<table border=\"1\" class=\"dataframe\">\n",
       "  <thead>\n",
       "    <tr style=\"text-align: right;\">\n",
       "      <th></th>\n",
       "      <th>source_id</th>\n",
       "      <th>source_count</th>\n",
       "      <th>source_cost</th>\n",
       "      <th>mean_cost</th>\n",
       "    </tr>\n",
       "  </thead>\n",
       "  <tbody>\n",
       "    <tr>\n",
       "      <th>0</th>\n",
       "      <td>1</td>\n",
       "      <td>363</td>\n",
       "      <td>20833.27</td>\n",
       "      <td>57.391928</td>\n",
       "    </tr>\n",
       "    <tr>\n",
       "      <th>1</th>\n",
       "      <td>2</td>\n",
       "      <td>363</td>\n",
       "      <td>42806.04</td>\n",
       "      <td>117.922975</td>\n",
       "    </tr>\n",
       "    <tr>\n",
       "      <th>2</th>\n",
       "      <td>3</td>\n",
       "      <td>363</td>\n",
       "      <td>141321.63</td>\n",
       "      <td>389.315785</td>\n",
       "    </tr>\n",
       "    <tr>\n",
       "      <th>3</th>\n",
       "      <td>4</td>\n",
       "      <td>363</td>\n",
       "      <td>61073.60</td>\n",
       "      <td>168.246832</td>\n",
       "    </tr>\n",
       "    <tr>\n",
       "      <th>4</th>\n",
       "      <td>5</td>\n",
       "      <td>364</td>\n",
       "      <td>51757.10</td>\n",
       "      <td>142.189835</td>\n",
       "    </tr>\n",
       "    <tr>\n",
       "      <th>5</th>\n",
       "      <td>9</td>\n",
       "      <td>363</td>\n",
       "      <td>5517.49</td>\n",
       "      <td>15.199697</td>\n",
       "    </tr>\n",
       "    <tr>\n",
       "      <th>6</th>\n",
       "      <td>10</td>\n",
       "      <td>363</td>\n",
       "      <td>5822.49</td>\n",
       "      <td>16.039917</td>\n",
       "    </tr>\n",
       "  </tbody>\n",
       "</table>\n",
       "</div>"
      ],
      "text/plain": [
       "   source_id  source_count  source_cost   mean_cost\n",
       "0          1           363     20833.27   57.391928\n",
       "1          2           363     42806.04  117.922975\n",
       "2          3           363    141321.63  389.315785\n",
       "3          4           363     61073.60  168.246832\n",
       "4          5           364     51757.10  142.189835\n",
       "5          9           363      5517.49   15.199697\n",
       "6         10           363      5822.49   16.039917"
      ]
     },
     "execution_count": 60,
     "metadata": {},
     "output_type": "execute_result"
    }
   ],
   "source": [
    "costs_per_source = costs.groupby('source_id').agg({'costs':['count', 'sum']}).reset_index()\n",
    "costs_per_source.columns = ['source_id','source_count', 'source_cost']\n",
    "costs_per_source['mean_cost'] = costs_per_source['source_cost'] / costs_per_source['source_count']\n",
    "costs_per_source"
   ]
  },
  {
   "cell_type": "code",
   "execution_count": 61,
   "metadata": {},
   "outputs": [
    {
     "data": {
      "image/png": "[encoded data removed]",
      "text/plain": [
       "<Figure size 864x576 with 1 Axes>"
      ]
     },
     "metadata": {
      "needs_background": "light"
     },
     "output_type": "display_data"
    }
   ],
   "source": [
    "costs_per_source['source_cost'] = costs_per_source['source_cost'].round().astype(int)\n",
    "draw_bar(costs_per_source, 'source_id', 'source_cost', 'Costs per source')"
   ]
  },
  {
   "cell_type": "markdown",
   "metadata": {},
   "source": [
    "\n",
    "<div style=\"border:solid navy 2px; padding: 20px\">\n",
    "    Расходы на ресурс 3 намного выше, чем на другие. На ресурсы 6, 7, 8 нет расходов.\n",
    "   \n",
    "</div>\n",
    "    "
   ]
  },
  {
   "cell_type": "code",
   "execution_count": 62,
   "metadata": {},
   "outputs": [
    {
     "data": {
      "text/html": [
       "<div>\n",
       "<style scoped>\n",
       "    .dataframe tbody tr th:only-of-type {\n",
       "        vertical-align: middle;\n",
       "    }\n",
       "\n",
       "    .dataframe tbody tr th {\n",
       "        vertical-align: top;\n",
       "    }\n",
       "\n",
       "    .dataframe thead th {\n",
       "        text-align: right;\n",
       "    }\n",
       "</style>\n",
       "<table border=\"1\" class=\"dataframe\">\n",
       "  <thead>\n",
       "    <tr style=\"text-align: right;\">\n",
       "      <th></th>\n",
       "      <th>dt_month</th>\n",
       "      <th>costs_count</th>\n",
       "      <th>costs_sum</th>\n",
       "    </tr>\n",
       "  </thead>\n",
       "  <tbody>\n",
       "    <tr>\n",
       "      <th>0</th>\n",
       "      <td>2017-06-01</td>\n",
       "      <td>210</td>\n",
       "      <td>18015.00</td>\n",
       "    </tr>\n",
       "    <tr>\n",
       "      <th>1</th>\n",
       "      <td>2017-07-01</td>\n",
       "      <td>217</td>\n",
       "      <td>18240.59</td>\n",
       "    </tr>\n",
       "    <tr>\n",
       "      <th>2</th>\n",
       "      <td>2017-08-01</td>\n",
       "      <td>217</td>\n",
       "      <td>14790.54</td>\n",
       "    </tr>\n",
       "    <tr>\n",
       "      <th>3</th>\n",
       "      <td>2017-09-01</td>\n",
       "      <td>210</td>\n",
       "      <td>24368.91</td>\n",
       "    </tr>\n",
       "    <tr>\n",
       "      <th>4</th>\n",
       "      <td>2017-10-01</td>\n",
       "      <td>217</td>\n",
       "      <td>36322.88</td>\n",
       "    </tr>\n",
       "    <tr>\n",
       "      <th>5</th>\n",
       "      <td>2017-11-01</td>\n",
       "      <td>210</td>\n",
       "      <td>37907.88</td>\n",
       "    </tr>\n",
       "    <tr>\n",
       "      <th>6</th>\n",
       "      <td>2017-12-01</td>\n",
       "      <td>217</td>\n",
       "      <td>38315.35</td>\n",
       "    </tr>\n",
       "    <tr>\n",
       "      <th>7</th>\n",
       "      <td>2018-01-01</td>\n",
       "      <td>217</td>\n",
       "      <td>33518.52</td>\n",
       "    </tr>\n",
       "    <tr>\n",
       "      <th>8</th>\n",
       "      <td>2018-02-01</td>\n",
       "      <td>196</td>\n",
       "      <td>32723.03</td>\n",
       "    </tr>\n",
       "    <tr>\n",
       "      <th>9</th>\n",
       "      <td>2018-03-01</td>\n",
       "      <td>211</td>\n",
       "      <td>30415.27</td>\n",
       "    </tr>\n",
       "    <tr>\n",
       "      <th>10</th>\n",
       "      <td>2018-04-01</td>\n",
       "      <td>203</td>\n",
       "      <td>22289.38</td>\n",
       "    </tr>\n",
       "    <tr>\n",
       "      <th>11</th>\n",
       "      <td>2018-05-01</td>\n",
       "      <td>217</td>\n",
       "      <td>22224.27</td>\n",
       "    </tr>\n",
       "  </tbody>\n",
       "</table>\n",
       "</div>"
      ],
      "text/plain": [
       "     dt_month  costs_count  costs_sum\n",
       "0  2017-06-01          210   18015.00\n",
       "1  2017-07-01          217   18240.59\n",
       "2  2017-08-01          217   14790.54\n",
       "3  2017-09-01          210   24368.91\n",
       "4  2017-10-01          217   36322.88\n",
       "5  2017-11-01          210   37907.88\n",
       "6  2017-12-01          217   38315.35\n",
       "7  2018-01-01          217   33518.52\n",
       "8  2018-02-01          196   32723.03\n",
       "9  2018-03-01          211   30415.27\n",
       "10 2018-04-01          203   22289.38\n",
       "11 2018-05-01          217   22224.27"
      ]
     },
     "execution_count": 62,
     "metadata": {},
     "output_type": "execute_result"
    }
   ],
   "source": [
    "costs['dt_month'] = costs['dt'].astype('datetime64[M]')\n",
    "costs_per_month = costs.groupby('dt_month').agg({'costs':['count', 'sum']}).reset_index()\n",
    "costs_per_month.columns = ['dt_month', 'costs_count', 'costs_sum']\n",
    "costs_per_month"
   ]
  },
  {
   "cell_type": "code",
   "execution_count": 63,
   "metadata": {},
   "outputs": [
    {
     "name": "stdout",
     "output_type": "stream",
     "text": [
      "Средние расходы в месяц составляют -  27427.63\n"
     ]
    }
   ],
   "source": [
    "costs_per_month_mean = costs_per_month['costs_sum'].sum()/costs_per_month['costs_sum'].count()\n",
    "print('Средние расходы в месяц составляют - ', costs_per_month_mean.round(2))"
   ]
  },
  {
   "cell_type": "code",
   "execution_count": 64,
   "metadata": {},
   "outputs": [],
   "source": [
    "report['first_orders_date'] =pd.to_datetime(report['first_orders_date'], format='%Y-%d-%m')\n",
    "report['first_orders_date'] = report['first_orders_date'].astype('datetime64[M]')"
   ]
  },
  {
   "cell_type": "code",
   "execution_count": 65,
   "metadata": {},
   "outputs": [],
   "source": [
    "report_new = pd.merge(report, costs_per_month, left_on='first_orders_date', right_on='dt_month')\n",
    "report_new['cac'] = report_new['costs_sum'] / report_new['n_buyers']"
   ]
  },
  {
   "cell_type": "code",
   "execution_count": 66,
   "metadata": {},
   "outputs": [],
   "source": [
    "report_new['roi'] = report_new['ltv'] / report_new['cac']\n",
    "report_new['first_orders_date'] = report_new['first_orders_date'].dt.strftime('%Y-%d-%m')\n",
    "output = report_new.pivot_table(\n",
    "        index='first_orders_date', \n",
    "        columns='age', \n",
    "        values='roi', \n",
    "        aggfunc='mean')\n",
    "\n",
    "output = output.cumsum(axis=1).round(2)"
   ]
  },
  {
   "cell_type": "code",
   "execution_count": 67,
   "metadata": {
    "scrolled": true
   },
   "outputs": [
    {
     "data": {
      "image/png": "[encoded data removed]",
      "text/plain": [
       "<Figure size 720x504 with 2 Axes>"
      ]
     },
     "metadata": {
      "needs_background": "light"
     },
     "output_type": "display_data"
    }
   ],
   "source": [
    "plt.figure(figsize=(10,7))\n",
    "plt.title('Средний roi')\n",
    "sns.heatmap(output, cmap=plt.get_cmap(\"Blues\", 7), annot=True, fmt='.2f', linewidths=1, \n",
    "            linecolor='gray')\n",
    "plt.show()"
   ]
  },
  {
   "cell_type": "code",
   "execution_count": 68,
   "metadata": {},
   "outputs": [
    {
     "data": {
      "text/html": [
       "<div>\n",
       "<style scoped>\n",
       "    .dataframe tbody tr th:only-of-type {\n",
       "        vertical-align: middle;\n",
       "    }\n",
       "\n",
       "    .dataframe tbody tr th {\n",
       "        vertical-align: top;\n",
       "    }\n",
       "\n",
       "    .dataframe thead th {\n",
       "        text-align: right;\n",
       "    }\n",
       "</style>\n",
       "<table border=\"1\" class=\"dataframe\">\n",
       "  <thead>\n",
       "    <tr style=\"text-align: right;\">\n",
       "      <th></th>\n",
       "      <th>Source_Id</th>\n",
       "      <th>Uid</th>\n",
       "    </tr>\n",
       "  </thead>\n",
       "  <tbody>\n",
       "    <tr>\n",
       "      <th>0</th>\n",
       "      <td>1</td>\n",
       "      <td>18999</td>\n",
       "    </tr>\n",
       "    <tr>\n",
       "      <th>1</th>\n",
       "      <td>2</td>\n",
       "      <td>26245</td>\n",
       "    </tr>\n",
       "    <tr>\n",
       "      <th>2</th>\n",
       "      <td>3</td>\n",
       "      <td>74756</td>\n",
       "    </tr>\n",
       "    <tr>\n",
       "      <th>3</th>\n",
       "      <td>4</td>\n",
       "      <td>83525</td>\n",
       "    </tr>\n",
       "    <tr>\n",
       "      <th>4</th>\n",
       "      <td>5</td>\n",
       "      <td>56974</td>\n",
       "    </tr>\n",
       "    <tr>\n",
       "      <th>5</th>\n",
       "      <td>6</td>\n",
       "      <td>6</td>\n",
       "    </tr>\n",
       "    <tr>\n",
       "      <th>6</th>\n",
       "      <td>7</td>\n",
       "      <td>34</td>\n",
       "    </tr>\n",
       "    <tr>\n",
       "      <th>7</th>\n",
       "      <td>9</td>\n",
       "      <td>9264</td>\n",
       "    </tr>\n",
       "    <tr>\n",
       "      <th>8</th>\n",
       "      <td>10</td>\n",
       "      <td>8067</td>\n",
       "    </tr>\n",
       "  </tbody>\n",
       "</table>\n",
       "</div>"
      ],
      "text/plain": [
       "   Source_Id    Uid\n",
       "0          1  18999\n",
       "1          2  26245\n",
       "2          3  74756\n",
       "3          4  83525\n",
       "4          5  56974\n",
       "5          6      6\n",
       "6          7     34\n",
       "7          9   9264\n",
       "8         10   8067"
      ]
     },
     "execution_count": 68,
     "metadata": {},
     "output_type": "execute_result"
    }
   ],
   "source": [
    "visits_source = visits_log.groupby('Source_Id').agg({'Uid':'nunique'}).reset_index()\n",
    "visits_source"
   ]
  },
  {
   "cell_type": "markdown",
   "metadata": {},
   "source": [
    "\n",
    "<div style=\"border:solid navy 2px; padding: 20px\">\n",
    "    Считаю, что пользователь приходит с того ресурса и девайса, с которого он зашел на сайт впервые.\n",
    "   \n",
    "   \n",
    "</div>\n",
    "    "
   ]
  },
  {
   "cell_type": "code",
   "execution_count": 69,
   "metadata": {},
   "outputs": [
    {
     "data": {
      "text/html": [
       "<div>\n",
       "<style scoped>\n",
       "    .dataframe tbody tr th:only-of-type {\n",
       "        vertical-align: middle;\n",
       "    }\n",
       "\n",
       "    .dataframe tbody tr th {\n",
       "        vertical-align: top;\n",
       "    }\n",
       "\n",
       "    .dataframe thead th {\n",
       "        text-align: right;\n",
       "    }\n",
       "</style>\n",
       "<table border=\"1\" class=\"dataframe\">\n",
       "  <thead>\n",
       "    <tr style=\"text-align: right;\">\n",
       "      <th></th>\n",
       "      <th>Start_Ts</th>\n",
       "      <th>Device</th>\n",
       "      <th>Source_Id</th>\n",
       "    </tr>\n",
       "    <tr>\n",
       "      <th>Uid</th>\n",
       "      <th></th>\n",
       "      <th></th>\n",
       "      <th></th>\n",
       "    </tr>\n",
       "  </thead>\n",
       "  <tbody>\n",
       "    <tr>\n",
       "      <th>11863502262781</th>\n",
       "      <td>2018-03-01 17:27:00</td>\n",
       "      <td>touch</td>\n",
       "      <td>3</td>\n",
       "    </tr>\n",
       "    <tr>\n",
       "      <th>49537067089222</th>\n",
       "      <td>2018-02-06 15:55:00</td>\n",
       "      <td>touch</td>\n",
       "      <td>2</td>\n",
       "    </tr>\n",
       "    <tr>\n",
       "      <th>297729379853735</th>\n",
       "      <td>2017-06-07 18:47:00</td>\n",
       "      <td>desktop</td>\n",
       "      <td>3</td>\n",
       "    </tr>\n",
       "    <tr>\n",
       "      <th>313578113262317</th>\n",
       "      <td>2017-09-18 22:49:00</td>\n",
       "      <td>desktop</td>\n",
       "      <td>2</td>\n",
       "    </tr>\n",
       "    <tr>\n",
       "      <th>325320750514679</th>\n",
       "      <td>2017-09-30 14:29:00</td>\n",
       "      <td>desktop</td>\n",
       "      <td>5</td>\n",
       "    </tr>\n",
       "  </tbody>\n",
       "</table>\n",
       "</div>"
      ],
      "text/plain": [
       "                           Start_Ts   Device  Source_Id\n",
       "Uid                                                    \n",
       "11863502262781  2018-03-01 17:27:00    touch          3\n",
       "49537067089222  2018-02-06 15:55:00    touch          2\n",
       "297729379853735 2017-06-07 18:47:00  desktop          3\n",
       "313578113262317 2017-09-18 22:49:00  desktop          2\n",
       "325320750514679 2017-09-30 14:29:00  desktop          5"
      ]
     },
     "execution_count": 69,
     "metadata": {},
     "output_type": "execute_result"
    }
   ],
   "source": [
    "visits_log_uid = visits_log.groupby('Uid').agg({'Start_Ts':'min', 'Device':'first', 'Source_Id':'first'})\n",
    "visits_log_uid.head()"
   ]
  },
  {
   "cell_type": "code",
   "execution_count": 70,
   "metadata": {},
   "outputs": [
    {
     "data": {
      "text/html": [
       "<div>\n",
       "<style scoped>\n",
       "    .dataframe tbody tr th:only-of-type {\n",
       "        vertical-align: middle;\n",
       "    }\n",
       "\n",
       "    .dataframe tbody tr th {\n",
       "        vertical-align: top;\n",
       "    }\n",
       "\n",
       "    .dataframe thead th {\n",
       "        text-align: right;\n",
       "    }\n",
       "</style>\n",
       "<table border=\"1\" class=\"dataframe\">\n",
       "  <thead>\n",
       "    <tr style=\"text-align: right;\">\n",
       "      <th></th>\n",
       "      <th>Uid</th>\n",
       "      <th>Revenue</th>\n",
       "    </tr>\n",
       "  </thead>\n",
       "  <tbody>\n",
       "    <tr>\n",
       "      <th>0</th>\n",
       "      <td>313578113262317</td>\n",
       "      <td>0.55</td>\n",
       "    </tr>\n",
       "    <tr>\n",
       "      <th>1</th>\n",
       "      <td>1575281904278712</td>\n",
       "      <td>3.05</td>\n",
       "    </tr>\n",
       "    <tr>\n",
       "      <th>2</th>\n",
       "      <td>2429014661409475</td>\n",
       "      <td>73.33</td>\n",
       "    </tr>\n",
       "    <tr>\n",
       "      <th>3</th>\n",
       "      <td>2464366381792757</td>\n",
       "      <td>2.44</td>\n",
       "    </tr>\n",
       "    <tr>\n",
       "      <th>4</th>\n",
       "      <td>2551852515556206</td>\n",
       "      <td>10.99</td>\n",
       "    </tr>\n",
       "  </tbody>\n",
       "</table>\n",
       "</div>"
      ],
      "text/plain": [
       "                Uid  Revenue\n",
       "0   313578113262317     0.55\n",
       "1  1575281904278712     3.05\n",
       "2  2429014661409475    73.33\n",
       "3  2464366381792757     2.44\n",
       "4  2551852515556206    10.99"
      ]
     },
     "execution_count": 70,
     "metadata": {},
     "output_type": "execute_result"
    }
   ],
   "source": [
    "orders_log_uid = orders_log.groupby('Uid').agg({'Revenue':'sum'}).reset_index()\n",
    "orders_log_uid.head()"
   ]
  },
  {
   "cell_type": "code",
   "execution_count": 71,
   "metadata": {},
   "outputs": [
    {
     "data": {
      "text/html": [
       "<div>\n",
       "<style scoped>\n",
       "    .dataframe tbody tr th:only-of-type {\n",
       "        vertical-align: middle;\n",
       "    }\n",
       "\n",
       "    .dataframe tbody tr th {\n",
       "        vertical-align: top;\n",
       "    }\n",
       "\n",
       "    .dataframe thead th {\n",
       "        text-align: right;\n",
       "    }\n",
       "</style>\n",
       "<table border=\"1\" class=\"dataframe\">\n",
       "  <thead>\n",
       "    <tr style=\"text-align: right;\">\n",
       "      <th></th>\n",
       "      <th>index</th>\n",
       "      <th>Uid</th>\n",
       "      <th>Start_Ts</th>\n",
       "      <th>Device</th>\n",
       "      <th>Source_Id</th>\n",
       "      <th>Revenue</th>\n",
       "    </tr>\n",
       "  </thead>\n",
       "  <tbody>\n",
       "    <tr>\n",
       "      <th>0</th>\n",
       "      <td>0</td>\n",
       "      <td>313578113262317</td>\n",
       "      <td>2017-09-18 22:49:00</td>\n",
       "      <td>desktop</td>\n",
       "      <td>2</td>\n",
       "      <td>0.55</td>\n",
       "    </tr>\n",
       "    <tr>\n",
       "      <th>1</th>\n",
       "      <td>1</td>\n",
       "      <td>1575281904278712</td>\n",
       "      <td>2017-06-03 10:13:00</td>\n",
       "      <td>touch</td>\n",
       "      <td>10</td>\n",
       "      <td>3.05</td>\n",
       "    </tr>\n",
       "    <tr>\n",
       "      <th>2</th>\n",
       "      <td>2</td>\n",
       "      <td>2429014661409475</td>\n",
       "      <td>2017-10-11 17:14:00</td>\n",
       "      <td>desktop</td>\n",
       "      <td>3</td>\n",
       "      <td>73.33</td>\n",
       "    </tr>\n",
       "    <tr>\n",
       "      <th>3</th>\n",
       "      <td>3</td>\n",
       "      <td>2464366381792757</td>\n",
       "      <td>2018-01-27 20:10:00</td>\n",
       "      <td>desktop</td>\n",
       "      <td>5</td>\n",
       "      <td>2.44</td>\n",
       "    </tr>\n",
       "    <tr>\n",
       "      <th>4</th>\n",
       "      <td>4</td>\n",
       "      <td>2551852515556206</td>\n",
       "      <td>2017-11-24 11:22:00</td>\n",
       "      <td>desktop</td>\n",
       "      <td>5</td>\n",
       "      <td>10.99</td>\n",
       "    </tr>\n",
       "  </tbody>\n",
       "</table>\n",
       "</div>"
      ],
      "text/plain": [
       "   index               Uid            Start_Ts   Device  Source_Id  Revenue\n",
       "0      0   313578113262317 2017-09-18 22:49:00  desktop          2     0.55\n",
       "1      1  1575281904278712 2017-06-03 10:13:00    touch         10     3.05\n",
       "2      2  2429014661409475 2017-10-11 17:14:00  desktop          3    73.33\n",
       "3      3  2464366381792757 2018-01-27 20:10:00  desktop          5     2.44\n",
       "4      4  2551852515556206 2017-11-24 11:22:00  desktop          5    10.99"
      ]
     },
     "execution_count": 71,
     "metadata": {},
     "output_type": "execute_result"
    }
   ],
   "source": [
    "visits_orders = pd.merge(visits_log_uid, orders_log_uid, on='Uid').reset_index()\n",
    "visits_orders.head()"
   ]
  },
  {
   "cell_type": "code",
   "execution_count": 72,
   "metadata": {},
   "outputs": [
    {
     "data": {
      "text/html": [
       "<div>\n",
       "<style scoped>\n",
       "    .dataframe tbody tr th:only-of-type {\n",
       "        vertical-align: middle;\n",
       "    }\n",
       "\n",
       "    .dataframe tbody tr th {\n",
       "        vertical-align: top;\n",
       "    }\n",
       "\n",
       "    .dataframe thead th {\n",
       "        text-align: right;\n",
       "    }\n",
       "</style>\n",
       "<table border=\"1\" class=\"dataframe\">\n",
       "  <thead>\n",
       "    <tr style=\"text-align: right;\">\n",
       "      <th></th>\n",
       "      <th>Device</th>\n",
       "      <th>orders_count</th>\n",
       "      <th>Revenue_per_device</th>\n",
       "    </tr>\n",
       "  </thead>\n",
       "  <tbody>\n",
       "    <tr>\n",
       "      <th>0</th>\n",
       "      <td>desktop</td>\n",
       "      <td>29222</td>\n",
       "      <td>211531.81</td>\n",
       "    </tr>\n",
       "    <tr>\n",
       "      <th>1</th>\n",
       "      <td>touch</td>\n",
       "      <td>7301</td>\n",
       "      <td>40525.39</td>\n",
       "    </tr>\n",
       "  </tbody>\n",
       "</table>\n",
       "</div>"
      ],
      "text/plain": [
       "    Device  orders_count  Revenue_per_device\n",
       "0  desktop         29222           211531.81\n",
       "1    touch          7301            40525.39"
      ]
     },
     "execution_count": 72,
     "metadata": {},
     "output_type": "execute_result"
    }
   ],
   "source": [
    "Source_dev = visits_orders.groupby('Device').agg({'Revenue':['count','sum']}).reset_index()\n",
    "Source_dev.columns='Device', 'orders_count', 'Revenue_per_device'\n",
    "Source_dev"
   ]
  },
  {
   "cell_type": "markdown",
   "metadata": {},
   "source": [
    "\n",
    "<div style=\"border:solid navy 2px; padding: 20px\">\n",
    "    В 4 раза больше сделок с desctop, прибыль в 5 раз выше.\n",
    "   \n",
    "</div>\n",
    "    "
   ]
  },
  {
   "cell_type": "code",
   "execution_count": 73,
   "metadata": {},
   "outputs": [
    {
     "data": {
      "text/html": [
       "<div>\n",
       "<style scoped>\n",
       "    .dataframe tbody tr th:only-of-type {\n",
       "        vertical-align: middle;\n",
       "    }\n",
       "\n",
       "    .dataframe tbody tr th {\n",
       "        vertical-align: top;\n",
       "    }\n",
       "\n",
       "    .dataframe thead th {\n",
       "        text-align: right;\n",
       "    }\n",
       "</style>\n",
       "<table border=\"1\" class=\"dataframe\">\n",
       "  <thead>\n",
       "    <tr style=\"text-align: right;\">\n",
       "      <th></th>\n",
       "      <th>session_long</th>\n",
       "    </tr>\n",
       "    <tr>\n",
       "      <th>Device</th>\n",
       "      <th></th>\n",
       "    </tr>\n",
       "  </thead>\n",
       "  <tbody>\n",
       "    <tr>\n",
       "      <th>desktop</th>\n",
       "      <td>705.657298</td>\n",
       "    </tr>\n",
       "    <tr>\n",
       "      <th>touch</th>\n",
       "      <td>480.639626</td>\n",
       "    </tr>\n",
       "  </tbody>\n",
       "</table>\n",
       "</div>"
      ],
      "text/plain": [
       "         session_long\n",
       "Device               \n",
       "desktop    705.657298\n",
       "touch      480.639626"
      ]
     },
     "execution_count": 73,
     "metadata": {},
     "output_type": "execute_result"
    }
   ],
   "source": [
    "visits_dev_long = visits_log.groupby('Device').agg({'session_long':'mean'})\n",
    "visits_dev_long"
   ]
  },
  {
   "cell_type": "markdown",
   "metadata": {},
   "source": [
    "\n",
    "<div style=\"border:solid navy 2px; padding: 20px\">\n",
    "    Сессия на desctop в 1,5 раза дольше. Пользователи смотрят больше событий. С телефона вероятно менее удобно использовать сервис.\n",
    "   \n",
    "</div>\n",
    "    "
   ]
  },
  {
   "cell_type": "code",
   "execution_count": 74,
   "metadata": {},
   "outputs": [
    {
     "data": {
      "text/html": [
       "<div>\n",
       "<style scoped>\n",
       "    .dataframe tbody tr th:only-of-type {\n",
       "        vertical-align: middle;\n",
       "    }\n",
       "\n",
       "    .dataframe tbody tr th {\n",
       "        vertical-align: top;\n",
       "    }\n",
       "\n",
       "    .dataframe thead th {\n",
       "        text-align: right;\n",
       "    }\n",
       "</style>\n",
       "<table border=\"1\" class=\"dataframe\">\n",
       "  <thead>\n",
       "    <tr style=\"text-align: right;\">\n",
       "      <th></th>\n",
       "      <th>source_id</th>\n",
       "      <th>orders_count</th>\n",
       "      <th>Revenue_per_source</th>\n",
       "    </tr>\n",
       "  </thead>\n",
       "  <tbody>\n",
       "    <tr>\n",
       "      <th>0</th>\n",
       "      <td>1</td>\n",
       "      <td>3743</td>\n",
       "      <td>38560.06</td>\n",
       "    </tr>\n",
       "    <tr>\n",
       "      <th>1</th>\n",
       "      <td>2</td>\n",
       "      <td>4323</td>\n",
       "      <td>65152.26</td>\n",
       "    </tr>\n",
       "    <tr>\n",
       "      <th>2</th>\n",
       "      <td>3</td>\n",
       "      <td>9138</td>\n",
       "      <td>44317.68</td>\n",
       "    </tr>\n",
       "    <tr>\n",
       "      <th>3</th>\n",
       "      <td>4</td>\n",
       "      <td>9823</td>\n",
       "      <td>52479.75</td>\n",
       "    </tr>\n",
       "    <tr>\n",
       "      <th>4</th>\n",
       "      <td>5</td>\n",
       "      <td>6839</td>\n",
       "      <td>40357.91</td>\n",
       "    </tr>\n",
       "    <tr>\n",
       "      <th>5</th>\n",
       "      <td>7</td>\n",
       "      <td>1</td>\n",
       "      <td>1.22</td>\n",
       "    </tr>\n",
       "    <tr>\n",
       "      <th>6</th>\n",
       "      <td>9</td>\n",
       "      <td>1415</td>\n",
       "      <td>7076.98</td>\n",
       "    </tr>\n",
       "    <tr>\n",
       "      <th>7</th>\n",
       "      <td>10</td>\n",
       "      <td>1241</td>\n",
       "      <td>4111.34</td>\n",
       "    </tr>\n",
       "  </tbody>\n",
       "</table>\n",
       "</div>"
      ],
      "text/plain": [
       "   source_id  orders_count  Revenue_per_source\n",
       "0          1          3743            38560.06\n",
       "1          2          4323            65152.26\n",
       "2          3          9138            44317.68\n",
       "3          4          9823            52479.75\n",
       "4          5          6839            40357.91\n",
       "5          7             1                1.22\n",
       "6          9          1415             7076.98\n",
       "7         10          1241             4111.34"
      ]
     },
     "execution_count": 74,
     "metadata": {},
     "output_type": "execute_result"
    }
   ],
   "source": [
    "Source_rev = visits_orders.groupby('Source_Id').agg({'Revenue':['count','sum']}).reset_index()\n",
    "Source_rev.columns='source_id', 'orders_count', 'Revenue_per_source'\n",
    "Source_rev"
   ]
  },
  {
   "cell_type": "code",
   "execution_count": 75,
   "metadata": {},
   "outputs": [
    {
     "data": {
      "text/html": [
       "<div>\n",
       "<style scoped>\n",
       "    .dataframe tbody tr th:only-of-type {\n",
       "        vertical-align: middle;\n",
       "    }\n",
       "\n",
       "    .dataframe tbody tr th {\n",
       "        vertical-align: top;\n",
       "    }\n",
       "\n",
       "    .dataframe thead th {\n",
       "        text-align: right;\n",
       "    }\n",
       "</style>\n",
       "<table border=\"1\" class=\"dataframe\">\n",
       "  <thead>\n",
       "    <tr style=\"text-align: right;\">\n",
       "      <th></th>\n",
       "      <th>source_id</th>\n",
       "      <th>costs</th>\n",
       "    </tr>\n",
       "  </thead>\n",
       "  <tbody>\n",
       "    <tr>\n",
       "      <th>0</th>\n",
       "      <td>1</td>\n",
       "      <td>20833.27</td>\n",
       "    </tr>\n",
       "    <tr>\n",
       "      <th>1</th>\n",
       "      <td>2</td>\n",
       "      <td>42806.04</td>\n",
       "    </tr>\n",
       "    <tr>\n",
       "      <th>2</th>\n",
       "      <td>3</td>\n",
       "      <td>141321.63</td>\n",
       "    </tr>\n",
       "    <tr>\n",
       "      <th>3</th>\n",
       "      <td>4</td>\n",
       "      <td>61073.60</td>\n",
       "    </tr>\n",
       "    <tr>\n",
       "      <th>4</th>\n",
       "      <td>5</td>\n",
       "      <td>51757.10</td>\n",
       "    </tr>\n",
       "    <tr>\n",
       "      <th>5</th>\n",
       "      <td>9</td>\n",
       "      <td>5517.49</td>\n",
       "    </tr>\n",
       "    <tr>\n",
       "      <th>6</th>\n",
       "      <td>10</td>\n",
       "      <td>5822.49</td>\n",
       "    </tr>\n",
       "  </tbody>\n",
       "</table>\n",
       "</div>"
      ],
      "text/plain": [
       "   source_id      costs\n",
       "0          1   20833.27\n",
       "1          2   42806.04\n",
       "2          3  141321.63\n",
       "3          4   61073.60\n",
       "4          5   51757.10\n",
       "5          9    5517.49\n",
       "6         10    5822.49"
      ]
     },
     "execution_count": 75,
     "metadata": {},
     "output_type": "execute_result"
    }
   ],
   "source": [
    "costs_source = costs.groupby('source_id').agg({'costs':'sum'}).reset_index()\n",
    "costs_source"
   ]
  },
  {
   "cell_type": "code",
   "execution_count": 76,
   "metadata": {},
   "outputs": [
    {
     "data": {
      "text/html": [
       "<div>\n",
       "<style scoped>\n",
       "    .dataframe tbody tr th:only-of-type {\n",
       "        vertical-align: middle;\n",
       "    }\n",
       "\n",
       "    .dataframe tbody tr th {\n",
       "        vertical-align: top;\n",
       "    }\n",
       "\n",
       "    .dataframe thead th {\n",
       "        text-align: right;\n",
       "    }\n",
       "</style>\n",
       "<table border=\"1\" class=\"dataframe\">\n",
       "  <thead>\n",
       "    <tr style=\"text-align: right;\">\n",
       "      <th></th>\n",
       "      <th>source_id</th>\n",
       "      <th>source_count</th>\n",
       "      <th>source_cost</th>\n",
       "      <th>mean_cost</th>\n",
       "    </tr>\n",
       "  </thead>\n",
       "  <tbody>\n",
       "    <tr>\n",
       "      <th>0</th>\n",
       "      <td>1</td>\n",
       "      <td>363</td>\n",
       "      <td>20833</td>\n",
       "      <td>57.391928</td>\n",
       "    </tr>\n",
       "    <tr>\n",
       "      <th>1</th>\n",
       "      <td>2</td>\n",
       "      <td>363</td>\n",
       "      <td>42806</td>\n",
       "      <td>117.922975</td>\n",
       "    </tr>\n",
       "    <tr>\n",
       "      <th>2</th>\n",
       "      <td>3</td>\n",
       "      <td>363</td>\n",
       "      <td>141322</td>\n",
       "      <td>389.315785</td>\n",
       "    </tr>\n",
       "    <tr>\n",
       "      <th>3</th>\n",
       "      <td>4</td>\n",
       "      <td>363</td>\n",
       "      <td>61074</td>\n",
       "      <td>168.246832</td>\n",
       "    </tr>\n",
       "    <tr>\n",
       "      <th>4</th>\n",
       "      <td>5</td>\n",
       "      <td>364</td>\n",
       "      <td>51757</td>\n",
       "      <td>142.189835</td>\n",
       "    </tr>\n",
       "    <tr>\n",
       "      <th>5</th>\n",
       "      <td>9</td>\n",
       "      <td>363</td>\n",
       "      <td>5517</td>\n",
       "      <td>15.199697</td>\n",
       "    </tr>\n",
       "    <tr>\n",
       "      <th>6</th>\n",
       "      <td>10</td>\n",
       "      <td>363</td>\n",
       "      <td>5822</td>\n",
       "      <td>16.039917</td>\n",
       "    </tr>\n",
       "  </tbody>\n",
       "</table>\n",
       "</div>"
      ],
      "text/plain": [
       "  source_id  source_count  source_cost   mean_cost\n",
       "0         1           363        20833   57.391928\n",
       "1         2           363        42806  117.922975\n",
       "2         3           363       141322  389.315785\n",
       "3         4           363        61074  168.246832\n",
       "4         5           364        51757  142.189835\n",
       "5         9           363         5517   15.199697\n",
       "6        10           363         5822   16.039917"
      ]
     },
     "execution_count": 76,
     "metadata": {},
     "output_type": "execute_result"
    }
   ],
   "source": [
    "costs_per_source"
   ]
  },
  {
   "cell_type": "code",
   "execution_count": 77,
   "metadata": {},
   "outputs": [],
   "source": [
    "money = pd.merge(Source_rev, costs_source, on = 'source_id', how='outer')"
   ]
  },
  {
   "cell_type": "code",
   "execution_count": 78,
   "metadata": {
    "scrolled": true
   },
   "outputs": [
    {
     "data": {
      "text/html": [
       "<div>\n",
       "<style scoped>\n",
       "    .dataframe tbody tr th:only-of-type {\n",
       "        vertical-align: middle;\n",
       "    }\n",
       "\n",
       "    .dataframe tbody tr th {\n",
       "        vertical-align: top;\n",
       "    }\n",
       "\n",
       "    .dataframe thead th {\n",
       "        text-align: right;\n",
       "    }\n",
       "</style>\n",
       "<table border=\"1\" class=\"dataframe\">\n",
       "  <thead>\n",
       "    <tr style=\"text-align: right;\">\n",
       "      <th></th>\n",
       "      <th>source_id</th>\n",
       "      <th>orders_count</th>\n",
       "      <th>Revenue_per_source</th>\n",
       "      <th>costs</th>\n",
       "      <th>okupaem_source</th>\n",
       "      <th>coasts_per_user</th>\n",
       "      <th>rev_per_user</th>\n",
       "    </tr>\n",
       "  </thead>\n",
       "  <tbody>\n",
       "    <tr>\n",
       "      <th>0</th>\n",
       "      <td>1</td>\n",
       "      <td>3743</td>\n",
       "      <td>38560.06</td>\n",
       "      <td>20833.27</td>\n",
       "      <td>17726.79</td>\n",
       "      <td>5.565928</td>\n",
       "      <td>4.735985</td>\n",
       "    </tr>\n",
       "    <tr>\n",
       "      <th>1</th>\n",
       "      <td>2</td>\n",
       "      <td>4323</td>\n",
       "      <td>65152.26</td>\n",
       "      <td>42806.04</td>\n",
       "      <td>22346.22</td>\n",
       "      <td>9.901929</td>\n",
       "      <td>5.169146</td>\n",
       "    </tr>\n",
       "    <tr>\n",
       "      <th>2</th>\n",
       "      <td>3</td>\n",
       "      <td>9138</td>\n",
       "      <td>44317.68</td>\n",
       "      <td>141321.63</td>\n",
       "      <td>-97003.95</td>\n",
       "      <td>15.465269</td>\n",
       "      <td>-10.615446</td>\n",
       "    </tr>\n",
       "    <tr>\n",
       "      <th>3</th>\n",
       "      <td>4</td>\n",
       "      <td>9823</td>\n",
       "      <td>52479.75</td>\n",
       "      <td>61073.60</td>\n",
       "      <td>-8593.85</td>\n",
       "      <td>6.217408</td>\n",
       "      <td>-0.874870</td>\n",
       "    </tr>\n",
       "    <tr>\n",
       "      <th>4</th>\n",
       "      <td>5</td>\n",
       "      <td>6839</td>\n",
       "      <td>40357.91</td>\n",
       "      <td>51757.10</td>\n",
       "      <td>-11399.19</td>\n",
       "      <td>7.567934</td>\n",
       "      <td>-1.666792</td>\n",
       "    </tr>\n",
       "    <tr>\n",
       "      <th>5</th>\n",
       "      <td>7</td>\n",
       "      <td>1</td>\n",
       "      <td>1.22</td>\n",
       "      <td>NaN</td>\n",
       "      <td>NaN</td>\n",
       "      <td>NaN</td>\n",
       "      <td>NaN</td>\n",
       "    </tr>\n",
       "    <tr>\n",
       "      <th>6</th>\n",
       "      <td>9</td>\n",
       "      <td>1415</td>\n",
       "      <td>7076.98</td>\n",
       "      <td>5517.49</td>\n",
       "      <td>1559.49</td>\n",
       "      <td>3.899286</td>\n",
       "      <td>1.102113</td>\n",
       "    </tr>\n",
       "    <tr>\n",
       "      <th>7</th>\n",
       "      <td>10</td>\n",
       "      <td>1241</td>\n",
       "      <td>4111.34</td>\n",
       "      <td>5822.49</td>\n",
       "      <td>-1711.15</td>\n",
       "      <td>4.691773</td>\n",
       "      <td>-1.378848</td>\n",
       "    </tr>\n",
       "  </tbody>\n",
       "</table>\n",
       "</div>"
      ],
      "text/plain": [
       "   source_id  orders_count  Revenue_per_source      costs  okupaem_source  \\\n",
       "0          1          3743            38560.06   20833.27        17726.79   \n",
       "1          2          4323            65152.26   42806.04        22346.22   \n",
       "2          3          9138            44317.68  141321.63       -97003.95   \n",
       "3          4          9823            52479.75   61073.60        -8593.85   \n",
       "4          5          6839            40357.91   51757.10       -11399.19   \n",
       "5          7             1                1.22        NaN             NaN   \n",
       "6          9          1415             7076.98    5517.49         1559.49   \n",
       "7         10          1241             4111.34    5822.49        -1711.15   \n",
       "\n",
       "   coasts_per_user  rev_per_user  \n",
       "0         5.565928      4.735985  \n",
       "1         9.901929      5.169146  \n",
       "2        15.465269    -10.615446  \n",
       "3         6.217408     -0.874870  \n",
       "4         7.567934     -1.666792  \n",
       "5              NaN           NaN  \n",
       "6         3.899286      1.102113  \n",
       "7         4.691773     -1.378848  "
      ]
     },
     "execution_count": 78,
     "metadata": {},
     "output_type": "execute_result"
    }
   ],
   "source": [
    "money['okupaem_source'] = money['Revenue_per_source'] - money['costs']\n",
    "money['coasts_per_user'] = money['costs'] / money['orders_count']\n",
    "money['rev_per_user'] = money['okupaem_source'] / money['orders_count']\n",
    "money"
   ]
  },
  {
   "cell_type": "code",
   "execution_count": 79,
   "metadata": {},
   "outputs": [
    {
     "data": {
      "image/png": "[encoded data removed]",
      "text/plain": [
       "<Figure size 864x432 with 1 Axes>"
      ]
     },
     "metadata": {
      "needs_background": "light"
     },
     "output_type": "display_data"
    }
   ],
   "source": [
    "f, ax = plt.subplots(figsize=(12,6))\n",
    "\n",
    "bars1 = money['Revenue_per_source']\n",
    "bars2 = money['costs']\n",
    " \n",
    "names = money['source_id']\n",
    "width = 0.35\n",
    "x = np.arange(len(names)) \n",
    "\n",
    "plt.bar(x - width/2, bars1, width, alpha=0.7)\n",
    "\n",
    "plt.bar(x + width/2, bars2, width, alpha=0.7)\n",
    "\n",
    "plt.title('Profit')\n",
    "plt.xticks(names)\n",
    "plt.xlabel('Source ID')\n",
    "plt.ylabel('Money')\n",
    "ax.legend(['Revenue', 'Coasts'])\n",
    "\n",
    "\n",
    "\n",
    "plt.show()"
   ]
  },
  {
   "cell_type": "markdown",
   "metadata": {},
   "source": [
    "\n",
    "<div style=\"border:solid navy 2px; padding: 20px\">\n",
    "    На ресурс 3 выделено намного больше денег, чем на другие. (15,5 на продажу) Эти расходы не окупаются, хотя количество привлеченных пользователей выше, чем с других ресурсов. \n",
    "    Наиболее перспективными, на мой взгляд, являются ресурсы: 1 и 2. Я бы рекомендовала перераспределить расходы. Уменьшить расход на ресуры: 3(на 5р на человека), 4, 5, 10 - на 1р/чел, увеличить на 1 и 2 на 4-5 р на человека. Чтоб общие затраты не превысили доход.\n",
    "   \n",
    "   \n",
    "</div>\n",
    "    "
   ]
  },
  {
   "cell_type": "code",
   "execution_count": null,
   "metadata": {},
   "outputs": [],
   "source": []
  }
 ],
 "metadata": {
  "kernelspec": {
   "display_name": "Python 3",
   "language": "python",
   "name": "python3"
  },
  "language_info": {
   "codemirror_mode": {
    "name": "ipython",
    "version": 3
   },
   "file_extension": ".py",
   "mimetype": "text/x-python",
   "name": "python",
   "nbconvert_exporter": "python",
   "pygments_lexer": "ipython3",
   "version": "3.7.3"
  }
 },
 "nbformat": 4,
 "nbformat_minor": 2
}
